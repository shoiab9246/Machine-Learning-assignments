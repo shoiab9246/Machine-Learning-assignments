{
 "cells": [
  {
   "cell_type": "markdown",
   "metadata": {
    "ExecuteTime": {
     "end_time": "2018-05-29T16:30:46.572028Z",
     "start_time": "2018-05-29T16:30:46.563631Z"
    }
   },
   "source": [
    "# HW Overview\n",
    "\n",
    "Please complete all core assignment tasks. Optional tasks do not carry any points but are highly recommended.\n",
    "\n",
    "The goals of this HW include the following:\n",
    "* master pipelines for regression prediction problems\n",
    "  * Exploratory data analysis\n",
    "  * Date preprocessing\n",
    "    * Data standardization\n",
    "    * Deal with missing data\n",
    "    * Dealing with categorical input features via, say, OHE \n",
    "  * Linear regression modeling (regularized or not)\n",
    "  * Various performance metrics\n",
    "  \n",
    "  \n",
    "Please consult Canvas for the grading rubric (check Module 05 -> HW 05).\n"
   ]
  },
  {
   "cell_type": "markdown",
   "metadata": {},
   "source": [
    "# Linear Regression Basics"
   ]
  },
  {
   "cell_type": "markdown",
   "metadata": {},
   "source": [
    "## Batch Gradient Descent"
   ]
  },
  {
   "cell_type": "markdown",
   "metadata": {},
   "source": [
    "Use the starter code below to calculate the first iteration of gradient descent to minimize the objective function \n",
    "$2x^2+ 4x$. We assume that the  initial guess is $x=2$ of  and a stepsize of 0.1 "
   ]
  },
  {
   "cell_type": "code",
   "execution_count": null,
   "metadata": {},
   "outputs": [],
   "source": [
    "\n",
    "#==================================================#\n",
    "#               Your code starts here              #\n",
    "#==================================================#\n",
    "\n",
    "# TODO - change above to :\n",
    "# def step(x, eta):\n",
    "#     update = eta * .... #Insert f prime here\n",
    "#     return x - update\n",
    "\n",
    "# step(x=..., eta=..)\n",
    "#==================================================#\n",
    "#               Your code ends here                #\n",
    "#==================================================#      "
   ]
  },
  {
   "cell_type": "markdown",
   "metadata": {},
   "source": [
    "## Stochastic Gradient Descent"
   ]
  },
  {
   "cell_type": "markdown",
   "metadata": {},
   "source": [
    "Assume you are learning a linear regression model (using the mean squared error objective loss function) via stochastic gradient descent with the following setting:\n",
    "* X = [2, 3], y = 6,  (single training example)\n",
    "* a learning rate, α= 0.1 \n",
    "* the current model weight vector is  W = [1, 0, 1], where W[0] denotes the bias term.\n",
    "* Assume the gradient is defined as follows: d E / d W = (y^ - y) X\n",
    "* Use the code below to determine the value of W after applying one iteration of gradient descent?\n"
   ]
  },
  {
   "cell_type": "code",
   "execution_count": null,
   "metadata": {},
   "outputs": [],
   "source": [
    "import numpy as np\n",
    "#==================================================#\n",
    "#               Your code starts here              #\n",
    "#==================================================#\n",
    "\n",
    "# TODO - change above to :\n",
    "# X= [1,2,3]\n",
    "# W = [1, 0, 1]\n",
    "# y=[6]\n",
    "# alpha= 0.1\n",
    "# gradient= ....\n",
    "# newW= W - ....\n",
    "# print(\",\".join([str(i) for i in np.round(newW,3)]))\n",
    "#==================================================#\n",
    "#               Your code ends here                #\n",
    "#==================================================#      "
   ]
  },
  {
   "cell_type": "markdown",
   "metadata": {},
   "source": [
    "## Linear Regression"
   ]
  },
  {
   "cell_type": "markdown",
   "metadata": {},
   "source": [
    "Given a linear regression model with parameters θ where $θ_0$ corresponds to the bias term:\n",
    "* $θ=[2,−1, 4, 8]$ \n",
    "and a single data sample: $x_j[5,1,2]$ with  a target (true) value for this data sample: $y=6$\n",
    "* Use the learning rate η=.01 to calculate one gradient descent update. \n",
    "* Assume the gradient is defined as follows: d E / d W = (y^ - y) X"
   ]
  },
  {
   "cell_type": "code",
   "execution_count": null,
   "metadata": {},
   "outputs": [],
   "source": [
    "import numpy as np\n",
    "#==================================================#\n",
    "#               Your code starts here              #\n",
    "#==================================================#\n",
    "# Feel free to adopt the following code base\n",
    "\n",
    "# TODO - change above to :\n",
    "# X=np.array([1, 5, 1, 2])\n",
    "# w=np.array([2,-1, 4, 8])\n",
    "# eta = .01\n",
    "# y = 6\n",
    "# w=...\n",
    "# print(\",\".join([str(i) for i in np.round(w,3)]))\n",
    "#==================================================#\n",
    "#               Your code ends here                #\n",
    "#==================================================#      "
   ]
  },
  {
   "cell_type": "markdown",
   "metadata": {},
   "source": [
    "# Boston House Prices"
   ]
  },
  {
   "cell_type": "markdown",
   "metadata": {},
   "source": [
    "We have seen this dataset previously while working with KNN Regression. In this notebook, we're going to build a different regression model for predicting house prices in thousands of dollars given factors such as crime rate in neighborhood, number of schools, % lower status of the population, etc."
   ]
  },
  {
   "cell_type": "markdown",
   "metadata": {},
   "source": [
    "Import required libraries"
   ]
  },
  {
   "cell_type": "code",
   "execution_count": null,
   "metadata": {
    "ExecuteTime": {
     "end_time": "2018-06-19T01:43:33.572347Z",
     "start_time": "2018-06-19T01:43:32.673754Z"
    }
   },
   "outputs": [],
   "source": [
    "import numpy as np\n",
    "import pandas as pd\n",
    "\n",
    "from sklearn.datasets import load_boston\n",
    "from sklearn.model_selection import train_test_split\n",
    "from sklearn.model_selection import KFold\n",
    "from sklearn.preprocessing import MinMaxScaler\n",
    "from sklearn.linear_model import LinearRegression\n",
    "from sklearn.metrics import mean_absolute_error, mean_squared_error\n",
    "\n",
    "import matplotlib\n",
    "import matplotlib.pyplot as plt\n",
    "import seaborn as sns\n",
    "\n",
    "%matplotlib inline"
   ]
  },
  {
   "cell_type": "code",
   "execution_count": null,
   "metadata": {
    "ExecuteTime": {
     "end_time": "2018-06-19T01:43:33.579958Z",
     "start_time": "2018-06-19T01:43:33.574676Z"
    }
   },
   "outputs": [],
   "source": [
    "sns.set(style=\"whitegrid\", font_scale=1.3)\n",
    "matplotlib.rcParams[\"legend.framealpha\"] = 1\n",
    "matplotlib.rcParams[\"legend.frameon\"] = True"
   ]
  },
  {
   "cell_type": "markdown",
   "metadata": {},
   "source": [
    "Fix random seed for reproducibility"
   ]
  },
  {
   "cell_type": "code",
   "execution_count": null,
   "metadata": {
    "ExecuteTime": {
     "end_time": "2018-06-19T01:43:33.586459Z",
     "start_time": "2018-06-19T01:43:33.582550Z"
    }
   },
   "outputs": [],
   "source": [
    "np.random.seed(42)"
   ]
  },
  {
   "cell_type": "markdown",
   "metadata": {},
   "source": [
    "## Reading data"
   ]
  },
  {
   "cell_type": "markdown",
   "metadata": {},
   "source": [
    "Boston dataset is extremely common in machine learning experiments thus it is embedded in sklearn."
   ]
  },
  {
   "cell_type": "code",
   "execution_count": null,
   "metadata": {
    "ExecuteTime": {
     "end_time": "2018-06-19T01:43:33.600991Z",
     "start_time": "2018-06-19T01:43:33.589154Z"
    }
   },
   "outputs": [],
   "source": [
    "boston = load_boston()"
   ]
  },
  {
   "cell_type": "markdown",
   "metadata": {},
   "source": [
    "Detailed description of dataset and features"
   ]
  },
  {
   "cell_type": "code",
   "execution_count": null,
   "metadata": {
    "ExecuteTime": {
     "end_time": "2018-06-19T01:43:33.608456Z",
     "start_time": "2018-06-19T01:43:33.603468Z"
    }
   },
   "outputs": [],
   "source": [
    "print(boston.DESCR)"
   ]
  },
  {
   "cell_type": "markdown",
   "metadata": {},
   "source": [
    "Create pandas dataframe with objects in rows and features in columns"
   ]
  },
  {
   "cell_type": "code",
   "execution_count": null,
   "metadata": {
    "ExecuteTime": {
     "end_time": "2018-06-19T01:43:33.615624Z",
     "start_time": "2018-06-19T01:43:33.610814Z"
    }
   },
   "outputs": [],
   "source": [
    "X = pd.DataFrame(boston.data, columns=boston.feature_names)\n",
    "y = boston.target"
   ]
  },
  {
   "cell_type": "code",
   "execution_count": null,
   "metadata": {
    "ExecuteTime": {
     "end_time": "2018-06-19T01:43:33.645017Z",
     "start_time": "2018-06-19T01:43:33.618085Z"
    }
   },
   "outputs": [],
   "source": [
    "X.head()"
   ]
  },
  {
   "cell_type": "markdown",
   "metadata": {},
   "source": [
    "## Exploratory data analysis (EDA)"
   ]
  },
  {
   "cell_type": "markdown",
   "metadata": {},
   "source": [
    "All features are numerical, but note that some features are categorical (e.g., CHAS) while others are continuous."
   ]
  },
  {
   "cell_type": "code",
   "execution_count": null,
   "metadata": {
    "ExecuteTime": {
     "end_time": "2018-06-19T01:43:33.694478Z",
     "start_time": "2018-06-19T01:43:33.647593Z"
    }
   },
   "outputs": [],
   "source": [
    "X.describe()"
   ]
  },
  {
   "cell_type": "markdown",
   "metadata": {},
   "source": [
    "### Scatterplot and Histograms\n",
    "We will start by creating a scatterplot matrix that will allow us to visualize the pair-wise relationships and correlations between the different features.\n",
    "It is also quite useful to have a quick overview of how the data is distributed and wheter it cointains or not outliers.\n",
    "\n",
    "#### DataFrame.copy(self, deep=True)[source]\n",
    "\n",
    "```python\n",
    "DataFrame.copy(self, deep=True)[source]\n",
    "```\n",
    "Make a copy of this object’s indices and data.\n",
    "\n",
    "When deep=True (default), a new object will be created with a copy of the calling object’s data and indices. Modifications to the data or indices of the copy will not be reflected in the original object (see notes below)."
   ]
  },
  {
   "cell_type": "code",
   "execution_count": null,
   "metadata": {},
   "outputs": [],
   "source": [
    "#make deep copy of the X dataframe so we can append the target variable MEDV\n",
    "X_y= X.copy()\n",
    "X_y[\"MEDV\"] = y"
   ]
  },
  {
   "cell_type": "code",
   "execution_count": null,
   "metadata": {},
   "outputs": [],
   "source": [
    "import matplotlib.pyplot as plt\n",
    "import seaborn as sns\n",
    "%matplotlib inline\n",
    "# Calculate and show pairplot\n",
    "# NOTE: This might take a minute or two\n",
    "sns.pairplot(X_y, size=2.5)\n",
    "plt.tight_layout()"
   ]
  },
  {
   "cell_type": "markdown",
   "metadata": {},
   "source": [
    "We can spot a linear relationship between ‘RM’ and House prices ‘MEDV’. In addition, we can infer from the histogram that the ‘MEDV’ variable seems to be normally distributed but contain several outliers."
   ]
  },
  {
   "cell_type": "markdown",
   "metadata": {},
   "source": [
    "Let's also take a look into correlation matrix of features"
   ]
  },
  {
   "cell_type": "code",
   "execution_count": null,
   "metadata": {
    "ExecuteTime": {
     "end_time": "2018-06-19T01:43:34.232545Z",
     "start_time": "2018-06-19T01:43:33.697222Z"
    }
   },
   "outputs": [],
   "source": [
    "# compute the correlation matrix\n",
    "corr = X.corr()\n",
    "\n",
    "# generate a mask for the lower triangle\n",
    "mask = np.zeros_like(corr, dtype=np.bool)\n",
    "mask[np.triu_indices_from(mask)] = True\n",
    "\n",
    "# set up the matplotlib figure\n",
    "f, ax = plt.subplots(figsize=(18, 18))\n",
    "\n",
    "# generate a custom diverging colormap\n",
    "cmap = sns.diverging_palette(220, 10, as_cmap=True)\n",
    "\n",
    "# draw the heatmap with the mask and correct aspect ratio\n",
    "sns.heatmap(corr, mask=mask, cmap=cmap, vmax=.3,\n",
    "            square=True, \n",
    "            linewidths=.5, cbar_kws={\"shrink\": .5}, ax=ax);"
   ]
  },
  {
   "cell_type": "markdown",
   "metadata": {},
   "source": [
    "## Preprocessing"
   ]
  },
  {
   "cell_type": "markdown",
   "metadata": {},
   "source": [
    "### Splitting the data (train/test)\n",
    "\n",
    "Let's split data into a  train and test subsets so we can avoid ROTE learning. \n"
   ]
  },
  {
   "cell_type": "code",
   "execution_count": null,
   "metadata": {
    "ExecuteTime": {
     "end_time": "2018-06-19T01:43:34.241460Z",
     "start_time": "2018-06-19T01:43:34.235625Z"
    }
   },
   "outputs": [],
   "source": [
    "X_train, X_test, y_train, y_test = train_test_split(X, y, test_size=0.2, random_state=42)"
   ]
  },
  {
   "cell_type": "markdown",
   "metadata": {},
   "source": [
    "There are lots of feature. Let's visualize two of them across the train and test data. "
   ]
  },
  {
   "cell_type": "code",
   "execution_count": null,
   "metadata": {
    "ExecuteTime": {
     "end_time": "2018-06-19T01:43:34.555828Z",
     "start_time": "2018-06-19T01:43:34.244040Z"
    }
   },
   "outputs": [],
   "source": [
    "plt.figure(figsize=(18, 8))\n",
    "plt.subplot(121)\n",
    "plt.scatter(X_train.RM, y_train, label=\"Train\")\n",
    "plt.scatter(X_test.RM, y_test, c=\"r\", label=\"Test\")\n",
    "plt.xlabel(\"Average number of rooms per dwelling\")\n",
    "plt.ylabel(\"Price, $\")\n",
    "plt.legend(loc=\"lower right\", frameon=True)\n",
    "plt.subplot(122)\n",
    "plt.scatter(X_train.RAD, y_train, label=\"Train\")\n",
    "plt.scatter(X_test.RAD, y_test, c=\"r\", label=\"Test\")\n",
    "plt.xlabel(\"Index of accessibility to radial highways\")\n",
    "plt.ylabel(\"Price, $\")\n",
    "plt.legend(loc=\"lower right\");"
   ]
  },
  {
   "cell_type": "markdown",
   "metadata": {},
   "source": [
    "### Scaling"
   ]
  },
  {
   "cell_type": "markdown",
   "metadata": {},
   "source": [
    "Normalize data in the range $(0,1)$ to make our data insensitive to the scale of features."
   ]
  },
  {
   "cell_type": "code",
   "execution_count": null,
   "metadata": {
    "ExecuteTime": {
     "end_time": "2018-06-19T01:43:34.560796Z",
     "start_time": "2018-06-19T01:43:34.557950Z"
    }
   },
   "outputs": [],
   "source": [
    "scaler = MinMaxScaler()"
   ]
  },
  {
   "cell_type": "markdown",
   "metadata": {},
   "source": [
    "Note that we're going to learn normalization constants only on training set. That's done because the assumption is that test set is unreachable during training."
   ]
  },
  {
   "cell_type": "code",
   "execution_count": null,
   "metadata": {
    "ExecuteTime": {
     "end_time": "2018-06-19T01:43:34.567728Z",
     "start_time": "2018-06-19T01:43:34.562737Z"
    }
   },
   "outputs": [],
   "source": [
    "X_train = scaler.fit_transform(X_train)"
   ]
  },
  {
   "cell_type": "markdown",
   "metadata": {},
   "source": [
    "Transform test set with the same constants"
   ]
  },
  {
   "cell_type": "code",
   "execution_count": null,
   "metadata": {
    "ExecuteTime": {
     "end_time": "2018-06-19T01:43:34.577142Z",
     "start_time": "2018-06-19T01:43:34.569578Z"
    }
   },
   "outputs": [],
   "source": [
    "X_test.info()"
   ]
  },
  {
   "cell_type": "code",
   "execution_count": null,
   "metadata": {
    "ExecuteTime": {
     "end_time": "2018-06-19T01:43:34.582847Z",
     "start_time": "2018-06-19T01:43:34.579237Z"
    }
   },
   "outputs": [],
   "source": [
    "X_test = scaler.transform(X_test)"
   ]
  },
  {
   "cell_type": "code",
   "execution_count": null,
   "metadata": {
    "ExecuteTime": {
     "end_time": "2018-06-19T01:43:34.589463Z",
     "start_time": "2018-06-19T01:43:34.584982Z"
    }
   },
   "outputs": [],
   "source": [
    "type(X)"
   ]
  },
  {
   "cell_type": "code",
   "execution_count": null,
   "metadata": {
    "ExecuteTime": {
     "end_time": "2018-06-19T01:43:34.624520Z",
     "start_time": "2018-06-19T01:43:34.591448Z"
    }
   },
   "outputs": [],
   "source": [
    "#y.hist()\n",
    "X.describe()"
   ]
  },
  {
   "cell_type": "code",
   "execution_count": null,
   "metadata": {
    "ExecuteTime": {
     "end_time": "2018-06-19T01:43:34.869259Z",
     "start_time": "2018-06-19T01:43:34.626524Z"
    }
   },
   "outputs": [],
   "source": [
    "# the histogram of the data\n",
    "n, bins, patches = plt.hist(y, 50, density=True, facecolor='green', alpha=0.75)\n",
    "\n",
    "# add a 'best fit' line\n",
    "#l = plt.plot(bins, y, 'r--', linewidth=1)\n",
    "\n",
    "plt.xlabel('House prices')\n",
    "plt.ylabel('Probability')\n",
    "plt.title(r'Histogram of Median value of owner-occupied homes in $1,000s')\n",
    "#plt.axis([40, 160, 0, 0.03])\n",
    "plt.grid(True)\n",
    "\n",
    "plt.show()"
   ]
  },
  {
   "cell_type": "markdown",
   "metadata": {},
   "source": [
    "### Plot distributions of each input variable"
   ]
  },
  {
   "cell_type": "code",
   "execution_count": null,
   "metadata": {
    "ExecuteTime": {
     "end_time": "2018-06-19T01:43:37.130226Z",
     "start_time": "2018-06-19T01:43:34.871728Z"
    }
   },
   "outputs": [],
   "source": [
    "%matplotlib inline\n",
    "import matplotlib.pyplot as plt\n",
    "X.hist(bins=50, figsize=(20,15))\n",
    "plt.show()"
   ]
  },
  {
   "cell_type": "markdown",
   "metadata": {},
   "source": [
    "# Sklearn Linear Regression"
   ]
  },
  {
   "cell_type": "markdown",
   "metadata": {},
   "source": [
    "## Fitting"
   ]
  },
  {
   "cell_type": "markdown",
   "metadata": {},
   "source": [
    "Here we use very simple Linear Regression model. Scikit-learn uses the closed-form solition for Linear Regression problem thus it gives very good results."
   ]
  },
  {
   "cell_type": "code",
   "execution_count": null,
   "metadata": {
    "ExecuteTime": {
     "end_time": "2018-06-19T01:43:37.136694Z",
     "start_time": "2018-06-19T01:43:37.132646Z"
    }
   },
   "outputs": [],
   "source": [
    "model_sk = LinearRegression()"
   ]
  },
  {
   "cell_type": "markdown",
   "metadata": {},
   "source": [
    "Fitting model on prepared data"
   ]
  },
  {
   "cell_type": "code",
   "execution_count": null,
   "metadata": {
    "ExecuteTime": {
     "end_time": "2018-06-19T01:43:37.160110Z",
     "start_time": "2018-06-19T01:43:37.139231Z"
    }
   },
   "outputs": [],
   "source": [
    "model_sk.fit(X_train, y_train)"
   ]
  },
  {
   "cell_type": "markdown",
   "metadata": {},
   "source": [
    "## Evaluation"
   ]
  },
  {
   "cell_type": "markdown",
   "metadata": {},
   "source": [
    "Let's see what features are significant for the model. Largest coefficients will have greatest impact on the model."
   ]
  },
  {
   "cell_type": "code",
   "execution_count": null,
   "metadata": {
    "ExecuteTime": {
     "end_time": "2018-06-19T01:43:37.368281Z",
     "start_time": "2018-06-19T01:43:37.162734Z"
    }
   },
   "outputs": [],
   "source": [
    "plt.figure(figsize=(12, 8))\n",
    "plt.bar(np.arange(model_sk.coef_.shape[0]) - 0.4, model_sk.coef_)\n",
    "plt.xticks(np.arange(model_sk.coef_.shape[0]), X.columns, rotation='vertical')\n",
    "plt.xlim([-1, model_sk.coef_.shape[0]])\n",
    "plt.title(\"Sklearn model coefficients\");"
   ]
  },
  {
   "cell_type": "markdown",
   "metadata": {},
   "source": [
    "Predicting both train and test sets to evaluate model"
   ]
  },
  {
   "cell_type": "code",
   "execution_count": null,
   "metadata": {
    "ExecuteTime": {
     "end_time": "2018-06-19T01:43:37.375157Z",
     "start_time": "2018-06-19T01:43:37.370645Z"
    }
   },
   "outputs": [],
   "source": [
    "preds_test = model_sk.predict(X_test)\n",
    "preds_train = model_sk.predict(X_train)"
   ]
  },
  {
   "cell_type": "markdown",
   "metadata": {},
   "source": [
    "###  Mean absolute percentage error (MAPE)\n",
    "There is no MAPE implementation in sklearn (because this metric is undefined when real value is zero). Below one can find my own implementation.\n",
    "\n",
    "The mean absolute percentage error (MAPE), also known as mean absolute percentage deviation (MAPD), is a measure of prediction accuracy of a forecasting method in statistics, for example in trend estimation. It usually expresses accuracy as a percentage, and is defined by the formula:\n",
    "\n",
    "$${\\displaystyle {\\mbox{M}}={\\frac {100\\%}{n}}\\sum _{t=1}^{n}\\left|{\\frac {A_{t}-F_{t}}{A_{t}}}\\right|,} $$\n",
    "where At is the actual value and Ft is the forecast value.\n",
    "\n",
    "The difference between At and Ft is divided by the Actual value At again. The absolute value in this calculation is summed for every forecasted point in time and divided by the number of fitted points n. Multiplying by 100% makes it a percentage error.\n",
    "\n",
    "Although the concept of MAPE sounds very simple and convincing, it has major drawbacks in practical application \n",
    "\n",
    "It cannot be used if there are zero values (which sometimes happens for example in demand data) because there would be a division by zero.\n",
    "For forecasts which are too low the percentage error cannot exceed 100%, but for forecasts which are too high there is no upper limit to the percentage error.\n",
    "When MAPE is used to compare the accuracy of prediction methods it is biased in that it will systematically select a method whose forecasts are too low. This little-known but serious issue can be overcome by using an accuracy measure based on the ratio of the predicted to actual value (called the Accuracy Ratio), this approach leads to superior statistical properties and leads to predictions which can be interpreted in terms of the geometric mean.\n",
    "\n",
    "For more details on MAPE please see [here](https://en.wikipedia.org/wiki/Mean_absolute_percentage_error)"
   ]
  },
  {
   "cell_type": "code",
   "execution_count": null,
   "metadata": {
    "ExecuteTime": {
     "end_time": "2018-06-19T01:43:37.383288Z",
     "start_time": "2018-06-19T01:43:37.377524Z"
    }
   },
   "outputs": [],
   "source": [
    "def mean_absolute_percentage_error(y_true, y_pred): \n",
    "    \"\"\"\n",
    "    Use of this metric is not recommended because can cause division by zero\n",
    "    See other regression metrics on sklearn docs:\n",
    "      http://scikit-learn.org/stable/modules/classes.html#regression-metrics\n",
    "    Use like any other metric\n",
    "    >>> y_true = [3, -0.5, 2, 7]; y_pred = [2.5, -0.3, 2, 8]\n",
    "    >>> mean_absolute_percentage_error(y_true, y_pred)\n",
    "    Out[]: 24.791666666666668\n",
    "    \"\"\"\n",
    "\n",
    "    return np.mean(np.abs((y_true.ravel() - y_pred.ravel()) / y_true.ravel())) * 100"
   ]
  },
  {
   "cell_type": "markdown",
   "metadata": {},
   "source": [
    "Let's evaluate our model according to three different metrics:\n",
    "* MAE (Mean Absolute Error)\n",
    "* RMSE (Root Mean Squared Error)\n",
    "* MAPE (Mean Absolute Percentage Error)"
   ]
  },
  {
   "cell_type": "code",
   "execution_count": null,
   "metadata": {
    "ExecuteTime": {
     "end_time": "2018-06-19T01:43:37.390355Z",
     "start_time": "2018-06-19T01:43:37.385735Z"
    }
   },
   "outputs": [],
   "source": [
    "metrics = [mean_absolute_error, \n",
    "           lambda y_true, y_pred: mean_squared_error(y_true, y_pred) ** 0.5, \n",
    "           mean_absolute_percentage_error]\n",
    "metrics_names = [\"MAE\", \n",
    "                 \"RMSE\", \n",
    "                 \"MAPE\"]"
   ]
  },
  {
   "cell_type": "markdown",
   "metadata": {},
   "source": [
    "Also we want to check quality on both train and test sets"
   ]
  },
  {
   "cell_type": "code",
   "execution_count": null,
   "metadata": {
    "ExecuteTime": {
     "end_time": "2018-06-19T01:43:37.397081Z",
     "start_time": "2018-06-19T01:43:37.392673Z"
    }
   },
   "outputs": [],
   "source": [
    "samples = [(X_train, y_train), \n",
    "           (X_test, y_test)]\n",
    "models_names = [\"Sklearn\"]"
   ]
  },
  {
   "cell_type": "markdown",
   "metadata": {},
   "source": [
    "Let's do it in loop"
   ]
  },
  {
   "cell_type": "code",
   "execution_count": null,
   "metadata": {
    "ExecuteTime": {
     "end_time": "2018-06-19T01:43:37.403575Z",
     "start_time": "2018-06-19T01:43:37.399479Z"
    }
   },
   "outputs": [],
   "source": [
    "models_names = [\"Sklearn\"]"
   ]
  },
  {
   "cell_type": "code",
   "execution_count": null,
   "metadata": {
    "ExecuteTime": {
     "end_time": "2018-06-19T01:43:37.419096Z",
     "start_time": "2018-06-19T01:43:37.405967Z"
    }
   },
   "outputs": [],
   "source": [
    "def evaluate(models, metrics, samples, metrics_names, models_names):\n",
    "    results = np.zeros((len(samples) * len(models), len(metrics)))\n",
    "    samples_names = []\n",
    "    for m in models_names:\n",
    "        samples_names.extend([m + \" Train\", m + \" Test\"])\n",
    "    for m_num, model in enumerate(models):\n",
    "        for row, sample in enumerate(samples):\n",
    "            for col, metric in enumerate(metrics):\n",
    "                results[row + m_num * 2, col] = np.round(metric(sample[1], model.predict(sample[0])), decimals=3)\n",
    "    results = pd.DataFrame(results, columns=metrics_names, index=samples_names)\n",
    "    return results"
   ]
  },
  {
   "cell_type": "code",
   "execution_count": null,
   "metadata": {
    "ExecuteTime": {
     "end_time": "2018-06-19T01:43:37.425004Z",
     "start_time": "2018-06-19T01:43:37.421405Z"
    }
   },
   "outputs": [],
   "source": [
    "models = [model_sk]"
   ]
  },
  {
   "cell_type": "markdown",
   "metadata": {},
   "source": [
    "Evaluated metrics:"
   ]
  },
  {
   "cell_type": "code",
   "execution_count": null,
   "metadata": {
    "ExecuteTime": {
     "end_time": "2018-06-19T01:43:37.439852Z",
     "start_time": "2018-06-19T01:43:37.427366Z"
    }
   },
   "outputs": [],
   "source": [
    "evaluate(models, metrics, samples, metrics_names, models_names)"
   ]
  },
  {
   "cell_type": "markdown",
   "metadata": {},
   "source": [
    "It also interesting to take a look how the predicted points relate to real ones. All the points should lie on the black dotted line ($y=x$) assuming that our model is perfect"
   ]
  },
  {
   "cell_type": "code",
   "execution_count": null,
   "metadata": {
    "ExecuteTime": {
     "end_time": "2018-06-19T01:43:37.618018Z",
     "start_time": "2018-06-19T01:43:37.442408Z"
    }
   },
   "outputs": [],
   "source": [
    "plt.figure(figsize=(10, 8))\n",
    "plt.scatter(y_train, preds_train, label=\"Train\")\n",
    "plt.scatter(y_test, preds_test, c=\"r\", label=\"Test\")\n",
    "plt.xlabel(\"Real price, $\")\n",
    "plt.ylabel(\"Predicted price, $\")\n",
    "plt.plot([y.min(), y.max()], [y.min(), y.max()], 'k--', lw=3, label=\"Ideal\")\n",
    "plt.legend(loc=\"lower right\");"
   ]
  },
  {
   "cell_type": "markdown",
   "metadata": {},
   "source": [
    "## Cross-validation"
   ]
  },
  {
   "cell_type": "markdown",
   "metadata": {},
   "source": [
    "The common method to evaluate the model is cross-validation. The idea behind it is to divide the whole set of objects into $k$ sections and then use one section as a test set and other $k-1$ as a train (repeat it with all the sections).\n",
    "\n",
    "There is a special function for this in sklearn called $\\text{KFold}$. It creates set of indices for cross-validation."
   ]
  },
  {
   "cell_type": "code",
   "execution_count": null,
   "metadata": {
    "ExecuteTime": {
     "end_time": "2018-06-19T01:43:37.624338Z",
     "start_time": "2018-06-19T01:43:37.620220Z"
    }
   },
   "outputs": [],
   "source": [
    "cv = KFold(n_splits=5, shuffle=True, random_state=42)"
   ]
  },
  {
   "cell_type": "markdown",
   "metadata": {},
   "source": [
    "Next step is to do everything that we've done before in a loop:\n",
    "* Split\n",
    "* Scale\n",
    "* Train\n",
    "* Evaluate\n",
    "\n",
    "And store the average value of the errors ($\\text{res}$ variable)"
   ]
  },
  {
   "cell_type": "code",
   "execution_count": null,
   "metadata": {
    "ExecuteTime": {
     "end_time": "2018-06-19T01:43:37.631386Z",
     "start_time": "2018-06-19T01:43:37.626557Z"
    }
   },
   "outputs": [],
   "source": [
    "cv_idx = list(cv.split(X_train, y_train))"
   ]
  },
  {
   "cell_type": "code",
   "execution_count": null,
   "metadata": {
    "ExecuteTime": {
     "end_time": "2018-06-19T01:43:37.674830Z",
     "start_time": "2018-06-19T01:43:37.633806Z"
    }
   },
   "outputs": [],
   "source": [
    "res = None\n",
    "for train_idx, test_idx in cv_idx:\n",
    "    # split\n",
    "    X_train, X_test = X.values[train_idx], X.values[test_idx]\n",
    "    y_train, y_test = y[train_idx], y[test_idx]\n",
    "    \n",
    "    # scale\n",
    "    scaler = MinMaxScaler()\n",
    "    X_train = scaler.fit_transform(X_train)\n",
    "    X_test = scaler.transform(X_test)\n",
    "    \n",
    "    samples_cv = [(X_train, y_train), \n",
    "                  (X_test, y_test)]\n",
    "    \n",
    "    # fit\n",
    "    model_sk_cv = LinearRegression().fit(samples_cv[0][0], samples_cv[0][1])\n",
    "    \n",
    "    # evaluate\n",
    "    if res is None:\n",
    "        res = evaluate([model_sk_cv], metrics, samples_cv, metrics_names, [\"Sklearn CV\"])\n",
    "    else:\n",
    "        res += evaluate([model_sk_cv], metrics, samples_cv, metrics_names, [\"Sklearn CV\"])\n",
    "# take the average value across all folds\n",
    "# show total residuals before taking average of 5 splits\n",
    "res /= cv.n_splits"
   ]
  },
  {
   "cell_type": "markdown",
   "metadata": {},
   "source": [
    "Here is the result of CV"
   ]
  },
  {
   "cell_type": "code",
   "execution_count": null,
   "metadata": {
    "ExecuteTime": {
     "end_time": "2018-06-19T01:43:37.688225Z",
     "start_time": "2018-06-19T01:43:37.677620Z"
    }
   },
   "outputs": [],
   "source": [
    "res"
   ]
  },
  {
   "cell_type": "markdown",
   "metadata": {},
   "source": [
    "# Core Task:  Boston Regression via pipelines \n",
    "\n",
    "Using the Boston dataset from above (train, and blind test split). \n",
    "\n",
    "Core Assignment: Cross-validation with k=10 and stdev.<p>\n",
    "Repeat the above experiment but change the code so that you can compute the standard deviation of the various metrics of interest (i.e., report MAE and stdMAE, RMSE and stdRMSE etc.) via cross-validation with k=10. "
   ]
  },
  {
   "cell_type": "code",
   "execution_count": null,
   "metadata": {},
   "outputs": [],
   "source": [
    "boston = load_boston()"
   ]
  },
  {
   "cell_type": "code",
   "execution_count": null,
   "metadata": {},
   "outputs": [],
   "source": [
    "X = pd.DataFrame(boston.data, columns=boston.feature_names)\n",
    "y = boston.target"
   ]
  },
  {
   "cell_type": "code",
   "execution_count": null,
   "metadata": {
    "ExecuteTime": {
     "end_time": "2018-06-19T01:43:37.700956Z",
     "start_time": "2018-06-19T01:43:37.690668Z"
    }
   },
   "outputs": [],
   "source": [
    "def evaluate_std(models, metrics, samples, metrics_names, models_names):\n",
    "    scores = np.zeros((len(samples) * len(models), len(metrics)))  \n",
    "    \n",
    "    for m_num, model in enumerate(models):\n",
    "        for row, sample in enumerate(samples):\n",
    "            for col, metric in enumerate(metrics):\n",
    "                scores[row + m_num * 2, col] = metric(sample[1], model.predict(sample[0]))\n",
    "    \n",
    "    return scores"
   ]
  },
  {
   "cell_type": "code",
   "execution_count": null,
   "metadata": {
    "ExecuteTime": {
     "end_time": "2018-06-19T01:43:37.837540Z",
     "start_time": "2018-06-19T01:43:37.711199Z"
    },
    "code_folding": []
   },
   "outputs": [],
   "source": [
    "from sklearn.preprocessing import StandardScaler\n",
    "from sklearn.pipeline import Pipeline\n",
    "\n",
    "np.random.seed(42)\n",
    "X_train, X_test, y_train, y_test = train_test_split(X, y, test_size=0.2, random_state=42)\n",
    "\n",
    "\n",
    "cv = KFold(n_splits=10, shuffle=True, random_state=42)\n",
    "cv_idx = list(cv.split(X_train, y_train))\n",
    "\n",
    "res = []\n",
    "for train_idx, test_idx in cv_idx:\n",
    "    # split\n",
    "    X_train, X_test = X.values[train_idx], X.values[test_idx]\n",
    "    y_train, y_test = y[train_idx], y[test_idx]\n",
    "    \n",
    "    # build pipeline using standard scaler and linear regression\n",
    "    # with default settings for both\n",
    "    #==================================================#\n",
    "    #               Your code starts here              #\n",
    "    #==================================================#\n",
    "    # TODO - change above to pipe = ...\n",
    "    #==================================================#\n",
    "    #               Your code ends here                #\n",
    "    #==================================================#               \n",
    "    \n",
    "    samples_cv = [(X_train, y_train), \n",
    "                  (X_test, y_test)]\n",
    "    \n",
    "    # fit\n",
    "    model_sk_cv = pipe.fit(samples_cv[0][0], samples_cv[0][1])\n",
    "    \n",
    "    # evaluate\n",
    "    res.append(evaluate_std([model_sk_cv], metrics, samples_cv, metrics_names, [\"Sklearn CV\"]))\n",
    "\n",
    "models_names = [\"Sklearn\"]\n",
    "samples_names = []\n",
    "for m in models_names:\n",
    "    samples_names.extend([m + \" Train\", m + \" Test\"])\n",
    "    \n",
    "# extract results from KFold tests. e.g., \n",
    "# results[0] contains five MAE train scores\n",
    "# results[3] contains five MAE test scores\n",
    "results=[]\n",
    "for s in range(len(samples_names)):\n",
    "    for m in range(len(metrics_names)):\n",
    "        calc = []\n",
    "        for r in range(len(res)):\n",
    "            calc.append(res[r][s][m])\n",
    "        results.append(calc)\n",
    "\n",
    "#build results table\n",
    "metrics_names_std = []\n",
    "for m in metrics_names:\n",
    "    metrics_names_std.extend([m, m+\"_STD\"])\n",
    "table = pd.DataFrame(index=samples_names, columns=metrics_names_std)\n",
    "\n",
    "#compute stats and populate table\n",
    "count=0\n",
    "\n",
    "\n",
    "for s in range(len(samples_names)):\n",
    "    for c in range(len(metrics_names)):\n",
    "        table.iloc[s,c*2] = np.round(np.mean(results[count]), decimals=3)\n",
    "        \n",
    "        # calculate std deviation of the results\n",
    "        #==================================================#\n",
    "        #               Your code starts here              #\n",
    "        \n",
    "        #==================================================#\n",
    "        # TODO - change above to table.iloc[s,(c*2)+1] = ...\n",
    "        #==================================================#\n",
    "        #               Your code ends here                #\n",
    "        #               Please don't add code below here   #\n",
    "        #==================================================#\n",
    "        \n",
    "        count+=1\n",
    "table"
   ]
  },
  {
   "cell_type": "markdown",
   "metadata": {},
   "source": [
    "# Core Task: Predicting Bike Sharing Demand (Kaggle competition)\n",
    "\n",
    "The question provides a lot of background and sample code that you should review, run and extend to get familar with this problem and data set. Then you should tackle the tasks posed at the end of this question.\n",
    "\n",
    "Bike sharing systems are a means of renting bicycles where the process of obtaining membership, rental, and bike return is automated via a network of kiosk locations throughout a city. Using these systems, people are able rent a bike from a one location and return it to a different place on an as-needed basis. Currently, there are over 500 bike-sharing programs around the world [as of 2014].\n",
    "\n",
    "The data generated by these systems makes them attractive for researchers because the duration of travel, departure location, arrival location, and time elapsed is explicitly recorded. Bike sharing systems therefore function as a sensor network, which can be used for studying mobility in a city. In this competition, participants are asked to combine historical usage patterns with weather data in order to forecast bike rental demand in the Capital Bikeshare program in Washington, D.C.\n",
    "\n",
    "\n",
    "\n",
    "Overview on the project:\n",
    "\n",
    "* The objective is to predict the number of bikes that will be rented using the provided  data.\n",
    "* You will use various python packages like numpy, pandas, seaborn and standardScaler are used to explore and do feature engineering on data.\n",
    "* Finally you will build linear regression models and evalaute them using various metrics such as mean_squared_error\n",
    "* Do a Kaggle submission and get a score for your submission. Please screenshot that and report it.\n",
    "  * You won’t show up on the leaderboard, but you can still submit and get a score for your submission.\n",
    "\n"
   ]
  },
  {
   "cell_type": "markdown",
   "metadata": {},
   "source": [
    "## Load Data"
   ]
  },
  {
   "cell_type": "code",
   "execution_count": null,
   "metadata": {
    "ExecuteTime": {
     "end_time": "2018-06-19T01:43:37.887763Z",
     "start_time": "2018-06-19T01:43:37.840046Z"
    }
   },
   "outputs": [],
   "source": [
    "%matplotlib inline\n",
    "import numpy as np\n",
    "import pandas as pd\n",
    "import matplotlib.pyplot as plt\n",
    "import seaborn as sns\n",
    "sns.set(style='darkgrid')\n",
    "train=pd.read_csv('Kaggle-Bike-Sharing-Demand-Challenge/train.csv')\n",
    "test=pd.read_csv('Kaggle-Bike-Sharing-Demand-Challenge/test.csv')"
   ]
  },
  {
   "cell_type": "markdown",
   "metadata": {},
   "source": [
    "## EDA: Understanding the bike demand data det and doing EDA \n",
    "\n",
    "Understanding the Data Set\n",
    "The dataset shows hourly rental data for two years (2011 and 2012). The training data set is for the first 19 days of each month. The test dataset is from 20th day to month’s end. We are required to predict the total count of bikes rented during each hour covered by the test set.\n",
    "\n",
    "In the training data set, they have separately given bike demand by registered, casual users and sum of both is given as count.\n",
    "\n",
    "Training data set has 12 variables (see below) and Test has 9 (excluding registered, casual and count).\n",
    "\n",
    "Independent Variables\n",
    "\n",
    "```\n",
    "datetime:   date and hour in \"mm/dd/yyyy hh:mm\" format\n",
    "season:     Four categories-> 1 = spring, 2 = summer, 3 = fall, 4 = winter\n",
    "holiday:    whether the day is a holiday or not (1/0)\n",
    "workingday: whether the day is neither a weekend nor holiday (1/0)\n",
    "weather:    Four Categories of weather\n",
    "            1-> Clear, Few clouds, Partly cloudy, Partly cloudy\n",
    "            2-> Mist + Cloudy, Mist + Broken clouds, Mist + Few clouds, Mist\n",
    "            3-> Light Snow and Rain + Thunderstorm + Scattered clouds, Light Rain + Scattered clouds\n",
    "            4-> Heavy Rain + Ice Pallets + Thunderstorm + Mist, Snow + Fog\n",
    "temp:       hourly temperature in Celsius\n",
    "atemp:      \"feels like\" temperature in Celsius\n",
    "humidity:   relative humidity\n",
    "windspeed:  wind speed\n",
    "Dependent Variables\n",
    "\n",
    "registered: number of registered user\n",
    "casual:     number of non-registered user\n",
    "count:      number of total rentals (registered + casual)\n",
    "```\n",
    "Notice the Training dataset has 3 target features:\n",
    "\n",
    "```\n",
    "registered: number of registered user\n",
    "casual:     number of non-registered user\n",
    "count:      number of total rentals (registered + casual)\n",
    "```\n",
    "\n",
    "\n",
    "** Here we will focus on predicting `count` feature initially.**"
   ]
  },
  {
   "cell_type": "code",
   "execution_count": null,
   "metadata": {
    "ExecuteTime": {
     "end_time": "2018-06-19T01:43:37.896250Z",
     "start_time": "2018-06-19T01:43:37.889972Z"
    }
   },
   "outputs": [],
   "source": [
    "print(\"TRAIN\", train.shape)\n",
    "print(\"TEST\", test.shape)"
   ]
  },
  {
   "cell_type": "code",
   "execution_count": null,
   "metadata": {
    "ExecuteTime": {
     "end_time": "2018-06-19T01:43:37.915182Z",
     "start_time": "2018-06-19T01:43:37.898722Z"
    }
   },
   "outputs": [],
   "source": [
    "train.head()"
   ]
  },
  {
   "cell_type": "code",
   "execution_count": null,
   "metadata": {
    "ExecuteTime": {
     "end_time": "2018-06-19T01:43:37.933551Z",
     "start_time": "2018-06-19T01:43:37.917506Z"
    }
   },
   "outputs": [],
   "source": [
    "test.head()"
   ]
  },
  {
   "cell_type": "markdown",
   "metadata": {},
   "source": [
    "### Check if there is any missing value."
   ]
  },
  {
   "cell_type": "code",
   "execution_count": null,
   "metadata": {
    "ExecuteTime": {
     "end_time": "2018-06-19T01:43:37.946409Z",
     "start_time": "2018-06-19T01:43:37.935877Z"
    }
   },
   "outputs": [],
   "source": [
    "train.isnull().sum()"
   ]
  },
  {
   "cell_type": "code",
   "execution_count": null,
   "metadata": {
    "ExecuteTime": {
     "end_time": "2018-06-19T01:43:37.992342Z",
     "start_time": "2018-06-19T01:43:37.949113Z"
    }
   },
   "outputs": [],
   "source": [
    "train.describe()  #summary statistics for each variable"
   ]
  },
  {
   "cell_type": "markdown",
   "metadata": {},
   "source": [
    "### Plot the feature distributions (including the targets: count, casual, registered)"
   ]
  },
  {
   "cell_type": "code",
   "execution_count": null,
   "metadata": {
    "ExecuteTime": {
     "end_time": "2018-06-19T01:43:38.011616Z",
     "start_time": "2018-06-19T01:43:37.994878Z"
    }
   },
   "outputs": [],
   "source": [
    "train.head()"
   ]
  },
  {
   "cell_type": "code",
   "execution_count": null,
   "metadata": {
    "ExecuteTime": {
     "end_time": "2018-06-19T01:43:40.034581Z",
     "start_time": "2018-06-19T01:43:38.014362Z"
    }
   },
   "outputs": [],
   "source": [
    "%matplotlib inline\n",
    "import matplotlib.pyplot as plt\n",
    "train.hist(bins=50, figsize=(20,15))\n",
    "plt.show()"
   ]
  },
  {
   "attachments": {
    "image.png": {
     "image/png": "[encoded data removed]"
    }
   },
   "cell_type": "markdown",
   "metadata": {},
   "source": [
    "### Pandas and Dataframes\n",
    "\n",
    "In computer programming, `pandas` is a software library written for the Python programming language for data manipulation and analysis. Data is stored in tabular format.  In particular, it offers data structures and operations for manipulating numerical tables and time series. \n",
    "\n",
    "The Panda Library features include:\n",
    "\n",
    "* DataFrame object for data manipulation with integrated indexing.\n",
    "* Tools for reading and writing data between in-memory data structures and different file formats.\n",
    "* Data alignment and integrated handling of missing data.\n",
    "* Reshaping and pivoting of data sets.\n",
    "* Label-based slicing, fancy indexing, and subsetting of large data sets.\n",
    "* Data structure column insertion and deletion.\n",
    "* **Group by engine allowing split-apply-combine operations on data sets.**\n",
    "* Data set merging and joining.\n",
    "* Hierarchical axis indexing to work with high-dimensional data in a lower-dimensional data structure.\n",
    "* Time series-functionality: \n",
    "  * Date range generation[3] and frequency conversion, \n",
    "  * moving window statistics, \n",
    "  * moving window linear regressions, \n",
    "  * date shifting and lagging.\n",
    "\n",
    "\n",
    "For more info on Pandas dataframes see the following:\n",
    "\n",
    "* [Pandas intro](https://pandas.pydata.org/pandas-docs/stable/dsintro.html)\n",
    "* [Wiki entry for Pandas](https://en.wikipedia.org/wiki/Pandas_(software))\n",
    "\n",
    "\n",
    "![image.png](attachment:image.png)\n",
    "\n",
    "\n",
    "\n",
    "#### GROUP BY analysis: Sample use of a GROUP BY analysis: E.g., Season, or Holiday\n",
    "\n",
    "\n",
    "E.g., \n",
    "\n",
    "* groupby(['holiday']) to see if the target value varies between holiday and not holiday.\n",
    "* groupby(['season'] to see if the target value varies between holiday and not holiday.\n"
   ]
  },
  {
   "cell_type": "code",
   "execution_count": null,
   "metadata": {
    "ExecuteTime": {
     "end_time": "2018-06-19T01:43:40.049459Z",
     "start_time": "2018-06-19T01:43:40.036939Z"
    }
   },
   "outputs": [],
   "source": [
    "train[['count', 'holiday']].groupby(['holiday'], as_index = True).mean().sort_values(by = 'count')"
   ]
  },
  {
   "cell_type": "code",
   "execution_count": null,
   "metadata": {
    "ExecuteTime": {
     "end_time": "2018-06-19T01:43:40.064506Z",
     "start_time": "2018-06-19T01:43:40.051764Z"
    }
   },
   "outputs": [],
   "source": [
    "train[['count', 'season']].groupby(['season'], as_index = True).mean().sort_values(by = 'count')"
   ]
  },
  {
   "cell_type": "markdown",
   "metadata": {},
   "source": [
    "#### Visualize a categorical features like Season, weather \n",
    "\n",
    "\n",
    "```\n",
    "weather:    Four Categories of weather\n",
    "            1-> Clear, Few clouds, Partly cloudy, Partly cloudy\n",
    "            2-> Mist + Cloudy, Mist + Broken clouds, Mist + Few clouds, Mist\n",
    "            3-> Light Snow and Rain + Thunderstorm + Scattered clouds, Light Rain + Scattered clouds\n",
    "            4-> Heavy Rain + Ice Pallets + Thunderstorm + Mist, Snow + Fog\n",
    "\n",
    "```"
   ]
  },
  {
   "cell_type": "code",
   "execution_count": null,
   "metadata": {
    "ExecuteTime": {
     "end_time": "2018-06-19T01:43:40.072986Z",
     "start_time": "2018-06-19T01:43:40.067146Z"
    }
   },
   "outputs": [],
   "source": [
    "train.season.unique()"
   ]
  },
  {
   "cell_type": "code",
   "execution_count": null,
   "metadata": {
    "ExecuteTime": {
     "end_time": "2018-06-19T01:43:40.083170Z",
     "start_time": "2018-06-19T01:43:40.075331Z"
    }
   },
   "outputs": [],
   "source": [
    "train.weather.value_counts()"
   ]
  },
  {
   "cell_type": "code",
   "execution_count": null,
   "metadata": {
    "ExecuteTime": {
     "end_time": "2018-06-19T01:43:40.092858Z",
     "start_time": "2018-06-19T01:43:40.085482Z"
    }
   },
   "outputs": [],
   "source": [
    "train.holiday.value_counts()"
   ]
  },
  {
   "cell_type": "code",
   "execution_count": null,
   "metadata": {
    "ExecuteTime": {
     "end_time": "2018-06-19T01:43:40.509573Z",
     "start_time": "2018-06-19T01:43:40.095351Z"
    }
   },
   "outputs": [],
   "source": [
    "sns.barplot(x='season', y='count', data=train)"
   ]
  },
  {
   "cell_type": "code",
   "execution_count": null,
   "metadata": {
    "ExecuteTime": {
     "end_time": "2018-06-19T01:43:40.844437Z",
     "start_time": "2018-06-19T01:43:40.512221Z"
    }
   },
   "outputs": [],
   "source": [
    "sns.barplot(x='weather', y='count', data=train)"
   ]
  },
  {
   "cell_type": "markdown",
   "metadata": {},
   "source": [
    "## One hot encoding (OHE)\n",
    "Features like season, holiday, weather and working day are in  numerical form here. Having said that the numerical values associated with feature like weather dont have any particular numeric ordering. As such, it is much better to one hot encode these features. Here we can do this manually (via code) for training and testing datasets. Later in this course we automate this process in a more principled manner (we have to deal with corner cases.  \n",
    "\n",
    "* Further, found in the year column, there are just 2 different years 2011,2012 so using map(), we convert  2011 and 2012 to 0 and 1 respectively. \n",
    "\n"
   ]
  },
  {
   "cell_type": "code",
   "execution_count": null,
   "metadata": {
    "ExecuteTime": {
     "end_time": "2018-06-19T01:43:40.862731Z",
     "start_time": "2018-06-19T01:43:40.847211Z"
    }
   },
   "outputs": [],
   "source": [
    "# Create a new column called df.weather1 where the value is 1\n",
    "# if df.weather is 1 and 0 if not\n",
    "train['weather1'] = np.where(train['weather']==1, 1, 0)  #ifelse assignment\n",
    "train['weather2'] = np.where(train['weather']==2, 1, 0)\n",
    "train['weather3'] = np.where(train['weather']==3, 1, 0)\n",
    "train['weather4'] = np.where(train['weather']==4, 1, 0)\n",
    "\n",
    "# dont forget to drop the original feature\n",
    "train.drop(['weather'], axis=1, inplace=True)"
   ]
  },
  {
   "cell_type": "code",
   "execution_count": null,
   "metadata": {
    "ExecuteTime": {
     "end_time": "2018-06-19T01:43:40.882967Z",
     "start_time": "2018-06-19T01:43:40.865572Z"
    }
   },
   "outputs": [],
   "source": [
    "train.iloc[[7000]] ## Weather has a value of 2\n",
    "#train.as_matrix()[322:330,]"
   ]
  },
  {
   "cell_type": "markdown",
   "metadata": {},
   "source": [
    "### Dont forget to OHE the test data\n",
    "\n",
    "\n",
    "Dont forget to OHE the test data!!\n",
    ".........."
   ]
  },
  {
   "cell_type": "markdown",
   "metadata": {},
   "source": [
    "### Are there other features that should be OHE?\n",
    "\n",
    "Hint: Season? Others?"
   ]
  },
  {
   "cell_type": "markdown",
   "metadata": {},
   "source": [
    "## Create new  features (based on timestamp)\n",
    "* Well, we have a datetime feature (more like an object) in this dataset.  Let's break it into hour, day, month, year and make them a separate column.\n"
   ]
  },
  {
   "cell_type": "code",
   "execution_count": null,
   "metadata": {
    "ExecuteTime": {
     "end_time": "2018-06-19T01:43:40.949023Z",
     "start_time": "2018-06-19T01:43:40.885443Z"
    }
   },
   "outputs": [],
   "source": [
    "train[\"hour\"] = [t.hour for t in pd.DatetimeIndex(train.datetime)]\n",
    "train[\"day\"] = [t.dayofweek for t in pd.DatetimeIndex(train.datetime)]\n",
    "train[\"month\"] = [t.month for t in pd.DatetimeIndex(train.datetime)]\n",
    "train['year'] = [t.year for t in pd.DatetimeIndex(train.datetime)]\n",
    "train['year'] = train['year'].map({2011:0, 2012:1}) #OHE: One-hot-encoding (OHE): based "
   ]
  },
  {
   "cell_type": "markdown",
   "metadata": {},
   "source": [
    "## Separate input features and target feature for TRAIN ONLY.\n",
    "\n",
    "Why separate input features and target feature for TRAIN only?\n",
    "\n",
    "Answer: The test set is for creating a Kaggle submission.\n"
   ]
  },
  {
   "cell_type": "code",
   "execution_count": null,
   "metadata": {
    "ExecuteTime": {
     "end_time": "2018-06-19T01:43:40.960308Z",
     "start_time": "2018-06-19T01:43:40.951460Z"
    }
   },
   "outputs": [],
   "source": [
    "X, y = train.iloc[:, 1:], train['count']\n",
    "X = train.drop(['datetime','registered', 'casual', 'count'], axis=1)"
   ]
  },
  {
   "cell_type": "code",
   "execution_count": null,
   "metadata": {
    "ExecuteTime": {
     "end_time": "2018-06-19T01:43:40.980671Z",
     "start_time": "2018-06-19T01:43:40.962626Z"
    }
   },
   "outputs": [],
   "source": [
    "X.iloc[0:2,:]"
   ]
  },
  {
   "cell_type": "markdown",
   "metadata": {},
   "source": [
    "## Analysis of target variables"
   ]
  },
  {
   "cell_type": "markdown",
   "metadata": {},
   "source": [
    "It was seen from the training data sum of registered column and casual column yields count.\n",
    "It was unnecessary to keep these two columns as our features, Machine learning learners can be more fruitful if dataset is free of useless columns."
   ]
  },
  {
   "cell_type": "code",
   "execution_count": null,
   "metadata": {
    "ExecuteTime": {
     "end_time": "2018-06-19T01:43:41.167087Z",
     "start_time": "2018-06-19T01:43:40.983093Z"
    }
   },
   "outputs": [],
   "source": [
    "plt.scatter(x = train['casual'] + train['registered'], y = train['count'])\n",
    "plt.show()"
   ]
  },
  {
   "cell_type": "markdown",
   "metadata": {},
   "source": [
    "## Applying machine learning models (i.e., linear regression, DTs)\n",
    "\n",
    "### Split the training data into train and a blind test set \n",
    "Split the training data into train and a blind test set using scikit's train_test_split package. Rememeber that the test set that was provided is for Kaggle submission only and as such has not target values.\n"
   ]
  },
  {
   "cell_type": "code",
   "execution_count": null,
   "metadata": {
    "ExecuteTime": {
     "end_time": "2018-06-19T01:43:41.177173Z",
     "start_time": "2018-06-19T01:43:41.169525Z"
    }
   },
   "outputs": [],
   "source": [
    "np.random.seed(42)\n",
    "\n",
    "from sklearn.model_selection import  train_test_split\n",
    "X_train, X_test, y_train, y_test = train_test_split(X, y, test_size=.3, random_state=0)"
   ]
  },
  {
   "cell_type": "markdown",
   "metadata": {},
   "source": [
    "Features on larger scales can unduly influence the model.\n",
    "We want features on a similar scale.\n",
    "Scikit's preprocessing provides us with StandardScaler package to scale our data."
   ]
  },
  {
   "cell_type": "code",
   "execution_count": null,
   "metadata": {
    "ExecuteTime": {
     "end_time": "2018-06-19T01:43:41.196666Z",
     "start_time": "2018-06-19T01:43:41.180069Z"
    }
   },
   "outputs": [],
   "source": [
    "from sklearn.preprocessing import StandardScaler\n",
    "scl= StandardScaler()\n",
    "X_train_std = scl.fit_transform(X_train)\n",
    "X_test_std = scl.transform(X_test)\n",
    "\n",
    "lin_reg = LinearRegression()\n",
    "lin_reg.fit(X_train_std, y_train) #SKLearn's linear regression\n",
    "\n",
    "y_train_pred = lin_reg.predict(X_train_std)\n",
    "y_test_pred = lin_reg.predict(X_test_std)"
   ]
  },
  {
   "cell_type": "code",
   "execution_count": null,
   "metadata": {
    "ExecuteTime": {
     "end_time": "2018-06-19T01:43:41.210115Z",
     "start_time": "2018-06-19T01:43:41.199425Z"
    }
   },
   "outputs": [],
   "source": [
    "from sklearn.metrics import mean_squared_error, r2_score\n",
    "#Root_Mean_Square Error(RMSE) is performance criteria for this problem\n",
    "# errors on  count\n",
    "print('RMSE train: %.3f' % np.sqrt(mean_squared_error(y_train, y_train_pred)))\n",
    "print('RMSE test: %.3f' % np.sqrt(mean_squared_error(y_test, y_test_pred)))\n",
    "print('R2 train: %.3f' % r2_score(y_train, y_train_pred))\n",
    "print('R2 test: %.3f' % r2_score(y_test, y_test_pred))"
   ]
  },
  {
   "cell_type": "code",
   "execution_count": null,
   "metadata": {
    "ExecuteTime": {
     "end_time": "2018-06-19T01:43:41.860741Z",
     "start_time": "2018-06-19T01:43:41.212805Z"
    }
   },
   "outputs": [],
   "source": [
    "import numpy as np\n",
    "import pandas as pd\n",
    "\n",
    "from sklearn.datasets import load_boston\n",
    "from sklearn.model_selection import train_test_split\n",
    "from sklearn.model_selection import KFold\n",
    "from sklearn.preprocessing import MinMaxScaler\n",
    "from sklearn.linear_model import LinearRegression\n",
    "from sklearn.metrics import mean_absolute_error, mean_squared_error\n",
    "\n",
    "import matplotlib\n",
    "import matplotlib.pyplot as plt\n",
    "import seaborn as sns\n",
    "\n",
    "%matplotlib inline\n",
    "\n",
    "t = np.arange(0.01, 20.0, 0.1)\n",
    "\n",
    "# log x and y axis\n",
    "#plt.subplot(223)\n",
    "plt.loglog(t, 20*np.exp(-t/10.0))# basex=2)\n",
    "plt.grid(True)\n",
    "plt.title('loglog base 2 on x')\n"
   ]
  },
  {
   "cell_type": "markdown",
   "metadata": {},
   "source": [
    "### Keep a log book to track your experiments"
   ]
  },
  {
   "cell_type": "code",
   "execution_count": null,
   "metadata": {
    "ExecuteTime": {
     "end_time": "2018-06-19T01:43:41.883521Z",
     "start_time": "2018-06-19T01:43:41.863838Z"
    }
   },
   "outputs": [],
   "source": [
    "expLog = pd.DataFrame(columns=[\"Model description\", \"RMSE train\", 'RMSE test','R2 test'])\n",
    "\n",
    "# add the result of this experiment to the log book\n",
    "expLog.loc[len(expLog)] = [\"SKLearn Linear Regression vanilla\",  \n",
    "                np.round(np.sqrt(mean_squared_error(y_train, y_train_pred)),3),\n",
    "                np.round(np.sqrt(mean_squared_error(y_test, y_test_pred)),3),\n",
    "                np.round(r2_score(y_test, y_test_pred), 3)\n",
    "                            ]\n",
    "expLog"
   ]
  },
  {
   "cell_type": "markdown",
   "metadata": {},
   "source": [
    "### Learn a Decision Tree  Regressor\n",
    "Let's learn a DecisionTreeRegressor model for comparison purposes."
   ]
  },
  {
   "cell_type": "code",
   "execution_count": null,
   "metadata": {
    "ExecuteTime": {
     "end_time": "2018-06-19T01:43:41.968087Z",
     "start_time": "2018-06-19T01:43:41.886382Z"
    }
   },
   "outputs": [],
   "source": [
    "from sklearn.tree import DecisionTreeRegressor\n",
    "dt = DecisionTreeRegressor()\n",
    "dt.fit(X_train_std, y_train)\n",
    "y_train_pred = dt.predict(X_train_std)\n",
    "y_test_pred = dt.predict(X_test_std)\n",
    "#Root_Mean_Square_Error(RMSE) is accuracy criteria for this problem\n",
    "# errors on  count\n",
    "print('RMSE train: %.3f' % np.sqrt(mean_squared_error(y_train, y_train_pred)))\n",
    "print('RMSE test: %.3f' % np.sqrt(mean_squared_error(y_test, y_test_pred)))\n",
    "print('R2 train: %.3f' % r2_score(y_train, y_train_pred))\n",
    "print('R2 test: %.3f' % r2_score(y_test, y_test_pred))     \n",
    "      \n",
    "expLog.loc[len(expLog)] = [\"SKLearn DecisionTree vanilla\",  \n",
    "                np.round(np.sqrt(mean_squared_error(y_train, y_train_pred)),3),\n",
    "                np.round(np.sqrt(mean_squared_error(y_test, y_test_pred)),3),\n",
    "                np.round(r2_score(y_test, y_test_pred), 3)\n",
    "                            ]\n",
    "expLog\n"
   ]
  },
  {
   "cell_type": "markdown",
   "metadata": {},
   "source": [
    "### Learn a Decision Tree ensemble, i.e., use RandomForestRegressor\n",
    "Learn Decision Tree ensemble, RandomForestRegressor, model."
   ]
  },
  {
   "cell_type": "code",
   "execution_count": null,
   "metadata": {
    "ExecuteTime": {
     "end_time": "2018-06-19T01:43:44.947808Z",
     "start_time": "2018-06-19T01:43:41.970389Z"
    }
   },
   "outputs": [],
   "source": [
    "from sklearn.ensemble import RandomForestRegressor\n",
    "forest = RandomForestRegressor(n_estimators = 400, criterion='mse',random_state=1, n_jobs=-1)\n",
    "forest.fit(X_train_std, y_train)\n",
    "y_train_pred = forest.predict(X_train_std)\n",
    "y_test_pred = forest.predict(X_test_std)"
   ]
  },
  {
   "cell_type": "code",
   "execution_count": null,
   "metadata": {
    "ExecuteTime": {
     "end_time": "2018-06-19T01:43:44.979596Z",
     "start_time": "2018-06-19T01:43:44.950589Z"
    }
   },
   "outputs": [],
   "source": [
    "from sklearn.metrics import mean_squared_error, r2_score\n",
    "#Root_Mean_Square_Log_Error(RMSE) is accuracy criteria for this problem\n",
    "# errors on  count\n",
    "print('RMSE train: %.3f' % np.sqrt(mean_squared_error(y_train, y_train_pred)))\n",
    "print('RMSE test: %.3f' % np.sqrt(mean_squared_error(y_test, y_test_pred)))\n",
    "print('R2 train: %.3f' % r2_score(y_train, y_train_pred))\n",
    "print('R2 test: %.3f' % r2_score(y_test, y_test_pred))     \n",
    "      \n",
    "expLog.loc[len(expLog)] = [\"SKLearn RandomForestRegressor vanilla\",  \n",
    "                np.round(np.sqrt(mean_squared_error(y_train, y_train_pred)),3),\n",
    "                np.round(np.sqrt(mean_squared_error(y_test, y_test_pred)),3),\n",
    "                np.round(r2_score(y_test, y_test_pred), 3)\n",
    "                          ]\n",
    "expLog"
   ]
  },
  {
   "cell_type": "markdown",
   "metadata": {},
   "source": [
    "## Generate a submission file on the Kaggle test data."
   ]
  },
  {
   "cell_type": "code",
   "execution_count": null,
   "metadata": {
    "ExecuteTime": {
     "end_time": "2018-06-19T01:43:45.008630Z",
     "start_time": "2018-06-19T01:43:44.982144Z"
    }
   },
   "outputs": [],
   "source": [
    "test=pd.read_csv('./Kaggle-Bike-Sharing-Demand-Challenge/test.csv')\n",
    "test.head()"
   ]
  },
  {
   "cell_type": "markdown",
   "metadata": {},
   "source": [
    "### Dont forget to generate features \n",
    "\n",
    "* from datatime object  (hour,day,month,year)\n",
    "* OHE\n"
   ]
  },
  {
   "cell_type": "code",
   "execution_count": null,
   "metadata": {
    "ExecuteTime": {
     "end_time": "2018-06-19T01:43:45.025178Z",
     "start_time": "2018-06-19T01:43:45.011306Z"
    }
   },
   "outputs": [],
   "source": [
    "# Create a new column called df.weather1 where the value is 1\n",
    "# if df.weather is 1 and 0 if not\n",
    "test['weather1'] = np.where(test['weather']==1, 1, 0)  #ifelse assignment\n",
    "test['weather2'] = np.where(test['weather']==2, 1, 0)\n",
    "test['weather3'] = np.where(test['weather']==3, 1, 0)\n",
    "test['weather4'] = np.where(test['weather']==4, 1, 0)\n",
    "\n",
    "# dont forget to drop the original feature\n",
    "test.drop(['weather'], axis=1, inplace=True)"
   ]
  },
  {
   "cell_type": "code",
   "execution_count": null,
   "metadata": {
    "ExecuteTime": {
     "end_time": "2018-06-19T01:43:45.070763Z",
     "start_time": "2018-06-19T01:43:45.027525Z"
    }
   },
   "outputs": [],
   "source": [
    "test[\"hour\"] = [t.hour for t in pd.DatetimeIndex(test.datetime)]\n",
    "test[\"day\"] = [t.dayofweek for t in pd.DatetimeIndex(test.datetime)]\n",
    "test[\"month\"] = [t.month for t in pd.DatetimeIndex(test.datetime)]\n",
    "test['year'] = [t.year for t in pd.DatetimeIndex(test.datetime)]\n",
    "test['year'] = test['year'].map({2011:0, 2012:1})"
   ]
  },
  {
   "cell_type": "code",
   "execution_count": null,
   "metadata": {
    "ExecuteTime": {
     "end_time": "2018-06-19T01:43:45.092791Z",
     "start_time": "2018-06-19T01:43:45.073184Z"
    }
   },
   "outputs": [],
   "source": [
    "test.head()"
   ]
  },
  {
   "cell_type": "code",
   "execution_count": null,
   "metadata": {
    "ExecuteTime": {
     "end_time": "2018-06-19T01:43:45.100739Z",
     "start_time": "2018-06-19T01:43:45.095252Z"
    }
   },
   "outputs": [],
   "source": [
    "X_test=test.iloc[:,1:]"
   ]
  },
  {
   "cell_type": "markdown",
   "metadata": {},
   "source": [
    "Similarly, use same standarad scaler for test data"
   ]
  },
  {
   "cell_type": "code",
   "execution_count": null,
   "metadata": {
    "ExecuteTime": {
     "end_time": "2018-06-19T01:43:45.107929Z",
     "start_time": "2018-06-19T01:43:45.103060Z"
    }
   },
   "outputs": [],
   "source": [
    "X_test = scl.transform(X_test)"
   ]
  },
  {
   "cell_type": "code",
   "execution_count": null,
   "metadata": {
    "ExecuteTime": {
     "end_time": "2018-06-19T01:43:45.324394Z",
     "start_time": "2018-06-19T01:43:45.110512Z"
    }
   },
   "outputs": [],
   "source": [
    "y_test=forest.predict(X_test)"
   ]
  },
  {
   "cell_type": "code",
   "execution_count": null,
   "metadata": {
    "ExecuteTime": {
     "end_time": "2018-06-19T01:43:45.331788Z",
     "start_time": "2018-06-19T01:43:45.327369Z"
    }
   },
   "outputs": [],
   "source": [
    "df_submit = test"
   ]
  },
  {
   "cell_type": "code",
   "execution_count": null,
   "metadata": {
    "ExecuteTime": {
     "end_time": "2018-06-19T01:43:45.339944Z",
     "start_time": "2018-06-19T01:43:45.334599Z"
    }
   },
   "outputs": [],
   "source": [
    "df_submit['count'] = np.round(y_test)"
   ]
  },
  {
   "cell_type": "code",
   "execution_count": null,
   "metadata": {
    "ExecuteTime": {
     "end_time": "2018-06-19T01:43:45.350020Z",
     "start_time": "2018-06-19T01:43:45.342770Z"
    }
   },
   "outputs": [],
   "source": [
    "df_submit = df_submit.drop(['season', 'holiday', 'workingday','temp', 'atemp', 'humidity', \n",
    "                            'windspeed', 'hour', 'day', 'month', 'year', 'weather1', 'weather2',\n",
    "                            'weather3', 'weather4'], axis=1)"
   ]
  },
  {
   "cell_type": "code",
   "execution_count": null,
   "metadata": {
    "ExecuteTime": {
     "end_time": "2018-06-19T01:43:45.362883Z",
     "start_time": "2018-06-19T01:43:45.352627Z"
    }
   },
   "outputs": [],
   "source": [
    "df_submit.head()"
   ]
  },
  {
   "cell_type": "markdown",
   "metadata": {},
   "source": [
    "### Clip all negative predictions at zero\n",
    "\n",
    "This is a post processing step to insure that all negative prediction values (we can not have negative bike rentals) are clipped to the value 0.\n",
    "\n",
    "How many negative counts does your model predict? Plot a histogram using the code below. \n",
    "\n"
   ]
  },
  {
   "cell_type": "code",
   "execution_count": null,
   "metadata": {
    "ExecuteTime": {
     "end_time": "2018-06-19T01:43:45.554861Z",
     "start_time": "2018-06-19T01:43:45.365387Z"
    }
   },
   "outputs": [],
   "source": [
    "%matplotlib inline\n",
    "import matplotlib\n",
    "import matplotlib.pyplot as plt\n",
    "import math\n",
    "\n",
    "# the histogram of the data\n",
    "n, bins, patches = plt.hist(df_submit['count'], 50)\n",
    "\n",
    "plt.xlabel('Bike rental count buckets')\n",
    "plt.ylabel('Frequency of this count bucker')\n",
    "plt.title(r'Histogram of bike rental counts (predicted)')\n",
    "plt.grid(True)\n",
    "\n",
    "plt.show()"
   ]
  },
  {
   "cell_type": "code",
   "execution_count": null,
   "metadata": {
    "ExecuteTime": {
     "end_time": "2018-06-19T01:43:45.562056Z",
     "start_time": "2018-06-19T01:43:45.557446Z"
    }
   },
   "outputs": [],
   "source": [
    "df_submit['count'] = np.where(df_submit['count'] < 0, 0, df_submit['count'])"
   ]
  },
  {
   "cell_type": "code",
   "execution_count": null,
   "metadata": {
    "ExecuteTime": {
     "end_time": "2018-06-19T01:43:45.582322Z",
     "start_time": "2018-06-19T01:43:45.564388Z"
    }
   },
   "outputs": [],
   "source": [
    "df_submit.to_csv('bike2.csv', index=False)"
   ]
  },
  {
   "cell_type": "markdown",
   "metadata": {},
   "source": [
    "### Now upload this submission file to Kaggle\n",
    "\n",
    "Good luck!\n",
    "\n",
    "\n",
    "__Sample of submission screenshot:__"
   ]
  },
  {
   "attachments": {
    "image.png": {
     "image/png": "[encoded data removed]"
    }
   },
   "cell_type": "markdown",
   "metadata": {},
   "source": [
    "![image.png](attachment:image.png)"
   ]
  },
  {
   "cell_type": "markdown",
   "metadata": {},
   "source": [
    "## Core TASK: Report your results\n",
    "\n",
    "This question (this entire section) so far has  provided a lot of background and sample code that you should review, run and extend to get familar with this problem and data set. Next up you should tackle the tasks posed here.  Please feel free to adapt the above code to accomplish the following:\n",
    "\n",
    "Overall, we want you to build a linear regression model using pipelines that builds on what was discussed earlier in this section and do a Kaggle submission for this Bike Demand prediction problem. In particular, we want you to address the following:\n",
    "\n",
    "* Derive other features \n",
    "  * OHE features such as  season, \n",
    " \n",
    "* Please do feature selection using `SelectKBest` \n",
    "  * See a full section on Feature Selection in Lab04 Notebook for details on how to do this. \n",
    "* Please put all modeling steps (including Feature Selection) in a Pipeline **(NOTE please keep the OHE step separate preprocessing step for this homework)**\n",
    "* Present your experimental results in tabular form\n",
    "  * Describe the linear regression model, number of input features used, MAE, RMSE and MAPE, feature familires used (e.g., Baseline features, Season OHE, etc.).\n",
    "* Please do a Kaggle submission with your best linear regression model\n",
    "* Screenshot your kaggle submission results\n",
    "* Discuss your best result (in terms of process followed, features used and any other interesting discoveries that you came across). "
   ]
  },
  {
   "cell_type": "markdown",
   "metadata": {},
   "source": [
    "### Reload original train data"
   ]
  },
  {
   "cell_type": "code",
   "execution_count": null,
   "metadata": {
    "ExecuteTime": {
     "end_time": "2018-06-19T01:43:45.604229Z",
     "start_time": "2018-06-19T01:43:45.584882Z"
    }
   },
   "outputs": [],
   "source": [
    "train=pd.read_csv('Kaggle-Bike-Sharing-Demand-Challenge/train.csv')\n",
    "train.head(3)"
   ]
  },
  {
   "cell_type": "markdown",
   "metadata": {},
   "source": [
    "### OHE encoding on season feature (train)"
   ]
  },
  {
   "cell_type": "code",
   "execution_count": null,
   "metadata": {
    "ExecuteTime": {
     "end_time": "2018-06-19T01:43:45.642813Z",
     "start_time": "2018-06-19T01:43:45.627478Z"
    }
   },
   "outputs": [],
   "source": [
    "# Create a new column called df.season1 where the value is 1\n",
    "# if df.season is 1 and 0 if not\n",
    "train['season1'] = np.where(train['season']==1, 1, 0)  #ifelse assignment\n",
    "train['season2'] = np.where(train['season']==2, 1, 0)\n",
    "train['season3'] = np.where(train['season']==3, 1, 0)\n",
    "train['season4'] = np.where(train['season']==4, 1, 0)\n",
    "\n",
    "# dont forget to drop the original feature\n",
    "train.drop(['season'], axis=1, inplace=True)"
   ]
  },
  {
   "cell_type": "code",
   "execution_count": null,
   "metadata": {},
   "outputs": [],
   "source": [
    "# Create a new column called df.weather1 where the value is 1\n",
    "# if df.weather is 1 and 0 if not\n",
    "train['weather1'] = np.where(train['weather']==1, 1, 0)  #ifelse assignment\n",
    "train['weather2'] = np.where(train['weather']==2, 1, 0)\n",
    "train['weather3'] = np.where(train['weather']==3, 1, 0)\n",
    "train['weather4'] = np.where(train['weather']==4, 1, 0)\n",
    "\n",
    "# dont forget to drop the original feature\n",
    "train.drop(['weather'], axis=1, inplace=True)"
   ]
  },
  {
   "cell_type": "code",
   "execution_count": null,
   "metadata": {},
   "outputs": [],
   "source": [
    "train[\"hour\"] = [t.hour for t in pd.DatetimeIndex(train.datetime)]\n",
    "train[\"day\"] = [t.dayofweek for t in pd.DatetimeIndex(train.datetime)]\n",
    "train[\"month\"] = [t.month for t in pd.DatetimeIndex(train.datetime)]\n",
    "train['year'] = [t.year for t in pd.DatetimeIndex(train.datetime)]\n",
    "train['year'] = train['year'].map({2011:0, 2012:1})"
   ]
  },
  {
   "cell_type": "markdown",
   "metadata": {},
   "source": [
    "### Separate x, y data and the training data into a train and validation sets"
   ]
  },
  {
   "cell_type": "code",
   "execution_count": null,
   "metadata": {
    "ExecuteTime": {
     "end_time": "2018-06-19T01:43:45.672733Z",
     "start_time": "2018-06-19T01:43:45.662031Z"
    }
   },
   "outputs": [],
   "source": [
    "X_train = train.iloc[:,1:].copy()\n",
    "X_train.drop(columns=['casual', 'registered', 'count'], inplace=True)\n",
    "y_train = train['count'].copy()"
   ]
  },
  {
   "cell_type": "code",
   "execution_count": null,
   "metadata": {
    "ExecuteTime": {
     "end_time": "2018-06-19T01:43:45.692948Z",
     "start_time": "2018-06-19T01:43:45.685913Z"
    }
   },
   "outputs": [],
   "source": [
    "np.random.seed(42)\n",
    "\n",
    "X_train, X_val, y_train, y_val = train_test_split(X_train, y_train, test_size=0.2, random_state=42)\n",
    "print('Train (x,y):\\t', X_train.shape,'\\t',y_train.shape)\n",
    "print('Validate (x,y):\\t', X_val.shape,'\\t',y_val.shape)"
   ]
  },
  {
   "cell_type": "markdown",
   "metadata": {},
   "source": [
    "### SelectKBest feature selection (using the TopFeatureSelector method from Lab 04)"
   ]
  },
  {
   "cell_type": "code",
   "execution_count": null,
   "metadata": {
    "ExecuteTime": {
     "end_time": "2018-06-19T01:43:45.703722Z",
     "start_time": "2018-06-19T01:43:45.695401Z"
    }
   },
   "outputs": [],
   "source": [
    "from sklearn.feature_selection import SelectKBest, f_regression\n",
    "\n",
    "np.random.seed(42)\n",
    "\n",
    "# k is an arbitrary number of features \n",
    "# we will use our pipeline below to select based on p values\n",
    "# use f_regression, k=5, and X_train and y_train\n",
    "#==================================================#\n",
    "#               Your code starts here              #\n",
    "#==================================================#\n",
    "\n",
    "# TODO - change above to\n",
    "# Kbest = ...\n",
    "# X_train_sel = ...\n",
    "#==================================================#\n",
    "#               Your code ends here                #\n",
    "#==================================================#               "
   ]
  },
  {
   "cell_type": "code",
   "execution_count": null,
   "metadata": {},
   "outputs": [],
   "source": [
    "featureScores = Kbest.scores_\n",
    "pd.DataFrame({'feature':X_train.axes[1], 'F statistic':Kbest.scores_,'p value':Kbest.pvalues_}).sort_values(by='p value')"
   ]
  },
  {
   "cell_type": "code",
   "execution_count": null,
   "metadata": {
    "ExecuteTime": {
     "end_time": "2018-06-19T01:43:45.723934Z",
     "start_time": "2018-06-19T01:43:45.706361Z"
    }
   },
   "outputs": [],
   "source": [
    "from sklearn.base import BaseEstimator, TransformerMixin\n",
    "\n",
    "# find the indices to the top ranking input features based on importance \n",
    "#    arr is an array of feature importances in order of the input data matrix X\n",
    "#    k is the number of features to be selected\n",
    "#\n",
    "# Note: this feature selector assumes that you have already computed the feature importances \n",
    "# We did so in the cell above with the feature importance scores stored in Kbest.scores_ \n",
    "\n",
    "def indices_of_top_k(arr, k):\n",
    "    return np.sort(np.argpartition(np.array(arr), -k)[-k:])\n",
    "\n",
    "class TopFeatureSelector(BaseEstimator, TransformerMixin):\n",
    "    def __init__(self, feature_importances, k):\n",
    "        self.feature_importances = feature_importances\n",
    "        self.k = k\n",
    "    def fit(self, X, y=None):\n",
    "        self.feature_indices_ = indices_of_top_k(self.feature_importances, self.k)\n",
    "        return self\n",
    "    # select the columns of data matrix of the selected input features \n",
    "    def transform(self, X):\n",
    "        return X[:, self.feature_indices_]"
   ]
  },
  {
   "cell_type": "markdown",
   "metadata": {},
   "source": [
    "### Build a full pipeline using Linear Regression"
   ]
  },
  {
   "cell_type": "code",
   "execution_count": null,
   "metadata": {
    "ExecuteTime": {
     "end_time": "2018-06-19T01:43:45.732963Z",
     "start_time": "2018-06-19T01:43:45.726538Z"
    }
   },
   "outputs": [],
   "source": [
    "from sklearn.pipeline import Pipeline\n",
    "from sklearn.preprocessing import StandardScaler\n",
    "linreg = LinearRegression()\n",
    "pipe = Pipeline([\n",
    "        (\"MinMaxScaler\", MinMaxScaler()),\n",
    "        ('feature_selection', TopFeatureSelector(featureScores, 13)), # k=13 based on p values above\n",
    "        ('linreg', LinearRegression())\n",
    "    ])"
   ]
  },
  {
   "cell_type": "markdown",
   "metadata": {},
   "source": [
    "### Fit train data and generate predictions on the validation data"
   ]
  },
  {
   "cell_type": "code",
   "execution_count": null,
   "metadata": {
    "ExecuteTime": {
     "end_time": "2018-06-19T01:43:45.753374Z",
     "start_time": "2018-06-19T01:43:45.735760Z"
    }
   },
   "outputs": [],
   "source": [
    "pipe.fit(X_train, y_train) \n",
    "y_val_pred = pipe.predict(X_val)"
   ]
  },
  {
   "cell_type": "code",
   "execution_count": null,
   "metadata": {},
   "outputs": [],
   "source": [
    "plt.figure(figsize=(8,3))\n",
    "plt.subplot(121)\n",
    "plt.hist(y_val_pred)\n",
    "plt.title('Validation Set Predictions')\n",
    "plt.subplot(122)\n",
    "plt.hist(y_val)\n",
    "plt.title('Validation Set Actual');"
   ]
  },
  {
   "cell_type": "code",
   "execution_count": null,
   "metadata": {},
   "outputs": [],
   "source": [
    "# set a lower bound for predicted values at zero\n",
    "# and set all predictions to integer (count)\n",
    "y_val_pred = np.where(y_val_pred < 0, 0, y_val_pred.astype(int))"
   ]
  },
  {
   "cell_type": "markdown",
   "metadata": {},
   "source": [
    "That's a little more realistic, but still doesn't appear to be distributed like our ground truth."
   ]
  },
  {
   "cell_type": "code",
   "execution_count": null,
   "metadata": {},
   "outputs": [],
   "source": [
    "plt.figure(figsize=(8,3))\n",
    "plt.subplot(121)\n",
    "plt.hist(y_val_pred)\n",
    "plt.title('Validation Set Predictions')\n",
    "print(y_val_pred[:10])"
   ]
  },
  {
   "cell_type": "markdown",
   "metadata": {},
   "source": [
    "Generate statistics on the predictions."
   ]
  },
  {
   "cell_type": "code",
   "execution_count": null,
   "metadata": {
    "ExecuteTime": {
     "end_time": "2018-06-19T01:43:45.767635Z",
     "start_time": "2018-06-19T01:43:45.756023Z"
    }
   },
   "outputs": [],
   "source": [
    "expLog = pd.DataFrame(columns=['Model Description', 'MAE', 'RMSE', \"MAPE\"])\n",
    "mae = np.round(mean_absolute_error(y_val, y_val_pred), 3)\n",
    "rmse = np.round(np.sqrt(mean_squared_error(y_val, y_val_pred)), 3)\n",
    "#==================================================#\n",
    "#               Your code starts here              #\n",
    "#==================================================#\n",
    "\n",
    "\n",
    "# TODO - change above to\n",
    "# mape = np.round(..., 3)\n",
    "#==================================================#\n",
    "#               Your code ends here                #\n",
    "#==================================================#\n",
    "expLog.loc[len(expLog)] = ['SKLearn LinReg SelectKBest=13', mae, rmse, mape]"
   ]
  },
  {
   "cell_type": "code",
   "execution_count": null,
   "metadata": {
    "ExecuteTime": {
     "end_time": "2018-06-19T01:43:45.780254Z",
     "start_time": "2018-06-19T01:43:45.770085Z"
    }
   },
   "outputs": [],
   "source": [
    "expLog"
   ]
  },
  {
   "cell_type": "markdown",
   "metadata": {},
   "source": [
    "### Prepare a Kaggle submission using our pipeline model"
   ]
  },
  {
   "cell_type": "markdown",
   "metadata": {},
   "source": [
    "#### Re-load the Kaggle test data"
   ]
  },
  {
   "cell_type": "code",
   "execution_count": null,
   "metadata": {
    "ExecuteTime": {
     "end_time": "2018-06-19T01:43:45.801240Z",
     "start_time": "2018-06-19T01:43:45.783225Z"
    }
   },
   "outputs": [],
   "source": [
    "test=pd.read_csv('./Kaggle-Bike-Sharing-Demand-Challenge/test.csv')"
   ]
  },
  {
   "cell_type": "markdown",
   "metadata": {},
   "source": [
    "#### Perform the same OHE steps as we did on training data"
   ]
  },
  {
   "cell_type": "code",
   "execution_count": null,
   "metadata": {
    "ExecuteTime": {
     "end_time": "2018-06-19T01:43:45.820296Z",
     "start_time": "2018-06-19T01:43:45.803993Z"
    }
   },
   "outputs": [],
   "source": [
    "# Create a new column called df.weather1 where the value is 1\n",
    "# if df.weather is 1 and 0 if not\n",
    "test['weather1'] = np.where(test['weather']==1, 1, 0)  #ifelse assignment\n",
    "test['weather2'] = np.where(test['weather']==2, 1, 0)\n",
    "test['weather3'] = np.where(test['weather']==3, 1, 0)\n",
    "test['weather4'] = np.where(test['weather']==4, 1, 0)\n",
    "\n",
    "# dont forget to drop the original feature\n",
    "test.drop(['weather'], axis=1, inplace=True)"
   ]
  },
  {
   "cell_type": "code",
   "execution_count": null,
   "metadata": {
    "ExecuteTime": {
     "end_time": "2018-06-19T01:43:45.839766Z",
     "start_time": "2018-06-19T01:43:45.823186Z"
    }
   },
   "outputs": [],
   "source": [
    "# Create a new column called df.season1 where the value is 1\n",
    "# if df.season is 1 and 0 if not\n",
    "test['season1'] = np.where(test['season']==1, 1, 0)  #ifelse assignment\n",
    "test['season2'] = np.where(test['season']==2, 1, 0)\n",
    "test['season3'] = np.where(test['season']==3, 1, 0)\n",
    "test['season4'] = np.where(test['season']==4, 1, 0)\n",
    "\n",
    "# dont forget to drop the original feature\n",
    "test.drop(['season'], axis=1, inplace=True)"
   ]
  },
  {
   "cell_type": "code",
   "execution_count": null,
   "metadata": {
    "ExecuteTime": {
     "end_time": "2018-06-19T01:43:45.951709Z",
     "start_time": "2018-06-19T01:43:45.842565Z"
    }
   },
   "outputs": [],
   "source": [
    "test[\"hour\"] = [t.hour for t in pd.DatetimeIndex(test.datetime)]\n",
    "test[\"day\"] = [t.dayofweek for t in pd.DatetimeIndex(test.datetime)]\n",
    "test[\"month\"] = [t.month for t in pd.DatetimeIndex(test.datetime)]\n",
    "test['year'] = [t.year for t in pd.DatetimeIndex(test.datetime)]\n",
    "test['year'] = test['year'].map({2011:0, 2012:1})"
   ]
  },
  {
   "cell_type": "code",
   "execution_count": null,
   "metadata": {},
   "outputs": [],
   "source": [
    "X_test = test.iloc[:,1:].copy()"
   ]
  },
  {
   "cell_type": "code",
   "execution_count": null,
   "metadata": {
    "ExecuteTime": {
     "end_time": "2018-06-19T01:43:45.971022Z",
     "start_time": "2018-06-19T01:43:45.962108Z"
    }
   },
   "outputs": [],
   "source": [
    "# generate predictions and apply the same post-processing\n",
    "y_test = pipe.predict(X_test)\n",
    "y_test = np.where(y_test < 0, 0, y_test.astype(int))"
   ]
  },
  {
   "cell_type": "code",
   "execution_count": null,
   "metadata": {
    "ExecuteTime": {
     "end_time": "2018-06-19T01:43:45.977472Z",
     "start_time": "2018-06-19T01:43:45.973743Z"
    }
   },
   "outputs": [],
   "source": [
    "# create dataframe in the form expected by Kaggle\n",
    "df_submit = pd.DataFrame({'datetime':test['datetime'],'count':y_test})\n",
    "df_submit = df_submit[['datetime','count']]\n",
    "df_submit.head(10)"
   ]
  },
  {
   "cell_type": "code",
   "execution_count": null,
   "metadata": {
    "ExecuteTime": {
     "end_time": "2018-06-19T01:43:46.255228Z",
     "start_time": "2018-06-19T01:43:46.237785Z"
    }
   },
   "outputs": [],
   "source": [
    "df_submit.to_csv('bike3.csv', index=False)"
   ]
  },
  {
   "cell_type": "markdown",
   "metadata": {},
   "source": [
    "# Core task: bike demand extension 1 (2 separate LR models)\n",
    "\n",
    "Build separate linear regression models for the other target variables (instead of the `count` target variable) and report your results:  \n",
    "\n",
    "`\n",
    "registered: number of registered user\n",
    "casual:     number of non-registered user\n",
    "`\n",
    "\n",
    "Overall, we want you to build a linear regression model using pipelines that builds on what you learned as a solution to the previous section,   and do a Kaggle submission for this Bike Demand prediction problem. In particular, we want you to address (using what you have done previously) the following:\n",
    "\n",
    "* Derive other features \n",
    "  * OHE features such as  season\n",
    "  * Other derived features? [optional]\n",
    "* Please do feature selection using `SelectKBest` \n",
    "  * See a full section on Feature Selection in Lab04 Notebook for details on how to do this. \n",
    "* Please put all modeling steps (including Feature Selection) in a Pipeline **(NOTE please keep the OHE step separate preprocessing step for this homework)**\n",
    "* Present your experimental results in tabular form\n",
    "  * Describe the linear regression model, number of input features used, MAE, RMSE and MAPE, feature families used (e.g., Baseline features, Season OHE, etc.).\n",
    "* Discuss your best result (in terms of process followed, features used and any other interesting discoveries that you came across). Were the selected features here the same as what you selected in your solution to Section 6? \n"
   ]
  },
  {
   "cell_type": "markdown",
   "metadata": {},
   "source": [
    "## Load data"
   ]
  },
  {
   "cell_type": "markdown",
   "metadata": {},
   "source": [
    "### Reload training data"
   ]
  },
  {
   "cell_type": "code",
   "execution_count": null,
   "metadata": {
    "ExecuteTime": {
     "end_time": "2018-06-19T01:43:46.297553Z",
     "start_time": "2018-06-19T01:43:46.257601Z"
    }
   },
   "outputs": [],
   "source": [
    "train=pd.read_csv('Kaggle-Bike-Sharing-Demand-Challenge/train.csv')\n",
    "train.head(1)"
   ]
  },
  {
   "cell_type": "markdown",
   "metadata": {},
   "source": [
    "### OHE for wather and season; generate time and date features"
   ]
  },
  {
   "cell_type": "code",
   "execution_count": null,
   "metadata": {
    "ExecuteTime": {
     "end_time": "2018-06-19T01:43:46.402270Z",
     "start_time": "2018-06-19T01:43:46.300215Z"
    }
   },
   "outputs": [],
   "source": [
    "train['weather1'] = np.where(train['weather']==1, 1, 0)  #ifelse assignment\n",
    "train['weather2'] = np.where(train['weather']==2, 1, 0)\n",
    "train['weather3'] = np.where(train['weather']==3, 1, 0)\n",
    "train['weather4'] = np.where(train['weather']==4, 1, 0)\n",
    "\n",
    "train['season1'] = np.where(train['season']==1, 1, 0)  #ifelse assignment\n",
    "train['season2'] = np.where(train['season']==2, 1, 0)\n",
    "train['season3'] = np.where(train['season']==3, 1, 0)\n",
    "train['season4'] = np.where(train['season']==4, 1, 0)\n",
    "\n",
    "train[\"hour\"] = [t.hour for t in pd.DatetimeIndex(train.datetime)]\n",
    "train[\"day\"] = [t.dayofweek for t in pd.DatetimeIndex(train.datetime)]\n",
    "train[\"month\"] = [t.month for t in pd.DatetimeIndex(train.datetime)]\n",
    "train['year'] = [t.year for t in pd.DatetimeIndex(train.datetime)]\n",
    "train['year'] = train['year'].map({2011:0, 2012:1}) #OHE: One-hot-encoding (OHE): based \n",
    "\n",
    "# dont forget to drop the original feature\n",
    "train.drop(['season', 'weather', 'datetime'], axis=1, inplace=True)"
   ]
  },
  {
   "cell_type": "markdown",
   "metadata": {},
   "source": [
    "### Separate x, y data and perform train_test_split on training data only"
   ]
  },
  {
   "cell_type": "code",
   "execution_count": null,
   "metadata": {
    "ExecuteTime": {
     "end_time": "2018-06-19T01:43:46.417108Z",
     "start_time": "2018-06-19T01:43:46.405241Z"
    }
   },
   "outputs": [],
   "source": [
    "# define X, y_reg, and y_cas from train\n",
    "# Hint: you may want to drop some columns from train for X\n",
    "#==================================================#\n",
    "#               Your code starts here              #\n",
    "#==================================================#\n",
    "\n",
    "# TODO - change above to\n",
    "# X = ...\n",
    "# y_reg, y_cas = ...\n",
    "#==================================================#\n",
    "#               Your code ends here                #\n",
    "#==================================================#               "
   ]
  },
  {
   "cell_type": "code",
   "execution_count": null,
   "metadata": {
    "ExecuteTime": {
     "end_time": "2018-06-19T01:43:46.431011Z",
     "start_time": "2018-06-19T01:43:46.419593Z"
    }
   },
   "outputs": [],
   "source": [
    "np.random.seed(42)\n",
    "\n",
    "# We can ensure the same split for both targets by setting the same random_state for both splits\n",
    "X_train, X_val, y_train_reg, y_val_reg = train_test_split(X, y_reg, test_size=.3, random_state=0)\n",
    "_, _,           y_train_cas, y_val_cas = train_test_split(X, y_cas, test_size=.3, random_state=0)"
   ]
  },
  {
   "cell_type": "code",
   "execution_count": null,
   "metadata": {},
   "outputs": [],
   "source": [
    "print('Train (x,y):\\t', X_train.shape,'\\t',y_train_reg.shape,'\\t',y_train_cas.shape)\n",
    "print('Validate (x,y):\\t', X_val.shape,'\\t',y_val_reg.shape,'\\t',y_val_cas.shape)"
   ]
  },
  {
   "cell_type": "markdown",
   "metadata": {},
   "source": [
    "## Select K best features registered and casual targets"
   ]
  },
  {
   "cell_type": "code",
   "execution_count": null,
   "metadata": {
    "ExecuteTime": {
     "end_time": "2018-06-19T01:43:46.447230Z",
     "start_time": "2018-06-19T01:43:46.433766Z"
    }
   },
   "outputs": [],
   "source": [
    "from sklearn.feature_selection import SelectKBest, f_regression\n",
    "\n",
    "np.random.seed(42)\n",
    "\n",
    "Kbest_REG = SelectKBest(f_regression, k=7)\n",
    "Kbest_CAS = SelectKBest(f_regression, k=7)\n",
    "#==================================================#\n",
    "#               Your code starts here              #\n",
    "#==================================================#\n",
    "\n",
    "# TODO - change above to\n",
    "# Kbest_REG = ...\n",
    "# Kbest_CAS = ...\n",
    "#==================================================#\n",
    "#               Your code ends here                #\n",
    "#==================================================#               "
   ]
  },
  {
   "cell_type": "markdown",
   "metadata": {},
   "source": [
    "## Fit train data and generate predictions on the \"test\" split of training data"
   ]
  },
  {
   "cell_type": "markdown",
   "metadata": {},
   "source": [
    "Because we used a pipeline, we can easily generate predictions on two targets using the same model"
   ]
  },
  {
   "cell_type": "markdown",
   "metadata": {},
   "source": [
    "### First using Kbest features for registered target"
   ]
  },
  {
   "cell_type": "code",
   "execution_count": null,
   "metadata": {},
   "outputs": [],
   "source": [
    "df_reg = pd.DataFrame({'feature (reg)':X_train.axes[1], \n",
    "                       'F statistic (reg)':Kbest_REG.scores_,\n",
    "                       'p value (reg)':Kbest_REG.pvalues_}).sort_values(by='p value (reg)')\n",
    "df_reg"
   ]
  },
  {
   "cell_type": "markdown",
   "metadata": {},
   "source": [
    "Last two features have p values greater than 0.01, so they will be excluded"
   ]
  },
  {
   "cell_type": "code",
   "execution_count": null,
   "metadata": {
    "ExecuteTime": {
     "end_time": "2018-06-19T01:43:46.471644Z",
     "start_time": "2018-06-19T01:43:46.458641Z"
    }
   },
   "outputs": [],
   "source": [
    "reg_features_used = 16 # based on features witl p value of less than 0.01\n",
    "\n",
    "featureScores = Kbest_REG.scores_\n",
    "pipe_reg = Pipeline([\n",
    "        (\"MinMaxScaler\", MinMaxScaler()),\n",
    "        ('feature_selection', TopFeatureSelector(featureScores, reg_features_used)),\n",
    "        ('linreg', LinearRegression())\n",
    "    ])\n",
    "pipe_reg.fit(X_train, y_train_reg) \n",
    "y_pred_reg = pipe_reg.predict(X_val)\n",
    "y_pred_reg = np.where(y_pred_reg < 0, 0, np.round(y_pred_reg).astype(int))"
   ]
  },
  {
   "cell_type": "markdown",
   "metadata": {},
   "source": [
    "### Then using Kbest features for casual target"
   ]
  },
  {
   "cell_type": "code",
   "execution_count": null,
   "metadata": {},
   "outputs": [],
   "source": [
    "df_cas = pd.DataFrame({'feature (cas)':X_train.axes[1], \n",
    "                       'F statistic (cas)':Kbest_CAS.scores_,\n",
    "                       'p value (cas)':Kbest_CAS.pvalues_}).sort_values(by='p value (cas)')\n",
    "df_cas"
   ]
  },
  {
   "cell_type": "code",
   "execution_count": null,
   "metadata": {
    "ExecuteTime": {
     "end_time": "2018-06-19T01:43:46.485382Z",
     "start_time": "2018-06-19T01:43:46.474155Z"
    }
   },
   "outputs": [],
   "source": [
    "cas_features_used = 17 # based on features with p value of less than 0.01; please verify\n",
    "\n",
    "featureScores = Kbest_CAS.scores_\n",
    "pipe_cas = Pipeline([\n",
    "        (\"MinMaxScaler\", MinMaxScaler()),\n",
    "        ('feature_selection', TopFeatureSelector(featureScores, cas_features_used)),\n",
    "        ('linreg', LinearRegression())\n",
    "    ])\n",
    "pipe_cas.fit(X_train, y_train_cas) \n",
    "y_pred_cas = pipe_cas.predict(X_val)\n",
    "y_pred_cas = np.where(y_pred_cas < 0, 0, np.round(y_pred_cas).astype(int))"
   ]
  },
  {
   "cell_type": "markdown",
   "metadata": {
    "ExecuteTime": {
     "end_time": "2018-06-17T15:57:40.114865Z",
     "start_time": "2018-06-17T15:57:40.111373Z"
    }
   },
   "source": [
    "## Report results"
   ]
  },
  {
   "cell_type": "code",
   "execution_count": null,
   "metadata": {},
   "outputs": [],
   "source": [
    "### Visualize results\n",
    "fig, ax = plt.subplots(1,2,sharey=True)\n",
    "fig.set_figwidth(8)\n",
    "ax[0].hist(y_pred_reg, bins=30)\n",
    "ax[0].set_title('Predictions for registered users')\n",
    "ax[1].hist(y_pred_cas, bins=30)\n",
    "ax[1].set_title('Predictions for casual users');"
   ]
  },
  {
   "cell_type": "code",
   "execution_count": null,
   "metadata": {
    "ExecuteTime": {
     "end_time": "2018-06-19T01:43:46.507927Z",
     "start_time": "2018-06-19T01:43:46.488759Z"
    },
    "scrolled": true
   },
   "outputs": [],
   "source": [
    "#==================================================#\n",
    "#               Your code starts here              #\n",
    "#==================================================#\n",
    "\n",
    "# TODO - change above to\n",
    "# rmse = np.round(..., 3)\n",
    "#==================================================#\n",
    "#               Your code ends here                #\n",
    "#==================================================#\n",
    "mae = np.round(mean_absolute_error(y_val_reg, y_pred_reg), 3)\n",
    "mape = np.round(mean_absolute_percentage_error(y_val_reg, y_pred_reg), 3)\n",
    "expLog.loc[len(expLog)] = ['SKLearn LinReg for \"registered\"', mae, rmse, mape]\n",
    "\n",
    "#==================================================#\n",
    "#               Your code starts here              #\n",
    "#==================================================#\n",
    "# TODO - change above to\n",
    "# rmse = np.round(..., 3)\n",
    "#==================================================#\n",
    "#               Your code ends here                #\n",
    "#==================================================#\n",
    "mae = np.round(mean_absolute_error(y_val_cas, y_pred_cas), 3)\n",
    "mape = np.round(mean_absolute_percentage_error(y_val_cas, y_pred_cas), 3)\n",
    "expLog.loc[len(expLog)] = ['SKLearn LinReg for \"casual\"', mae, rmse, mape]"
   ]
  },
  {
   "cell_type": "markdown",
   "metadata": {},
   "source": [
    "MAPE is undefined for registered and casual models because each includes zeros among the actual (true) target values."
   ]
  },
  {
   "cell_type": "code",
   "execution_count": null,
   "metadata": {
    "ExecuteTime": {
     "end_time": "2018-06-19T01:43:46.523243Z",
     "start_time": "2018-06-19T01:43:46.511123Z"
    }
   },
   "outputs": [],
   "source": [
    "expLog"
   ]
  },
  {
   "cell_type": "markdown",
   "metadata": {},
   "source": [
    "# Core task: bike demand extension 2 (target = log(demand+1))\n",
    "\n",
    "The distribution of the raw `count` feature is very skewed with most values occuring to the left of the count domain. To make this distribution less skewed (and more normal distributed, it is common to take the log of the value + 1 (to avoid log(0)). \n",
    "\n",
    "* log(count+1)\n",
    "* then just do regression as usual\n",
    "* Do NOT forget to take the inverse of the log(count +1) before doing a Kaggle submissions. e.g., np.exp(pred) - 1 to get back to real count scale.\n",
    "\n",
    "Overall, we want you to build a linear regression model (single model will suffice based on the `count` target) using pipelines that builds on what you learned as a solution to the previous section,   and do a Kaggle submission for this Bike Demand prediction problem. In particular, we want you to address (using what you have done previously) the following:\n",
    "\n",
    "* Derive other features \n",
    "  * OHE features such as  season, \n",
    "  * If barplot demand over each hour of the the day, you will notice interesting patterns. E.g., you might be able to  segregate the bike demand in three hourly categories, like the following:\n",
    "\n",
    "      ```\n",
    "         High       : 7-9 and 17-19 hours\n",
    "         Average    : 10-16 hours\n",
    "         Low        : 0-6 and 20-24 hours\n",
    "```\n",
    "* Perform feature selection using `Sequential Backward Selection` algorithm\n",
    "  * See a full section on Sequential Backward Selection for regression in Lab05 Notebook for details on how to do this. \n",
    "* Please put all modeling steps in a Pipeline \n",
    "  * NOTE please keep the OHE step separate preprocessing step for this homework\n",
    "  * Feature Selection can be performed prior to the pipeline or as part of the pipeline. Please discuss what you choose and why.\n",
    "* Present your experimental results in tabular form\n",
    "  * Describe the linear regression model, number of input features used, MAE, RMSE and MAPE, feature familires used (e.g., Baseline features, Season OHE, etc.).\n",
    "* Please do a Kaggle submission with your best linear regression model\n",
    "    * Screenshot your kaggle submission results\n",
    "* Discuss your best result (in terms of process followed, features used and any other interesting discoveries that you came across). Were the selected features here the same as what you selected in your solution to Section 6? \n",
    "\n"
   ]
  },
  {
   "cell_type": "markdown",
   "metadata": {},
   "source": [
    "## Load data"
   ]
  },
  {
   "cell_type": "markdown",
   "metadata": {},
   "source": [
    "### Reload training data"
   ]
  },
  {
   "cell_type": "code",
   "execution_count": null,
   "metadata": {
    "ExecuteTime": {
     "end_time": "2018-06-19T01:43:46.566532Z",
     "start_time": "2018-06-19T01:43:46.525910Z"
    }
   },
   "outputs": [],
   "source": [
    "train=pd.read_csv('Kaggle-Bike-Sharing-Demand-Challenge/train.csv')\n",
    "train.head(1)"
   ]
  },
  {
   "cell_type": "markdown",
   "metadata": {},
   "source": [
    "### OHE for wather and season; generate time and date features"
   ]
  },
  {
   "cell_type": "code",
   "execution_count": null,
   "metadata": {
    "ExecuteTime": {
     "end_time": "2018-06-19T01:43:46.730312Z",
     "start_time": "2018-06-19T01:43:46.569254Z"
    }
   },
   "outputs": [],
   "source": [
    "train['weather1'] = np.where(train['weather']==1, 1, 0)  #ifelse assignment\n",
    "train['weather2'] = np.where(train['weather']==2, 1, 0)\n",
    "train['weather3'] = np.where(train['weather']==3, 1, 0)\n",
    "train['weather4'] = np.where(train['weather']==4, 1, 0)\n",
    "\n",
    "train['season1'] = np.where(train['season']==1, 1, 0)  #ifelse assignment\n",
    "train['season2'] = np.where(train['season']==2, 1, 0)\n",
    "train['season3'] = np.where(train['season']==3, 1, 0)\n",
    "train['season4'] = np.where(train['season']==4, 1, 0)\n",
    "\n",
    "train[\"hour\"] = [t.hour for t in pd.DatetimeIndex(train.datetime)]\n",
    "train[\"day\"] = [t.dayofweek for t in pd.DatetimeIndex(train.datetime)]\n",
    "train[\"month\"] = [t.month for t in pd.DatetimeIndex(train.datetime)]\n",
    "train['year'] = [t.year for t in pd.DatetimeIndex(train.datetime)]\n",
    "train['year'] = train['year'].map({2011:0, 2012:1}) #OHE: One-hot-encoding (OHE): based \n",
    "\n",
    "# dont forget to drop the original feature\n",
    "train.drop(['season', 'weather'], axis=1, inplace=True)"
   ]
  },
  {
   "cell_type": "markdown",
   "metadata": {},
   "source": [
    "### Prepare the train data"
   ]
  },
  {
   "cell_type": "markdown",
   "metadata": {},
   "source": [
    "Separate x, y from the train data and log transform y"
   ]
  },
  {
   "cell_type": "code",
   "execution_count": null,
   "metadata": {
    "ExecuteTime": {
     "end_time": "2018-06-19T01:43:46.741766Z",
     "start_time": "2018-06-19T01:43:46.733060Z"
    }
   },
   "outputs": [],
   "source": [
    "X, y = train.iloc[:, 1:], train['count']\n",
    "X = X.drop(['registered', 'casual', 'count'], axis=1)\n",
    "\n",
    "# transform y\n",
    "#==================================================#\n",
    "#               Your code starts here              #\n",
    "#==================================================#\n",
    "\n",
    "# TODO - change above to\n",
    "# y = ...\n",
    "#==================================================#\n",
    "#               Your code ends here                #\n",
    "#==================================================#               "
   ]
  },
  {
   "cell_type": "markdown",
   "metadata": {},
   "source": [
    "Note that zeros no longer dominate other target values in transformed data"
   ]
  },
  {
   "cell_type": "code",
   "execution_count": null,
   "metadata": {},
   "outputs": [],
   "source": [
    "### Visualize target transformation\n",
    "fig, ax = plt.subplots(1,2,sharey=True)\n",
    "fig.set_figwidth(8)\n",
    "ax[0].hist(train['count'], bins=30)\n",
    "ax[0].set_title('Original targets')\n",
    "ax[1].hist(y, bins=30)\n",
    "ax[1].set_title('Log transformed targets');"
   ]
  },
  {
   "cell_type": "code",
   "execution_count": null,
   "metadata": {
    "ExecuteTime": {
     "end_time": "2018-06-19T01:43:46.752545Z",
     "start_time": "2018-06-19T01:43:46.744408Z"
    }
   },
   "outputs": [],
   "source": [
    "np.random.seed(42)\n",
    "\n",
    "X_train, X_val, y_train, y_val = train_test_split(X, y, test_size=.2, random_state=0)"
   ]
  },
  {
   "cell_type": "markdown",
   "metadata": {
    "ExecuteTime": {
     "end_time": "2018-06-17T12:32:58.476991Z",
     "start_time": "2018-06-17T12:32:58.466350Z"
    }
   },
   "source": [
    "## Sequential Backward Selection"
   ]
  },
  {
   "cell_type": "code",
   "execution_count": null,
   "metadata": {
    "ExecuteTime": {
     "end_time": "2018-06-19T01:43:47.273574Z",
     "start_time": "2018-06-19T01:43:47.156964Z"
    }
   },
   "outputs": [],
   "source": [
    "from sklearn.base import clone\n",
    "from itertools import combinations\n",
    "import numpy as np\n",
    "from sklearn.metrics import accuracy_score\n",
    "from sklearn.model_selection import train_test_split\n",
    "from sklearn.datasets import load_wine\n",
    "\n",
    "class SBS():\n",
    "    def __init__(self, estimator, k_features, scoring=accuracy_score,\n",
    "                 test_size=0.25, random_state=1):\n",
    "        self.scoring = scoring\n",
    "        self.estimator = clone(estimator)\n",
    "        self.k_features = k_features\n",
    "        self.test_size = test_size\n",
    "        self.random_state = random_state\n",
    "\n",
    "    def fit(self, X, y):\n",
    "        \n",
    "        X_train, X_test, y_train, y_test = train_test_split(X, y, test_size=self.test_size,\n",
    "                             random_state=self.random_state)\n",
    "        \n",
    "        print(X_train.shape, y_train.shape)\n",
    "        print(X_test.shape, y_test.shape)\n",
    "        dim = X_train.shape[1]\n",
    "        self.indices_ = list(range(dim))\n",
    "        self.subsets_ = [self.indices_]\n",
    "        score = self._calc_score(X_train, y_train, \n",
    "                                 X_test, y_test, self.indices_)\n",
    "        self.scores_ = [score]\n",
    "\n",
    "        while dim > self.k_features:\n",
    "            scores = []\n",
    "            subsets = []\n",
    "\n",
    "            for p in combinations(self.indices_, r=dim - 1):\n",
    "                score = self._calc_score(X_train, y_train, \n",
    "                                         X_test, y_test, list(p))\n",
    "                scores.append(score)\n",
    "                subsets.append(p)\n",
    "\n",
    "            best = np.argmax(scores)\n",
    "            self.indices_ = subsets[best]\n",
    "            self.subsets_.append(self.indices_)\n",
    "            dim -= 1\n",
    "\n",
    "            self.scores_.append(scores[best])\n",
    "        self.k_score_ = self.scores_[-1]\n",
    "\n",
    "        return self\n",
    "\n",
    "    def transform(self, X):\n",
    "        return X[:, self.indices_]\n",
    "\n",
    "    def _calc_score(self, X_train, y_train, X_test, y_test, indices):\n",
    "        self.estimator.fit(X_train.iloc[:, indices], y_train)\n",
    "        y_pred = self.estimator.predict(X_test.iloc[:, indices])\n",
    "        score = self.scoring(y_test, y_pred)\n",
    "        return score"
   ]
  },
  {
   "cell_type": "code",
   "execution_count": null,
   "metadata": {},
   "outputs": [],
   "source": [
    "from sklearn.metrics import explained_variance_score\n",
    "\n",
    "np.random.seed(42)\n",
    "\n",
    "# set up SBS: use linear regression estimator with default parameters\n",
    "#==================================================#\n",
    "#               Your code starts here              #\n",
    "#==================================================#\n",
    "\n",
    "# TODO - change above to\n",
    "# lr = ...\n",
    "# sbs = SBS(lr, ...)\n",
    "#==================================================#\n",
    "#               Your code ends here                #\n",
    "#==================================================#               \n",
    "\n",
    "sbs.fit(X_train, y_train)"
   ]
  },
  {
   "cell_type": "markdown",
   "metadata": {},
   "source": [
    "Beyond 5 features there is not much additional benefit in terms of explained variance."
   ]
  },
  {
   "cell_type": "code",
   "execution_count": null,
   "metadata": {
    "ExecuteTime": {
     "end_time": "2018-06-19T01:43:47.727177Z",
     "start_time": "2018-06-19T01:43:47.276384Z"
    }
   },
   "outputs": [],
   "source": [
    "# plotting performance of feature subsets\n",
    "k_feat = [len(k) for k in sbs.subsets_]\n",
    "\n",
    "#plot places the points on the graph using the number of features (no need to sort!)\n",
    "plt.plot(k_feat, sbs.scores_, marker='o')  \n",
    "plt.xticks(k_feat)\n",
    "plt.ylim([0.0, 1.02])\n",
    "plt.title(\"Sequential Backward Selection\")\n",
    "plt.ylabel('explained_variance_score on validation set')\n",
    "plt.xlabel(r'number of features')"
   ]
  },
  {
   "cell_type": "markdown",
   "metadata": {},
   "source": [
    "Modify TopFeatureSelector to select the k-th subset our SBS object"
   ]
  },
  {
   "cell_type": "code",
   "execution_count": null,
   "metadata": {},
   "outputs": [],
   "source": [
    "class SBSFeatureSelector(BaseEstimator, TransformerMixin):\n",
    "    def __init__(self, subsets, k):\n",
    "        self.subsets = subsets\n",
    "        self.k = k\n",
    "    def fit(self, X, y=None):\n",
    "        self.feature_indices_ = sbs.subsets_[len(self.subsets)-self.k]  # pull the k-th subset from the end\n",
    "        return self\n",
    "    # select the columns of data matrix of the selected input features \n",
    "    def transform(self, X):\n",
    "        return X[:, self.feature_indices_]"
   ]
  },
  {
   "cell_type": "markdown",
   "metadata": {},
   "source": [
    "## Build a regression model (with a Pipeline)"
   ]
  },
  {
   "cell_type": "code",
   "execution_count": null,
   "metadata": {},
   "outputs": [],
   "source": [
    "np.random.seed(42)\n",
    "\n",
    "# set up the pipeline with scaler, SBS selector, and estimator\n",
    "# use k=5\n",
    "#==================================================#\n",
    "#               Your code starts here              #\n",
    "#==================================================#\n",
    "\n",
    "# TODO - change above to\n",
    "# pipe = ...\n",
    "#==================================================#\n",
    "#               Your code ends here                #\n",
    "#==================================================#    \n",
    "\n",
    "pipe.fit(X_train, y_train)"
   ]
  },
  {
   "cell_type": "markdown",
   "metadata": {},
   "source": [
    "### Generate predictions"
   ]
  },
  {
   "cell_type": "code",
   "execution_count": null,
   "metadata": {
    "ExecuteTime": {
     "end_time": "2018-06-19T01:43:47.748545Z",
     "start_time": "2018-06-19T01:43:47.742914Z"
    }
   },
   "outputs": [],
   "source": [
    "y_val_pred = pipe.predict(X_val)"
   ]
  },
  {
   "cell_type": "markdown",
   "metadata": {},
   "source": [
    "### Present results"
   ]
  },
  {
   "cell_type": "code",
   "execution_count": null,
   "metadata": {
    "ExecuteTime": {
     "end_time": "2018-06-19T01:43:47.762877Z",
     "start_time": "2018-06-19T01:43:47.751101Z"
    }
   },
   "outputs": [],
   "source": [
    "mae = np.round(mean_absolute_error(y_val, y_val_pred), 3)\n",
    "rmse = np.round(np.sqrt(mean_squared_error(y_val, y_val_pred)), 3)\n",
    "#==================================================#\n",
    "#               Your code starts here              #\n",
    "#==================================================#\n",
    "\n",
    "# TODO - change above to\n",
    "# mape = np.round(..., 3)\n",
    "#==================================================#\n",
    "#               Your code ends here                #\n",
    "#==================================================#\n",
    "expLog.loc[len(expLog)] = ['SKLearn LinReg SBS=5 Log Targets', mae, rmse, mape]"
   ]
  },
  {
   "cell_type": "code",
   "execution_count": null,
   "metadata": {
    "ExecuteTime": {
     "end_time": "2018-06-19T01:43:47.777510Z",
     "start_time": "2018-06-19T01:43:47.765574Z"
    }
   },
   "outputs": [],
   "source": [
    "expLog"
   ]
  },
  {
   "cell_type": "markdown",
   "metadata": {},
   "source": [
    "## Prepare a Kaggle submisison"
   ]
  },
  {
   "cell_type": "markdown",
   "metadata": {},
   "source": [
    "### Load and preprocess Kaggle test data"
   ]
  },
  {
   "cell_type": "code",
   "execution_count": null,
   "metadata": {
    "ExecuteTime": {
     "end_time": "2018-06-19T01:43:47.798122Z",
     "start_time": "2018-06-19T01:43:47.780343Z"
    }
   },
   "outputs": [],
   "source": [
    "test=pd.read_csv('./Kaggle-Bike-Sharing-Demand-Challenge/test.csv')"
   ]
  },
  {
   "cell_type": "code",
   "execution_count": null,
   "metadata": {
    "ExecuteTime": {
     "end_time": "2018-06-19T01:43:47.815636Z",
     "start_time": "2018-06-19T01:43:47.800873Z"
    }
   },
   "outputs": [],
   "source": [
    "# Create a new column called df.weather1 where the value is 1\n",
    "# if df.weather is 1 and 0 if not\n",
    "test['weather1'] = np.where(test['weather']==1, 1, 0)  #ifelse assignment\n",
    "test['weather2'] = np.where(test['weather']==2, 1, 0)\n",
    "test['weather3'] = np.where(test['weather']==3, 1, 0)\n",
    "test['weather4'] = np.where(test['weather']==4, 1, 0)\n",
    "\n",
    "# dont forget to drop the original feature\n",
    "test.drop(['weather'], axis=1, inplace=True)"
   ]
  },
  {
   "cell_type": "code",
   "execution_count": null,
   "metadata": {
    "ExecuteTime": {
     "end_time": "2018-06-19T01:43:47.833714Z",
     "start_time": "2018-06-19T01:43:47.818812Z"
    }
   },
   "outputs": [],
   "source": [
    "# Create a new column called df.season1 where the value is 1\n",
    "# if df.season is 1 and 0 if not\n",
    "test['season1'] = np.where(test['season']==1, 1, 0)  #ifelse assignment\n",
    "test['season2'] = np.where(test['season']==2, 1, 0)\n",
    "test['season3'] = np.where(test['season']==3, 1, 0)\n",
    "test['season4'] = np.where(test['season']==4, 1, 0)\n",
    "\n",
    "# dont forget to drop the original feature\n",
    "test.drop(['season'], axis=1, inplace=True)"
   ]
  },
  {
   "cell_type": "code",
   "execution_count": null,
   "metadata": {
    "ExecuteTime": {
     "end_time": "2018-06-19T01:43:47.888310Z",
     "start_time": "2018-06-19T01:43:47.836628Z"
    }
   },
   "outputs": [],
   "source": [
    "test[\"hour\"] = [t.hour for t in pd.DatetimeIndex(test.datetime)]\n",
    "test[\"day\"] = [t.dayofweek for t in pd.DatetimeIndex(test.datetime)]\n",
    "test[\"month\"] = [t.month for t in pd.DatetimeIndex(test.datetime)]\n",
    "test['year'] = [t.year for t in pd.DatetimeIndex(test.datetime)]\n",
    "test['year'] = test['year'].map({2011:0, 2012:1})"
   ]
  },
  {
   "cell_type": "code",
   "execution_count": null,
   "metadata": {
    "ExecuteTime": {
     "end_time": "2018-06-19T01:43:47.896890Z",
     "start_time": "2018-06-19T01:43:47.891184Z"
    }
   },
   "outputs": [],
   "source": [
    "X_test = test.iloc[:,1:]"
   ]
  },
  {
   "cell_type": "markdown",
   "metadata": {},
   "source": [
    "### Generate predictions using pipeline and best features (as determined by SBS) only"
   ]
  },
  {
   "cell_type": "markdown",
   "metadata": {},
   "source": [
    "#### Generate predictions"
   ]
  },
  {
   "cell_type": "code",
   "execution_count": null,
   "metadata": {
    "ExecuteTime": {
     "end_time": "2018-06-19T01:43:47.906488Z",
     "start_time": "2018-06-19T01:43:47.900193Z"
    }
   },
   "outputs": [],
   "source": [
    "y_pred_log = pipe.predict(X_test)"
   ]
  },
  {
   "cell_type": "markdown",
   "metadata": {},
   "source": [
    "#### Transform back to original scale and integer values (counts)"
   ]
  },
  {
   "cell_type": "code",
   "execution_count": null,
   "metadata": {
    "ExecuteTime": {
     "end_time": "2018-06-19T01:43:47.913154Z",
     "start_time": "2018-06-19T01:43:47.909075Z"
    }
   },
   "outputs": [],
   "source": [
    "#==================================================#\n",
    "#               Your code starts here              #\n",
    "#==================================================#\n",
    "\n",
    "# TODO - change above to\n",
    "# y_pred = ...\n",
    "#==================================================#\n",
    "#               Your code ends here                #\n",
    "#==================================================#    "
   ]
  },
  {
   "cell_type": "code",
   "execution_count": null,
   "metadata": {
    "ExecuteTime": {
     "end_time": "2018-06-19T01:43:48.301798Z",
     "start_time": "2018-06-19T01:43:47.915431Z"
    }
   },
   "outputs": [],
   "source": [
    "# Compare original target distribution with log transformed distribution\n",
    "\n",
    "plt.figure(figsize=(10,4))\n",
    "plt.subplot(121)\n",
    "n, bins, patches = plt.hist(y_pred, 50)\n",
    "plt.xlabel('Bike rental count buckets')\n",
    "plt.ylabel('Frequency of this count bucker')\n",
    "plt.title(r'Histogram of bike rental counts (final predictions)')\n",
    "plt.grid(True)\n",
    "plt.subplot(122)\n",
    "n, bins, patches = plt.hist(y_pred_log, 50)\n",
    "\n",
    "plt.xlabel('Bike rental count buckets')\n",
    "plt.ylabel('Frequency of this count bucker')\n",
    "plt.title(r'Histogram of bike rental counts (log_transformed predictions)')\n",
    "plt.grid(True)\n",
    "plt.show()"
   ]
  },
  {
   "cell_type": "markdown",
   "metadata": {},
   "source": [
    "### Present Kaggle predictions in the format required for submission"
   ]
  },
  {
   "cell_type": "code",
   "execution_count": null,
   "metadata": {
    "ExecuteTime": {
     "end_time": "2018-06-19T01:43:48.308374Z",
     "start_time": "2018-06-19T01:43:48.304672Z"
    }
   },
   "outputs": [],
   "source": [
    "# create dataframe in the form expected by Kaggle\n",
    "df_submit = pd.DataFrame({'datetime':test['datetime'],'count':y_pred})\n",
    "df_submit = df_submit[['datetime','count']]\n",
    "# Hint: use head()\n",
    "#==================================================#\n",
    "#               Your code starts here              #\n",
    "#==================================================#\n",
    "\n",
    "# TODO - change above to\n",
    "# ...\n",
    "#==================================================#\n",
    "#               Your code ends here                #\n",
    "#==================================================#\n"
   ]
  },
  {
   "cell_type": "code",
   "execution_count": null,
   "metadata": {
    "ExecuteTime": {
     "end_time": "2018-06-19T01:43:48.358523Z",
     "start_time": "2018-06-19T01:43:48.340666Z"
    }
   },
   "outputs": [],
   "source": [
    "df_submit.to_csv('bike4.csv', index=False)"
   ]
  },
  {
   "cell_type": "markdown",
   "metadata": {},
   "source": [
    "#  Core task: bike demand extension 3 (LR +  Regularization)\n",
    "\n",
    "## L1 and L2 regularization for Linear Regression\n",
    "Regularization is a way of penalizing the model for excessive complexity, and this helps reduce the risk of  overfitting.\n",
    "\n",
    "There are many ways of doing regularization but these two are the major ones:\n",
    "* **L2-regularization:**\n",
    "$$\n",
    "f(\\mathbf{w}, b) = \\frac{1}{n}\\sum_{i=1}^{n}\\left[ (\\mathbf{w}\\cdot\\mathbf{x}_i + b) - y_i\\right]^2 + \\lambda \\sum_{j=1}^{m}w_j^2\n",
    "$$\n",
    "or in matrix way:\n",
    "$$\n",
    "f(\\mathbf{w}, b) = \\|\\text{X}\\cdot\\mathbf{w} + b\\cdot\\mathbf{1}_n - \\mathbf{y}\\|_2^2 + \\lambda \\|\\mathbf{w}\\|_2^2\n",
    "$$\n",
    "* **L1-regularization:**\n",
    "$$\n",
    "f(\\mathbf{w}, b) = \\frac{1}{n}\\sum_{i=1}^{n}\\left[ (\\mathbf{w}\\cdot\\mathbf{x}_i + b) - y_i\\right]^2 + \\lambda \\sum_{j=1}^{m}|w_j|\n",
    "$$\n",
    "or in matrix way:\n",
    "$$\n",
    "f(\\mathbf{w}, b) = \\|\\text{X}\\cdot\\mathbf{w} + b\\cdot\\mathbf{1}_n - \\mathbf{y}\\|_2^2 + \\lambda \\|\\mathbf{w}\\|_1\n",
    "$$\n",
    "\n",
    "Use SKLearn Ridge and LASSO linear regression classes to perform feature selection. Use gridsearch to determine best value for $\\alpha$ the mixing coefficent associated with the penalty term in regularized linear regression.\n",
    "\n",
    "* Please put all modeling steps in a Pipeline\n",
    "* NOTE please keep the OHE step separate preprocessing step for this homework\n",
    "* Present your experimental results in tabular form\n",
    "* Describe the linear regression model, number of input features used, MAE, RMSE and MAPE, feature familires used (e.g., Baseline features, Season OHE, etc.).\n",
    "* Please do a Kaggle submission with your best linear regression model\n",
    "    * Screenshot your kaggle submission results\n",
    "* Discuss your best result (in terms of process followed, features used and any other interesting discoveries that you came across). Were the selected features here the same as what you selected in your solution to Section 8?"
   ]
  },
  {
   "cell_type": "markdown",
   "metadata": {
    "ExecuteTime": {
     "end_time": "2018-06-17T16:03:38.907695Z",
     "start_time": "2018-06-17T16:03:38.904677Z"
    }
   },
   "source": [
    "## Reload and restore the training data"
   ]
  },
  {
   "cell_type": "code",
   "execution_count": null,
   "metadata": {
    "ExecuteTime": {
     "end_time": "2018-06-19T01:43:48.570111Z",
     "start_time": "2018-06-19T01:43:48.360848Z"
    }
   },
   "outputs": [],
   "source": [
    "train=pd.read_csv('Kaggle-Bike-Sharing-Demand-Challenge/train.csv')\n",
    "\n",
    "train['weather1'] = np.where(train['weather']==1, 1, 0)  #ifelse assignment\n",
    "train['weather2'] = np.where(train['weather']==2, 1, 0)\n",
    "train['weather3'] = np.where(train['weather']==3, 1, 0)\n",
    "train['weather4'] = np.where(train['weather']==4, 1, 0)\n",
    "\n",
    "train['season1'] = np.where(train['season']==1, 1, 0)  #ifelse assignment\n",
    "train['season2'] = np.where(train['season']==2, 1, 0)\n",
    "train['season3'] = np.where(train['season']==3, 1, 0)\n",
    "train['season4'] = np.where(train['season']==4, 1, 0)\n",
    "\n",
    "train[\"hour\"] = [t.hour for t in pd.DatetimeIndex(train.datetime)]\n",
    "train[\"day\"] = [t.dayofweek for t in pd.DatetimeIndex(train.datetime)]\n",
    "train[\"month\"] = [t.month for t in pd.DatetimeIndex(train.datetime)]\n",
    "train['year'] = [t.year for t in pd.DatetimeIndex(train.datetime)]\n",
    "train['year'] = train['year'].map({2011:0, 2012:1}) #OHE: One-hot-encoding (OHE): based \n",
    "\n",
    "# dont forget to drop the original feature\n",
    "train.drop(['season', 'weather'], axis=1, inplace=True)\n",
    "\n",
    "X, y = train.iloc[:, 1:], train['count']\n",
    "X = X.drop(['registered', 'casual', 'count'], axis=1)\n",
    "\n",
    "np.random.seed(42)\n",
    "\n",
    "X_train, X_test, y_train, y_test = train_test_split(X, y, test_size=.3, random_state=0)"
   ]
  },
  {
   "cell_type": "markdown",
   "metadata": {},
   "source": [
    "## Build GridSearch pipeline to compare alpha combinations using Ridge and Lasso "
   ]
  },
  {
   "cell_type": "code",
   "execution_count": null,
   "metadata": {
    "ExecuteTime": {
     "end_time": "2018-06-19T01:43:48.576981Z",
     "start_time": "2018-06-19T01:43:48.572360Z"
    }
   },
   "outputs": [],
   "source": [
    "from sklearn.linear_model import Ridge\n",
    "from sklearn.linear_model import Lasso\n",
    "from sklearn.model_selection import GridSearchCV"
   ]
  },
  {
   "cell_type": "code",
   "execution_count": null,
   "metadata": {
    "ExecuteTime": {
     "end_time": "2018-06-19T01:43:49.656229Z",
     "start_time": "2018-06-19T01:43:48.579079Z"
    }
   },
   "outputs": [],
   "source": [
    "np.random.seed(42)\n",
    "\n",
    "estimators = [('ridge', Ridge()),\n",
    "              ('lasso', Lasso())]\n",
    "\n",
    "best_score = []\n",
    "best_param = []\n",
    "for estimator in estimators:\n",
    "    params = {estimator[0]+'__alpha':[.01, .05, .1, .5, 1, 5]}\n",
    "    # set up the pipeline using the standard scaler and estimator\n",
    "    # and grid search with pipeline, params, \n",
    "    # and correct scoring parameter (scoring parameter has to be a utility- where bigger is better \n",
    "    # such as neg_mean_squared_error, explained_variance etc. )\n",
    "    # for more information see the following - \n",
    "    #     https://scikit-learn.org/stable/modules/model_evaluation.html#scoring-parameter\n",
    "    # Please use neg_mean_squared_error here.\n",
    "    #==================================================#\n",
    "    #               Your code starts here              #\n",
    "    #==================================================#\n",
    " \n",
    "    # TODO - change above to\n",
    "    # pipe = ...\n",
    "    # gs = GridSearchCV(..., cv=5)\n",
    "    #==================================================#\n",
    "    #               Your code ends here                #\n",
    "    #==================================================#\n",
    "    \n",
    "    gs.fit(X_train, y_train)\n",
    "    best_score.append(gs.best_score_)\n",
    "    best_param.append(gs.best_params_)\n",
    "best_idx = np.argmax(best_score)\n",
    "print('Best model is:', estimators[best_idx][0], 'with parameter', best_param[best_idx])"
   ]
  },
  {
   "cell_type": "markdown",
   "metadata": {},
   "source": [
    "## Generate predictions using best combination and report results in table"
   ]
  },
  {
   "cell_type": "code",
   "execution_count": null,
   "metadata": {},
   "outputs": [],
   "source": [
    "list(best_param[best_idx].values())[0]"
   ]
  },
  {
   "cell_type": "code",
   "execution_count": null,
   "metadata": {
    "ExecuteTime": {
     "end_time": "2018-06-19T01:43:49.689095Z",
     "start_time": "2018-06-19T01:43:49.658521Z"
    }
   },
   "outputs": [],
   "source": [
    "#estimator = estimators[best_idx][0], list(best_param[best_idx].values())[0])\n",
    "estimator = [Ridge, Lasso][best_idx]\n",
    "param = list(gs.best_params_.values())[0]\n",
    "print (param)\n",
    "# set up the pipeline using the best estimator\n",
    "pipe = Pipeline([('scalar', StandardScaler()), ('estimator', estimator(alpha=param))])\n",
    "pipe.fit(X_train, y_train)"
   ]
  },
  {
   "cell_type": "code",
   "execution_count": null,
   "metadata": {
    "ExecuteTime": {
     "end_time": "2018-06-19T01:43:49.697618Z",
     "start_time": "2018-06-19T01:43:49.692049Z"
    }
   },
   "outputs": [],
   "source": [
    "y_pred = pipe.predict(X_test)"
   ]
  },
  {
   "cell_type": "code",
   "execution_count": null,
   "metadata": {
    "ExecuteTime": {
     "end_time": "2018-06-19T01:43:49.713287Z",
     "start_time": "2018-06-19T01:43:49.700712Z"
    }
   },
   "outputs": [],
   "source": [
    "mae = np.round(mean_absolute_error(y_pred, y_test), 3)\n",
    "rmse = np.round(np.sqrt(mean_squared_error(y_pred, y_test)), 3)\n",
    "#==================================================#\n",
    "#               Your code starts here              #\n",
    "#==================================================#\n",
    "\n",
    "# TODO - change above to\n",
    "# mape = np.round(..., 3)\n",
    "#==================================================#\n",
    "#               Your code ends here                #\n",
    "#==================================================#\n",
    "expLog.loc[len(expLog)] = ['SKLearn Linear Regression GS (best regularization and alpha)', mae, rmse, mape]"
   ]
  },
  {
   "cell_type": "code",
   "execution_count": null,
   "metadata": {
    "ExecuteTime": {
     "end_time": "2018-06-19T01:43:49.729470Z",
     "start_time": "2018-06-19T01:43:49.716021Z"
    }
   },
   "outputs": [],
   "source": [
    "expLog"
   ]
  },
  {
   "cell_type": "markdown",
   "metadata": {
    "ExecuteTime": {
     "end_time": "2018-06-17T16:56:07.743991Z",
     "start_time": "2018-06-17T16:56:07.740454Z"
    }
   },
   "source": [
    "## Prepare a Kaggle submission"
   ]
  },
  {
   "cell_type": "markdown",
   "metadata": {},
   "source": [
    "### Load and preprocess Kaggle test data"
   ]
  },
  {
   "cell_type": "code",
   "execution_count": null,
   "metadata": {
    "ExecuteTime": {
     "end_time": "2018-06-19T01:43:49.756046Z",
     "start_time": "2018-06-19T01:43:49.732993Z"
    }
   },
   "outputs": [],
   "source": [
    "test=pd.read_csv('./Kaggle-Bike-Sharing-Demand-Challenge/test.csv')"
   ]
  },
  {
   "cell_type": "code",
   "execution_count": null,
   "metadata": {
    "ExecuteTime": {
     "end_time": "2018-06-19T01:43:49.870884Z",
     "start_time": "2018-06-19T01:43:49.759540Z"
    }
   },
   "outputs": [],
   "source": [
    "# Create a new column called df.weather1 where the value is 1\n",
    "# if df.weather is 1 and 0 if not\n",
    "test['weather1'] = np.where(test['weather']==1, 1, 0)  #ifelse assignment\n",
    "test['weather2'] = np.where(test['weather']==2, 1, 0)\n",
    "test['weather3'] = np.where(test['weather']==3, 1, 0)\n",
    "test['weather4'] = np.where(test['weather']==4, 1, 0)\n",
    "\n",
    "# dont forget to drop the original feature\n",
    "test.drop(['weather'], axis=1, inplace=True)\n",
    "\n",
    "# Create a new column called df.season1 where the value is 1\n",
    "# if df.season is 1 and 0 if not\n",
    "test['season1'] = np.where(test['season']==1, 1, 0)  #ifelse assignment\n",
    "test['season2'] = np.where(test['season']==2, 1, 0)\n",
    "test['season3'] = np.where(test['season']==3, 1, 0)\n",
    "test['season4'] = np.where(test['season']==4, 1, 0)\n",
    "\n",
    "# dont forget to drop the original feature\n",
    "test.drop(['season'], axis=1, inplace=True)\n",
    "\n",
    "test[\"hour\"] = [t.hour for t in pd.DatetimeIndex(test.datetime)]\n",
    "test[\"day\"] = [t.dayofweek for t in pd.DatetimeIndex(test.datetime)]\n",
    "test[\"month\"] = [t.month for t in pd.DatetimeIndex(test.datetime)]\n",
    "test['year'] = [t.year for t in pd.DatetimeIndex(test.datetime)]\n",
    "test['year'] = test['year'].map({2011:0, 2012:1})\n",
    "\n",
    "X_test = test.iloc[:,1:]"
   ]
  },
  {
   "cell_type": "markdown",
   "metadata": {},
   "source": [
    "### Generate predictions using best regularization pipeline"
   ]
  },
  {
   "cell_type": "code",
   "execution_count": null,
   "metadata": {
    "ExecuteTime": {
     "end_time": "2018-06-19T01:43:49.879006Z",
     "start_time": "2018-06-19T01:43:49.873534Z"
    }
   },
   "outputs": [],
   "source": [
    "y_pred = pipe.predict(X_test)\n",
    "y_pred = np.where(y_pred < 0, 0, np.round(y_pred).astype(int))"
   ]
  },
  {
   "cell_type": "code",
   "execution_count": null,
   "metadata": {},
   "outputs": [],
   "source": [
    "plt.hist(y_pred, bins=30);"
   ]
  },
  {
   "cell_type": "code",
   "execution_count": null,
   "metadata": {
    "ExecuteTime": {
     "end_time": "2018-06-19T01:43:49.889846Z",
     "start_time": "2018-06-19T01:43:49.881590Z"
    },
    "scrolled": true
   },
   "outputs": [],
   "source": [
    "df_submit = pd.DataFrame({'datetime':test['datetime'],'count':y_pred})\n",
    "df_submit = df_submit[['datetime','count']]\n",
    "df_submit.head(10)"
   ]
  },
  {
   "cell_type": "markdown",
   "metadata": {},
   "source": [
    "Why didn't we use feature selection for this problem?"
   ]
  },
  {
   "cell_type": "code",
   "execution_count": null,
   "metadata": {},
   "outputs": [],
   "source": [
    "print(f\"The winning pipeline:\\n {pipe}\")"
   ]
  },
  {
   "cell_type": "markdown",
   "metadata": {},
   "source": [
    "#### pipeline.named_steps\n",
    "Get access to the internals of the pipeline using the following:\n",
    "\n",
    "`pipe.named_steps.estimator.coef_`\n"
   ]
  },
  {
   "cell_type": "code",
   "execution_count": null,
   "metadata": {
    "ExecuteTime": {
     "end_time": "2018-06-19T01:43:50.308199Z",
     "start_time": "2018-06-19T01:43:50.302338Z"
    }
   },
   "outputs": [],
   "source": [
    "# note that Lasso regularization zeroed out several of the features \n",
    "print(f\"note that Lasso regularization zeroed out several of the features :\\n{pipe.named_steps.estimator.coef_}\")"
   ]
  },
  {
   "cell_type": "markdown",
   "metadata": {},
   "source": [
    "# Core Task: Diabetes Progression Regression (with pipeline-based derived features and feature selection)\n",
    "\n",
    "\n",
    "This section provides all the data and code. Please run all cells in this section and  respond to the questions included here. Feel free to modify the code once you have completed the tasks, amd experiment with new settings.\n",
    "\n",
    "\n",
    "## Introducing the problem dataset\n",
    "Predict diabetes progression one year after baseline using patient information and tests such as:\n",
    "*     Age\n",
    "*     Sex\n",
    "*     Body mass index\n",
    "*     Average blood pressure\n",
    "*     S1\n",
    "*     S2\n",
    "*     S3\n",
    "*     S4\n",
    "*     S5\n",
    "*     S6\n"
   ]
  },
  {
   "cell_type": "markdown",
   "metadata": {},
   "source": [
    "## Load the dataset"
   ]
  },
  {
   "cell_type": "code",
   "execution_count": null,
   "metadata": {},
   "outputs": [],
   "source": [
    "import numpy as np\n",
    "import pandas as pd\n",
    "\n",
    "from sklearn.datasets import load_diabetes\n",
    "from sklearn.model_selection import train_test_split\n",
    "from sklearn.model_selection import KFold\n",
    "from sklearn.preprocessing import MinMaxScaler\n",
    "from sklearn.linear_model import LinearRegression\n",
    "from sklearn.metrics import mean_absolute_error, mean_squared_error\n",
    "\n",
    "import matplotlib\n",
    "import matplotlib.pyplot as plt\n",
    "import seaborn as sns\n",
    "\n",
    "%matplotlib inline\n",
    "\n",
    "sns.set(style=\"whitegrid\", font_scale=1.3)\n",
    "matplotlib.rcParams[\"legend.framealpha\"] = 1\n",
    "matplotlib.rcParams[\"legend.frameon\"] = True"
   ]
  },
  {
   "cell_type": "code",
   "execution_count": null,
   "metadata": {},
   "outputs": [],
   "source": [
    "## "
   ]
  },
  {
   "cell_type": "code",
   "execution_count": null,
   "metadata": {},
   "outputs": [],
   "source": [
    "diabetes = load_diabetes()\n",
    "print(diabetes.DESCR)"
   ]
  },
  {
   "cell_type": "markdown",
   "metadata": {},
   "source": [
    "## Exploratory data analysis\n",
    "Perform EDA through visualizing the data and also do other statistical analysis."
   ]
  },
  {
   "cell_type": "markdown",
   "metadata": {},
   "source": [
    "Note that we shift the X data to make it all positive.  It doesn't affect the results, but some of the subsequent algorithms only work with positive data"
   ]
  },
  {
   "cell_type": "code",
   "execution_count": null,
   "metadata": {},
   "outputs": [],
   "source": [
    "X = pd.DataFrame(diabetes.data, columns=diabetes.feature_names) \n",
    "y = diabetes.target\n",
    "X.head()"
   ]
  },
  {
   "cell_type": "code",
   "execution_count": null,
   "metadata": {},
   "outputs": [],
   "source": [
    "X.describe() # Let's also take a look into correlation matrix of features"
   ]
  },
  {
   "cell_type": "markdown",
   "metadata": {},
   "source": [
    "Let's also take a look into correlation matrix of features"
   ]
  },
  {
   "cell_type": "code",
   "execution_count": null,
   "metadata": {},
   "outputs": [],
   "source": [
    "# compute the correlation matrix\n",
    "X_y = pd.DataFrame(np.c_[diabetes.data, diabetes.target], columns = diabetes.feature_names + [\"diabetesProg\"])\n",
    "# NOTE: np.c_[diabetes.data, diabetes.target] append vector to matrix \n",
    "corr = X_y.corr()\n",
    "corr"
   ]
  },
  {
   "cell_type": "markdown",
   "metadata": {},
   "source": [
    "### Compute the correlation matrix between all inputs and the output\n"
   ]
  },
  {
   "cell_type": "code",
   "execution_count": null,
   "metadata": {},
   "outputs": [],
   "source": [
    "# compute the correlation matrix\n",
    "X_y = pd.DataFrame(np.c_[diabetes.data, diabetes.target], columns = diabetes.feature_names + [\"diabetesProg\"])\n",
    "# NOTE: np.c_[diabetes.data, diabetes.target] append vector to matrix \n",
    "corr = X_y.corr()\n",
    "\n",
    "# generate a mask for the lower triangle\n",
    "mask = np.zeros_like(corr, dtype=np.bool)\n",
    "mask[np.triu_indices_from(mask)] = True\n",
    "\n",
    "# set up the matplotlib figure\n",
    "f, ax = plt.subplots(figsize=(18, 18))\n",
    "\n",
    "# generate a custom diverging colormap\n",
    "cmap = sns.diverging_palette(220, 11, as_cmap=True)\n",
    "\n",
    "# draw the heatmap with the mask and correct aspect ratio\n",
    "sns.heatmap(corr, mask=mask, cmap=cmap, vmax=.3,\n",
    "            square=True, \n",
    "            linewidths=.5, cbar_kws={\"shrink\": .5}, ax=ax);"
   ]
  },
  {
   "cell_type": "markdown",
   "metadata": {},
   "source": [
    "### Visualize the data pairwise using the seaborn's `pairplot()`"
   ]
  },
  {
   "cell_type": "code",
   "execution_count": null,
   "metadata": {},
   "outputs": [],
   "source": [
    "from sklearn import datasets\n",
    "import numpy as np\n",
    "\n",
    "diabetes = datasets.load_diabetes()\n",
    "# iris = datasets.load_iris()\n",
    "#X = iris.data[:, [2, 3]]\n",
    "#y = iris.target\n",
    "type(y)\n",
    "diabetes_i_o_matrix = np.c_[diabetes.data, diabetes.target]  #append vector to matrix \n",
    "df = pd.DataFrame(diabetes_i_o_matrix, columns=diabetes.feature_names + [\"diabetesProg\"])\n",
    "  \n",
    "sns.pairplot(df, kind=\"reg\")\n",
    "df.head()"
   ]
  },
  {
   "cell_type": "markdown",
   "metadata": {},
   "source": [
    "## Split data into Train and Test"
   ]
  },
  {
   "cell_type": "markdown",
   "metadata": {},
   "source": [
    "Split data into 70% training and 30% test data. GridSearch uses crossfold validation. Therefore we do not need a validation set."
   ]
  },
  {
   "cell_type": "code",
   "execution_count": null,
   "metadata": {},
   "outputs": [],
   "source": [
    "type(X)  #data stored in a numpy.ndarray"
   ]
  },
  {
   "cell_type": "code",
   "execution_count": null,
   "metadata": {
    "ExecuteTime": {
     "end_time": "2018-08-17T00:29:16.985079Z",
     "start_time": "2018-08-17T00:29:16.927956Z"
    }
   },
   "outputs": [],
   "source": [
    "from sklearn.model_selection import train_test_split\n",
    "from sklearn import datasets\n",
    "import numpy as np\n",
    "\n",
    "ds = datasets.load_diabetes()\n",
    "\n",
    "X_train, X_test, y_train, y_test = train_test_split(\n",
    "    ds.data, ds.target, test_size=0.3, random_state=1)"
   ]
  },
  {
   "cell_type": "code",
   "execution_count": null,
   "metadata": {
    "ExecuteTime": {
     "end_time": "2018-08-17T00:29:16.992714Z",
     "start_time": "2018-08-17T00:29:16.987821Z"
    }
   },
   "outputs": [],
   "source": [
    "print(f'X_train.shape: {X_train.shape}  y_train: {len(y_test)}')\n",
    "print(f'X_test.shape: {X_test.shape}  y_test: {len(y_test)}')\n"
   ]
  },
  {
   "cell_type": "markdown",
   "metadata": {},
   "source": [
    "## Feature engineering\n",
    "\n",
    "At this point we could do some feature engineering. For example, we could create a new `area` feature based upon taking the product of the length and width features if a problem had such features (e.g., see the iris flower classification problem). We would view this feature as a derived feature based upon the interaction of two base input features. \n",
    "\n",
    "Next we look at how to generate interaction features and polynomial features using SKLearn's `PolynomialFeatures()`.\n",
    "\n"
   ]
  },
  {
   "cell_type": "markdown",
   "metadata": {},
   "source": [
    "### Polynomial and Interation Features\n",
    "\n",
    "Here we  explore datasets with polynomial features and interaction features.\n",
    "\n",
    "First of all, we can generate such a dataset using sklearn, this code will demonstrate how to use it. (You can also use [this link](https://scikit-learn.org/stable/modules/generated/sklearn.preprocessing.PolynomialFeatures.html#sklearn.preprocessing.PolynomialFeatures) to check the user guide)\n",
    "\n",
    "```python\n",
    "from sklearn.preprocessing import PolynomialFeatures\n",
    "x = np.arange(4).reshape(2, 2)\n",
    "poly = PolynomialFeatures(2)\n",
    "print (x)\n",
    "poly.fit_transform(x)\n",
    "\n",
    "### outputs the following:\n",
    "[[0 1]\n",
    " [2 3]]\n",
    "array([[1., 0., 1., 0., 0., 1.],\n",
    "       [1., 2., 3., 4., 6., 9.]])\n",
    "```\n"
   ]
  },
  {
   "cell_type": "markdown",
   "metadata": {},
   "source": [
    "Here using the original dataset of the form $(x_1,x_2)$ = [[0,1], [2,3]], in combination with `PolynomialFeatures(2)` yields a new dataset $(1,x_1,x_2,x_1^2,x_1x_2,x_2^2)$ = (1,0,1,0,0,1), (1,2,3,4,6,9)"
   ]
  },
  {
   "cell_type": "markdown",
   "metadata": {},
   "source": [
    "## Train a ridge linear regression model using derived features"
   ]
  },
  {
   "cell_type": "markdown",
   "metadata": {},
   "source": [
    "### The General Pipeline Interface\n",
    "The Pipeline class is not restricted to preprocessing and classification, but can in\n",
    "fact join any number of estimators together. For example, you could build a pipeline\n",
    "containing feature extraction, feature selection, scaling, and classification, for a total\n",
    "of four steps (at least!). Similarly, the last step could be regression or clustering instead of classification.\n",
    "\n",
    "The only requirement for estimators in a pipeline is that all but the last step need to\n",
    "have a transform method, so they can produce a new representation of the data that\n",
    "can be used in the next step.\n",
    "Internally, during the call to `Pipeline.fit()`, the pipeline calls fit and then transform\n",
    "on each step in turn(or just `fit_transform()`), with the input given by the output of the transform method of the previous step. For the last step in the pipeline, just `fit()` is called.\n"
   ]
  },
  {
   "cell_type": "markdown",
   "metadata": {},
   "source": [
    "#### Heatmap plotting helper function"
   ]
  },
  {
   "cell_type": "code",
   "execution_count": null,
   "metadata": {},
   "outputs": [],
   "source": [
    "def heatmap(values, xlabel, ylabel, xticklabels, yticklabels, cmap=None,\n",
    "            vmin=None, vmax=None, ax=None, fmt=\"%0.2f\", title =\"\"):\n",
    "    if ax is None:\n",
    "        ax = plt.gca()\n",
    "    # plot the mean cross-validation scores\n",
    "    img = ax.pcolor(values, cmap=cmap, vmin=vmin, vmax=vmax)\n",
    "    img.update_scalarmappable()\n",
    "    ax.set_xlabel(xlabel)\n",
    "    ax.set_ylabel(ylabel)\n",
    "    ax.set_xticks(np.arange(len(xticklabels)) + .5)\n",
    "    ax.set_yticks(np.arange(len(yticklabels)) + .5)\n",
    "    ax.set_xticklabels(xticklabels)\n",
    "    ax.set_yticklabels(yticklabels)\n",
    "    ax.set_aspect(1)\n",
    "    ax.set_title(title)\n",
    "\n",
    "    for p, color, value in zip(img.get_paths(), img.get_facecolors(),\n",
    "                               img.get_array()):\n",
    "        x, y = p.vertices[:-2, :].mean(0)\n",
    "        if np.mean(color[:3]) > 0.5:\n",
    "            c = 'k'\n",
    "        else:\n",
    "            c = 'w'\n",
    "        ax.text(x, y, fmt % value, color=c, ha=\"center\", va=\"center\")\n",
    "    return img\n"
   ]
  },
  {
   "cell_type": "markdown",
   "metadata": {},
   "source": [
    "### Grid-searching:  preprocessing, polyFeatures,  and modeling"
   ]
  },
  {
   "cell_type": "code",
   "execution_count": null,
   "metadata": {},
   "outputs": [],
   "source": [
    "from sklearn.datasets import load_diabetes\n",
    "from sklearn.pipeline import make_pipeline\n",
    "from sklearn.preprocessing import StandardScaler\n",
    "from sklearn.linear_model import Ridge\n",
    "from sklearn.model_selection import GridSearchCV\n",
    "from sklearn.feature_selection import SelectPercentile, f_regression\n",
    "\n",
    "\n",
    "ds = load_diabetes()\n",
    "X_train, X_test, y_train, y_test = train_test_split(ds.data, ds.target,\n",
    "                                                    random_state=0)\n",
    "\n",
    "from sklearn.preprocessing import PolynomialFeatures\n",
    "pipe = make_pipeline(\n",
    "    PolynomialFeatures(),\n",
    "    StandardScaler(),\n",
    "    Ridge())\n",
    "\n",
    "param_grid = {'polynomialfeatures__degree': [1, 2, 3],\n",
    "              'ridge__alpha': [0.001, 0.01, 0.1, 1, 10, 100], \n",
    "             }\n",
    "\n",
    "grid = GridSearchCV(pipe, param_grid=param_grid, cv=5, n_jobs=-1, scoring='neg_mean_absolute_error')\n",
    "grid.fit(X_train, y_train)"
   ]
  },
  {
   "cell_type": "code",
   "execution_count": null,
   "metadata": {},
   "outputs": [],
   "source": []
  },
  {
   "cell_type": "code",
   "execution_count": null,
   "metadata": {},
   "outputs": [],
   "source": [
    "# multiply by -1 to convert utility to loss\n",
    "# I.e., recover mean_absolute_error from 'neg_mean_absolute_error'\n",
    "grid.cv_results_['mean_test_score'].reshape(3, -1)*[-1.0] "
   ]
  },
  {
   "cell_type": "code",
   "execution_count": null,
   "metadata": {},
   "outputs": [],
   "source": [
    "heatmap(-grid.cv_results_['mean_test_score'].reshape(3, -1),\n",
    "                      xlabel=\"ridge__alpha\", ylabel=\"polynomialfeatures__degree\",\n",
    "                      xticklabels=param_grid['ridge__alpha'],\n",
    "                      yticklabels=param_grid['polynomialfeatures__degree'], vmin=0,\n",
    "       title=\"GridSearch Results\\n CV avg (Mean absolute error) NOTE: Smaller is better!\")"
   ]
  },
  {
   "cell_type": "code",
   "execution_count": null,
   "metadata": {},
   "outputs": [],
   "source": [
    "print(\"Best parameters: {}\".format(grid.best_params_))"
   ]
  },
  {
   "cell_type": "code",
   "execution_count": null,
   "metadata": {},
   "outputs": [],
   "source": [
    "# score returns neg_mean_absolute_error so must muiltiply by -1.0 to \n",
    "# get the loss metric: mean_absolute_error\n",
    "print(\"Test-set score: {:.2f}\".format(grid.score(X_test, y_test) *-1.0)) "
   ]
  },
  {
   "cell_type": "markdown",
   "metadata": {},
   "source": [
    "### Question: polynomial features\n",
    "\n",
    "Do the polynomial features help with to the test error? "
   ]
  },
  {
   "cell_type": "markdown",
   "metadata": {},
   "source": [
    "### Question: mean_absolute_error\n",
    "\n",
    "What is the mean absolute error on the test dataset for this pipeline? Report to two decimal places."
   ]
  },
  {
   "cell_type": "markdown",
   "metadata": {},
   "source": [
    "### Simple pipeline with original features only\n",
    "Just crosschecking the pipeline with original features only"
   ]
  },
  {
   "cell_type": "code",
   "execution_count": null,
   "metadata": {},
   "outputs": [],
   "source": [
    "param_grid = {'ridge__alpha': [0.001, 0.01, 0.1, 1, 10, 100]}\n",
    "pipe = make_pipeline(StandardScaler(), Ridge())\n",
    "grid = GridSearchCV(pipe, param_grid, cv=5, n_jobs=-1, scoring='neg_mean_absolute_error')\n",
    "grid.fit(X_train, y_train)\n",
    "print(\"Test-score without poly features: {:.2f}\".format(-grid.score(X_test, y_test)))"
   ]
  },
  {
   "cell_type": "markdown",
   "metadata": {},
   "source": [
    "## Pipeline-based derived features and feature selection"
   ]
  },
  {
   "cell_type": "code",
   "execution_count": null,
   "metadata": {},
   "outputs": [],
   "source": [
    "from sklearn.datasets import load_diabetes\n",
    "from sklearn.pipeline import make_pipeline\n",
    "from sklearn.preprocessing import StandardScaler\n",
    "from sklearn.linear_model import Ridge\n",
    "from sklearn.model_selection import GridSearchCV\n",
    "from sklearn.feature_selection import SelectPercentile, f_regression, SelectKBest\n",
    "\n",
    "ds = load_diabetes()\n",
    "X_train, X_test, y_train, y_test = train_test_split(ds.data, ds.target,\n",
    "                                                    random_state=0)\n",
    "\n",
    "from sklearn.preprocessing import PolynomialFeatures\n",
    "pipe = make_pipeline(\n",
    "    StandardScaler(),\n",
    "    PolynomialFeatures(),\n",
    "    SelectPercentile(score_func=f_regression),\n",
    "    #SelectKBest(score_func=f_regression),\n",
    "    Ridge())\n",
    "\n",
    "param_grid = {'polynomialfeatures__degree': [1, 2, 3],\n",
    "              'ridge__alpha': [0.001, 0.01, 0.1, 1, 10, 100], \n",
    "              'selectpercentile__percentile' : [10,20,50, 65, 70,80,90]\n",
    "              #'selectkbest__k':[2, 5, 6, 7,8,9,10]\n",
    "             }\n",
    "\n",
    "#grid = GridSearchCV(pipe, param_grid=param_grid, cv=5, n_jobs=-1)\n",
    "grid = GridSearchCV(pipe, param_grid, cv=5, n_jobs=-1, scoring='neg_mean_absolute_error')\n",
    "grid.fit(X_train, y_train)\n",
    "print(\"Best parameters: {}\".format(grid.best_params_))\n",
    "print(\"Test-set score: {:.2f}\".format(-grid.score(X_test, y_test)))\n",
    "#grid.estimator.named_steps.selectkbest.get_support(indices=True) #does not work as expected. Bug?\n"
   ]
  },
  {
   "cell_type": "markdown",
   "metadata": {},
   "source": [
    "### Question: number of features\n",
    "Use selectpercentile for feature selection, what is the best percentile using this pipeline?"
   ]
  },
  {
   "cell_type": "code",
   "execution_count": null,
   "metadata": {},
   "outputs": [],
   "source": []
  },
  {
   "cell_type": "markdown",
   "metadata": {},
   "source": [
    "### Question: mean_absolute_error\n",
    "What is the mean absolute error on the test dataset for this pipeline? Report to two decimal places.\n",
    "\n"
   ]
  },
  {
   "cell_type": "code",
   "execution_count": null,
   "metadata": {},
   "outputs": [],
   "source": []
  },
  {
   "cell_type": "markdown",
   "metadata": {},
   "source": [
    "# Core Task: Linear Regression with custom dataset"
   ]
  },
  {
   "cell_type": "markdown",
   "metadata": {},
   "source": [
    "## Load Data"
   ]
  },
  {
   "cell_type": "markdown",
   "metadata": {},
   "source": [
    "Consider the provided dataset \"1.csv\". The datas contains 5 columns, $x_1, x_2, x_3, x_4$, and $y$. We know that the datas were generated by the following function $y=\\sum_{i=1}^4 w_i x_i+b$, where $w_1, \\ldots, w_4,b$ are constants. However, we do not know the coefficients, and the datas are noisy. Let us implement linear regression to find out $w_1, \\ldots, w_4,b$."
   ]
  },
  {
   "cell_type": "code",
   "execution_count": null,
   "metadata": {},
   "outputs": [],
   "source": [
    "import pandas as pd\n",
    "import numpy as np\n",
    "\n",
    "data = pd.read_csv('1.csv')\n",
    "x = data.values[:,0:4]\n",
    "y = data.values[:,4]\n",
    "print(np.shape(x))\n",
    "print(np.shape(y))\n",
    "data.describe()"
   ]
  },
  {
   "cell_type": "markdown",
   "metadata": {},
   "source": [
    "## Data Augmentation"
   ]
  },
  {
   "cell_type": "markdown",
   "metadata": {},
   "source": [
    "Then, we implement data augmentation as shown in video 4.5 and solve for the closed-form solution for linear regression"
   ]
  },
  {
   "cell_type": "code",
   "execution_count": null,
   "metadata": {},
   "outputs": [],
   "source": [
    "#Data augmentation\n",
    "X = np.c_[np.ones(x.shape[0]), x]\n",
    "print(np.shape(X))"
   ]
  },
  {
   "cell_type": "markdown",
   "metadata": {},
   "source": [
    "## Linear Regression"
   ]
  },
  {
   "cell_type": "markdown",
   "metadata": {},
   "source": [
    "### Implement Closed-Form Solution"
   ]
  },
  {
   "cell_type": "code",
   "execution_count": null,
   "metadata": {},
   "outputs": [],
   "source": [
    "#Closed-form solution (Hint: You can use np.matmul for matrix multiplication)\n",
    "#==================================================#\n",
    "#               Place your code between here       #\n",
    "  \n",
    "w = np...... #change this one line only\n",
    "#               ... and here                       #\n",
    "# When asked to copy/paste your code in homework   # \n",
    "# submission quiz, only submit the code you added  #\n",
    "# (or modified) between the comment blocks         #\n",
    "# Hint:  you need to set the params used below     #\n",
    "#==================================================#\n",
    "print(\"Linear regrssion model (note weight_0 represents the bias term)\")\n",
    "for i, w_v in enumerate(w):\n",
    "    print (f\"weight_{i}: {w_v:.3f}\")"
   ]
  },
  {
   "cell_type": "markdown",
   "metadata": {},
   "source": [
    "#### Question: what is the value of bias term? Please report up to 3 decimal places.\n"
   ]
  },
  {
   "cell_type": "markdown",
   "metadata": {},
   "source": [
    "### Calculate MSE"
   ]
  },
  {
   "cell_type": "code",
   "execution_count": null,
   "metadata": {},
   "outputs": [],
   "source": [
    "#Calculate Mean-Squared Error\n",
    "#==================================================#\n",
    "#               Place your code between here       #\n",
    "\n",
    "yhat =\n",
    "MSE = \n",
    "# When asked to copy/paste your code in homework   # \n",
    "# submission quiz, only submit the code you added  #\n",
    "# (or modified) between the comment blocks         #\n",
    "# Hint:  you need to set the params used below     #\n",
    "#==================================================#\n",
    "print (f\"MSE:  {MSE:.3f}\")"
   ]
  },
  {
   "cell_type": "markdown",
   "metadata": {},
   "source": [
    "#### Question: what is MSE for this given dataset? Please report up to 3 decimal places.\n",
    "\n",
    "\n"
   ]
  },
  {
   "cell_type": "code",
   "execution_count": null,
   "metadata": {},
   "outputs": [],
   "source": []
  },
  {
   "cell_type": "markdown",
   "metadata": {},
   "source": [
    "### Using SKlearn"
   ]
  },
  {
   "cell_type": "markdown",
   "metadata": {},
   "source": [
    "Let's try the linear regression tool from sklearn, is the solution similar to yours?"
   ]
  },
  {
   "cell_type": "code",
   "execution_count": null,
   "metadata": {},
   "outputs": [],
   "source": [
    "from sklearn.linear_model import LinearRegression\n",
    "reg = LinearRegression(fit_intercept=False).fit(X, y)\n",
    "#reg.coef_\n",
    "print(\"Linear regrssion model (note weight_0 represents the bias term)\")\n",
    "for i, w_v in enumerate(reg.coef_):\n",
    "    print (f\"weight_{i}: {w_v:.3f}\")"
   ]
  },
  {
   "cell_type": "markdown",
   "metadata": {},
   "source": [
    "Here we can see that the original function could be $y=3x_1+x_4+2$"
   ]
  },
  {
   "cell_type": "markdown",
   "metadata": {},
   "source": [
    "## Polynomial and Interation Features"
   ]
  },
  {
   "cell_type": "markdown",
   "metadata": {},
   "source": [
    "Part1 of this questions shows a linear relation between the inputs and the outputs. However this is usually not the case for real-life applications. In this part, we will explore datasets with polynomial features and interaction features.\n",
    "\n",
    "First of all, we can generate such a dataset using sklearn, this code will demonstrate how to use it. (You can also use [this link](https://scikit-learn.org/stable/modules/generated/sklearn.preprocessing.PolynomialFeatures.html#sklearn.preprocessing.PolynomialFeatures) to check the user guide)"
   ]
  },
  {
   "cell_type": "code",
   "execution_count": null,
   "metadata": {},
   "outputs": [],
   "source": [
    "from sklearn.preprocessing import PolynomialFeatures\n",
    "x = np.arange(4).reshape(2, 2)\n",
    "poly = PolynomialFeatures(2)\n",
    "print (x)\n",
    "poly.fit_transform(x)"
   ]
  },
  {
   "cell_type": "markdown",
   "metadata": {},
   "source": [
    "Here the original dataset is $(x_1,x_2)$ = (0,1), (2,3),\n",
    "and we generated a new dataset $(1,x_1,x_2,x_1^2,x_1x_2,x_2^2)$ = (1,0,1,0,0,1), (1,2,3,4,6,9)"
   ]
  },
  {
   "cell_type": "markdown",
   "metadata": {},
   "source": [
    "## Load the Second Dataset"
   ]
  },
  {
   "cell_type": "markdown",
   "metadata": {},
   "source": [
    "Now consider a dataset \"2.csv\" similar to part1, generated by the function $y=\\sum_{i=1}^3 w_i x_i+\\sum_{i=1}^3 v_i x_i^2+\\sum_{i,j=1(i\\ne j)}^3 u_{ij} x_i x_j + b$."
   ]
  },
  {
   "cell_type": "code",
   "execution_count": null,
   "metadata": {},
   "outputs": [],
   "source": [
    "#load the new dataset\n",
    "data = pd.read_csv('2.csv')\n",
    "x = data.values[:,0:3]\n",
    "y = data.values[:,3]\n",
    "print(np.shape(x))\n",
    "print(np.shape(y))\n",
    "data.describe()"
   ]
  },
  {
   "cell_type": "markdown",
   "metadata": {},
   "source": [
    "## Polynomial Regression"
   ]
  },
  {
   "cell_type": "markdown",
   "metadata": {},
   "source": [
    "Is this new function solvable by linear regression? The answer is yes. The only thing we have to do is to generate polynomial and interaction features."
   ]
  },
  {
   "cell_type": "code",
   "execution_count": null,
   "metadata": {},
   "outputs": [],
   "source": [
    "X = poly.fit_transform(x)\n",
    "print (np.shape(X))"
   ]
  },
  {
   "cell_type": "code",
   "execution_count": null,
   "metadata": {},
   "outputs": [],
   "source": [
    "reg = LinearRegression(fit_intercept=False).fit(X, y)\n",
    "reg.coef_"
   ]
  },
  {
   "cell_type": "markdown",
   "metadata": {},
   "source": [
    "Now, we know these are the coefficients of the original function, let's see if we can recover them from all the derived features (interactions and polynomials). Run the following code and respond to the questions following the code."
   ]
  },
  {
   "cell_type": "code",
   "execution_count": null,
   "metadata": {},
   "outputs": [],
   "source": [
    "from sklearn.datasets import load_diabetes\n",
    "from sklearn.pipeline import make_pipeline\n",
    "from sklearn.preprocessing import StandardScaler\n",
    "from sklearn.linear_model import Ridge\n",
    "from sklearn.model_selection import GridSearchCV\n",
    "from sklearn.feature_selection import SelectPercentile, f_regression, SelectKBest\n",
    "from sklearn.model_selection import train_test_split\n",
    "\n",
    "#ds = load_diabetes()\n",
    "X_train, X_test, y_train, y_test = train_test_split(X, y,\n",
    "                                                    random_state=0)\n",
    "\n",
    "from sklearn.preprocessing import PolynomialFeatures\n",
    "#==================================================#\n",
    "#               Place your code between here       #\n",
    "pipe = make_pipeline(\n",
    "\n",
    "param_grid = {'polynomialfeatures__degree': [1, 2, 3],\n",
    "              'ridge__alpha': [0.001, 0.01, 0.1, 1, 10, 100], \n",
    "              'selectpercentile__percentile' : ...\n",
    "              ...\n",
    "             }\n",
    "#               ... and here                       #\n",
    "# When asked to copy/paste your code in homework   # \n",
    "# submission quiz, only submit the code you added  #\n",
    "# (or modified) between the comment blocks         #\n",
    "# Hints:  \n",
    "# 1. The pipeline should contain:\n",
    "#    StandardScaler, SelectPercentile with f_regression\n",
    "#    as the scoring function parameter, PolynomialFeatures,\n",
    "#    and Ridge\n",
    "# 2. SelectPercentile  percentile parameter should have\n",
    "#   following options: 10,20,50,65,70,80,90\n",
    "#==================================================#\n",
    "# Replace with:\n",
    "# pipe = make_pipeline(\n",
    "#       ...)\n",
    "# \n",
    "# param_grid = {'polynomialfeatures__degree': [1, 2, 3],\n",
    "#               'ridge__alpha': [0.001, 0.01, 0.1, 1, 10, 100], \n",
    "#               'selectpercentile__percentile' : ...\n",
    "#               ...\n",
    "#              }\n",
    "\n",
    "#grid = GridSearchCV(pipe, param_grid=param_grid, cv=5, n_jobs=-1)\n",
    "grid = GridSearchCV(pipe, param_grid, cv=5, n_jobs=-1, scoring='neg_mean_absolute_error')\n",
    "grid.fit(X_train, y_train)\n",
    "print(\"Best parameters: {}\".format(grid.best_params_))\n",
    "print(\"Test-set score: {:.5f}\".format(-grid.score(X_test, y_test)))\n",
    "#grid.estimator.named_steps.selectkbest.get_support(indices=True) #does not work as expected. Bug?\n"
   ]
  },
  {
   "cell_type": "markdown",
   "metadata": {},
   "source": [
    "### Understanding this model\n",
    "\n",
    "Ok, so we just used grid search to search for the best model/parameter combination for this model. Let's take a look and understand what it means.\n",
    "\n",
    "First, let's see what is inside this pipeline."
   ]
  },
  {
   "cell_type": "code",
   "execution_count": null,
   "metadata": {},
   "outputs": [],
   "source": [
    "print (grid.best_estimator_)\n",
    "\n",
    "poly = grid.best_estimator_.named_steps['polynomialfeatures']\n",
    "select = grid.best_estimator_.named_steps['selectpercentile']\n",
    "ridge = grid.best_estimator_.named_steps['ridge']"
   ]
  },
  {
   "cell_type": "code",
   "execution_count": null,
   "metadata": {},
   "outputs": [],
   "source": [
    "import numpy as np \n",
    "print (np.shape(X_train))\n",
    "X_train_poly = poly.fit_transform(X_train)\n",
    "print (np.shape(X_train_poly))"
   ]
  },
  {
   "cell_type": "code",
   "execution_count": null,
   "metadata": {},
   "outputs": [],
   "source": [
    "X_train_poly_selected = select.fit_transform(X_train_poly,y_train)\n",
    "print (np.shape(X_train_poly_selected))\n",
    "#Here we are selecting 90% top features, so only 8 features remaining."
   ]
  },
  {
   "cell_type": "markdown",
   "metadata": {},
   "source": [
    "### Order of Coefficients\n",
    "\n",
    "To figure out which feature was dropped, we print out the order of coefficient, then look at the p_values of feature selection step."
   ]
  },
  {
   "cell_type": "code",
   "execution_count": null,
   "metadata": {},
   "outputs": [],
   "source": [
    "feature_names = features = poly.get_feature_names()\n",
    "print(f\"all features before selection: \\n{feature_names}\")\n",
    "\n",
    "#p_values = select.pvalues_\n",
    "#print (\"{p_values:}\")\n",
    "\n",
    "feature_names_selected = [feature_names[k]  for k in select.get_support(indices=True)]\n",
    "\n",
    "print(f\"{feature_names_selected}\\n{len(feature_names_selected)} features of {len(feature_names)} were selected \")\n",
    "print(\"NOTE: the bias feature was dropped temporarily\")\n",
    "print(f\"The following features were dropped{set(feature_names) - set(feature_names_selected)}\")"
   ]
  },
  {
   "cell_type": "code",
   "execution_count": null,
   "metadata": {},
   "outputs": [],
   "source": [
    "np.round(34.4415556, 2)"
   ]
  },
  {
   "cell_type": "code",
   "execution_count": null,
   "metadata": {},
   "outputs": [],
   "source": [
    "print(\"The Linear regressions model is as follows:\")\n",
    "print(f\"{dict(zip(feature_names_selected, np.r_[ridge.intercept_, ridge.coef_]))}\")\n",
    "print(\"The polynomial regression model is a follows:\")\n",
    "\n",
    "display(pd.DataFrame(np.expand_dims(np.round(np.r_[ridge.intercept_, ridge.coef_], 3), axis =0), columns=[\"BIAS\"]+feature_names_selected))"
   ]
  },
  {
   "cell_type": "markdown",
   "metadata": {},
   "source": [
    "### Does the pipeline identify select the raw features only?  Yes or no?\n"
   ]
  },
  {
   "cell_type": "code",
   "execution_count": null,
   "metadata": {},
   "outputs": [],
   "source": [
    "### Question: what is the coefficient for the term $x_1x_2$? \n",
    "What is the coefficient for the term $x_1x_2$? Report with 3 decimal point precision.  Example: 5.139 is reported for  5.1387462123"
   ]
  },
  {
   "cell_type": "code",
   "execution_count": null,
   "metadata": {},
   "outputs": [],
   "source": []
  },
  {
   "cell_type": "markdown",
   "metadata": {},
   "source": [
    "# Optional Task: Linear Regression via GD from scratch"
   ]
  },
  {
   "cell_type": "markdown",
   "metadata": {},
   "source": [
    "The objective function of linear regression is the following:\n",
    "$$\n",
    "f(\\mathbf{w}, b) = \\frac{1}{n}\\sum_{i=1}^{n}\\left[ (\\mathbf{w}\\cdot\\mathbf{x}_i + b) - y_i\\right]^2,\\\\\n",
    "n = \\left|X_{\\text{train}}\\right|\n",
    "$$\n",
    "So we want to minimize the **squared value** of difference between predictions and real answers. It is called Mean Squared Error (MSE). Gradient Descent is the way of optimizing this complex functional and tune weigths $\\mathbf{w}$ and bias $b$.\n",
    "\n",
    "To be able to treat weigths $\\mathbf{w}$ and bias $b$ homogeneously we're going to augment the data with the \"shell\" feature (all $1$'s). Then we can add one more parameter to the weight vector and treat it as a *bias*.\n",
    "$$\n",
    "\\mathbf{x}' :=\n",
    "\\begin{bmatrix}\n",
    "\\mathbf{x}\\\\\n",
    "1\n",
    "\\end{bmatrix},\\quad\n",
    "\\boldsymbol{\\theta} :=\n",
    "\\begin{bmatrix}\n",
    "\\mathbf{w}\\\\\n",
    "b\n",
    "\\end{bmatrix}\n",
    "\\\\\n",
    "f(\\boldsymbol{\\theta}) = \\frac{1}{n}\\sum_{i=1}^{n}\\left[ \\boldsymbol{\\theta}\\cdot\\mathbf{x}'_i - y_i\\right]^2\n",
    "$$\n",
    "In this way it is much more easier to carry out oprimization process.\n",
    "\n",
    "To simplify it further and do it in \"*tensor*\" way let's rewrite it in matrix form. Let's introduce data matrix (the same as dataframe we used everywhere above)\n",
    "\n",
    "$$\n",
    "\\text{X}' =\n",
    "\\begin{bmatrix}\n",
    "\\mathbf{x'}_1^{\\text{T}}\\\\\n",
    "\\vdots\\\\\n",
    "\\mathbf{x'}_n^{\\text{T}}\n",
    "\\end{bmatrix},\\quad\n",
    "\\mathbf{y} = \n",
    "\\begin{bmatrix}\n",
    "y_1\\\\\n",
    "\\vdots\\\\\n",
    "y_n\n",
    "\\end{bmatrix}\n",
    "$$\n",
    "\n",
    "Matrix $\\text{X}$ contains objects in its rows and features in its columns. Vector $\\mathbf{y}$ is a vector of answers. Then the objective can be rewritten as follows:\n",
    "\n",
    "$$\n",
    "f(\\boldsymbol{\\theta}) = \\frac{1}{n}\\|\\text{X}'\\cdot \\boldsymbol{\\theta} - \\mathbf{y}\\|_2^2\n",
    "$$\n",
    "\n",
    "Then the gradient can be easily calculated in vectorized form:\n",
    "\n",
    "$$\n",
    "\\nabla_{\\boldsymbol{\\theta}} f(\\boldsymbol{\\theta}) = \\frac{2}{n}\\,\\text{X}'^{\\text{T}}\\left(\\text{X}'\\cdot \\boldsymbol{\\theta} - \\mathbf{y}\\right)\n",
    "$$\n",
    "\n",
    "Exactly this computations are implemented down below in **BasicLinearRegressionHomegrown** class"
   ]
  },
  {
   "cell_type": "markdown",
   "metadata": {},
   "source": [
    "## Data"
   ]
  },
  {
   "cell_type": "markdown",
   "metadata": {},
   "source": [
    "Split into train and test set (with the same $\\text{random_state}$ which means we can compare results)"
   ]
  },
  {
   "cell_type": "code",
   "execution_count": null,
   "metadata": {
    "ExecuteTime": {
     "end_time": "2018-06-19T01:43:50.329739Z",
     "start_time": "2018-06-19T01:43:50.324789Z"
    }
   },
   "outputs": [],
   "source": [
    "X = pd.DataFrame(boston.data, columns=boston.feature_names)\n",
    "y = boston.target"
   ]
  },
  {
   "cell_type": "code",
   "execution_count": null,
   "metadata": {
    "ExecuteTime": {
     "end_time": "2018-06-19T01:43:50.337412Z",
     "start_time": "2018-06-19T01:43:50.332238Z"
    }
   },
   "outputs": [],
   "source": [
    "np.random.seed(42)\n",
    "\n",
    "X_train, X_test, y_train, y_test = train_test_split(X, y, test_size=0.2, random_state=42)"
   ]
  },
  {
   "cell_type": "markdown",
   "metadata": {},
   "source": [
    "Scaling"
   ]
  },
  {
   "cell_type": "code",
   "execution_count": null,
   "metadata": {
    "ExecuteTime": {
     "end_time": "2018-06-19T01:43:50.344869Z",
     "start_time": "2018-06-19T01:43:50.339760Z"
    }
   },
   "outputs": [],
   "source": [
    "scaler = MinMaxScaler()\n",
    "X_train = scaler.fit_transform(X_train)\n",
    "X_test = scaler.transform(X_test)"
   ]
  },
  {
   "cell_type": "markdown",
   "metadata": {},
   "source": [
    "Basic version of homegrown Linear Regression"
   ]
  },
  {
   "cell_type": "code",
   "execution_count": null,
   "metadata": {
    "ExecuteTime": {
     "end_time": "2018-06-19T01:43:50.498691Z",
     "start_time": "2018-06-19T01:43:50.348148Z"
    }
   },
   "outputs": [],
   "source": [
    "class BasicLinearRegressionHomegrown(object):\n",
    "    \n",
    "    def __init__(self):\n",
    "        self.coef_ = None       # weight vector\n",
    "        self.intercept_ = None  # bias term\n",
    "        self._theta = None      # augmented weight vector, i.e., bias + weights\n",
    "                                # this allows to treat all decision variables homogeneously\n",
    "        self.history = {\"cost\": [], \n",
    "                        \"coef\": [], \n",
    "                        \"intercept\": [], \n",
    "                        \"grad\": []}\n",
    "        \n",
    "    def _grad(self, X, y):\n",
    "        \"\"\"\n",
    "        Calculate the gradient of the objective function\n",
    "\n",
    "        Args:\n",
    "            X(ndarray):        train objects\n",
    "            y(ndarray):        answers for train objects\n",
    "        Return:\n",
    "            gradient(ndarray): analytical gradient vector\n",
    "        \"\"\"\n",
    "        pred = np.dot(X, self._theta)\n",
    "        error = pred - y\n",
    "        gradient = 2 * np.dot(error, X) / X.shape[0]\n",
    "        return gradient\n",
    "    \n",
    "    # full gradient descent, i.e., not stochastic gd\n",
    "    def _gd(self, X, y, max_iter, alpha=0.0005):\n",
    "        \"\"\"\n",
    "        Runs GD and logs error, weigths, gradient at every step\n",
    "\n",
    "        Args:\n",
    "            X(ndarray):      train objects\n",
    "            y(ndarray):      answers for train objects\n",
    "            max_iter(int):   number of weight updates\n",
    "            alpha(floar):    step size in direction of gradient\n",
    "        Return:\n",
    "            None\n",
    "        \"\"\"\n",
    "        for i in range(max_iter):\n",
    "            self.history[\"coef\"].append(self._theta[1:].copy())\n",
    "            self.history[\"intercept\"].append(self._theta[0].copy())\n",
    "            \n",
    "            rmse = self.score(X, y)\n",
    "            self.history[\"cost\"].append(rmse)\n",
    "\n",
    "            # calculate gradient\n",
    "            grad = self._grad(X, y)\n",
    "            self.history[\"grad\"].append(grad)\n",
    "            \n",
    "            # do gradient step\n",
    "            self._theta -= alpha * grad\n",
    "    \n",
    "    def fit(self, X, y, max_iter=1000):\n",
    "        \"\"\"\n",
    "        Public API for fitting a linear regression model\n",
    "\n",
    "        Args:\n",
    "            X(ndarray):      train objects\n",
    "            y(ndarray):      answers for train objects\n",
    "            max_iter(int):   number of weight updates\n",
    "        Return:\n",
    "            self\n",
    "        \"\"\"\n",
    "        # Augment the data with the bias term.\n",
    "        # So we can treat the the input variables and the bias term homogeneously \n",
    "        # from a vectorization perspective\n",
    "        X = np.c_[np.ones(X.shape[0]), X]\n",
    "        # initialize if the first step\n",
    "        if self._theta is None:\n",
    "            self._theta = np.random.rand(X.shape[1])\n",
    "        \n",
    "        # do full gradient descent\n",
    "        self._gd(X, y, max_iter)\n",
    "        \n",
    "        self.intercept_ = self._theta[0]\n",
    "        self.coef_ = self._theta[1:]\n",
    "        return self\n",
    "        \n",
    "    def score(self, X, y):\n",
    "        \"\"\"\n",
    "        Calculate RMSE metric\n",
    "\n",
    "        Args:\n",
    "            X(ndarray):      objects\n",
    "            y(ndarray):      answers\n",
    "        Return:\n",
    "            rmse(float):     RMSE\n",
    "        \"\"\"\n",
    "        pred = self.predict(X)\n",
    "        error = pred - y\n",
    "        rmse = (np.sum(error ** 2) / X.shape[0]) ** 0.5\n",
    "        return rmse\n",
    "        \n",
    "    def predict(self, X):\n",
    "        \"\"\"\n",
    "        Make a prediction\n",
    "\n",
    "        Args:\n",
    "            X(ndarray):      objects\n",
    "        Return:\n",
    "            pred(ndarray):   predictions\n",
    "        \"\"\"\n",
    "        # check whether X has appended bias feature or not\n",
    "        if X.shape[1] == len(self._theta):\n",
    "            pred = np.dot(X, self._theta)\n",
    "        else:\n",
    "            pred = np.dot(X, self.coef_) + self.intercept_\n",
    "        return pred"
   ]
  },
  {
   "cell_type": "markdown",
   "metadata": {},
   "source": [
    "Create model"
   ]
  },
  {
   "cell_type": "code",
   "execution_count": null,
   "metadata": {
    "ExecuteTime": {
     "end_time": "2018-06-19T01:43:50.505417Z",
     "start_time": "2018-06-19T01:43:50.501423Z"
    }
   },
   "outputs": [],
   "source": [
    "model_homegrown = BasicLinearRegressionHomegrown()"
   ]
  },
  {
   "cell_type": "markdown",
   "metadata": {},
   "source": [
    "## Fitting"
   ]
  },
  {
   "cell_type": "code",
   "execution_count": null,
   "metadata": {
    "ExecuteTime": {
     "end_time": "2018-06-19T01:43:52.072045Z",
     "start_time": "2018-06-19T01:43:50.508040Z"
    }
   },
   "outputs": [],
   "source": [
    "model_homegrown.fit(X_train, y_train, max_iter=40000)"
   ]
  },
  {
   "cell_type": "code",
   "execution_count": null,
   "metadata": {
    "ExecuteTime": {
     "end_time": "2018-06-19T01:43:52.257914Z",
     "start_time": "2018-06-19T01:43:52.074390Z"
    }
   },
   "outputs": [],
   "source": [
    "plt.figure(figsize=(10, 8))\n",
    "plt.plot(model_homegrown.history[\"cost\"], label=\"Train\")\n",
    "plt.xlabel(\"Iteration\")\n",
    "plt.ylabel(\"RMSE\")\n",
    "plt.title(\"Linear Regression via Gradient Descent\")\n",
    "plt.legend();"
   ]
  },
  {
   "cell_type": "markdown",
   "metadata": {},
   "source": [
    "## Evaluation"
   ]
  },
  {
   "cell_type": "code",
   "execution_count": null,
   "metadata": {
    "ExecuteTime": {
     "end_time": "2018-06-19T01:43:52.263536Z",
     "start_time": "2018-06-19T01:43:52.260193Z"
    }
   },
   "outputs": [],
   "source": [
    "models = [model_sk, model_homegrown]\n",
    "models_names = [\"Sklearn\", \"Homegrown\"]"
   ]
  },
  {
   "cell_type": "code",
   "execution_count": null,
   "metadata": {
    "ExecuteTime": {
     "end_time": "2018-06-19T01:43:52.277878Z",
     "start_time": "2018-06-19T01:43:52.265907Z"
    }
   },
   "outputs": [],
   "source": [
    "evaluate(models, metrics, samples, metrics_names, models_names)"
   ]
  },
  {
   "cell_type": "markdown",
   "metadata": {},
   "source": [
    "# Optional Assignment: Random Search"
   ]
  },
  {
   "cell_type": "markdown",
   "metadata": {},
   "source": [
    "* Implement random search algorithm for Linear Regression as a child of **BasicLinearRegressionHomegrown** class. Then you need to reimplement only solution method (change GD to Random Search)\n",
    "* Compare its performance with the previous implementations"
   ]
  },
  {
   "cell_type": "markdown",
   "metadata": {},
   "source": [
    "Random search algorithm consists of the following steps:\n",
    "1. Sample a set of weigths from some distribution. Here we're going to use Uniform distribution.\n",
    "$$\n",
    "\\boldsymbol{\\Theta} = \\{\\boldsymbol{\\theta}_1, \\boldsymbol{\\theta}_2 \\ldots \\boldsymbol{\\theta}_{N}\\}\n",
    "$$\n",
    "2. Now we have a set of weights $\\boldsymbol{\\Theta}$ for Linear Regression. The idea is to choose the best one according to the objective.\n",
    "$$\n",
    "\\boldsymbol{\\theta^*} = \\underset{\\boldsymbol{\\Theta}}{\\text{argmin}} \\sum_{i=1}^{n}\\left[\\boldsymbol{\\theta} \\cdot \\mathbf{x_i} - y_i\\right]^2\n",
    "$$"
   ]
  },
  {
   "cell_type": "code",
   "execution_count": null,
   "metadata": {
    "ExecuteTime": {
     "end_time": "2018-06-19T01:43:52.339654Z",
     "start_time": "2018-06-19T01:43:52.280292Z"
    }
   },
   "outputs": [],
   "source": [
    "class RandomSearchLinearRegressionHomegrown(BasicLinearRegressionHomegrown):\n",
    "    \n",
    "    def __init__(self):\n",
    "        # call the constructor of the parent class\n",
    "        super(RandomSearchLinearRegressionHomegrown, self).__init__()\n",
    "        self.history = {\"cost\": [], \n",
    "                        \"coef\": [], \n",
    "                        \"intercept\": []}\n",
    "        \n",
    "    def _rs(self, X, y, max_iter):\n",
    "        \"\"\"\n",
    "        Runs Random Search and logs error and weigths at every step\n",
    "\n",
    "        Args:\n",
    "            X(ndarray):      train objects\n",
    "            y(ndarray):      answers for train objects\n",
    "            max_iter(int):   number of points to sample\n",
    "        Return:\n",
    "            None\n",
    "        \"\"\"\n",
    "        \n",
    "        # use the following numpy command to generate\n",
    "        # random sample from the weight space\n",
    "        sampled_weights = np.random.random(size=(max_iter, len(self._theta))) * 20 - 10\n",
    "        \n",
    "        # go ahead and choose the best of sampled weights\n",
    "        # according to the objective\n",
    "        #==================================================#\n",
    "        #               Your code starts here              #\n",
    "        #==================================================#\n",
    "        # error for each theta\n",
    "        # in this case error is a matrix with size [max_iter * number of examples]\n",
    "        errors = \n",
    "        # mse for each theta\n",
    "        mses = \n",
    "        # best theta is the one with smallest error\n",
    "        best_idx =\n",
    "        # get it!\n",
    "        self._theta =\n",
    "        # TODO - change above to\n",
    "        # error for each theta\n",
    "        # in this case error is a matrix with size [max_iter * number of examples]\n",
    "        # errors = ...\n",
    "        # mse for each theta\n",
    "        # mses = ...\n",
    "        # best theta is the one with smallest error\n",
    "        # best_idx = ...\n",
    "        # get it!\n",
    "        # self._theta = ...\n",
    "        #==================================================#\n",
    "        #               Your code ends here                #\n",
    "        #==================================================#\n",
    "    \n",
    "    def fit(self, X, y, max_iter=1000):\n",
    "        \"\"\"\n",
    "        Public API for fitting a linear regression model\n",
    "\n",
    "        Args:\n",
    "            X(ndarray):      train objects\n",
    "            y(ndarray):      answers for train objects\n",
    "            max_iter(int):   number of points to sample\n",
    "        Return:\n",
    "            self\n",
    "        \"\"\"\n",
    "        X = np.c_[np.ones(X.shape[0]), X]\n",
    "        if self._theta is None:\n",
    "            self._theta = np.random.rand(X.shape[1])\n",
    "        \n",
    "        self._rs(X, y, max_iter)\n",
    "        \n",
    "        self.intercept_ = self._theta[0]\n",
    "        self.coef_ = self._theta[1:]\n",
    "        return self"
   ]
  },
  {
   "cell_type": "markdown",
   "metadata": {},
   "source": [
    "Create model"
   ]
  },
  {
   "cell_type": "code",
   "execution_count": null,
   "metadata": {
    "ExecuteTime": {
     "end_time": "2018-06-19T01:43:52.346347Z",
     "start_time": "2018-06-19T01:43:52.342470Z"
    }
   },
   "outputs": [],
   "source": [
    "model_homegrown_rs = RandomSearchLinearRegressionHomegrown()"
   ]
  },
  {
   "cell_type": "markdown",
   "metadata": {},
   "source": [
    "Fitting"
   ]
  },
  {
   "cell_type": "code",
   "execution_count": null,
   "metadata": {
    "ExecuteTime": {
     "end_time": "2018-06-19T01:43:52.433215Z",
     "start_time": "2018-06-19T01:43:52.348988Z"
    }
   },
   "outputs": [],
   "source": [
    "np.random.seed(42)\n",
    "\n",
    "model_homegrown_rs.fit(X_train, y_train, max_iter=10000)"
   ]
  },
  {
   "cell_type": "markdown",
   "metadata": {},
   "source": [
    "Evaluation"
   ]
  },
  {
   "cell_type": "code",
   "execution_count": null,
   "metadata": {
    "ExecuteTime": {
     "end_time": "2018-06-19T01:43:52.440173Z",
     "start_time": "2018-06-19T01:43:52.435930Z"
    }
   },
   "outputs": [],
   "source": [
    "models = [model_sk, model_homegrown, model_homegrown_rs]\n",
    "models_names = [\"Sklearn\", \"Homegrown Full GD\", \"Homegrown RS\"]"
   ]
  },
  {
   "cell_type": "code",
   "execution_count": null,
   "metadata": {
    "ExecuteTime": {
     "end_time": "2018-06-19T01:43:52.457391Z",
     "start_time": "2018-06-19T01:43:52.443214Z"
    }
   },
   "outputs": [],
   "source": [
    "evaluate(models, metrics, samples, metrics_names, models_names)"
   ]
  },
  {
   "cell_type": "markdown",
   "metadata": {},
   "source": [
    "# Optional Assignment: Numerical Calculation\n",
    "* **BasicLinearRegressionHomegrown** class provides you with the method *_grad* that allows to compute analytical gradient. This function is correct\n",
    "* Inheret from this class and implement a method for numerical approximation of gradient (see placeholder below)\n",
    "* Check your function by comparing with the analytical one. They **should** be similar.\n",
    "* Plot the difference of analytical and numerical gradients and describe what you observe"
   ]
  },
  {
   "cell_type": "markdown",
   "metadata": {},
   "source": [
    "The formula for analytical gradient (from calculus):\n",
    "\n",
    "$$\n",
    "\\nabla f(\\mathbf{x}) = \n",
    "\\begin{bmatrix}\n",
    "\\frac{\\partial f}{\\partial x_1}\\\\\n",
    "\\vdots\\\\\n",
    "\\frac{\\partial f}{\\partial x_m}\n",
    "\\end{bmatrix}, \\text{ where } m \\text{ is the space dimension}\\\\\n",
    "\\frac{\\partial f}{\\partial x_1} = \\lim_{\\alpha \\rightarrow 0} \\frac{f(x_1 + \\alpha, x_2 \\ldots x_m) - f(x_1, x_2 \\ldots x_m)}{\\alpha}\n",
    "$$\n",
    "\n",
    "For sufficiently small $\\alpha$ one can approximate partial derivative by simple throwing out the limit operator\n",
    "\n",
    "$$\n",
    "\\frac{\\partial f}{\\partial x_1} \\approx \\frac{f(x_1 + \\alpha, x_2 \\ldots x_m) - f(x_1, x_2 \\ldots x_m)}{\\alpha} = \\left( \\frac{\\partial f}{\\partial x_1} \\right)_{\\text{num}}\\\\\n",
    "$$\n",
    "\n",
    "Then the final approximation of the gradient is:\n",
    "\n",
    "$$\n",
    "\\nabla f(\\mathbf{x}) \\approx \\nabla_{\\text{num}\\,\\,} f(\\mathbf{x}) = \\begin{bmatrix}\n",
    "\\left( \\frac{\\partial f}{\\partial x_1} \\right)_{\\text{num}}\\\\\n",
    "\\vdots\\\\\n",
    "\\left( \\frac{\\partial f}{\\partial x_m} \\right)_{\\text{num}}\n",
    "\\end{bmatrix}\n",
    "$$\n",
    "\n",
    "The common way of measuring the difference between vectors is the following:\n",
    "$$\n",
    "\\text{er} = \\frac{\\|\\nabla f(\\mathbf{x}) - \\nabla_{\\text{num}\\,\\,}f(\\mathbf{x})\\|_2^2}{\\|\\nabla f(\\mathbf{x})\\|_2^2} = \\frac{\\sum_{j=1}^{m}\\left(\\nabla^j f(\\mathbf{x}) - \\nabla^j_{\\text{num}\\,\\,}f(\\mathbf{x})\\right)^2}{\\sum_{j=1}^{m}\\left(\\nabla^j f(\\mathbf{x})\\right)^2}\n",
    "$$"
   ]
  },
  {
   "cell_type": "code",
   "execution_count": null,
   "metadata": {
    "ExecuteTime": {
     "end_time": "2018-06-19T01:43:52.657444Z",
     "start_time": "2018-06-19T01:43:52.460108Z"
    }
   },
   "outputs": [],
   "source": [
    "class TweakedLinearRegressionHomegrown(BasicLinearRegressionHomegrown):\n",
    "    \n",
    "    def __init__(self):\n",
    "        # call the constructor of the parent class\n",
    "        super(TweakedLinearRegressionHomegrown, self).__init__()\n",
    "        self.history[\"grad_num\"] = []\n",
    "        \n",
    "    @staticmethod\n",
    "    def _gradient_approximation(f, x):\n",
    "        \"\"\"\n",
    "        Returns the numerical gradient of the function f at the point x\n",
    "\n",
    "        Args:\n",
    "            f(callable): function that takes the point x as an input \n",
    "                         and returns the value of the function\n",
    "            x(ndarray): numpy array which contains the coordinates \n",
    "                        of the point to evaluate gradient\n",
    "        Return:\n",
    "            grad_num(ndarray): the numerical approximation \n",
    "                               of the gradient\n",
    "        \"\"\"\n",
    "\n",
    "        grad_num = np.zeros(len(x))\n",
    "\n",
    "        alpha = 0.001\n",
    "        #==================================================#\n",
    "        #               Your code starts here              #\n",
    "        #==================================================#\n",
    "\n",
    "        # TODO - change above to\n",
    "        # for i in range(len(x)):\n",
    "        #     h = np.zeros(len(x))\n",
    "        #     h[i] += alpha\n",
    "        #     grad_num[i] = ...\n",
    "        #==================================================#\n",
    "        #               Your code ends here                #\n",
    "        #==================================================#\n",
    "\n",
    "        return grad_num\n",
    "    \n",
    "    \n",
    "    def _grad_num(self, X, y):\n",
    "        \"\"\"\n",
    "        Returns the numerical gradient of the LinearRegression \n",
    "        objective function\n",
    "\n",
    "        Args:\n",
    "            X(ndarray): train objects\n",
    "            y(ndarray): answers for train objects\n",
    "        Return:\n",
    "            grad_num(ndarray): the numerical approximation \n",
    "                               of the gradient\n",
    "        \"\"\"\n",
    "        \n",
    "        grad_num = np.zeros(X.shape[1])\n",
    "        \n",
    "        def f(a):\n",
    "        #==================================================#\n",
    "        #               Your code starts here              #\n",
    "        #==================================================#     \n",
    " \n",
    "        # TODO - change above to\n",
    "        #     pred = ...\n",
    "        #     error = ...\n",
    "        #     mse = ...\n",
    "        #     return ...\n",
    "        #==================================================#\n",
    "        #               Your code ends here                #\n",
    "        #==================================================#            \n",
    "        \n",
    "        grad_num = self._gradient_approximation(f, self._theta)\n",
    "        \n",
    "        return grad_num\n",
    "    \n",
    "    def _gd(self, X, y, max_iter, alpha=0.001):\n",
    "        \"\"\"\n",
    "        Runs GD and logs error, weigths, gradient and \n",
    "        numerical gradient at every step\n",
    "\n",
    "        Args:\n",
    "            X(ndarray):      train objects\n",
    "            y(ndarray):      answers for train objects\n",
    "            max_iter(int):   number of EPOCHS, i.e., full passes over data\n",
    "            batch_size(int): number of samples in one batch\n",
    "            alpha(floar):    step size in direction of gradient\n",
    "        Return:\n",
    "            None\n",
    "        \"\"\"\n",
    "        for i in range(max_iter):\n",
    "            self.history[\"coef\"].append(self._theta[1:].copy())\n",
    "            self.history[\"intercept\"].append(self._theta[0].copy())\n",
    "            \n",
    "            rmse = self.score(X, y)\n",
    "            self.history[\"cost\"].append(rmse)\n",
    "\n",
    "            grad = self._grad(X, y)\n",
    "            self.history[\"grad\"].append(grad)\n",
    "            \n",
    "            grad_num = self._grad_num(X, y)\n",
    "            self.history[\"grad_num\"].append(grad_num)\n",
    "            \n",
    "            self._theta -= alpha * grad"
   ]
  },
  {
   "cell_type": "markdown",
   "metadata": {},
   "source": [
    "Create model"
   ]
  },
  {
   "cell_type": "code",
   "execution_count": null,
   "metadata": {
    "ExecuteTime": {
     "end_time": "2018-06-19T01:43:52.663789Z",
     "start_time": "2018-06-19T01:43:52.659957Z"
    }
   },
   "outputs": [],
   "source": [
    "model_homegrown_check_grad = TweakedLinearRegressionHomegrown()"
   ]
  },
  {
   "cell_type": "markdown",
   "metadata": {},
   "source": [
    "Fitting"
   ]
  },
  {
   "cell_type": "code",
   "execution_count": null,
   "metadata": {
    "ExecuteTime": {
     "end_time": "2018-06-19T01:44:14.175056Z",
     "start_time": "2018-06-19T01:43:52.666559Z"
    }
   },
   "outputs": [],
   "source": [
    "np.random.seed(42)\n",
    "\n",
    "model_homegrown_check_grad.fit(X_train, y_train, max_iter=40000)"
   ]
  },
  {
   "cell_type": "markdown",
   "metadata": {},
   "source": [
    "Plotting error curves"
   ]
  },
  {
   "cell_type": "code",
   "execution_count": null,
   "metadata": {
    "ExecuteTime": {
     "end_time": "2018-06-19T01:44:14.184010Z",
     "start_time": "2018-06-19T01:44:14.177372Z"
    }
   },
   "outputs": [],
   "source": [
    "def relative_error(grad, grad_num):\n",
    "    return np.sum((grad - grad_num) ** 2, axis=1) * 1. / np.sum(grad ** 2, axis=1)"
   ]
  },
  {
   "cell_type": "code",
   "execution_count": null,
   "metadata": {
    "ExecuteTime": {
     "end_time": "2018-06-19T01:44:14.190069Z",
     "start_time": "2018-06-19T01:44:14.185977Z"
    }
   },
   "outputs": [],
   "source": [
    "def absolute_error(grad, grad_num):\n",
    "    return np.sum((grad - grad_num) ** 2, axis=1) * 1."
   ]
  },
  {
   "cell_type": "code",
   "execution_count": null,
   "metadata": {
    "ExecuteTime": {
     "end_time": "2018-06-19T01:44:14.243494Z",
     "start_time": "2018-06-19T01:44:14.192315Z"
    }
   },
   "outputs": [],
   "source": [
    "grad_num = np.array(model_homegrown_check_grad.history[\"grad_num\"])\n",
    "grad = np.array(model_homegrown_check_grad.history[\"grad\"])"
   ]
  },
  {
   "cell_type": "code",
   "execution_count": null,
   "metadata": {
    "ExecuteTime": {
     "end_time": "2018-06-19T01:44:14.598018Z",
     "start_time": "2018-06-19T01:44:14.246270Z"
    }
   },
   "outputs": [],
   "source": [
    "plt.figure(figsize=(20, 8))\n",
    "plt.suptitle(\"Numerical approximation of gradient quality\")\n",
    "plt.subplot(121)\n",
    "plt.plot(relative_error(grad, grad_num))\n",
    "plt.xlabel(\"Iteration\")\n",
    "plt.ylabel(\"Relative error\")\n",
    "plt.subplot(122)\n",
    "plt.plot(absolute_error(grad, grad_num))\n",
    "plt.xlabel(\"Iteration\")\n",
    "plt.ylabel(\"Absolute error\")\n",
    "plt.show()"
   ]
  },
  {
   "cell_type": "markdown",
   "metadata": {},
   "source": [
    "# Optional Assignment: Stochastic Gradient Descent\n",
    "* Implement stochastic gradient descent algorithm as a member of a class\n",
    "* Check that analytical gradient is right via numerical gradient function from **TweakedLinearRegressionHomegrown**"
   ]
  },
  {
   "cell_type": "markdown",
   "metadata": {},
   "source": [
    "In Full GD we do a descent step only after the calculation of the gradient over the whole set of data. In this case the gradient is precise and gives the best possible direction. But it can require quite a lot of time if we have huge amounts of data. \n",
    "\n",
    "In practice we can get faster convergence if we calculate the gradient not over the whole set of data but over the small (size of $B$) **batch** of it.\n",
    "\n",
    "$$\n",
    "\\nabla f(\\boldsymbol{\\theta}) \\approx \\nabla_{\\text{batch}\\,\\,} f(\\boldsymbol{\\theta}) = \\frac{2}{n}\\sum_{i=1}^{B}\\left(\\mathbf{x}'_{a_i}\\cdot \\boldsymbol{\\theta} - y_{a_i}\\right)\\cdot \\mathbf{x}'_{a_i}\n",
    "$$\n",
    "where $a_i$ is an array of indices of objects which are in this batch. Common approach here that you should use is to shuffle samples randomly and then iterate over them with batches.\n",
    "\n",
    "So with this batch approach we get an approximation of the real gradient in point $\\boldsymbol{\\theta}$. This approximation is very cheap and fast to compute (usually $B$ is not too big $-$ from 32 to 256). After obtaining this gradient we do a descent step in this approximate direction and proceed to the next stage of batch descent."
   ]
  },
  {
   "cell_type": "code",
   "execution_count": null,
   "metadata": {
    "ExecuteTime": {
     "end_time": "2018-06-19T01:44:14.683779Z",
     "start_time": "2018-06-19T01:44:14.600112Z"
    }
   },
   "outputs": [],
   "source": [
    "class StochasticLinearRegressionHomegrown(TweakedLinearRegressionHomegrown):\n",
    "    \n",
    "    def __init__(self):\n",
    "        # call the constructor of the parent class\n",
    "        super(StochasticLinearRegressionHomegrown, self).__init__()\n",
    "        self.history[\"grad_num\"] = []\n",
    "    \n",
    "    def _sgd(self, X, y, max_iter, batch_size, alpha=0.0005):\n",
    "        \"\"\"\n",
    "        Runs Stochastic GD and logs error, weigths, gradient and \n",
    "        numerical gradient at every step\n",
    "\n",
    "        Args:\n",
    "            X(ndarray):      train objects\n",
    "            y(ndarray):      answers for train objects\n",
    "            max_iter(int):   number of EPOCHS, i.e., full passes over data\n",
    "            batch_size(int): number of samples in one batch\n",
    "            alpha(floar):    step size in direction of gradient\n",
    "        Return:\n",
    "            None\n",
    "        \"\"\"\n",
    "        \n",
    "        for epoch in range(max_iter):\n",
    "            idxs = np.random.permutation(X.shape[0])\n",
    "            X = X[idxs]\n",
    "            y = y[idxs]\n",
    "            #==================================================#\n",
    "            #               Your code starts here              #\n",
    "            #==================================================#             \n",
    "            \n",
    "            # TODO - change above to\n",
    "            # for i in range(...):\n",
    "            #==================================================#\n",
    "            #               Your code ends here                #\n",
    "            #==================================================#            \n",
    "                \n",
    "                self.history[\"coef\"].append(self._theta[1:].copy())\n",
    "                self.history[\"intercept\"].append(self._theta[0].copy())\n",
    "                \n",
    "                rmse = self.score(X, y)\n",
    "                self.history[\"cost\"].append(rmse)\n",
    "                \n",
    "                # calculate gradient\n",
    "                grad = self._grad(X[i:i + batch_size], y[i:i + batch_size])\n",
    "                self.history[\"grad\"].append(grad)\n",
    "                \n",
    "                # numerical gradient\n",
    "                grad_num = self._grad_num(X[i:i + batch_size], y[i:i + batch_size])\n",
    "                self.history[\"grad_num\"].append(grad_num)\n",
    "            \n",
    "                # do gradient step\n",
    "                self._theta -= alpha * grad\n",
    "        \n",
    "        \n",
    "    def fit(self, X, y, max_iter=1000, batch_size=16):\n",
    "        \"\"\"\n",
    "        Public API for fitting a linear regression model\n",
    "\n",
    "        Args:\n",
    "            X(ndarray):      train objects\n",
    "            y(ndarray):      answers for train objects\n",
    "            max_iter(int):   number of EPOCHS, i.e., full passes over data\n",
    "            batch_size(int): number of samples in one batch\n",
    "        Return:\n",
    "            self\n",
    "        \"\"\"\n",
    "        X = np.c_[np.ones(X.shape[0]), X]\n",
    "        if self._theta is None:\n",
    "            self._theta = np.random.rand(X.shape[1])\n",
    "\n",
    "        self._sgd(X, y, max_iter, batch_size)\n",
    "        \n",
    "        self.intercept_ = self._theta[0]\n",
    "        self.coef_ = self._theta[1:]\n",
    "        return self"
   ]
  },
  {
   "cell_type": "markdown",
   "metadata": {},
   "source": [
    "Create model"
   ]
  },
  {
   "cell_type": "code",
   "execution_count": null,
   "metadata": {
    "ExecuteTime": {
     "end_time": "2018-06-19T01:44:14.690328Z",
     "start_time": "2018-06-19T01:44:14.685876Z"
    }
   },
   "outputs": [],
   "source": [
    "model_homegrown_sgd = StochasticLinearRegressionHomegrown()"
   ]
  },
  {
   "cell_type": "markdown",
   "metadata": {},
   "source": [
    "Fitting"
   ]
  },
  {
   "cell_type": "code",
   "execution_count": null,
   "metadata": {
    "ExecuteTime": {
     "end_time": "2018-06-19T01:44:29.242094Z",
     "start_time": "2018-06-19T01:44:14.692737Z"
    }
   },
   "outputs": [],
   "source": [
    "np.random.seed(42)\n",
    "\n",
    "model_homegrown_sgd.fit(X_train, y_train, max_iter=1500)"
   ]
  },
  {
   "cell_type": "code",
   "execution_count": null,
   "metadata": {
    "ExecuteTime": {
     "end_time": "2018-06-19T01:44:29.474989Z",
     "start_time": "2018-06-19T01:44:29.245636Z"
    }
   },
   "outputs": [],
   "source": [
    "plt.figure(figsize=(10, 8))\n",
    "plt.plot(model_homegrown_sgd.history[\"cost\"], label=\"Train\")\n",
    "plt.xlabel(\"Iteration\")\n",
    "plt.ylabel(\"RMSE\")\n",
    "plt.title(\"Linear Regression via Stochastic Gradient Descent\")\n",
    "plt.legend(frameon=True)\n",
    "plt.show()"
   ]
  },
  {
   "cell_type": "markdown",
   "metadata": {},
   "source": [
    "Evaluation"
   ]
  },
  {
   "cell_type": "code",
   "execution_count": null,
   "metadata": {
    "ExecuteTime": {
     "end_time": "2018-06-19T01:44:29.481707Z",
     "start_time": "2018-06-19T01:44:29.477736Z"
    }
   },
   "outputs": [],
   "source": [
    "models = [model_sk, model_homegrown, model_homegrown_sgd]\n",
    "models_names = [\"Sklearn\", \"Homegrown Full GD\", \"Homegrown SGD\"]"
   ]
  },
  {
   "cell_type": "code",
   "execution_count": null,
   "metadata": {
    "ExecuteTime": {
     "end_time": "2018-06-19T01:44:29.497665Z",
     "start_time": "2018-06-19T01:44:29.484216Z"
    }
   },
   "outputs": [],
   "source": [
    "evaluate(models, metrics, samples, metrics_names, models_names)"
   ]
  },
  {
   "cell_type": "markdown",
   "metadata": {},
   "source": [
    "## L1 and L2 regularization from scratch\n",
    "Incorporate L1 and L2 regularization for the BasicLinearRegressionHomegrown class developed above.  Start with L2 regularization."
   ]
  },
  {
   "cell_type": "code",
   "execution_count": null,
   "metadata": {
    "ExecuteTime": {
     "end_time": "2018-06-19T01:44:29.517889Z",
     "start_time": "2018-06-19T01:44:29.500291Z"
    }
   },
   "outputs": [],
   "source": [
    "class RegularizedLinearRegressionHomegrown(BasicLinearRegressionHomegrown):\n",
    "    \n",
    "    def __init__(self, l1_reg=0.0, l2_reg=0.0):\n",
    "        # call the constructor of the parent class\n",
    "        super(RegularizedLinearRegressionHomegrown, self).__init__()\n",
    "        self.l1_reg = l1_reg\n",
    "        self.l2_reg = l2_reg\n",
    "        \n",
    "    def _grad(self, X, y):\n",
    "        \"\"\"\n",
    "        Calculate the gradient of the objective function \n",
    "        with L1 and L2 regularizations\n",
    "\n",
    "        Args:\n",
    "            X(ndarray):        train objects\n",
    "            y(ndarray):        answers for train objects\n",
    "        Return:\n",
    "            gradient(ndarray): analytical gradient vector\n",
    "        \"\"\"\n",
    "        pred = np.dot(X, self._theta)\n",
    "        error = pred - y\n",
    "        gradient = 2 * np.dot(error, X) / X.shape[0]\n",
    "        # penalties only for weights\n",
    "        gradient[1:] += 2 * self.l2_reg * self._theta[1:] + self.l1_reg * np.sign(self._theta[1:])\n",
    "        return gradient"
   ]
  },
  {
   "cell_type": "code",
   "execution_count": null,
   "metadata": {
    "ExecuteTime": {
     "end_time": "2018-06-19T01:44:29.524639Z",
     "start_time": "2018-06-19T01:44:29.520303Z"
    }
   },
   "outputs": [],
   "source": [
    "model_homegrown_regularized_l2 = RegularizedLinearRegressionHomegrown(l1_reg=0.0, l2_reg=0.1)\n",
    "model_homegrown_regularized_l1 = RegularizedLinearRegressionHomegrown(l1_reg=1.0, l2_reg=0.0)"
   ]
  },
  {
   "cell_type": "code",
   "execution_count": null,
   "metadata": {
    "ExecuteTime": {
     "end_time": "2018-06-19T01:44:33.294028Z",
     "start_time": "2018-06-19T01:44:29.527102Z"
    }
   },
   "outputs": [],
   "source": [
    "np.random.seed(42)\n",
    "\n",
    "model_homegrown_regularized_l2.fit(X_train, y_train, max_iter=40000)\n",
    "model_homegrown_regularized_l1.fit(X_train, y_train, max_iter=40000)"
   ]
  },
  {
   "cell_type": "code",
   "execution_count": null,
   "metadata": {
    "ExecuteTime": {
     "end_time": "2018-06-19T01:44:33.301161Z",
     "start_time": "2018-06-19T01:44:33.296672Z"
    }
   },
   "outputs": [],
   "source": [
    "models = [model_sk, model_homegrown, model_homegrown_regularized_l2, model_homegrown_regularized_l1]\n",
    "models_names = [\"Sklearn\", \"Homegrown\", \"Homegrown Regularized L2\", \"Homegrown Regularized L1\"]"
   ]
  },
  {
   "cell_type": "code",
   "execution_count": null,
   "metadata": {
    "ExecuteTime": {
     "end_time": "2018-06-19T01:44:33.543868Z",
     "start_time": "2018-06-19T01:44:33.303865Z"
    }
   },
   "outputs": [],
   "source": [
    "plt.figure(figsize=(12, 8))\n",
    "plt.bar(np.arange(model_homegrown.coef_.shape[0]) - 0.2, model_homegrown.coef_, width=0.2, label=\"No reg\")\n",
    "plt.bar(np.arange(model_homegrown_regularized_l2.coef_.shape[0]), model_homegrown_regularized_l2.coef_, width=0.2, label=\"L2\")\n",
    "plt.bar(np.arange(model_homegrown_regularized_l1.coef_.shape[0]) + 0.2, model_homegrown_regularized_l1.coef_, width=0.2, label=\"L1\")\n",
    "plt.xticks(np.arange(model_sk.coef_.shape[0]), X.columns, rotation='vertical')\n",
    "plt.xlim([-1, model_sk.coef_.shape[0]])\n",
    "plt.title(\"Model coefficients comparison\")\n",
    "plt.legend();"
   ]
  },
  {
   "cell_type": "code",
   "execution_count": null,
   "metadata": {
    "ExecuteTime": {
     "end_time": "2018-06-19T01:44:33.553961Z",
     "start_time": "2018-06-19T01:44:33.546290Z"
    }
   },
   "outputs": [],
   "source": [
    "print(\"2-norm of weights:\\n\")\n",
    "print(\"{:10s}{:.2f}\".format(\"No reg:\", np.linalg.norm(model_homegrown.coef_)))\n",
    "print(\"{:10s}{:.2f}\".format(\"L2:\", np.linalg.norm(model_homegrown_regularized_l2.coef_)))\n",
    "print(\"{:10s}{:.2f}\".format(\"L1:\", np.linalg.norm(model_homegrown_regularized_l1.coef_)))"
   ]
  },
  {
   "cell_type": "code",
   "execution_count": null,
   "metadata": {
    "ExecuteTime": {
     "end_time": "2018-06-19T01:44:33.564506Z",
     "start_time": "2018-06-19T01:44:33.556327Z"
    }
   },
   "outputs": [],
   "source": [
    "print(\"Number of non-zero coefficients:\\n\")\n",
    "print(\"{:10s}{:d}\".format(\"No reg:\", np.sum(np.abs(model_homegrown.coef_) > 1e-2)))\n",
    "print(\"{:10s}{:d}\".format(\"L2:\", np.sum(np.abs(model_homegrown_regularized_l2.coef_) > 1e-2)))\n",
    "print(\"{:10s}{:d}\".format(\"L1:\", np.sum(np.abs(model_homegrown_regularized_l1.coef_) > 1e-2)))"
   ]
  },
  {
   "cell_type": "markdown",
   "metadata": {},
   "source": [
    "# Optional Assignment: Adaptive step size [no bonus points for this question]"
   ]
  },
  {
   "cell_type": "markdown",
   "metadata": {},
   "source": [
    "## Line Search of the step size\n",
    "Instead of doing a gradient step with the fixed step size ($\\alpha=0.0005$) consider it as a variable after choosing the step directon (gradient one) and try to optimize it. In other words solve analyticaly the following 1D optimization problem:\n",
    "\n",
    "$$\n",
    "f\\left(\\boldsymbol{\\theta}_{t} - \\alpha \\cdot \\nabla f(\\boldsymbol{\\theta}_{t})\\right) \\rightarrow \\min_{\\alpha}\n",
    "$$\n",
    "\n"
   ]
  },
  {
   "cell_type": "markdown",
   "metadata": {},
   "source": [
    "## Modify your GD model to use adaptive step size\n",
    "* What happens?\n",
    "* How does it influence the time in terms of number of iterations?"
   ]
  },
  {
   "cell_type": "code",
   "execution_count": null,
   "metadata": {
    "ExecuteTime": {
     "end_time": "2018-06-19T01:44:33.603065Z",
     "start_time": "2018-06-19T01:44:33.566628Z"
    }
   },
   "outputs": [],
   "source": [
    "class OptimalStepBasicLinearRegressionHomegrown(BasicLinearRegressionHomegrown):\n",
    "       \n",
    "    def __init__(self):\n",
    "        super(OptimalStepBasicLinearRegressionHomegrown, self).__init__()\n",
    "        self.history[\"alpha\"] = []\n",
    "        \n",
    "    def _gd(self, X, y, max_iter):\n",
    "        \"\"\"\n",
    "        Runs GD and logs error, weigths, gradient at every step.\n",
    "        Here the optimal step size used with formulas from above.\n",
    "\n",
    "        Args:\n",
    "            X(ndarray):      train objects\n",
    "            y(ndarray):      answers for train objects\n",
    "            max_iter(int):   number of weight updates\n",
    "        Return:\n",
    "            None\n",
    "        \"\"\"\n",
    "        \n",
    "        for i in range(max_iter):\n",
    "            \n",
    "            self.history[\"coef\"].append(self._theta[1:].copy())\n",
    "            self.history[\"intercept\"].append(self._theta[0].copy())\n",
    "            \n",
    "            rmse = self.score(X, y)\n",
    "            self.history[\"cost\"].append(rmse)\n",
    "\n",
    "            # calculate gradient\n",
    "            grad = self._grad(X, y)\n",
    "            self.history[\"grad\"].append(grad)\n",
    "            \n",
    "            # optimum step size\n",
    "        \n",
    "            #==================================================#\n",
    "            #               Your code starts here              #\n",
    "            #==================================================#\n",
    "            alpha = X.shape[0] / 2. * (np.linalg.norm(grad) / np.linalg.norm(X.dot(grad))) ** 2\n",
    "            # TODO: \n",
    "            # alpha =...\n",
    "            #==================================================#\n",
    "            #               Your code ends here                #\n",
    "            #==================================================#\n",
    "            self.history[\"alpha\"] = alpha\n",
    "            \n",
    "            # do gradient step\n",
    "            self._theta -= alpha * grad"
   ]
  },
  {
   "cell_type": "code",
   "execution_count": null,
   "metadata": {
    "ExecuteTime": {
     "end_time": "2018-06-19T01:44:33.609203Z",
     "start_time": "2018-06-19T01:44:33.605459Z"
    }
   },
   "outputs": [],
   "source": [
    "model_homegrown_optimal_step = OptimalStepBasicLinearRegressionHomegrown()"
   ]
  },
  {
   "cell_type": "code",
   "execution_count": null,
   "metadata": {
    "ExecuteTime": {
     "end_time": "2018-06-19T01:44:35.852036Z",
     "start_time": "2018-06-19T01:44:33.611503Z"
    }
   },
   "outputs": [],
   "source": [
    "np.random.seed(42)\n",
    "\n",
    "model_homegrown_optimal_step.fit(X_train, y_train, max_iter=40000)"
   ]
  },
  {
   "cell_type": "code",
   "execution_count": null,
   "metadata": {
    "ExecuteTime": {
     "end_time": "2018-06-19T01:44:35.857737Z",
     "start_time": "2018-06-19T01:44:35.854189Z"
    }
   },
   "outputs": [],
   "source": [
    "models = [model_sk, model_homegrown, model_homegrown_optimal_step]\n",
    "models_names = [\"Sklearn\", \"Homegrown\", \"Homegrown with Optimal step size\"]"
   ]
  },
  {
   "cell_type": "code",
   "execution_count": null,
   "metadata": {
    "ExecuteTime": {
     "end_time": "2018-06-19T01:44:35.872682Z",
     "start_time": "2018-06-19T01:44:35.859737Z"
    }
   },
   "outputs": [],
   "source": [
    "evaluate(models, metrics, samples, metrics_names, models_names)"
   ]
  },
  {
   "cell_type": "code",
   "execution_count": null,
   "metadata": {
    "ExecuteTime": {
     "end_time": "2018-06-19T01:44:36.089481Z",
     "start_time": "2018-06-19T01:44:35.874831Z"
    }
   },
   "outputs": [],
   "source": [
    "plt.figure(figsize=(10, 8))\n",
    "plt.plot(model_homegrown_optimal_step.history[\"cost\"], label=\"Optimal step\")\n",
    "plt.plot(model_homegrown.history[\"cost\"], label=\"Constant step\")\n",
    "plt.xlabel(\"Iteration\")\n",
    "plt.ylabel(\"RMSE\")\n",
    "plt.title(\"Linear Regression via Gradient Descent\\nwith optimal step size\")\n",
    "plt.legend(frameon=True);"
   ]
  },
  {
   "cell_type": "code",
   "execution_count": null,
   "metadata": {},
   "outputs": [],
   "source": []
  }
 ],
 "metadata": {
  "anaconda-cloud": {},
  "kernelspec": {
   "display_name": "Python 3",
   "language": "python",
   "name": "python3"
  },
  "language_info": {
   "codemirror_mode": {
    "name": "ipython",
    "version": 3
   },
   "file_extension": ".py",
   "mimetype": "text/x-python",
   "name": "python",
   "nbconvert_exporter": "python",
   "pygments_lexer": "ipython3",
   "version": "3.7.7"
  },
  "toc": {
   "base_numbering": 1,
   "nav_menu": {
    "height": "318px",
    "width": "252px"
   },
   "number_sections": true,
   "sideBar": true,
   "skip_h1_title": false,
   "title_cell": "Table of Contents",
   "title_sidebar": "Contents",
   "toc_cell": false,
   "toc_position": {
    "height": "771px",
    "left": "0px",
    "right": "1376px",
    "top": "107px",
    "width": "455.688px"
   },
   "toc_section_display": "block",
   "toc_window_display": true
  },
  "toc-autonumbering": true,
  "varInspector": {
   "cols": {
    "lenName": 16,
    "lenType": 16,
    "lenVar": 40
   },
   "kernels_config": {
    "python": {
     "delete_cmd_postfix": "",
     "delete_cmd_prefix": "del ",
     "library": "var_list.py",
     "varRefreshCmd": "print(var_dic_list())"
    },
    "r": {
     "delete_cmd_postfix": ") ",
     "delete_cmd_prefix": "rm(",
     "library": "var_list.r",
     "varRefreshCmd": "cat(var_dic_list()) "
    }
   },
   "types_to_exclude": [
    "module",
    "function",
    "builtin_function_or_method",
    "instance",
    "_Feature"
   ],
   "window_display": false
  }
 },
 "nbformat": 4,
 "nbformat_minor": 4
}
