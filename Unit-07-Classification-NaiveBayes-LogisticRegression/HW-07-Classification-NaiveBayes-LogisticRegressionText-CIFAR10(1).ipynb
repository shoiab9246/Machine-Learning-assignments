{
 "cells": [
  {
   "cell_type": "markdown",
   "metadata": {},
   "source": [
    "# Homework 07\n",
    "\n",
    "`By   : Dr. James G. Shanahan\n",
    "EMAIL: James.Shanahan AT Gmail.com`"
   ]
  },
  {
   "cell_type": "markdown",
   "metadata": {},
   "source": [
    "# Task: Logistic Regression basics"
   ]
  },
  {
   "cell_type": "markdown",
   "metadata": {},
   "source": [
    "## Task: Unnormalized perpendicular distance"
   ]
  },
  {
   "cell_type": "markdown",
   "metadata": {},
   "source": [
    "Consider a three-class classification problem with the following separating hyperplanes:\n",
    "\n",
    "\\begin{align}\n",
    "1^{st\\:}class\\:\\:\\:\\:\\:\\:4x_1+x_{2\\:\\:}-2=0 \\\\\n",
    "2^{nd\\:}class\\:\\:\\:\\:\\:\\:-2x_1+2x_{2\\:\\:}-11=0 \\\\\n",
    "3^{rd\\:}class\\:\\:\\:\\:\\:-3x_1-3x_{2\\:\\:}-1=0 \n",
    "\\end{align}\n",
    "\n",
    "\n",
    "Calculate the score (unnormalized perpendicular distance) for each class for the test case $\\left(x_1,x_2\\right)=\\:\\left(-1,1\\right) $\n",
    "\n",
    "Complete the code below to get the results"
   ]
  },
  {
   "cell_type": "code",
   "execution_count": null,
   "metadata": {},
   "outputs": [],
   "source": [
    "import numpy as np\n",
    "\n",
    "W = np.transpose(np.array([[4., 1.], \n",
    "              [-2., 2.], \n",
    "              [-3., -3.]])).reshape(2, 3)\n",
    "b = np.array([-2.,-11., -1.])\n",
    "x = np.array([-1., 1.])\n",
    "#==================================================#\n",
    "#               Your code starts here              #\n",
    "#==================================================#\n",
    "\n",
    "scores= .....\n",
    "print(np.round(scores,3))\n",
    "#==================================================#\n",
    "#               Your code ends here                #\n",
    "#               Please don't add code below here   #\n",
    "#==================================================#"
   ]
  },
  {
   "cell_type": "markdown",
   "metadata": {},
   "source": [
    "## Task:  Log Loss for logistic regression"
   ]
  },
  {
   "cell_type": "markdown",
   "metadata": {},
   "source": [
    "Consider two points $x_1$   and $x_2$.  $x_1$  belongs to class 0 and $x_2$  belongs to class 1 ( $y_1=0 $ and $y_2=1$) \n",
    "\n",
    "A logistic regression model predicts the class of $x_1$  with a probability of 0.3 and predicts the class of $x_2$ with a probability of 0.6\n",
    "\n",
    "The log loss formula for the binary case is as follows : $-\\frac{1}{m}\\sum^m_{i=1}\\left(y_i\\cdot\\:\\log\\:\\left(p_i\\right)\\:+\\:\\left(1-y_i\\right)\\cdot\\log\\left(1-p_i\\right)\\right) $\n",
    "\n",
    "where $m$  is the number of data points , log is Natural Logarithm\n",
    "\n",
    "Calculate the log loss for the points $x_1$  and $x_2$\n",
    "\n",
    "Please report your answer to three decimal places (e.g., report .4554 as .455)."
   ]
  },
  {
   "cell_type": "markdown",
   "metadata": {},
   "source": [
    "| point| Class| Probability|\n",
    "| --- | --- | --- |\n",
    "|  $x_1$ | 0 | 0.3|\n",
    "|  $x_2$ | 1 | 0.6|\n"
   ]
  },
  {
   "cell_type": "code",
   "execution_count": null,
   "metadata": {},
   "outputs": [],
   "source": [
    "import numpy as np\n",
    "def LogLossBinary(actual, predicted, eps = 1e-15): \n",
    "    predicted = np.minimum(np.maximum(predicted, eps), 1-eps) #avoid precision problems at 0, and 1\n",
    "    #==================================================#\n",
    "    #               Your code starts here              #\n",
    "    #==================================================#\n",
    "    return( )\n",
    "    #==================================================#\n",
    "    #               Your code ends here                #\n",
    "    #               Please don't add code below here   #\n",
    "    #==================================================#\n",
    "print(f'{np.round(LogLossBinary(np.array([0, 1]),np.array([0.3, 0.6])), 3)}')\n",
    "print(f'{np.round((- np.log(1-0.3) - np.log(0.6))/2, 3)}')"
   ]
  },
  {
   "cell_type": "markdown",
   "metadata": {},
   "source": [
    "## Task:  Log Loss for multinomial logistic regression\n",
    "\n",
    "The log loss (aka cross entropy) formula for the multi case is as follows : $$CXE(actual, predicted) = -\\frac{1}{m}\\sum^m_{i=1}\\left(actual_i\\cdot\\:\\log\\:\\left(predicted_i\\right)\\:)\\right) $$\n",
    "\n",
    "where $m$  is the number of data points, and $log$ is Natural Logarithm\n",
    "\n",
    "Complete the code to calculate the CXE for the test cases provided. Verify you response using the sklearn.metrics.log_loss.\n",
    "\n",
    "Please report your answer to three decimal places (e.g., report .4554 as .455)."
   ]
  },
  {
   "cell_type": "code",
   "execution_count": null,
   "metadata": {},
   "outputs": [],
   "source": [
    "import numpy as np\n",
    "from sklearn.metrics import log_loss\n",
    "# homemade CXE\n",
    "def cross_entropy(predictions, targets):\n",
    "    #==================================================#\n",
    "    #               Your code starts here              #\n",
    "    #==================================================#\n",
    "    m = ...\n",
    "    cxe = -1/m*np.sum(....)\n",
    "    #==================================================#\n",
    "    #               Your code ends here                #\n",
    "    #               Please don't add code below here   #\n",
    "    #==================================================#    \n",
    "    return cxe\n",
    "\n",
    "# 2 test cases with 4 possible target classes\n",
    "predictions = np.array([[0.25,0.25,0.25,0.25],\n",
    "                        [0.01,0.01,0.01,0.97]])\n",
    "targets = np.array([[1,0,0,0],\n",
    "                   [0,0,0,1]])\n",
    "\n",
    "homemadeCXE = cross_entropy(predictions, targets)\n",
    "print(np.round(log_loss(targets, predictions),3), 'homemade CXE:', np.round(homemadeCXE,3))"
   ]
  },
  {
   "cell_type": "markdown",
   "metadata": {},
   "source": [
    "## Task:  Gradient Descent for logistic regression"
   ]
  },
  {
   "cell_type": "markdown",
   "metadata": {},
   "source": [
    "Assume you are learning a logistic  regression model  with two a training set consisting of two examples:\n",
    "\n",
    "$x_1$  = 1 belongs to class 0 ($y_1=0$ )<br />\n",
    "$x_2$= 2 belongs to class 1 ($y_2=1 $) <br />\n",
    "\n",
    "The current model weight vector is  W = [1,1], where W[0] denotes the bias term.<br />\n",
    "\n",
    "Assume a learning rate,  $\\alpha= 0.1$ <br />\n",
    "\n",
    "Assume the gradient is defined as follows:\n",
    "\n",
    " $\\frac{\\delta E}{\\delta W} = \\frac{1}{m}\\sum^m_{i=1}\\left(p\\left(x_i\\right)-y_i\\:\\right)\\cdot X\\:\\:\\:where\\:p\\left(x\\right)\\:=\\:\\frac{1}{1+\\:e^{-W^Tx}}\\:\\: $  and $ m $ is the number of data points\n",
    "\n",
    "What is the value of W after applying one iteration of gradient descent?\n",
    "\n",
    "Please report your response to three decimal places."
   ]
  },
  {
   "cell_type": "code",
   "execution_count": null,
   "metadata": {},
   "outputs": [],
   "source": [
    "import numpy as np\n",
    "X=np.array([[1,1],[1,2]])\n",
    "w= np.array([1,1])\n",
    "y= np.array([0,1])\n",
    "#==================================================#\n",
    "#               Your code starts here              #\n",
    "#==================================================#\n",
    "perpDist= \n",
    "p =1 / (1 + np.exp(-perpDist)) #sigmoid\n",
    "gradient = \n",
    "print(f'predictions: {p}')\n",
    "print(f'Gradient: {gradient}')\n",
    "print(f'w before: {w}')\n",
    "lr = 0.1\n",
    "print(f'lr * Gradient: {lr *gradient}')\n",
    "w = \n",
    "print(f'w after: {np.round(w,3)}')       \n",
    "#==================================================#\n",
    "#               Your code ends here                #\n",
    "#               Please don't add code below here   #\n",
    "#==================================================#"
   ]
  },
  {
   "cell_type": "markdown",
   "metadata": {},
   "source": [
    "# CIFAR10"
   ]
  },
  {
   "cell_type": "markdown",
   "metadata": {},
   "source": [
    "DOWNLOAD DATA FROM [HERE](http://www.cs.toronto.edu/~kriz/cifar-10-python.tar.gz) AND PUT IT TO THE DATA FOLDER\n",
    "\n",
    "The [CIFAR-10](http://www.cs.toronto.edu/~kriz/cifar.html) dataset consists of 60000 32x32 colour images in 10 classes, with 6000 images per class. There are 50000 training images and 10000 test images.\n",
    "\n",
    "The classes are completely mutually exclusive. There is no overlap between automobiles and trucks. \"Automobile\" includes sedans, SUVs, things of that sort. \"Truck\" includes only big trucks. Neither includes pickup trucks. Such a situation is called **multiclass** classification in oppose to **multilabel** classification when each example may have multiple label.\n",
    "\n",
    "One can see state-of-the-art results [here](http://rodrigob.github.io/are_we_there_yet/build/classification_datasets_results.html)"
   ]
  },
  {
   "cell_type": "code",
   "execution_count": null,
   "metadata": {
    "ExecuteTime": {
     "end_time": "2018-06-27T14:22:30.010553Z",
     "start_time": "2018-06-27T14:22:28.286221Z"
    }
   },
   "outputs": [],
   "source": [
    "import _pickle as cPickle\n",
    "import tarfile\n",
    "\n",
    "import numpy as np\n",
    "import pandas as pd\n",
    "\n",
    "from sklearn.linear_model import LogisticRegression\n",
    "from sklearn.model_selection import train_test_split\n",
    "from sklearn.metrics import accuracy_score\n",
    "\n",
    "import matplotlib\n",
    "import matplotlib.pyplot as plt\n",
    "import seaborn as sns\n",
    "\n",
    "import warnings\n",
    "warnings.filterwarnings('ignore')\n",
    "%matplotlib inline"
   ]
  },
  {
   "cell_type": "markdown",
   "metadata": {},
   "source": [
    "Set style for plotting"
   ]
  },
  {
   "cell_type": "code",
   "execution_count": null,
   "metadata": {
    "ExecuteTime": {
     "end_time": "2018-06-27T14:22:30.024577Z",
     "start_time": "2018-06-27T14:22:30.019040Z"
    }
   },
   "outputs": [],
   "source": [
    "sns.set(style=\"whitegrid\", font_scale=1.3)\n",
    "matplotlib.rcParams[\"legend.framealpha\"] = 1\n",
    "matplotlib.rcParams[\"legend.frameon\"] = True"
   ]
  },
  {
   "cell_type": "markdown",
   "metadata": {},
   "source": [
    "Fix random seed for reproducibility"
   ]
  },
  {
   "cell_type": "code",
   "execution_count": null,
   "metadata": {},
   "outputs": [],
   "source": [
    "np.random.seed(42)"
   ]
  },
  {
   "cell_type": "markdown",
   "metadata": {},
   "source": [
    "## Data"
   ]
  },
  {
   "cell_type": "markdown",
   "metadata": {},
   "source": [
    "Unarchive data"
   ]
  },
  {
   "cell_type": "code",
   "execution_count": null,
   "metadata": {
    "ExecuteTime": {
     "end_time": "2018-06-24T00:10:50.811438Z",
     "start_time": "2018-06-24T00:10:50.537432Z"
    }
   },
   "outputs": [],
   "source": [
    "tar = tarfile.open(\"data/cifar-10-python.tar.gz\", \"r:gz\")\n",
    "tar.extractall(\"data\")\n",
    "tar.close()"
   ]
  },
  {
   "cell_type": "markdown",
   "metadata": {},
   "source": [
    "## Reading"
   ]
  },
  {
   "cell_type": "markdown",
   "metadata": {},
   "source": [
    "Data are stored as a memory dump with python $\\text{dict}$ object. It was created using **pickle** function. To read one should \"unpickle\" it."
   ]
  },
  {
   "cell_type": "code",
   "execution_count": null,
   "metadata": {
    "ExecuteTime": {
     "end_time": "2018-06-25T13:59:58.774950Z",
     "start_time": "2018-06-25T13:59:58.769771Z"
    }
   },
   "outputs": [],
   "source": [
    "def unpickle(file):\n",
    "    fo = open(file, 'rb')\n",
    "    dict = cPickle.load(fo, encoding=\"latin1\")\n",
    "    fo.close()\n",
    "    return dict"
   ]
  },
  {
   "cell_type": "markdown",
   "metadata": {},
   "source": [
    "Data are also splitted in to 5 pieces for conveniece. Let's read them all and concatenate"
   ]
  },
  {
   "cell_type": "code",
   "execution_count": null,
   "metadata": {
    "ExecuteTime": {
     "end_time": "2018-06-24T18:04:07.700145Z",
     "start_time": "2018-06-24T18:04:07.096937Z"
    }
   },
   "outputs": [],
   "source": [
    "for b in range(1, 6):\n",
    "    data_batch = unpickle(\"data/cifar-10-batches-py/data_batch_\" + str(b))\n",
    "    if b == 1:\n",
    "        X_train = data_batch[\"data\"]\n",
    "        y_train = np.array(data_batch[\"labels\"])\n",
    "    else:\n",
    "        X_train = np.append(X_train, data_batch[\"data\"], axis=0)\n",
    "        y_train = np.append(y_train, data_batch[\"labels\"], axis=0)"
   ]
  },
  {
   "cell_type": "markdown",
   "metadata": {},
   "source": [
    "Read test data. In this dataset train/test split is provided by authors of the dataset to be able to consistently evaluate solutions"
   ]
  },
  {
   "cell_type": "code",
   "execution_count": null,
   "metadata": {
    "ExecuteTime": {
     "end_time": "2018-06-24T18:04:09.412708Z",
     "start_time": "2018-06-24T18:04:09.341606Z"
    }
   },
   "outputs": [],
   "source": [
    "data_batch = unpickle(\"data/cifar-10-batches-py/test_batch\")\n",
    "X_test = data_batch[\"data\"]\n",
    "y_test = np.array(data_batch[\"labels\"])"
   ]
  },
  {
   "cell_type": "markdown",
   "metadata": {},
   "source": [
    "Read meta-information file with the names of the classes"
   ]
  },
  {
   "cell_type": "code",
   "execution_count": null,
   "metadata": {
    "ExecuteTime": {
     "end_time": "2018-06-24T18:04:09.788097Z",
     "start_time": "2018-06-24T18:04:09.779669Z"
    }
   },
   "outputs": [],
   "source": [
    "classes = unpickle(\"data/cifar-10-batches-py/batches.meta\")[\"label_names\"]"
   ]
  },
  {
   "cell_type": "markdown",
   "metadata": {},
   "source": [
    "## Pre-processing"
   ]
  },
  {
   "cell_type": "markdown",
   "metadata": {},
   "source": [
    "We have too many data"
   ]
  },
  {
   "cell_type": "code",
   "execution_count": null,
   "metadata": {
    "ExecuteTime": {
     "end_time": "2018-06-24T18:04:11.513813Z",
     "start_time": "2018-06-24T18:04:11.506152Z"
    }
   },
   "outputs": [],
   "source": [
    "print(\"Train size:\", X_train.shape[0])\n",
    "print(\"Test size:\", X_test.shape[0])"
   ]
  },
  {
   "cell_type": "markdown",
   "metadata": {},
   "source": [
    "Let's take only 10% of them to train faster"
   ]
  },
  {
   "cell_type": "code",
   "execution_count": null,
   "metadata": {
    "ExecuteTime": {
     "end_time": "2018-06-24T18:04:12.856320Z",
     "start_time": "2018-06-24T18:04:12.853162Z"
    }
   },
   "outputs": [],
   "source": [
    "subsample_rate = 0.1\n",
    "np.random.seed(42)"
   ]
  },
  {
   "cell_type": "markdown",
   "metadata": {},
   "source": [
    "We want to preserve the same quantity ratio between classes. In python such an option is called **stratification**. Let's randomly (with fixed initial seed for the sake of reproducibility) divide part of train data"
   ]
  },
  {
   "cell_type": "code",
   "execution_count": null,
   "metadata": {
    "ExecuteTime": {
     "end_time": "2018-06-24T18:04:13.854036Z",
     "start_time": "2018-06-24T18:04:13.672594Z"
    }
   },
   "outputs": [],
   "source": [
    "X_train, _, y_train, _ = train_test_split(X_train, y_train, stratify=y_train, train_size=subsample_rate, random_state=42)"
   ]
  },
  {
   "cell_type": "markdown",
   "metadata": {},
   "source": [
    "The same for test"
   ]
  },
  {
   "cell_type": "code",
   "execution_count": null,
   "metadata": {
    "ExecuteTime": {
     "end_time": "2018-06-24T18:04:14.572748Z",
     "start_time": "2018-06-24T18:04:14.548444Z"
    }
   },
   "outputs": [],
   "source": [
    "X_test, _, y_test, _ = train_test_split(X_test, y_test, stratify=y_test, train_size=subsample_rate, random_state=42)"
   ]
  },
  {
   "cell_type": "markdown",
   "metadata": {},
   "source": [
    "Indeed, we preserved the number of objects of each class"
   ]
  },
  {
   "cell_type": "code",
   "execution_count": null,
   "metadata": {
    "ExecuteTime": {
     "end_time": "2018-06-24T18:04:16.945533Z",
     "start_time": "2018-06-24T18:04:16.937049Z"
    }
   },
   "outputs": [],
   "source": [
    "unique_train = np.unique(y_train, return_counts=True)\n",
    "list(zip(np.array(classes)[unique_train[0]], unique_train[1]))"
   ]
  },
  {
   "cell_type": "markdown",
   "metadata": {},
   "source": [
    "## Visualization"
   ]
  },
  {
   "cell_type": "markdown",
   "metadata": {},
   "source": [
    "For now each object has the following shape"
   ]
  },
  {
   "cell_type": "code",
   "execution_count": null,
   "metadata": {
    "ExecuteTime": {
     "end_time": "2018-06-24T18:04:18.527866Z",
     "start_time": "2018-06-24T18:04:18.521986Z"
    }
   },
   "outputs": [],
   "source": [
    "X_train[0].shape"
   ]
  },
  {
   "cell_type": "markdown",
   "metadata": {},
   "source": [
    "$3072 = 32 \\times 32 \\times 3$ where $32 \\times 32$ is the size of the image in pixels and $3$ is the number of channels (RGB)\n",
    "\n",
    "To show this array as an image let's reshape it in the needed from with the shape $(32, 32, 1)$"
   ]
  },
  {
   "cell_type": "code",
   "execution_count": null,
   "metadata": {
    "ExecuteTime": {
     "end_time": "2018-06-25T20:19:18.128589Z",
     "start_time": "2018-06-25T20:19:18.123999Z"
    }
   },
   "outputs": [],
   "source": [
    "def show_pic(x):\n",
    "    plt.imshow(x.reshape((3, 32, 32)).transpose(1, 2, 0).astype(\"uint8\"))\n",
    "    plt.axis(\"off\")"
   ]
  },
  {
   "cell_type": "markdown",
   "metadata": {},
   "source": [
    "Draw one pic from each class"
   ]
  },
  {
   "cell_type": "code",
   "execution_count": null,
   "metadata": {
    "ExecuteTime": {
     "end_time": "2018-06-24T18:04:19.232922Z",
     "start_time": "2018-06-24T18:04:19.227362Z"
    }
   },
   "outputs": [],
   "source": [
    "classes_idx_examples = np.zeros(10, dtype=np.int)\n",
    "for i in range(10):\n",
    "    classes_idx_examples[i] = np.where(y_train == i)[0][0]"
   ]
  },
  {
   "cell_type": "code",
   "execution_count": null,
   "metadata": {
    "ExecuteTime": {
     "end_time": "2018-06-24T18:04:20.090520Z",
     "start_time": "2018-06-24T18:04:19.431438Z"
    }
   },
   "outputs": [],
   "source": [
    "plt.figure(figsize=(12, 5))\n",
    "for i in range(10):\n",
    "    plt.subplot(2, 5, i + 1)\n",
    "    show_pic(X_train[classes_idx_examples[i]])\n",
    "    plt.title(classes[i])"
   ]
  },
  {
   "cell_type": "markdown",
   "metadata": {},
   "source": [
    "# Sklearn Logistic Regression"
   ]
  },
  {
   "cell_type": "markdown",
   "metadata": {},
   "source": [
    "Let's use Sklearn implementation of algorithms to have a benchmark.\n",
    "\n",
    "Also one should **always** track the results of the experiments to be able to compare different approaches. Let's create pandas $\\text{DataFrame}$ for this purpose."
   ]
  },
  {
   "cell_type": "code",
   "execution_count": null,
   "metadata": {
    "ExecuteTime": {
     "end_time": "2018-06-24T18:04:20.126348Z",
     "start_time": "2018-06-24T18:04:20.121756Z"
    }
   },
   "outputs": [],
   "source": [
    "results = pd.DataFrame(columns=[\"Model\", \"Test Accuracy\"])"
   ]
  },
  {
   "cell_type": "markdown",
   "metadata": {},
   "source": [
    "For now it is empty, but will be filled in later"
   ]
  },
  {
   "cell_type": "code",
   "execution_count": null,
   "metadata": {
    "ExecuteTime": {
     "end_time": "2018-06-24T18:04:20.284876Z",
     "start_time": "2018-06-24T18:04:20.277348Z"
    }
   },
   "outputs": [],
   "source": [
    "results"
   ]
  },
  {
   "cell_type": "markdown",
   "metadata": {},
   "source": [
    "## Defining model"
   ]
  },
  {
   "cell_type": "markdown",
   "metadata": {},
   "source": [
    "Let's try Multinomial Logistic Regression (see theory in lectures)\n",
    "Sklearn implementation of LogRegression implies mandatory usage of regularization (it almost always works better with it preventing overfitting). We want to explore very basic LogRegression model thus to \"disable\" regularization we need to reduce its impact to almost zero. It can be done by setting regularization constant $\\lambda$ to very small value (in sklearn we define inverse regularization constant $C = 1 / \\lambda$ thus we need to make it big)\n",
    "\n",
    "Here we use Sklearn $\\text{LogisticRegression}$ with few options:\n",
    "* $\\text{multi_class} = \\text{\"multinomial\"} -$we want to build softmax classifier (there are other ways of dealing with multiclass setting for Logistic Regression)\n",
    "* $\\text{C} = 10^6-$ for now we don't want to use regularization; $\\text{C}$ is the inverse regularization constant which is $\\text{C} = \\frac{1}{\\lambda}$; thus we should make $\\text{C}$ big to turn off regulazrization\n",
    "* $\\text{solver} = \\text{sag} -$ optimization algorithm to use; Stochastic Average Gradient. Stochastic Gradient Descent method gitters massively. This is due to the not very good approximation of gradient (only by one example). To neglect this error one can simply average gradient across last few steps; that is exectly what $\\text{sag}$ does\n",
    "* $\\text{max_iter} = 15 -$ the number of passes over the training data (aka epochs)"
   ]
  },
  {
   "cell_type": "code",
   "execution_count": null,
   "metadata": {
    "ExecuteTime": {
     "end_time": "2018-06-24T18:04:22.043037Z",
     "start_time": "2018-06-24T18:04:22.039372Z"
    }
   },
   "outputs": [],
   "source": [
    "np.random.seed(42)\n",
    "model_lr_sklearn = LogisticRegression(multi_class=\"multinomial\", C=1e6, solver=\"sag\", max_iter=15)"
   ]
  },
  {
   "cell_type": "markdown",
   "metadata": {},
   "source": [
    "### Fitting"
   ]
  },
  {
   "cell_type": "code",
   "execution_count": null,
   "metadata": {
    "ExecuteTime": {
     "end_time": "2018-06-24T18:04:40.817169Z",
     "start_time": "2018-06-24T18:04:32.628253Z"
    }
   },
   "outputs": [],
   "source": [
    "model_lr_sklearn.fit(X_train, y_train)"
   ]
  },
  {
   "cell_type": "markdown",
   "metadata": {},
   "source": [
    "### Evaluation"
   ]
  },
  {
   "cell_type": "markdown",
   "metadata": {},
   "source": [
    "Prediction"
   ]
  },
  {
   "cell_type": "code",
   "execution_count": null,
   "metadata": {
    "ExecuteTime": {
     "end_time": "2018-06-24T18:04:46.117353Z",
     "start_time": "2018-06-24T18:04:46.097031Z"
    }
   },
   "outputs": [],
   "source": [
    "y_pred_test = model_lr_sklearn.predict(X_test)"
   ]
  },
  {
   "cell_type": "markdown",
   "metadata": {},
   "source": [
    "Accuracy"
   ]
  },
  {
   "cell_type": "code",
   "execution_count": null,
   "metadata": {
    "ExecuteTime": {
     "end_time": "2018-06-24T18:04:46.780505Z",
     "start_time": "2018-06-24T18:04:46.776577Z"
    }
   },
   "outputs": [],
   "source": [
    "acc = accuracy_score(y_test, y_pred_test)"
   ]
  },
  {
   "cell_type": "markdown",
   "metadata": {},
   "source": [
    "Keeping table of results up-to-date"
   ]
  },
  {
   "cell_type": "code",
   "execution_count": null,
   "metadata": {
    "ExecuteTime": {
     "end_time": "2018-06-24T18:04:47.450418Z",
     "start_time": "2018-06-24T18:04:47.437374Z"
    }
   },
   "outputs": [],
   "source": [
    "results.loc[len(results)] = [\"LR Sklearn\", np.round(acc, 3)]\n",
    "results"
   ]
  },
  {
   "cell_type": "markdown",
   "metadata": {},
   "source": [
    "Keeping table of results up-to-date"
   ]
  },
  {
   "cell_type": "markdown",
   "metadata": {},
   "source": [
    "# Assignments begin here"
   ]
  },
  {
   "cell_type": "markdown",
   "metadata": {},
   "source": [
    "# The Great Race\n",
    "\n",
    "## BG: Part 1: Pima Diabetes classification\n",
    "\n",
    "It is important to compare the performance of multiple different machine learning algorithms\n",
    "consistently. In this chapter you will discover how you can create a test harness to compare\n",
    "multiple different machine learning algorithms in Python with scikit-learn. You can use this\n",
    "test harness as a template on your own machine learning problems and add more and different\n",
    "algorithms to compare. After completing this lesson you will know:\n",
    "\n",
    "1. How to formulate an experiment to directly compare machine learning algorithms.\n",
    "2. A reusable template for evaluating the performance of multiple algorithms on one dataset.\n",
    "3. How to report and visualize the results when comparing algorithm performance.\n",
    "\n",
    "In the example below six different classification\n",
    "algorithms (some of which you will recognize!) are compared on a single dataset:\n",
    "\n",
    "*  Logistic Regression\n",
    "*  Linear Discriminant Analysis\n",
    "*  k-Nearest Neighbors\n",
    "*  Classification and Regression Trees\n",
    "*  Naive Bayes\n",
    "* Support Vector Machines.\n",
    "\n",
    "The dataset is the Pima Indians onset of diabetes problem. The problem has two classes and\n",
    "eight numeric input variables of varying scales. The 10-fold cross-validation procedure is used to\n",
    "evaluate each algorithm, importantly configured with the same random seed to ensure that the\n",
    "same splits to the training data are performed and that each algorithm is evaluated in precisely\n",
    "the same way. Each algorithm is given a short name, useful for summarizing results afterward."
   ]
  },
  {
   "cell_type": "markdown",
   "metadata": {},
   "source": [
    "### Cross-Validation"
   ]
  },
  {
   "cell_type": "markdown",
   "metadata": {},
   "source": [
    "The common method to evaluate the model is cross-validation. The idea behind it is to divide the whole set of objects into $k$ sections and then use one section as a test set and other $k-1$ as a train (repeat it with all the sections).\n",
    "\n",
    "There is a special function for this in sklearn called $\\text{KFold}$. It creates set of indices for cross-validation."
   ]
  },
  {
   "cell_type": "code",
   "execution_count": null,
   "metadata": {
    "ExecuteTime": {
     "end_time": "2018-06-25T14:00:41.818148Z",
     "start_time": "2018-06-25T14:00:41.813498Z"
    }
   },
   "outputs": [],
   "source": [
    "#e.g., \n",
    "from sklearn.model_selection import KFold\n",
    "cv = KFold(n_splits=5, shuffle=True, random_state=42)"
   ]
  },
  {
   "cell_type": "markdown",
   "metadata": {},
   "source": [
    "Next step is to do everything that we've done before in a loop:\n",
    "* Split\n",
    "* Train\n",
    "* Evaluate\n",
    "\n",
    "And store the average value of the accuracy. Running the code below provides a list of each \"algorithm short name\", the mean accuracy and the standard deviation accuracy."
   ]
  },
  {
   "cell_type": "code",
   "execution_count": null,
   "metadata": {
    "ExecuteTime": {
     "end_time": "2018-06-25T14:00:52.781281Z",
     "start_time": "2018-06-25T14:00:52.011997Z"
    }
   },
   "outputs": [],
   "source": [
    "# Compare Algorithms\n",
    "from pandas import read_csv\n",
    "from matplotlib import pyplot\n",
    "from sklearn.model_selection import KFold\n",
    "from sklearn.model_selection import cross_val_score\n",
    "from sklearn.linear_model import LogisticRegression\n",
    "from sklearn.tree import DecisionTreeClassifier\n",
    "from sklearn.neighbors import KNeighborsClassifier\n",
    "from sklearn.discriminant_analysis import LinearDiscriminantAnalysis\n",
    "from sklearn.naive_bayes import GaussianNB\n",
    "from sklearn.svm import SVC\n",
    "# load dataset\n",
    "filename = 'data/pima-indians-diabetes.data.csv'\n",
    "names = ['preg', 'plas', 'pres', 'skin', 'test', 'mass', 'pedi', 'age', 'class']\n",
    "dataframe = read_csv(filename, names=names)\n",
    "array = dataframe.values\n",
    "X = array[:,0:8]\n",
    "Y = array[:,8]\n",
    "# prepare models\n",
    "np.random.seed(42)\n",
    "models = []\n",
    "models.append(('LR', LogisticRegression()))\n",
    "models.append(('LDA', LinearDiscriminantAnalysis()))\n",
    "models.append(('KNN', KNeighborsClassifier()))\n",
    "models.append(('CART', DecisionTreeClassifier()))\n",
    "models.append(('NB', GaussianNB()))\n",
    "models.append(('SVM', SVC()))\n",
    "# evaluate each model in turn\n",
    "results = []\n",
    "names = []\n",
    "scoring = 'accuracy'\n",
    "#Standardize the data\n",
    "for name, model in models:\n",
    "    kfold = KFold(n_splits=10, random_state=7)\n",
    "    cv_results = cross_val_score(model, X, Y, cv=kfold, scoring=scoring)\n",
    "    results.append(cv_results)\n",
    "    names.append(name)\n",
    "    msg = \"%s: %f (%f)\" % (name, cv_results.mean(), cv_results.std())\n",
    "    print(msg)\n",
    "# boxplot algorithm comparison\n",
    "fig = pyplot.figure()\n",
    "fig.suptitle('Classification Algorithm Comparison')\n",
    "ax = fig.add_subplot(111)\n",
    "pyplot.boxplot(results)\n",
    "ax.set_xticklabels(names)\n",
    "pyplot.grid()\n",
    "pyplot.show()"
   ]
  },
  {
   "cell_type": "markdown",
   "metadata": {},
   "source": [
    "Above we produced a box and whisker plot showing the spread of the accuracy scores\n",
    "across each cross-validation fold for each algorithm.\n",
    "\n",
    "From these results, it would suggest that both logistic regression and linear discriminant\n",
    "analysis are perhaps worthy of further study on this problem."
   ]
  },
  {
   "cell_type": "markdown",
   "metadata": {},
   "source": [
    "## Task: CIFAR10 Great Race \n",
    "Repeat the above RACE for the CIFAR10 dataset and draw some conclusions. Complete the code below."
   ]
  },
  {
   "cell_type": "markdown",
   "metadata": {},
   "source": [
    "### Reload CIFAR-10 dataset"
   ]
  },
  {
   "cell_type": "code",
   "execution_count": null,
   "metadata": {
    "ExecuteTime": {
     "end_time": "2018-06-24T18:05:00.458370Z",
     "start_time": "2018-06-24T18:04:59.815513Z"
    }
   },
   "outputs": [],
   "source": [
    "for b in range(1, 6):\n",
    "    data_batch = unpickle(\"data/cifar-10-batches-py/data_batch_\" + str(b))\n",
    "    if b == 1:\n",
    "        X_train = data_batch[\"data\"]\n",
    "        y_train = np.array(data_batch[\"labels\"])\n",
    "    else:\n",
    "        X_train = np.append(X_train, data_batch[\"data\"], axis=0)\n",
    "        y_train = np.append(y_train, data_batch[\"labels\"], axis=0)\n",
    "        \n",
    "data_batch = unpickle(\"data/cifar-10-batches-py/test_batch\")\n",
    "X_test = data_batch[\"data\"]\n",
    "y_test = np.array(data_batch[\"labels\"])\n",
    "\n",
    "classes = unpickle(\"data/cifar-10-batches-py/batches.meta\")[\"label_names\"]\n",
    "np.random.seed(42)\n",
    "subsample_rate = 0.02\n",
    "# Downsample the the train and test sets data\n",
    "#==================================================#\n",
    "#               Your code starts here              #\n",
    "#==================================================#\n",
    "X_train, _, y_train, _ = train_test_split(X_train, y_train, stratify=y_train, train_size=subsample_rate, random_state=42)\n",
    "X_test, _, y_test, _ = train_test_split(...)                     \n",
    "#==================================================#\n",
    "#               Your code ends here                #\n",
    "#               Please don't add code below here   #\n",
    "#==================================================#\n"
   ]
  },
  {
   "cell_type": "markdown",
   "metadata": {},
   "source": [
    "### Run Great Race on CIFAR-10 dataset"
   ]
  },
  {
   "cell_type": "code",
   "execution_count": null,
   "metadata": {
    "ExecuteTime": {
     "end_time": "2018-06-25T00:34:14.628836Z",
     "start_time": "2018-06-24T18:05:13.570032Z"
    }
   },
   "outputs": [],
   "source": [
    "%%time\n",
    "models = []\n",
    "models.append(('LR', LogisticRegression()))\n",
    "models.append(('LDA', LinearDiscriminantAnalysis()))\n",
    "models.append(('KNN', KNeighborsClassifier()))\n",
    "models.append(('CART', DecisionTreeClassifier()))\n",
    "models.append(('NB', GaussianNB()))\n",
    "models.append(('SVM', SVC()))\n",
    "# evaluate each model in turn\n",
    "results = []\n",
    "names = []\n",
    "scoring = 'accuracy'\n",
    "for name, model in models:\n",
    "    # set up cross validation scores \n",
    "    #==================================================#\n",
    "    #               Your code starts here              #\n",
    "    #==================================================#\n",
    "    # set kfold for 10 folds and random_state=7, also use shuffle=True\n",
    "    kfold = \n",
    "    #set cv_results with scoring=scoring variable (which is set to 'accuracy')\n",
    "    cv_results = cross_val_score()                        \n",
    "    #==================================================#\n",
    "    #               Your code ends here                #\n",
    "    #               Please don't add code below here   #\n",
    "    #==================================================#\n",
    "    results.append(cv_results)\n",
    "    names.append(name)\n",
    "    msg = \"%s: %f (%f)\" % (name, cv_results.mean(), cv_results.std())\n",
    "    print(msg)\n",
    "# boxplot algorithm comparison\n",
    "fig = pyplot.figure()\n",
    "fig.suptitle('Classification Algorithm Comparison')\n",
    "ax = fig.add_subplot(111)\n",
    "pyplot.boxplot(results)\n",
    "ax.set_xticklabels(names)\n",
    "pyplot.grid()\n",
    "pyplot.show()"
   ]
  },
  {
   "cell_type": "markdown",
   "metadata": {},
   "source": [
    "# Background: HyperParameter tuning on steroids\n",
    "\n",
    "Machine learning models are parameterized so that their behavior can be tuned for a given problem. Models can have many parameters and finding the best combination of parameters can be treated as a search problem. In this section you will revisit how to tune the parameters of machine learning algorithms in Python using the scikit-learn.\n",
    "\n",
    "Grid search is an approach to parameter tuning that will methodically build and evaluate a model for each combination of algorithm parameters specified in a grid. You can perform a grid search using the `GridSearchCV` class. \n",
    "In this section we will focus on setting up a pipeline for **text classifiction**, though it can be adapted to any machine learning problem."
   ]
  },
  {
   "cell_type": "markdown",
   "metadata": {},
   "source": [
    "## Pima Indian Grid Search  example\n",
    "The example below evaluates different alpha values for the Ridge Regression/LASSO algorithm on the Pima Diabetes binary classifiction data. This is a one-dimensional grid search.\n"
   ]
  },
  {
   "cell_type": "code",
   "execution_count": null,
   "metadata": {
    "ExecuteTime": {
     "end_time": "2018-06-15T18:48:33.125229Z",
     "start_time": "2018-06-15T18:48:33.064992Z"
    }
   },
   "outputs": [],
   "source": [
    "# Grid Search for Algorithm Tuning\n",
    "import numpy\n",
    "from pandas import read_csv\n",
    "from sklearn.linear_model import Ridge\n",
    "from sklearn.model_selection import GridSearchCV\n",
    "filename = 'data/pima-indians-diabetes.data.csv'\n",
    "names = ['preg', 'plas', 'pres', 'skin', 'test', 'mass', 'pedi', 'age', 'class']\n",
    "dataframe = read_csv(filename, names=names)\n",
    "array = dataframe.values\n",
    "X = array[:,0:8]\n",
    "Y = array[:,8]\n",
    "alphas = numpy.array([1,0.1,0.01,0.001,0.0001,0])\n",
    "param_grid = dict(alpha=alphas)\n",
    "model = Ridge()\n",
    "grid = GridSearchCV(estimator=model, param_grid=param_grid)\n",
    "grid.fit(X, Y)\n",
    "print(grid.best_score_)\n",
    "print(grid.best_estimator_.alpha)"
   ]
  },
  {
   "cell_type": "markdown",
   "metadata": {},
   "source": [
    "## Sample pipeline for text feature extraction and evaluation\n",
    "\n",
    "\n",
    "The dataset used in this section is the 20 newsgroups dataset which will be\n",
    "automatically downloaded and then cached and reused for the document\n",
    "classification example.\n",
    "\n",
    "<PRE>\n",
    ">>> from sklearn.datasets import fetch_20newsgroups\n",
    ">>> newsgroups_train = fetch_20newsgroups(subset='train')\n",
    "\n",
    ">>> from pprint import pprint\n",
    ">>> pprint(list(newsgroups_train.target_names))\n",
    "['alt.atheism',\n",
    " 'comp.graphics',\n",
    " 'comp.os.ms-windows.misc',\n",
    " 'comp.sys.ibm.pc.hardware',\n",
    " 'comp.sys.mac.hardware',\n",
    " 'comp.windows.x',\n",
    " 'misc.forsale',\n",
    " 'rec.autos',\n",
    " 'rec.motorcycles',\n",
    " 'rec.sport.baseball',\n",
    " 'rec.sport.hockey',\n",
    " 'sci.crypt',\n",
    " 'sci.electronics',\n",
    " 'sci.med',\n",
    " 'sci.space',\n",
    " 'soc.religion.christian',\n",
    " 'talk.politics.guns',\n",
    " 'talk.politics.mideast',\n",
    " 'talk.politics.misc',\n",
    " 'talk.religion.misc']\n",
    "</PRE>\n",
    "You can adjust the number of categories by giving their names to the dataset\n",
    "loader or setting them to None to get the 20 of them.\n",
    "\n",
    "Here is a sample output of a run on a quad-core machine::\n",
    "\n",
    "<PRE>  Loading 20 newsgroups dataset for categories:\n",
    "  ['alt.atheism', 'talk.religion.misc']\n",
    "  1427 documents\n",
    "  2 categories\n",
    "  \n",
    "  \n",
    "  Performing grid search...\n",
    "  pipeline: ['vect', 'tfidf', 'clf']\n",
    "  parameters:\n",
    "  {'clf__alpha': (1.0000000000000001e-05, 9.9999999999999995e-07),\n",
    "   'clf__n_iter': (10, 50, 80),\n",
    "   'clf__penalty': ('l2', 'elasticnet'),\n",
    "   'tfidf__use_idf': (True, False),\n",
    "   'vect__max_n': (1, 2),\n",
    "   'vect__max_df': (0.5, 0.75, 1.0),\n",
    "   'vect__max_features': (None, 5000, 10000, 50000)}\n",
    "  done in 1737.030s\n",
    "\n",
    "  Best score: 0.940\n",
    "  Best parameters set:\n",
    "      clf__alpha: 9.9999999999999995e-07\n",
    "      clf__n_iter: 50\n",
    "      clf__penalty: 'elasticnet'\n",
    "      tfidf__use_idf: True\n",
    "      vect__max_n: 2\n",
    "      vect__max_df: 0.75\n",
    "      vect__max_features: 50000\n",
    "</PRE>"
   ]
  },
  {
   "cell_type": "markdown",
   "metadata": {},
   "source": [
    "## From documents to a \"document by term\" frequency matrix  "
   ]
  },
  {
   "cell_type": "markdown",
   "metadata": {},
   "source": [
    "Convert a set of  documents to a \"document by term\" frequency matrix\n",
    "\n",
    "The following corpus: \n",
    "\n",
    "`corpus = [\n",
    "    'This is the first document.',\n",
    "    'This is the second second document.',\n",
    "    'And the third one.',\n",
    "    'Is this the first document?',\n",
    "]`\n",
    "\n",
    "gets converted to a \"document by term\" frequency matrix\n",
    "\n",
    "`array([[0, 1, 1, 1, 0, 0, 1, 0, 1],\n",
    "       [0, 1, 0, 1, 0, 2, 1, 0, 1],\n",
    "       [1, 0, 0, 0, 1, 0, 1, 1, 0],\n",
    "       [0, 1, 1, 1, 0, 0, 1, 0, 1]]\n",
    "       `\n",
    "\n",
    "where the 9 columns are labeled with the following 9 words extracted:\n",
    "\n",
    "`['and', 'document', 'first', 'is', 'one',\n",
    "      'second', 'the', 'third', 'this']`\n",
    "      \n",
    "By default, words of length 2 characters or more a kept as the vocabulary.\n",
    "\n",
    "For more details see (here)[http://scikit-learn.org/stable/modules/feature_extraction.html]"
   ]
  },
  {
   "cell_type": "code",
   "execution_count": null,
   "metadata": {
    "ExecuteTime": {
     "end_time": "2018-06-15T18:48:47.002350Z",
     "start_time": "2018-06-15T18:48:46.998949Z"
    }
   },
   "outputs": [],
   "source": [
    "# Let’s use the following corpus (text dataset).\n",
    "corpus = [\n",
    "    'This is the first document.',\n",
    "    'This is the second second document.',\n",
    "    'And the third one.',\n",
    "    'Is this the first document?',\n",
    "]"
   ]
  },
  {
   "cell_type": "code",
   "execution_count": null,
   "metadata": {
    "ExecuteTime": {
     "end_time": "2018-06-15T18:48:48.533424Z",
     "start_time": "2018-06-15T18:48:48.514388Z"
    }
   },
   "outputs": [],
   "source": [
    "#CountVectorizer implements both tokenization and occurrence counting in a single class:\n",
    "from sklearn.feature_extraction.text import CountVectorizer\n",
    "\n",
    "# Here we will tokenize and count the word occurrences of this minimalistic corpus of text documents:\n",
    "vectorizer = CountVectorizer() \n",
    "X = vectorizer.fit_transform(corpus)\n",
    "X                              \n",
    "#<4x9 sparse matrix of type '<... 'numpy.int64'>'\n",
    "#    with 19 stored elements in Compressed Sparse ... format>"
   ]
  },
  {
   "cell_type": "code",
   "execution_count": null,
   "metadata": {
    "ExecuteTime": {
     "end_time": "2018-06-15T18:48:53.525892Z",
     "start_time": "2018-06-15T18:48:53.519825Z"
    }
   },
   "outputs": [],
   "source": [
    "# The default configuration tokenizes the string by extracting words of at least 2 \n",
    "# letters. The specific function that does this step can be requested explicitly:  \n",
    "analyze = vectorizer.build_analyzer()\n",
    "analyze(\"This is a text document to analyze.\") == (\n",
    "    ['this', 'is', 'text', 'document', 'to', 'analyze'])"
   ]
  },
  {
   "cell_type": "code",
   "execution_count": null,
   "metadata": {
    "ExecuteTime": {
     "end_time": "2018-06-15T18:48:54.417175Z",
     "start_time": "2018-06-15T18:48:54.411592Z"
    }
   },
   "outputs": [],
   "source": [
    "vectorizer.get_feature_names() == (\n",
    "     ['and', 'document', 'first', 'is', 'one',\n",
    "      'second', 'the', 'third', 'this'])"
   ]
  },
  {
   "cell_type": "code",
   "execution_count": null,
   "metadata": {
    "ExecuteTime": {
     "end_time": "2018-06-15T18:50:40.578040Z",
     "start_time": "2018-06-15T18:50:40.566231Z"
    }
   },
   "outputs": [],
   "source": [
    "X.toarray()     #recover document by term frequency matrix        \n",
    "#array([[0, 1, 1, 1, 0, 0, 1, 0, 1],\n",
    "#       [0, 1, 0, 1, 0, 2, 1, 0, 1],\n",
    "#       [1, 0, 0, 0, 1, 0, 1, 1, 0],\n",
    "#       [0, 1, 1, 1, 0, 0, 1, 0, 1]]...)"
   ]
  },
  {
   "cell_type": "markdown",
   "metadata": {},
   "source": [
    "## Text classification pipeline"
   ]
  },
  {
   "cell_type": "markdown",
   "metadata": {},
   "source": [
    "Note below we use a generic Linear classifier class, SGDClassifier.  Here different classifiers can be engaged by specifying different loss fucntions. Here are some of the options (note we will focus on Logistic regression that is engaged thru specifying the loss as `'log'`:\n",
    "\n",
    "\n",
    "`loss : str, default: ‘hinge’\n",
    "\n",
    "The loss function to be used. Defaults to ‘hinge’, which gives a linear SVM.\n",
    "\n",
    "The possible options are ‘hinge’, ‘log’, ‘modified_huber’, ‘squared_hinge’, ‘perceptron’, or a regression loss: ‘squared_loss’, ‘huber’, ‘epsilon_insensitive’, or ‘squared_epsilon_insensitive’.\n",
    "\n",
    "The ‘log’ loss gives logistic regression, a probabilistic classifier. ‘modified_huber’ is another smooth loss that brings tolerance to outliers as well as probability estimates. ‘squared_hinge’ is like hinge but is quadratically penalized. ‘perceptron’ is the linear loss used by the perceptron algorithm. The other losses are designed for regression but can be useful in classification as well; see SGDRegressor for a description.`"
   ]
  },
  {
   "cell_type": "markdown",
   "metadata": {},
   "source": [
    "### EDA on 20 newsgroups dataset\n",
    "\n",
    "The 20 newsgroups dataset has 11314 training examples, 7532 test cases.\n",
    "\n",
    "\n",
    "#### Training Set"
   ]
  },
  {
   "cell_type": "code",
   "execution_count": null,
   "metadata": {
    "ExecuteTime": {
     "end_time": "2018-06-15T18:50:54.915705Z",
     "start_time": "2018-06-15T18:50:54.553993Z"
    }
   },
   "outputs": [],
   "source": [
    "from sklearn.datasets import fetch_20newsgroups\n",
    "# Uncomment the following to do the analysis on all the categories\n",
    "categories = None\n",
    "\n",
    "print(\"Loading 20 newsgroups dataset for categories:\")\n",
    "print(categories)\n",
    "\n",
    "trainData = fetch_20newsgroups(subset='train', categories=categories)\n",
    "data = trainData\n",
    "print(\"%d documents\" % len(data.filenames))\n",
    "print(\"%d categories\" % len(data.target_names))\n",
    "print()\n",
    "print(\"Sample document Target Class\", data.target_names[1], )\n",
    "print(\"Sample document body\", data.data[1], )\n",
    "print(len(data.data))"
   ]
  },
  {
   "cell_type": "markdown",
   "metadata": {},
   "source": [
    "#### Test Set"
   ]
  },
  {
   "cell_type": "code",
   "execution_count": null,
   "metadata": {
    "ExecuteTime": {
     "end_time": "2018-06-15T18:53:25.566130Z",
     "start_time": "2018-06-15T18:53:25.257704Z"
    }
   },
   "outputs": [],
   "source": [
    "print(categories)\n",
    "testData = fetch_20newsgroups(subset='test', categories=categories)\n",
    "data = testData\n",
    "print(\"%d documents\" % len(data.filenames))\n",
    "print(\"%d categories\" % len(data.target_names))\n",
    "print()\n",
    "print(\"Sample document Target Class [%s]\"% data.target_names[1], )\n",
    "print(\"Sample document body\", data.data[1], )\n",
    "print(len(data.data))"
   ]
  },
  {
   "cell_type": "code",
   "execution_count": null,
   "metadata": {
    "ExecuteTime": {
     "end_time": "2018-06-15T18:53:40.726487Z",
     "start_time": "2018-06-15T18:53:40.720618Z"
    }
   },
   "outputs": [],
   "source": [
    "print(\"Number of (Train, Test) data (%d, %d)\" %(len(trainData.data),  len(testData.data) ))"
   ]
  },
  {
   "cell_type": "code",
   "execution_count": null,
   "metadata": {
    "ExecuteTime": {
     "end_time": "2018-06-15T19:11:36.463115Z",
     "start_time": "2018-06-15T19:11:01.337976Z"
    }
   },
   "outputs": [],
   "source": [
    "%%time\n",
    "# This code is adopted  and has been modified from \n",
    "#\n",
    "# Author: Olivier Grisel <olivier.grisel@ensta.org>\n",
    "#         Peter Prettenhofer <peter.prettenhofer@gmail.com>\n",
    "#         Mathieu Blondel <mathieu@mblondel.org>\n",
    "# License: BSD 3 clause\n",
    "\n",
    "from __future__ import print_function\n",
    "\n",
    "from pprint import pprint\n",
    "from time import time\n",
    "import logging\n",
    "\n",
    "from sklearn.datasets import fetch_20newsgroups\n",
    "from sklearn.feature_extraction.text import CountVectorizer\n",
    "from sklearn.feature_extraction.text import TfidfTransformer\n",
    "from sklearn.linear_model import SGDClassifier\n",
    "from sklearn.model_selection import GridSearchCV\n",
    "from sklearn.pipeline import Pipeline\n",
    "%matplotlib inline\n",
    "\n",
    "print(__doc__)\n",
    "\n",
    "# Display progress logs on stdout\n",
    "logging.basicConfig(level=logging.INFO,\n",
    "                    format='%(asctime)s %(levelname)s %(message)s')\n",
    "\n",
    "\n",
    "# #############################################################################\n",
    "# Load some categories from the training set \n",
    "categories = [\n",
    "    'alt.atheism',\n",
    "    'talk.religion.misc',\n",
    "]\n",
    "# Uncomment the following to do the analysis on all the categories\n",
    "# categories = None\n",
    "\n",
    "print(\"Loading 20 newsgroups dataset for categories:\")\n",
    "print(categories)\n",
    "\n",
    "data = fetch_20newsgroups(subset='train', categories=categories)\n",
    "print(\"%d documents\" % len(data.filenames))\n",
    "print(\"%d categories\" % len(data.target_names))\n",
    "print()\n",
    "\n",
    "# #############################################################################\n",
    "# Define a pipeline combining a text feature extractor \n",
    "# with a simple classifier (logistic regression)\n",
    "\n",
    "pipeline = Pipeline([\n",
    "    ('vect', CountVectorizer()),  #http://scikit-learn.org/stable/modules/feature_extraction.html\n",
    "    #('tfidf', TfidfTransformer()), #ignore for now\n",
    "    ('clf', SGDClassifier(loss='log', max_iter=5)),  #let's use logistic regression\n",
    "])\n",
    "\n",
    "\n",
    "# uncommenting more parameters will give better exploring power but will\n",
    "# increase processing time in a combinatorial way\n",
    "parameters = { #listed in the form of \"step__parameter\", e.g, clf__penalty\n",
    "    #'vect__max_df': (0.5, 0.75, 1.0),\n",
    "    # jgs 'vect__max_features': (None, 500, 5000, 10000, 50000),\n",
    "    # jgs 'vect__ngram_range': ((1, 1), (1, 2)),  # unigrams (single words) or bigrams (or sequence of words of length 2)\n",
    "    #'tfidf__use_idf': (True, False),\n",
    "    #'tfidf__norm': ('l1', 'l2'),\n",
    "    'clf__alpha': (0.00001, 0.000001),\n",
    "    'clf__penalty': ('l1', 'l2', 'elasticnet'),\n",
    "    #'clf__penalty': ('l1', 'l2', 'elasticnet'),\n",
    "    #'clf__loss': ('log', 'hinge'),  #hinge linear SVM\n",
    "    #'clf__n_iter': (10, 50, 80),\n",
    "}\n",
    "\n",
    "if __name__ == \"__main__\":\n",
    "    # multiprocessing requires the fork to happen in a __main__ protected\n",
    "    # block\n",
    "\n",
    "    # find the best parameters for both the feature extraction and the\n",
    "    # classifier\n",
    "    # n_jobs=-1 means that the computation will be dispatched on all the CPUs of the computer.\n",
    "    #\n",
    "    # By default, the GridSearchCV uses a 3-fold cross-validation. However, if it \n",
    "    #            detects that a classifier is passed, rather than a regressor, it uses a stratified 3-fold.\n",
    "    grid_search = GridSearchCV(pipeline, parameters, cv=3, n_jobs=-1, verbose=1)\n",
    "\n",
    "    print(\"Performing grid search...\")\n",
    "    print(\"pipeline:\", [name for name, _ in pipeline.steps])\n",
    "    print(\"parameters:\")\n",
    "    pprint(parameters)\n",
    "    t0 = time()\n",
    "    grid_search.fit(data.data, data.target)\n",
    "    print(\"done in %0.3fs\" % (time() - t0))\n",
    "    print()\n",
    "    #print(\"grid_search.cv_results_\", grid_search.cv_results_)\n",
    "    #estimator : estimator object. This is assumed to implement the scikit-learn estimator interface.  \n",
    "    #            Either estimator needs to provide a score function, or scoring must be passed.\n",
    "    #Accuracy is the default for classification; feel free to change this to precision, recall, fbeta\n",
    "    print(\"Best score: %0.3f\" % grid_search.best_score_)\n",
    "    print(\"Best parameters set:\")\n",
    "    best_parameters = grid_search.best_estimator_.get_params()\n",
    "    for param_name in sorted(parameters.keys()):\n",
    "        print(\"\\t%s: %r\" % (param_name, best_parameters[param_name]))"
   ]
  },
  {
   "cell_type": "markdown",
   "metadata": {},
   "source": [
    "## Confusion matrices\n",
    "A confusion matrix is a table that is often used to describe the performance of a classification model (or \"classifier\") on a set of test data for which the true values are known. The confusion matrix itself is relatively simple to understand, but the related terminology can be confusing.\n",
    "\n",
    "Let's start with an example confusion matrix for a binary classifier (though it can easily be extended to the case of more than two classes):"
   ]
  },
  {
   "attachments": {
    "image.png": {
     "image/png": "[encoded data removed]"
    }
   },
   "cell_type": "markdown",
   "metadata": {},
   "source": [
    "![image.png](attachment:image.png)\n"
   ]
  },
  {
   "cell_type": "markdown",
   "metadata": {},
   "source": [
    "What can we learn from this matrix?\n",
    "\n",
    "* There are two possible predicted classes: \"yes\" and \"no\". If we were predicting the presence of a disease, for example, \"yes\" would mean they have the disease, and \"no\" would mean they don't have the disease.\n",
    "* The classifier made a total of 165 predictions (e.g., 165 patients were being tested for the presence of that disease).\n",
    "* Out of those 165 cases, the classifier predicted \"yes\" 110 times, and \"no\" 55 times.\n",
    "* In reality, 105 patients in the sample have the disease, and 60 patients do not.\n",
    "\n",
    "Let's now define the most basic terms, which are whole numbers (not rates):\n",
    "\n",
    "* true positives (TP): These are cases in which we predicted yes (they have the disease), and they do have the disease.\n",
    "* true negatives (TN): We predicted no, and they don't have the disease.\n",
    "* false positives (FP): We predicted yes, but they don't actually have the disease. (Also known as a \"Type I error.\")\n",
    "* false negatives (FN): We predicted no, but they actually do have the disease. (Also known as a \"Type II error.\")\n",
    "\n",
    "I've added these terms to the confusion matrix, and also added the row and column totals:"
   ]
  },
  {
   "attachments": {
    "image.png": {
     "image/png": "[encoded data removed]"
    }
   },
   "cell_type": "markdown",
   "metadata": {},
   "source": [
    "\n",
    "![image.png](attachment:image.png)\n",
    "This is a list of rates that are often computed from a confusion matrix for a binary classifier:\n",
    "\n",
    "* Accuracy: Overall, how often is the classifier correct?\n",
    "  * (TP+TN)/total = (100+50)/165 = 0.91\n",
    "* Misclassification Rate: Overall, how often is it wrong?\n",
    "  * (FP+FN)/total = (10+5)/165 = 0.09\n",
    "  * equivalent to 1 minus Accuracy\n",
    "  * also known as \"Error Rate\"\n",
    "* True Positive Rate: When it's actually yes, how often does it predict yes?\n",
    "  * TP/actual yes = 100/105 = 0.95\n",
    "  * also known as \"Sensitivity\" or \"Recall\"\n",
    "* False Positive Rate: When it's actually no, how often does it predict yes?\n",
    "  * FP/actual no = 10/60 = 0.17\n",
    "  * Specificity: When it's actually no, how often does it predict no?\n",
    "* TN/actual no = 50/60 = 0.83\n",
    "  * equivalent to 1 minus False Positive Rate\n",
    "* Precision: When it predicts yes, how often is it correct?\n",
    "  * TP/predicted yes = 100/110 = 0.91\n",
    "* Prevalence: How often does the yes condition actually occur in our sample?\n",
    "  * actual yes/total = 105/165 = 0.64"
   ]
  },
  {
   "cell_type": "markdown",
   "metadata": {},
   "source": [
    "## Example confusion matrix for the Iris Data\n",
    "\n",
    "#See labs for this unit for more details of this"
   ]
  },
  {
   "cell_type": "code",
   "execution_count": null,
   "metadata": {},
   "outputs": [],
   "source": [
    "from sklearn.datasets import load_iris\n",
    "from sklearn.model_selection import train_test_split\n",
    "from sklearn.linear_model import LogisticRegression\n",
    "import numpy as np\n",
    "import matplotlib.pyplot as plt\n",
    "import seaborn as sns\n",
    "\n",
    "iris = load_iris()\n",
    "\n",
    "X, y = iris.data, iris.target\n",
    "X_train, X_test, y_train, y_test = train_test_split(X, y, test_size=0.2, random_state=42)\n",
    "model = LogisticRegression(C=1e6, multi_class=\"multinomial\", solver=\"lbfgs\")\n",
    "model.fit(X_train, y_train)\n",
    "preds_test = model.predict(X_test)\n",
    "preds_train = model.predict(X_train)\n",
    "class_labels = [\"setosa\", \"versicolour\", \"virginica\"]"
   ]
  },
  {
   "cell_type": "code",
   "execution_count": null,
   "metadata": {},
   "outputs": [],
   "source": [
    "from sklearn.metrics import accuracy_score, confusion_matrix\n",
    "\n",
    "#See labs for this unit for more details of this\n",
    "cm_train = confusion_matrix(y_train, preds_train).astype(np.float32)\n",
    "cm_train /= cm_train.sum(axis=1)[:, np.newaxis]\n",
    "\n",
    "cm_test = confusion_matrix(y_test, preds_test).astype(np.float32)\n",
    "cm_test /= cm_test.sum(axis=1)[:, np.newaxis]"
   ]
  },
  {
   "cell_type": "markdown",
   "metadata": {},
   "source": [
    "Visualize them"
   ]
  },
  {
   "cell_type": "code",
   "execution_count": null,
   "metadata": {},
   "outputs": [],
   "source": [
    "plt.figure(figsize=(20, 8))\n",
    "\n",
    "plt.subplot(121)\n",
    "g = sns.heatmap(cm_train, vmin=0, vmax=1, annot=True, cmap=\"Reds\")\n",
    "plt.xlabel(\"Predicted\", fontsize=14)\n",
    "plt.ylabel(\"True\", fontsize=14)\n",
    "g.set(xticklabels=class_labels, yticklabels=class_labels)\n",
    "plt.title(\"Train\", fontsize=14)\n",
    "\n",
    "plt.subplot(122)\n",
    "g = sns.heatmap(cm_test, vmin=0, vmax=1, annot=True, cmap=\"Reds\")\n",
    "plt.xlabel(\"Predicted\", fontsize=14)\n",
    "plt.ylabel(\"True\", fontsize=14)\n",
    "g.set(xticklabels=class_labels, yticklabels=class_labels)\n",
    "plt.title(\"Test\", fontsize=14);"
   ]
  },
  {
   "cell_type": "markdown",
   "metadata": {},
   "source": [
    "Looking at the confusions matrices for training, setosa perfectly separates from two other classes. In the test confusion matrix we see perfect classification (very unusual and suspect in the real world)"
   ]
  },
  {
   "cell_type": "markdown",
   "metadata": {},
   "source": [
    "# Task:  20 class text classifier\n",
    "Using the gridsearch pipeline presented in the previous section, please adapt it to get your best configuration using cross fold validation on all 20 classes from the 20 newsgroups dataset. Here are some hyperparameters to consider but don't limit yourself to these:\n",
    "\n",
    "* penalty\n",
    "* number of terms\n",
    "* types of ngrams\n",
    "* linear classifier\n",
    "* TDIDF\n",
    "\n",
    "\n",
    "Have fun! Please report your best score and configuration. And discuss your confusion matrix analysis for the best configuration.\n"
   ]
  },
  {
   "cell_type": "markdown",
   "metadata": {},
   "source": [
    "##  Task: Pipeline & Grid search\n",
    "\n",
    "This grid search will take some time (at least 20 minutes or more to run on a 4-core machine). Recall the following GridSearch will use all available cores: \n",
    "\n",
    "```python\n",
    "GridSearchCV(pipelinee, parameters, cv=3, n_jobs=-1, verbose=1)\n",
    "```\n",
    "\n",
    "since `n_jobs` is set to `-1` \n",
    "\n",
    "Perform grid search where the score being used to evaluate each hyperparameter combination is `precision_macro`."
   ]
  },
  {
   "cell_type": "code",
   "execution_count": null,
   "metadata": {
    "ExecuteTime": {
     "end_time": "2018-06-27T14:57:21.628707Z",
     "start_time": "2018-06-27T14:23:05.964332Z"
    }
   },
   "outputs": [],
   "source": [
    "%%time\n",
    "\n",
    "from __future__ import print_function\n",
    "\n",
    "from pprint import pprint\n",
    "from time import time\n",
    "import logging\n",
    "\n",
    "from sklearn.datasets import fetch_20newsgroups\n",
    "from sklearn.feature_extraction.text import CountVectorizer\n",
    "from sklearn.feature_extraction.text import TfidfTransformer\n",
    "from sklearn.linear_model import SGDClassifier\n",
    "from sklearn.model_selection import GridSearchCV\n",
    "from sklearn.pipeline import Pipeline\n",
    "from sklearn.metrics import classification_report\n",
    "\n",
    "%matplotlib inline\n",
    "\n",
    "##############################################################################\n",
    "np.random.seed(42)\n",
    "\n",
    "# Use all categories for the analysis\n",
    "\n",
    "categories = None\n",
    "\n",
    "print(\"Loading 20 newsgroups dataset:\")\n",
    "\n",
    "data = fetch_20newsgroups(subset='train', categories=categories)\n",
    "\n",
    "print(\"%d documents\" % len(data.filenames))\n",
    "print(\"%d categories\" % len(data.target_names))\n",
    "print()\n",
    "\n",
    "\n",
    "# #############################################################################\n",
    "# Define a pipeline combining  text feature extractors \n",
    "#countVectorizer and TfidfTransformer\n",
    "# with SGDClassifier using log for loss and max_iter=5\n",
    "#==================================================#\n",
    "#               Your code starts here              #\n",
    "#==================================================#\n",
    "pipeline =                     \n",
    "#==================================================#\n",
    "#               Your code ends here                #\n",
    "#               Please don't add code below here   #\n",
    "#==================================================#\n",
    "\n",
    "\n",
    "\n",
    "if __name__ == \"__main__\":\n",
    "    # #############################################################################\n",
    "    # Set up Grid search using the defined pipeline \n",
    "    # and parameters \n",
    "    # Make sure to use 3 folds for cross validation\n",
    "    # use macro average precision scores scoring='precision_macro'\n",
    "    # I.e., macro average: compute precision for each class and take avg\n",
    "    #==================================================#\n",
    "    #               Your code starts here              #\n",
    "    #==================================================#\n",
    "    scoring='precision_macro'\n",
    "    # select handful of parameters to explore\n",
    "    parameters = {'vect__ngram_range': ((1,1),(1,2)),\n",
    "                 'tfidf__use_idf': (True, False),\n",
    "                 'clf__alpha': (.001, .0001), \n",
    "                 'clf__penalty': (.....), # please explore different regularization terms ('l1', 'l2', 'elasticnet'),\n",
    "                  'clf__l1_ratio': (.15,  .50)}\n",
    "    grid_search = GridSearchCV(.... scoring='precision_macro')                    \n",
    "    #==================================================#\n",
    "    #               Your code ends here                #\n",
    "    #               Please don't add code below here   #\n",
    "    #==================================================#\n",
    "    \n",
    "\n",
    "    print(\"Performing grid search...\")\n",
    "    print(\"pipeline:\", [name for name, _ in pipeline.steps])\n",
    "    print(\"parameters:\")\n",
    "    pprint(parameters)\n",
    "    t0 = time()\n",
    "    grid_search.fit(data.data, data.target)\n",
    "    print(\"done in %0.3fs\" % (time() - t0))\n",
    "    print()\n",
    "\n",
    "    print(\"Best parameters set found on development set:\")\n",
    "    print()\n",
    "    print(grid_search.best_params_)\n",
    "    print()\n",
    "    print(\"Grid scores on development set:\")\n",
    "    print()\n",
    "    means = grid_search.cv_results_['mean_test_score']\n",
    "    stds = grid_search.cv_results_['std_test_score']\n",
    "    for mean, std, params in zip(means, stds, grid_search.cv_results_['params']):\n",
    "         # print(\"%0.3f (+/-%0.03f) for %r\" % (mean, std * 2, params))\n",
    "         print()\n",
    "\n",
    "    '''print(\"Detailed classification report:\")\n",
    "    print()\n",
    "    print(\"The model is trained on the full development set.\")\n",
    "    print(\"The scores are computed on the full evaluation set.\")\n",
    "    print()\n",
    "    y_true, y_pred = y_test, grid_search.predict(X_test)\n",
    "    print(classification_report(y_true, y_pred))\n",
    "    print() \n",
    "    '''\n",
    "    \n",
    "    scoring='precision_macro'\n",
    "     # Print best accuracy score and best parameter combination\n",
    "    print(\"Best %s score: %0.3f\" %(scoring, grid_search.best_score_))\n",
    "    print(\"Best parameters set:\")\n",
    "    best_parameters = grid_search.best_estimator_.get_params()\n",
    "    for param_name in sorted(parameters.keys()):\n",
    "        print(\"\\t%s: %r\" % (param_name, best_parameters[param_name]))\n",
    "    #Sort the grid search results in decreasing order of average         \n",
    "    sortedGridSearchResults = sorted(zip(grid_search.cv_results_[\"params\"], grid_search.cv_results_[\"mean_test_score\"]), \n",
    "           key=lambda x: x[1], reverse=True)\n",
    "    print(f'Top 2 GridSearch results: ({scoring}, hyperparam Combo)\\n {sortedGridSearchResults[0]}\\n {sortedGridSearchResults[1]}\\n\\n\\n')\n",
    "    #print(f'{grid_search.cv_results_['mean_test_score']}')\n",
    "    print(f'{grid_search.cv_results_[\"mean_test_score\"]}')\n",
    "    print(f'{grid_search.cv_results_[\"params\"]}')\n",
    "    print(f'{grid_search.cv_results_}')  #show everything  \n",
    " "
   ]
  },
  {
   "cell_type": "markdown",
   "metadata": {},
   "source": [
    "## Confusion matrix for train data: "
   ]
  },
  {
   "cell_type": "code",
   "execution_count": null,
   "metadata": {
    "ExecuteTime": {
     "end_time": "2018-06-27T15:00:51.217810Z",
     "start_time": "2018-06-27T15:00:43.106400Z"
    }
   },
   "outputs": [],
   "source": [
    "from sklearn.metrics import accuracy_score, confusion_matrix\n",
    "import numpy as np\n",
    "preds_train = grid_search.best_estimator_.predict(data.data)\n",
    "\n",
    "cm_train = confusion_matrix(data.target, preds_train).astype(np.float32)\n",
    "cm_train /= cm_train.sum(axis=1)[:, np.newaxis]\n",
    "\n",
    "cm_train.size #20 classes by 20 classes"
   ]
  },
  {
   "cell_type": "code",
   "execution_count": null,
   "metadata": {
    "ExecuteTime": {
     "end_time": "2018-06-27T15:49:50.237321Z",
     "start_time": "2018-06-27T15:49:42.838377Z"
    }
   },
   "outputs": [],
   "source": [
    "import matplotlib.pyplot as plt\n",
    "import seaborn as sns\n",
    "%matplotlib inline\n",
    "\n",
    "plt.figure(figsize=(150,150))\n",
    "sns.set(font_scale=3)\n",
    "plt.subplot(121)\n",
    "g = sns.heatmap(cm_train, fmt='.3g', vmin=0, vmax=1, annot=True, cmap=\"Reds\", square=True, cbar_kws={'shrink':.35})\n",
    "plt.xlabel(\"Predicted\", fontsize=54)\n",
    "plt.ylabel(\"True\", fontsize=54)\n",
    "g.set(xticklabels=data.target_names, yticklabels=data.target_names)\n",
    "plt.xticks(rotation='vertical',fontsize=48)\n",
    "plt.yticks(rotation='horizontal',fontsize=48)\n",
    "plt.title(\"\\nConfusion Matrix for 20newsgroups 'TRAIN' Data\\n\", fontsize=54);"
   ]
  },
  {
   "cell_type": "markdown",
   "metadata": {},
   "source": [
    "## Confusion matrix for test data: "
   ]
  },
  {
   "cell_type": "code",
   "execution_count": null,
   "metadata": {
    "ExecuteTime": {
     "end_time": "2018-06-27T15:50:08.383098Z",
     "start_time": "2018-06-27T15:50:08.059393Z"
    }
   },
   "outputs": [],
   "source": [
    "data = fetch_20newsgroups(subset='test', categories=categories)"
   ]
  },
  {
   "cell_type": "code",
   "execution_count": null,
   "metadata": {
    "ExecuteTime": {
     "end_time": "2018-06-27T15:50:29.507478Z",
     "start_time": "2018-06-27T15:50:24.385054Z"
    }
   },
   "outputs": [],
   "source": [
    "preds_train = grid_search.best_estimator_.predict(data.data)\n",
    "\n",
    "cm_train = confusion_matrix(data.target, preds_train).astype(np.float32)\n",
    "cm_train /= cm_train.sum(axis=1)[:, np.newaxis]\n",
    "\n",
    "cm_train.size #20 classes by 20 classes"
   ]
  },
  {
   "cell_type": "code",
   "execution_count": null,
   "metadata": {
    "ExecuteTime": {
     "end_time": "2018-06-27T15:50:51.853884Z",
     "start_time": "2018-06-27T15:50:45.048348Z"
    }
   },
   "outputs": [],
   "source": [
    "import matplotlib.pyplot as plt\n",
    "import seaborn as sns\n",
    "%matplotlib inline\n",
    "\n",
    "plt.figure(figsize=(150,150))\n",
    "sns.set(font_scale=3)\n",
    "plt.subplot(121)\n",
    "g = sns.heatmap(cm_train, fmt='.3g', vmin=0, vmax=1, annot=True, cmap=\"Reds\", square=True, cbar_kws={'shrink':.35})\n",
    "plt.xlabel(\"Predicted\", fontsize=54)\n",
    "plt.ylabel(\"True\", fontsize=54)\n",
    "g.set(xticklabels=data.target_names, yticklabels=data.target_names)\n",
    "plt.xticks(rotation='vertical',fontsize=48)\n",
    "plt.yticks(rotation='horizontal',fontsize=48)\n",
    "plt.title(\"\\nConfusion Matrix for 20newsgroups 'Test' Data\\n\", fontsize=54);"
   ]
  },
  {
   "cell_type": "markdown",
   "metadata": {},
   "source": [
    "# Task: Explore LASSO Logistic Regression\n",
    "Model the CIFAR-10 dataset using LASSO Logistic Regression (l1 penalty term). Explore different values $\\text{C}$ is the inverse regularization constant which is $\\text{C} = \\frac{1}{\\lambda}$ that are listed here : {C=1.0, C=10.0, C=100.0, C=1000.0, C=10000.0}\n",
    "\n",
    "Please reports your experimental results using the `results` table. Add one more column for reporting the number of zero coefficients after training. Recall, LASSO Logistic Regression can be useful in doing feature selection!   \n",
    "\n",
    "NOTE: the coefficient of the learnt model, `model_lr_sklearn`, are available via `model_lr_sklearn.coef_`\n",
    "\n",
    "`coef_ : array, shape (1, n_features) or (n_classes, n_features)\n",
    "\n",
    "Coefficient of the features in the decision function.\n",
    "\n",
    "coef_ is of shape (1, n_features) when the given problem is binary.`\n",
    "\n",
    " "
   ]
  },
  {
   "cell_type": "markdown",
   "metadata": {},
   "source": [
    "## Task:  Reload CIFAR-10 dataset and split train/test sets"
   ]
  },
  {
   "cell_type": "code",
   "execution_count": null,
   "metadata": {
    "ExecuteTime": {
     "end_time": "2018-06-25T20:09:13.059634Z",
     "start_time": "2018-06-25T20:09:12.257597Z"
    }
   },
   "outputs": [],
   "source": [
    "for b in range(1, 6):\n",
    "    data_batch = unpickle(\"data/cifar-10-batches-py/data_batch_\" + str(b))\n",
    "    if b == 1:\n",
    "        X_train = data_batch[\"data\"]\n",
    "        y_train = np.array(data_batch[\"labels\"])\n",
    "    else:\n",
    "        X_train = np.append(X_train, data_batch[\"data\"], axis=0)\n",
    "        y_train = np.append(y_train, data_batch[\"labels\"], axis=0)\n",
    "        \n",
    "data_batch = unpickle(\"data/cifar-10-batches-py/test_batch\")\n",
    "X_test = data_batch[\"data\"]\n",
    "y_test = np.array(data_batch[\"labels\"])\n",
    "\n",
    "classes = unpickle(\"data/cifar-10-batches-py/batches.meta\")[\"label_names\"]\n",
    "np.random.seed(42)\n",
    "subsample_rate = 0.02\n",
    "##############################################################################\n",
    "# Set up split for train and test data\n",
    "# Make sure you are using the stratify parameter,\n",
    "# setting the random_state to 42 ans using a subset of 2% of the CIFAR10 dataset\n",
    "#==================================================#\n",
    "#               Your code starts here              #\n",
    "#==================================================#\n",
    "X_train, _, y_train, _ = train_test_split()\n",
    "X_test, _, y_test, _ = train_test_split()                 \n",
    "#==================================================#\n",
    "#               Your code ends here                #\n",
    "#               Please don't add code below here   #\n",
    "#==================================================#\n"
   ]
  },
  {
   "cell_type": "code",
   "execution_count": null,
   "metadata": {
    "ExecuteTime": {
     "end_time": "2018-06-25T14:01:19.319900Z",
     "start_time": "2018-06-25T14:01:19.283088Z"
    }
   },
   "outputs": [],
   "source": [
    "X = np.float64(X_train)\n",
    "y = np.float64(y_train)\n",
    "\n",
    "cv = KFold(n_splits=5, shuffle=True, random_state=42)\n",
    "cv_idx = list(cv.split(X, y))"
   ]
  },
  {
   "cell_type": "markdown",
   "metadata": {},
   "source": [
    "## Task: Lasso Logistic Regression"
   ]
  },
  {
   "cell_type": "code",
   "execution_count": null,
   "metadata": {
    "ExecuteTime": {
     "end_time": "2018-06-25T20:02:53.815231Z",
     "start_time": "2018-06-25T14:01:20.883777Z"
    }
   },
   "outputs": [],
   "source": [
    "from time import time\n",
    "from sklearn.pipeline import Pipeline\n",
    "from sklearn.preprocessing import StandardScaler\n",
    "\n",
    "model_coefs = {}\n",
    "model_acc = {}\n",
    "model_time = {}\n",
    "# Inverse of regularization strength; must be a positive float. \n",
    "# Smaller values specify stronger regularization.\n",
    "c_params = [1.0, 10.0, 100.0, 1000.0, 10000.0] \n",
    "\n",
    "np.random.seed(42)\n",
    "#homegrown grid search \n",
    "for param in c_params:\n",
    "    acc = None\n",
    "    zeros = 0\n",
    "    start_time = time()\n",
    "    fold = 1\n",
    "    for train_idx, val_idx in cv_idx:\n",
    "        print('Calculating the accuracy score for validation fold',fold,'with C =',param)\n",
    "        # split\n",
    "        X_train, X_val = X[train_idx], X[val_idx]\n",
    "        y_train, y_val = y[train_idx], y[val_idx]\n",
    "        \n",
    "        ##############################################################################\n",
    "        # create logistic regression pipeline\n",
    "        # using StandardScaler() and LogisticRegression(..., solver='saga')\n",
    "        # using l1 penalty and the parameters defined above\n",
    "        #==================================================#\n",
    "        #               Your code starts here              #\n",
    "        #==================================================#\n",
    "        pipe =            \n",
    "        #==================================================#\n",
    "        #               Your code ends here                #\n",
    "        #               Please don't add code below here   #\n",
    "        #==================================================#\n",
    "        pipe.fit(X_train, y_train)\n",
    "        \n",
    "        # count zero coefficients\n",
    "        model = pipe.named_steps['lasso']\n",
    "        zeros += np.sum(model.coef_==0)\n",
    "        # generate predictions\n",
    "        y_pred = pipe.predict(X_val)\n",
    "\n",
    "        # evaluate\n",
    "        if acc is None:\n",
    "            acc = accuracy_score(y_val, y_pred)\n",
    "        else:\n",
    "            acc += accuracy_score(y_val, y_pred)\n",
    "      \n",
    "        fold += 1\n",
    "    # take average of accuracy score and count of zero coefficients for each 'C' value\n",
    "    end_time = time()\n",
    "    model_coefs[param] = round(float(zeros/cv.n_splits),3)\n",
    "    model_acc[param] = round(float(acc/cv.n_splits),3)\n",
    "    model_time[param] = end_time - start_time"
   ]
  },
  {
   "cell_type": "code",
   "execution_count": null,
   "metadata": {
    "ExecuteTime": {
     "end_time": "2018-06-25T20:08:20.871651Z",
     "start_time": "2018-06-25T20:08:20.840793Z"
    }
   },
   "outputs": [],
   "source": [
    "results = pd.DataFrame(columns=[\"Model Description\", \"Avg Val Accuracy\", \"Average # of Zero Coefficients\", \"Run time\"])\n",
    "for param in c_params: \n",
    "    results.loc[len(results)] = [\"Logistic Regression L1 Reg C=\" + str(int(param)), \n",
    "                                 model_acc[param], model_coefs[param], str(round(model_time[param]/60,2)) + \" mins\"]\n",
    "results"
   ]
  },
  {
   "cell_type": "markdown",
   "metadata": {},
   "source": [
    "# TASK Homegrown implementation of Logistic Regression [OPTIONAL]"
   ]
  },
  {
   "cell_type": "markdown",
   "metadata": {},
   "source": [
    "Below is a homegrown implementation of Logistic Regression. In this class  we added an ability to trace validation metrics."
   ]
  },
  {
   "cell_type": "code",
   "execution_count": null,
   "metadata": {
    "ExecuteTime": {
     "end_time": "2018-06-25T21:49:53.867128Z",
     "start_time": "2018-06-25T21:49:53.473800Z"
    }
   },
   "outputs": [],
   "source": [
    "class LogisticRegressionHomegrown(object):\n",
    "    \n",
    "    def __init__(self):\n",
    "        \"\"\"\n",
    "        Constructor for the homgrown Logistic Regression\n",
    "        \n",
    "        Args:\n",
    "            None\n",
    "        \n",
    "        Return:\n",
    "            None\n",
    "        \"\"\"\n",
    "        self.coef_ = None       # weight vector\n",
    "        self.intercept_ = None  # bias term\n",
    "        self._theta = None      # augmented weight vector, i.e., bias + weights\n",
    "                                # this allows to treat all decision variables homogeneously\n",
    "        self.history = {\"cost\": [], \n",
    "                        \"acc\": [], \n",
    "                        \"val_cost\":[], \n",
    "                        \"val_acc\": []}\n",
    "        \n",
    "    def _grad(self, X, y):\n",
    "        \"\"\"\n",
    "        Calculates the gradient of the Logistic Regression \n",
    "        objective function\n",
    "\n",
    "        Args:\n",
    "            X(ndarray):    train objects\n",
    "            y(ndarray):    answers for train objects\n",
    "            \n",
    "        Return:\n",
    "            grad(ndarray): gradient\n",
    "        \"\"\"\n",
    "        # number of training examples\n",
    "        n = X.shape[0]\n",
    "        \n",
    "        # get scores for each class and example\n",
    "        # 2D matrix\n",
    "        scores = self._predict_raw(X)\n",
    "        \n",
    "        # transform scores to probabilities\n",
    "        # softmax\n",
    "        exp_scores = np.exp(scores)\n",
    "        probs = exp_scores / np.sum(exp_scores, axis=1, keepdims=True)\n",
    "        \n",
    "        # error\n",
    "        probs[range(n),y] -= 1\n",
    "        \n",
    "        # gradient\n",
    "        gradient = np.dot(X.T, probs) / n\n",
    "        \n",
    "        return gradient\n",
    "    \n",
    "    def _gd(self, X, y, max_iter, alpha, X_val, y_val):\n",
    "        \"\"\"\n",
    "        Runs Full GD and logs error, weigths, gradient at every step\n",
    "\n",
    "        Args:\n",
    "            X(ndarray):      train objects\n",
    "            y(ndarray):      answers for train objects\n",
    "            max_iter(int):   number of weight updates\n",
    "            alpha(floar):    step size in direction of gradient\n",
    "            \n",
    "        Return:\n",
    "            None\n",
    "        \"\"\"\n",
    "        for i in range(max_iter):\n",
    "            \n",
    "            metrics = self.score(X, y)\n",
    "            self.history[\"cost\"].append(metrics[\"cost\"])\n",
    "            self.history[\"acc\"].append(metrics[\"acc\"])\n",
    "            \n",
    "            if X_val is not None:\n",
    "                metrics_val = self.score(X_val, y_val)\n",
    "                self.history[\"val_cost\"].append(metrics_val[\"cost\"])\n",
    "                self.history[\"val_acc\"].append(metrics_val[\"acc\"])\n",
    "\n",
    "            # calculate gradient\n",
    "            grad = self._grad(X, y)\n",
    "            \n",
    "            # do gradient step\n",
    "            self._theta -= alpha * grad\n",
    "    \n",
    "    def fit(self, X, y, max_iter=1000, alpha=0.05, val_data=None):\n",
    "        \"\"\"\n",
    "        Public API to fit Logistic regression model\n",
    "        \n",
    "        Args:\n",
    "            X(ndarray):      train objects\n",
    "            y(ndarray):      answers for train objects\n",
    "            max_iter(int):   number of weight updates\n",
    "            alpha(floar):    step size in direction of gradient\n",
    "            \n",
    "        Return:\n",
    "            None\n",
    "        \"\"\"\n",
    "        # Augment the data with the bias term.\n",
    "        # So we can treat the the input variables and the bias term homogeneously \n",
    "        # from a vectorization perspective\n",
    "        X = np.c_[np.ones(X.shape[0]), X]\n",
    "        if val_data is not None:\n",
    "            X_val, y_val = val_data\n",
    "            X_val = np.c_[np.ones(X_val.shape[0]), X_val]\n",
    "        else:\n",
    "            X_val = None\n",
    "            y_val = None\n",
    "        # initialize if the first step\n",
    "        if self._theta is None:\n",
    "            self._theta = np.random.rand(X.shape[1], len(np.unique(y)))\n",
    "        \n",
    "        # do full gradient descent\n",
    "        self._gd(X, y, max_iter, alpha, X_val, y_val)\n",
    "        \n",
    "        # get final weigths and bias\n",
    "        self.intercept_ = self._theta[0]\n",
    "        self.coef_ = self._theta[1:]\n",
    "        \n",
    "    def score(self, X, y):\n",
    "        \"\"\"\n",
    "        Computes logloss and accuracy for (X, y)\n",
    "        \n",
    "        Args:\n",
    "            X(ndarray):      objects\n",
    "            y(ndarray):      answers for objects\n",
    "            \n",
    "        Return:\n",
    "            metrics(dict):   python dictionary which\n",
    "                             contains two fields: for accuracy \n",
    "                             and for objective function\n",
    "        \"\"\"\n",
    "        # number of training samples\n",
    "        n = X.shape[0]\n",
    "        \n",
    "        # get scores\n",
    "        scores = self._predict_raw(X)\n",
    "        \n",
    "        # trasnform scores to probabilities\n",
    "        exp_scores = np.exp(scores)\n",
    "        probs = exp_scores / np.sum(exp_scores, axis=1, keepdims=True)\n",
    "        \n",
    "        # logloss per each example\n",
    "        corect_logprobs = -np.log(probs[range(n),y])\n",
    "        \n",
    "        # total mean logloss\n",
    "        data_loss = np.sum(corect_logprobs) / n\n",
    "        \n",
    "        # predictions\n",
    "        pred = np.argmax(scores, axis=1)\n",
    "        # accuracy\n",
    "        acc = accuracy_score(y, pred)\n",
    "        \n",
    "        # final metrics\n",
    "        metrics = {\"acc\": acc, \"cost\": data_loss}\n",
    "        \n",
    "        return metrics\n",
    "        \n",
    "    def _predict_raw(self, X):\n",
    "        \"\"\"\n",
    "        Computes scores for each class and each object in X\n",
    "        \n",
    "        Args:\n",
    "            X(ndarray):      objects\n",
    "        \n",
    "        Return:\n",
    "            scores(ndarray): scores for each class and object\n",
    "        \"\"\"\n",
    "        # check whether X has appended bias feature or not\n",
    "        if X.shape[1] == len(self._theta):\n",
    "            scores = np.dot(X, self._theta)\n",
    "        else:\n",
    "            scores = np.dot(X, self.coef_) + self.intercept_\n",
    "        return scores\n",
    "    \n",
    "    def predict(self, X):\n",
    "        \"\"\"\n",
    "        Predicts class for each object in X\n",
    "        \n",
    "        Args:\n",
    "            X(ndarray):      objects\n",
    "        \n",
    "        Return:\n",
    "            pred(ndarray):   class for each object\n",
    "        \"\"\"\n",
    "        # get scores for each class\n",
    "        scores = self._predict_raw(X)\n",
    "        # choose class with maximum score\n",
    "        pred = np.argmax(scores, axis=1)\n",
    "        return pred"
   ]
  },
  {
   "cell_type": "markdown",
   "metadata": {},
   "source": [
    "**Do not forget** to scale data before using this class. It is crucial."
   ]
  },
  {
   "cell_type": "markdown",
   "metadata": {},
   "source": [
    "## Reload CIFAR-10 dataset and split train/test sets"
   ]
  },
  {
   "cell_type": "code",
   "execution_count": null,
   "metadata": {
    "ExecuteTime": {
     "end_time": "2018-06-25T20:09:13.059634Z",
     "start_time": "2018-06-25T20:09:12.257597Z"
    }
   },
   "outputs": [],
   "source": [
    "for b in range(1, 6):\n",
    "    data_batch = unpickle(\"data/cifar-10-batches-py/data_batch_\" + str(b))\n",
    "    if b == 1:\n",
    "        X_train = data_batch[\"data\"]\n",
    "        y_train = np.array(data_batch[\"labels\"])\n",
    "    else:\n",
    "        X_train = np.append(X_train, data_batch[\"data\"], axis=0)\n",
    "        y_train = np.append(y_train, data_batch[\"labels\"], axis=0)\n",
    "        \n",
    "data_batch = unpickle(\"data/cifar-10-batches-py/test_batch\")\n",
    "X_test = data_batch[\"data\"]\n",
    "y_test = np.array(data_batch[\"labels\"])\n",
    "\n",
    "classes = unpickle(\"data/cifar-10-batches-py/batches.meta\")[\"label_names\"]\n",
    "np.random.seed(42)\n",
    "subsample_rate = 0.1\n",
    "X_train, _, y_train, _ = train_test_split(X_train, y_train, stratify=y_train, train_size=subsample_rate, random_state=42)\n",
    "X_test, _, y_test, _ = train_test_split(X_test, y_test, stratify=y_test, train_size=subsample_rate, random_state=42)\n"
   ]
  },
  {
   "cell_type": "code",
   "execution_count": null,
   "metadata": {
    "ExecuteTime": {
     "end_time": "2018-06-25T21:50:01.334119Z",
     "start_time": "2018-06-25T21:50:01.184688Z"
    }
   },
   "outputs": [],
   "source": [
    "# scale data \n",
    "np.random.seed(42)\n",
    "if np.max(X_train) > 4.:\n",
    "    X_train = X_train.astype(np.float32) / 255.\n",
    "if np.max(X_test) > 4.:\n",
    "    X_test = X_test.astype(np.float32) / 255.\n",
    "y_train=y_train.astype(int)\n",
    "y_test=y_test.astype(int)"
   ]
  },
  {
   "cell_type": "markdown",
   "metadata": {},
   "source": [
    "Defining a model"
   ]
  },
  {
   "cell_type": "code",
   "execution_count": null,
   "metadata": {
    "ExecuteTime": {
     "end_time": "2018-06-25T21:50:10.470600Z",
     "start_time": "2018-06-25T21:50:10.467292Z"
    }
   },
   "outputs": [],
   "source": [
    "model_lr_homegrown = LogisticRegressionHomegrown()\n"
   ]
  },
  {
   "cell_type": "markdown",
   "metadata": {},
   "source": [
    "Fitting example"
   ]
  },
  {
   "cell_type": "code",
   "execution_count": null,
   "metadata": {
    "ExecuteTime": {
     "end_time": "2018-06-25T21:50:13.447439Z",
     "start_time": "2018-06-25T21:50:12.901745Z"
    }
   },
   "outputs": [],
   "source": [
    "model_lr_homegrown.fit(X_train, y_train, max_iter=10, alpha=0.05)"
   ]
  },
  {
   "cell_type": "markdown",
   "metadata": {},
   "source": [
    "And we come up with all the $\\text{nan's}$ for objective function"
   ]
  },
  {
   "cell_type": "code",
   "execution_count": null,
   "metadata": {
    "ExecuteTime": {
     "end_time": "2018-06-25T21:50:24.340636Z",
     "start_time": "2018-06-25T21:50:24.333092Z"
    }
   },
   "outputs": [],
   "source": [
    "model_lr_homegrown.history[\"cost\"]"
   ]
  },
  {
   "cell_type": "markdown",
   "metadata": {},
   "source": [
    "And accuracy also does not change"
   ]
  },
  {
   "cell_type": "code",
   "execution_count": null,
   "metadata": {
    "ExecuteTime": {
     "end_time": "2018-06-25T20:09:40.009271Z",
     "start_time": "2018-06-25T20:09:40.003557Z"
    }
   },
   "outputs": [],
   "source": [
    "model_lr_homegrown.history[\"acc\"]"
   ]
  },
  {
   "cell_type": "code",
   "execution_count": null,
   "metadata": {
    "ExecuteTime": {
     "end_time": "2018-06-25T21:51:25.540572Z",
     "start_time": "2018-06-25T21:51:25.513942Z"
    }
   },
   "outputs": [],
   "source": [
    "y_preds = model_lr_homegrown.predict(X_test)"
   ]
  },
  {
   "cell_type": "code",
   "execution_count": null,
   "metadata": {
    "ExecuteTime": {
     "end_time": "2018-06-25T21:51:56.835089Z",
     "start_time": "2018-06-25T21:51:56.831603Z"
    }
   },
   "outputs": [],
   "source": [
    "acc = accuracy_score(y_test, y_preds)"
   ]
  },
  {
   "cell_type": "code",
   "execution_count": null,
   "metadata": {
    "ExecuteTime": {
     "end_time": "2018-06-25T21:51:57.624283Z",
     "start_time": "2018-06-25T21:51:57.619848Z"
    }
   },
   "outputs": [],
   "source": [
    "results = pd.DataFrame(columns=['Model','Accuracy'])"
   ]
  },
  {
   "cell_type": "code",
   "execution_count": null,
   "metadata": {
    "ExecuteTime": {
     "end_time": "2018-06-25T21:51:58.128469Z",
     "start_time": "2018-06-25T21:51:58.117426Z"
    }
   },
   "outputs": [],
   "source": [
    "results.loc[len(results)] = [\"LR Homegrown\", np.round(acc, 3)]\n",
    "results"
   ]
  },
  {
   "cell_type": "markdown",
   "metadata": {},
   "source": [
    "## Task: Softmax Numerical Stability\n",
    "What can be causing this kind of problem (\"NaN\")? (Hint: see the lecture slides \"Numerical Stability for softmax function\")\n",
    "* Please fix this problem\n",
    "* Next section has some background to help shed some light"
   ]
  },
  {
   "cell_type": "markdown",
   "metadata": {},
   "source": [
    "### Working with np.max and matrices\n",
    "Explore the code in the following section first to see why/how!"
   ]
  },
  {
   "cell_type": "code",
   "execution_count": null,
   "metadata": {
    "ExecuteTime": {
     "end_time": "2018-06-25T21:53:11.275714Z",
     "start_time": "2018-06-25T21:53:11.230218Z"
    }
   },
   "outputs": [],
   "source": [
    "## Working with np.max, softmax, and matrices\n",
    "import numpy as np\n",
    "\n",
    "# For more info on np.max check the following link :\n",
    "# https://docs.scipy.org/doc/numpy-1.13.0/reference/generated/numpy.amax.html\n",
    "\n",
    "#GOAL: On a per row basis: Substract  max of that row from each element in that row\n",
    "#ATTEMPT #1: \n",
    "f = np.array([[1, 2, 3],[4, 5, 6]])\n",
    "f1 = f - np.max(f)\n",
    "# this does not work as expected - as np.max(f) returns the overall max \n",
    "print (\"Is this correct?\")\n",
    "print (\"Adjusted data1\", f1)\n",
    "\n",
    "# take max of f per row \n",
    "#ATTEMPT #2: pay attention to axis and keepdims\n",
    "f2 = f - np.max(f, axis=1, keepdims=True)\n",
    "print (\"Adjusted data2\", f2)\n",
    "\n",
    "\n",
    "#Normalised score to sum to 1\n",
    "f=([1,3,6], [2,4,6])\n",
    "p = f / np.sum(f,axis=1, keepdims=True)\n",
    "print (\"Normalised score...\\n\", p)\n",
    "\n",
    "# The following data will not work with for the softmax calculation\n",
    "# out of bounds\n",
    "perpendicularDistances = np.array([[123, 234, 345],[444, 555, 999]])\n",
    "probs = np.exp(perpendicularDistances) / np.sum(np.exp(perpendicularDistances), axis=1, keepdims=True)\n",
    "print(\"This produces NaNs: (see SECOND ROW) \\n\", probs)\n",
    "# need to use adjusted data \n",
    "perpendicularDistances -= np.max(perpendicularDistances, axis=1, keepdims=True)\n",
    "# trasnform scores to probabilities\n",
    "exp_scores = np.exp(perpendicularDistances)\n",
    "probs = exp_scores / np.sum(exp_scores, axis=1, keepdims=True)\n",
    "print (\"Probabilities...\\n\", probs)"
   ]
  },
  {
   "cell_type": "code",
   "execution_count": null,
   "metadata": {
    "ExecuteTime": {
     "end_time": "2018-06-25T21:53:13.485834Z",
     "start_time": "2018-06-25T21:53:13.465412Z"
    }
   },
   "outputs": [],
   "source": [
    "class FixedLogisticRegressionHomegrown(LogisticRegressionHomegrown):\n",
    "    \n",
    "    def __init__(self):\n",
    "        # call the constructor of the parent class\n",
    "        super(FixedLogisticRegressionHomegrown, self).__init__()\n",
    "        \n",
    "    #==================================================#\n",
    "    #               Place your code here               #\n",
    "    #     Redefine a method which causes the error     #\n",
    "    \n",
    "    #               Hint: only one method              #\n",
    "    #==================================================#\n",
    "    #==================================================#\n",
    "    #               Your code starts here              #\n",
    "    #==================================================#\n",
    "    \n",
    "    def .......(self, X):\n",
    "        \"\"\"\n",
    "        ...... each class and each object in X\n",
    "        \n",
    "        Args:\n",
    "            X(ndarray):      objects\n",
    "        \n",
    "        Return:\n",
    "            ...(ndarray): ...... each class and object\n",
    "        \"\"\"\n",
    "        # check whether X has appended bias feature or not\n",
    "        if X.shape[1] == len(self._theta):\n",
    "            scores = np.dot(X, self._theta)\n",
    "        else:\n",
    "            scores = np.dot(X, self.coef_) + self.intercept_\n",
    "        \n",
    "        \n",
    "        \n",
    "        return ...\n",
    "    \n",
    "    #==================================================#\n",
    "    #               Your code ends here                #\n",
    "    #               Please don't add code below here   #\n",
    "    #==================================================#\n"
   ]
  },
  {
   "cell_type": "markdown",
   "metadata": {},
   "source": [
    "Defining a model"
   ]
  },
  {
   "cell_type": "code",
   "execution_count": null,
   "metadata": {
    "ExecuteTime": {
     "end_time": "2018-06-25T21:53:14.784230Z",
     "start_time": "2018-06-25T21:53:14.780670Z"
    }
   },
   "outputs": [],
   "source": [
    "\n",
    "model_lr_homegrown_fixed = FixedLogisticRegressionHomegrown()"
   ]
  },
  {
   "cell_type": "markdown",
   "metadata": {},
   "source": [
    "Fitting example"
   ]
  },
  {
   "cell_type": "code",
   "execution_count": null,
   "metadata": {
    "ExecuteTime": {
     "end_time": "2018-06-25T21:54:41.877342Z",
     "start_time": "2018-06-25T21:53:15.571240Z"
    }
   },
   "outputs": [],
   "source": [
    "model_lr_homegrown_fixed.fit(X_train, y_train, max_iter=2000, alpha=0.05, val_data=(X_test, y_test))"
   ]
  },
  {
   "cell_type": "code",
   "execution_count": null,
   "metadata": {
    "ExecuteTime": {
     "end_time": "2018-06-25T21:54:42.565836Z",
     "start_time": "2018-06-25T21:54:42.214391Z"
    }
   },
   "outputs": [],
   "source": [
    "plt.figure(figsize=(20, 8))\n",
    "plt.suptitle(\"Homegrown Logistic Regression\")\n",
    "plt.subplot(121)\n",
    "plt.plot(model_lr_homegrown_fixed.history[\"cost\"], label=\"Train\")\n",
    "plt.plot(model_lr_homegrown_fixed.history[\"val_cost\"], label=\"Test\")\n",
    "plt.legend(loc=\"upper left\")\n",
    "plt.xlabel(\"Iteration\")\n",
    "plt.ylabel(\"Loss\")\n",
    "plt.subplot(122)\n",
    "plt.plot(model_lr_homegrown_fixed.history[\"acc\"], label=\"Train\")\n",
    "plt.plot(model_lr_homegrown_fixed.history[\"val_acc\"], label=\"Test\")\n",
    "plt.legend(loc=\"upper left\")\n",
    "plt.xlabel(\"Iteration\")\n",
    "plt.ylabel(\"Accuracy\");"
   ]
  },
  {
   "cell_type": "markdown",
   "metadata": {},
   "source": [
    "Prediction"
   ]
  },
  {
   "cell_type": "code",
   "execution_count": null,
   "metadata": {
    "ExecuteTime": {
     "end_time": "2018-06-25T21:54:42.905205Z",
     "start_time": "2018-06-25T21:54:42.886827Z"
    }
   },
   "outputs": [],
   "source": [
    "y_pred_test = model_lr_homegrown_fixed.predict(X_test)"
   ]
  },
  {
   "cell_type": "markdown",
   "metadata": {},
   "source": [
    "Accuracy"
   ]
  },
  {
   "cell_type": "code",
   "execution_count": null,
   "metadata": {
    "ExecuteTime": {
     "end_time": "2018-06-25T21:54:43.259784Z",
     "start_time": "2018-06-25T21:54:43.255555Z"
    }
   },
   "outputs": [],
   "source": [
    "acc = accuracy_score(y_test, y_pred_test)"
   ]
  },
  {
   "cell_type": "markdown",
   "metadata": {},
   "source": [
    "Keeping table of results up-to-date"
   ]
  },
  {
   "cell_type": "code",
   "execution_count": null,
   "metadata": {
    "ExecuteTime": {
     "end_time": "2018-06-25T21:54:43.614928Z",
     "start_time": "2018-06-25T21:54:43.600503Z"
    }
   },
   "outputs": [],
   "source": [
    "results.loc[len(results)] = [\"LR Homegrown Fix 1\", np.round(acc, 3)]\n",
    "results"
   ]
  },
  {
   "cell_type": "markdown",
   "metadata": {},
   "source": [
    "## Task: improve by tuning training algo.\n",
    "Look at the plots obtained at the end of task 1 (it fluctuates a lot). This behaviour is very common to stochastic gradient descent. But here we are using full GD. What could be causing this problem? (*Hint*: a hyperparameter of the training algorithm)\n",
    "* Describe what's going on on the plots that you got\n",
    "* Try to fix it (*Hint*: you do NOT need to change the class implemented before)\n",
    "\n",
    "P.S.\n",
    "Test accuracy before this fix should be about 26%. This should jump to  31% after. "
   ]
  },
  {
   "cell_type": "code",
   "execution_count": null,
   "metadata": {
    "ExecuteTime": {
     "end_time": "2018-06-25T21:58:55.429379Z",
     "start_time": "2018-06-25T21:54:43.960197Z"
    }
   },
   "outputs": [],
   "source": [
    "np.random.seed(42)\n",
    "# Use FixedLogisticRegressionHomegrown() to fit a model\n",
    "# using 6500 for max_iter, a step of 0.02 and \n",
    "# X_test, y_test for validation\n",
    "#==================================================#\n",
    "#               Your code starts here              #\n",
    "#==================================================#\n",
    "model_lr_homegrown_fixed = \n",
    "model_lr_homegrown_fixed.fit()             \n",
    "#==================================================#\n",
    "#               Your code ends here                #\n",
    "#               Please don't add code below here   #\n",
    "#==================================================#\n"
   ]
  },
  {
   "cell_type": "code",
   "execution_count": null,
   "metadata": {
    "ExecuteTime": {
     "end_time": "2018-06-25T21:58:56.234317Z",
     "start_time": "2018-06-25T21:58:55.762778Z"
    }
   },
   "outputs": [],
   "source": [
    "plt.figure(figsize=(20, 8))\n",
    "plt.suptitle(\"Homegrown Logistic Regression\")\n",
    "plt.subplot(121)\n",
    "plt.plot(model_lr_homegrown_fixed.history[\"cost\"], label=\"Train\")\n",
    "plt.plot(model_lr_homegrown_fixed.history[\"val_cost\"], label=\"Test\")\n",
    "plt.legend(loc=\"upper left\")\n",
    "plt.xlabel(\"Iteration\")\n",
    "plt.ylabel(\"Loss\")\n",
    "plt.subplot(122)\n",
    "plt.plot(model_lr_homegrown_fixed.history[\"acc\"], label=\"Train\")\n",
    "plt.plot(model_lr_homegrown_fixed.history[\"val_acc\"], label=\"Test\")\n",
    "plt.legend(loc=\"upper left\")\n",
    "plt.xlabel(\"Iteration\")\n",
    "plt.ylabel(\"Accuracy\");"
   ]
  },
  {
   "cell_type": "code",
   "execution_count": null,
   "metadata": {
    "ExecuteTime": {
     "end_time": "2018-06-25T21:58:56.589537Z",
     "start_time": "2018-06-25T21:58:56.571656Z"
    }
   },
   "outputs": [],
   "source": [
    "y_pred_test = model_lr_homegrown_fixed.predict(X_test)"
   ]
  },
  {
   "cell_type": "code",
   "execution_count": null,
   "metadata": {
    "ExecuteTime": {
     "end_time": "2018-06-25T21:58:56.951512Z",
     "start_time": "2018-06-25T21:58:56.946931Z"
    }
   },
   "outputs": [],
   "source": [
    "acc = accuracy_score(y_test, y_pred_test)"
   ]
  },
  {
   "cell_type": "code",
   "execution_count": null,
   "metadata": {
    "ExecuteTime": {
     "end_time": "2018-06-25T21:58:57.301683Z",
     "start_time": "2018-06-25T21:58:57.289699Z"
    }
   },
   "outputs": [],
   "source": [
    "results.loc[len(results)] = [\"LR Homegrown Fix 2\", np.round(acc, 3)]\n",
    "results"
   ]
  },
  {
   "cell_type": "markdown",
   "metadata": {},
   "source": [
    "** Note: I was able to get about 29% test set accuracy with all the fixes and tunes**"
   ]
  },
  {
   "cell_type": "markdown",
   "metadata": {},
   "source": [
    "## Task : Visualize the  weight vectors\n",
    "Visualize the  weight vectors (like images) for each class for both Sklearn learnt model and best homegrown learnt model. Can you see any class patterns? How long did it take to run? in both cases?\n",
    "\n",
    "### Task : Use all training data and visualize the  weight vectors\n",
    "Try to use all the training data to learn a classification model  Sklearn and then visual the resulting weight vectors. Notice any differences. How long did it take to run?"
   ]
  },
  {
   "cell_type": "code",
   "execution_count": null,
   "metadata": {
    "ExecuteTime": {
     "end_time": "2018-06-25T20:22:22.582984Z",
     "start_time": "2018-06-25T20:20:27.977511Z"
    }
   },
   "outputs": [],
   "source": [
    "%%time\n",
    "model_lr_sklearn = LogisticRegression()\n",
    "model_lr_sklearn.fit(X_train, y_train)"
   ]
  },
  {
   "cell_type": "code",
   "execution_count": null,
   "metadata": {
    "ExecuteTime": {
     "end_time": "2018-06-25T20:22:23.330559Z",
     "start_time": "2018-06-25T20:22:22.902825Z"
    }
   },
   "outputs": [],
   "source": [
    "\n",
    "plt.figure(figsize=(12, 5))\n",
    "for i in range(10):\n",
    "    plt.subplot(2, 5, i + 1)\n",
    "    normalized_coef = (model_lr_sklearn.coef_[i] - np.min(model_lr_sklearn.coef_[i])) \\\n",
    "                      / (np.max(model_lr_sklearn.coef_[i]) - np.min(model_lr_sklearn.coef_[i])) * 255.\n",
    "    show_pic(normalized_coef)\n",
    "    plt.title(classes[i])\n",
    "plt.suptitle(\"Sklearn weight vectors\")\n",
    "plt.show()\n"
   ]
  },
  {
   "cell_type": "code",
   "execution_count": null,
   "metadata": {
    "ExecuteTime": {
     "end_time": "2018-06-25T20:19:25.442409Z",
     "start_time": "2018-06-25T20:19:24.992560Z"
    }
   },
   "outputs": [],
   "source": [
    "plt.figure(figsize=(12, 5))\n",
    "for i in range(10):\n",
    "    plt.subplot(2, 5, i + 1)\n",
    "    \n",
    "    \n",
    "    # change the code below in order to normalize the coefficients\n",
    "    #==================================================#\n",
    "    #               Your code starts here              #\n",
    "    #==================================================#\n",
    "    # Normalize to [0, 1] interval and then scale to [0, 255]\n",
    "    normalized_coef = (model_lr_sklearn.coef_[i] ........             \n",
    "    #          \n",
    "    #==================================================#\n",
    "    #               Your code ends here                #\n",
    "    #               Please don't add code below here   #\n",
    "    #==================================================#\n",
    "\n",
    "    show_pic(normalized_coef)\n",
    "    plt.title(classes[i])\n",
    "plt.suptitle(\"Homegrown weight vectors\")\n",
    "plt.show()"
   ]
  },
  {
   "cell_type": "markdown",
   "metadata": {},
   "source": [
    "## T-SNE dimensionality reduction.\n",
    "\n",
    "See [this](https://www.dropbox.com/s/q0lrqtphxh5j4uv/6-Mapping_Representations-tSNE-visualize-DL-Model-Layers.ipynb?dl=0) notebook and also search materials on the internet (e.g. [this](http://distill.pub/2016/misread-tsne/) one) on T-SNE (t-Distributed Stochastic Neighbor Embedding).\n",
    "\n",
    "Perform this embedding (there is [sklearn](http://scikit-learn.org/stable/modules/generated/sklearn.manifold.TSNE.html) implementation) on first three classes and 500 examples per each of them (this is done ro reduce the execution time)"
   ]
  },
  {
   "cell_type": "code",
   "execution_count": null,
   "metadata": {
    "ExecuteTime": {
     "end_time": "2018-06-25T20:23:59.678145Z",
     "start_time": "2018-06-25T20:23:59.621289Z"
    }
   },
   "outputs": [],
   "source": [
    "from sklearn.manifold._t_sne import TSNE\n",
    "tsne = TSNE()"
   ]
  },
  {
   "cell_type": "code",
   "execution_count": null,
   "metadata": {
    "ExecuteTime": {
     "end_time": "2018-06-25T20:24:49.745009Z",
     "start_time": "2018-06-25T20:24:01.184263Z"
    }
   },
   "outputs": [],
   "source": [
    "X_train_transformed = tsne.fit_transform(X_train[(y_train == 0) + (y_train == 1) + (y_train == 2)])\n",
    "y_train_transformed = y_train[(y_train == 0) + (y_train == 1) + (y_train == 2)]"
   ]
  },
  {
   "cell_type": "code",
   "execution_count": null,
   "metadata": {
    "ExecuteTime": {
     "end_time": "2018-06-25T20:24:50.281614Z",
     "start_time": "2018-06-25T20:24:50.070839Z"
    }
   },
   "outputs": [],
   "source": [
    "plt.figure(figsize=(10, 8))\n",
    "colors = [\"r\", \"g\", \"b\"]\n",
    "for cl in range(3):\n",
    "    idx = y_train_transformed == cl\n",
    "    plt.scatter(X_train_transformed.T[0][idx], X_train_transformed.T[1][idx], c=colors[cl], label=\"Class \" + str(cl))\n",
    "plt.legend()\n",
    "plt.show()"
   ]
  },
  {
   "cell_type": "code",
   "execution_count": null,
   "metadata": {},
   "outputs": [],
   "source": []
  },
  {
   "cell_type": "code",
   "execution_count": null,
   "metadata": {},
   "outputs": [],
   "source": []
  }
 ],
 "metadata": {
  "anaconda-cloud": {},
  "kernelspec": {
   "display_name": "Python 3",
   "language": "python",
   "name": "python3"
  },
  "language_info": {
   "codemirror_mode": {
    "name": "ipython",
    "version": 3
   },
   "file_extension": ".py",
   "mimetype": "text/x-python",
   "name": "python",
   "nbconvert_exporter": "python",
   "pygments_lexer": "ipython3",
   "version": "3.7.7"
  },
  "toc": {
   "base_numbering": 1,
   "nav_menu": {
    "height": "48px",
    "width": "252px"
   },
   "number_sections": true,
   "sideBar": true,
   "skip_h1_title": false,
   "title_cell": "Table of Contents",
   "title_sidebar": "Contents",
   "toc_cell": false,
   "toc_position": {
    "height": "588px",
    "left": "0px",
    "right": "1388px",
    "top": "108px",
    "width": "317.969px"
   },
   "toc_section_display": "block",
   "toc_window_display": true
  },
  "toc-autonumbering": true,
  "varInspector": {
   "cols": {
    "lenName": 16,
    "lenType": 16,
    "lenVar": 40
   },
   "kernels_config": {
    "python": {
     "delete_cmd_postfix": "",
     "delete_cmd_prefix": "del ",
     "library": "var_list.py",
     "varRefreshCmd": "print(var_dic_list())"
    },
    "r": {
     "delete_cmd_postfix": ") ",
     "delete_cmd_prefix": "rm(",
     "library": "var_list.r",
     "varRefreshCmd": "cat(var_dic_list()) "
    }
   },
   "types_to_exclude": [
    "module",
    "function",
    "builtin_function_or_method",
    "instance",
    "_Feature"
   ],
   "window_display": false
  }
 },
 "nbformat": 4,
 "nbformat_minor": 4
}
