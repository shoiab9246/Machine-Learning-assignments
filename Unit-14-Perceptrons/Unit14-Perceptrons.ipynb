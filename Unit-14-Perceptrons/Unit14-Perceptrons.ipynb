{
 "cells": [
  {
   "cell_type": "markdown",
   "metadata": {},
   "source": [
    "# Homework 14"
   ]
  },
  {
   "cell_type": "markdown",
   "metadata": {},
   "source": [
    "__For HW14, you will be expected to answer questions about your work in this notebook via Canvas (Modules->Module 14->HW14 Notebook and submission form). You may wish to reference this quiz while working through the assignment.__\n",
    "## Submission instructions¶\n",
    "Before completing this homework,\n",
    "1. please review this homework's submission form on Canvas available under the \"Modules\" menu option and briefly review this notebook end to end.\n",
    "2. To get you started we provide a template solution with missing code and prompts. Please complete the missing code, run the experiments and log your results.\n",
    "3. When you're sufficiently happy with your results, please begin the submission process on Canvas. Use the submission form for this homework available under \"Modules\" menu option. Please note that the submission form is available at the same place where you downloaded the homework from.\n",
    "4. You may wish to reference the submission form (Modules->Module 13->HW13 Notebook and submission form) while working through the tasks.\n",
    "\n",
    "Please complete all core assignment tasks (marked \"TASK\"). For bonus points, please complete the optional stretech assignment tasks (marked \"OPTIONAL\").\n",
    "\n",
    "The goals of this HW include the following:\n",
    "* Understanding the operation of a multiclass perceptron classifier.\n",
    "* Building a multiclass perceptron classifier.\n",
    "    * Applying regularization\n",
    "    * Evaluating performance metrics unique to a multiclass problem.\n",
    "* Tuning a multiclass perceptron for text classification.\n",
    "  \n",
    "You will submit the results of your work in this notebook using the **HW14 Submission Form** assignment on Canvas."
   ]
  },
  {
   "cell_type": "markdown",
   "metadata": {
    "ExecuteTime": {
     "end_time": "2018-11-17T21:05:11.015743Z",
     "start_time": "2018-11-17T21:05:11.012949Z"
    }
   },
   "source": [
    "## Prepare the notebook"
   ]
  },
  {
   "cell_type": "code",
   "execution_count": null,
   "metadata": {
    "ExecuteTime": {
     "end_time": "2018-11-21T22:29:33.648649Z",
     "start_time": "2018-11-21T22:29:30.646214Z"
    }
   },
   "outputs": [],
   "source": [
    "import warnings\n",
    "warnings.filterwarnings('ignore')\n",
    "\n",
    "import numpy as np\n",
    "import pandas as pd\n",
    "import re\n",
    "import nltk\n",
    "from pprint import pprint\n",
    "from time import time\n",
    "\n",
    "from sklearn.datasets import load_iris\n",
    "from sklearn.datasets import load_wine\n",
    "from sklearn.datasets import make_classification\n",
    "from nltk.corpus import stopwords\n",
    "from nltk.corpus import reuters\n",
    "nltk.download('stopwords')\n",
    "nltk.download('reuters')\n",
    "\n",
    "from nltk import word_tokenize\n",
    "from nltk.stem.porter import PorterStemmer\n",
    "from sklearn.feature_extraction.text import TfidfVectorizer\n",
    "from sklearn.feature_extraction.text import CountVectorizer\n",
    "from sklearn.feature_extraction.text import TfidfTransformer\n",
    "\n",
    "from sklearn.preprocessing import MultiLabelBinarizer\n",
    "from sklearn.preprocessing import StandardScaler\n",
    "from sklearn.model_selection import train_test_split\n",
    "from sklearn.model_selection import KFold\n",
    "from sklearn.model_selection import GridSearchCV\n",
    "\n",
    "from sklearn.pipeline import Pipeline\n",
    "from sklearn.linear_model import Perceptron\n",
    "from sklearn.linear_model import SGDClassifier\n",
    "from sklearn.svm import LinearSVC\n",
    "from sklearn.multiclass import OneVsRestClassifier\n",
    "from sklearn.multioutput import MultiOutputClassifier\n",
    "\n",
    "\n",
    "from sklearn.metrics import accuracy_score\n",
    "from sklearn.metrics import f1_score, precision_score, recall_score\n",
    "\n",
    "import seaborn as sns\n",
    "import matplotlib\n",
    "import matplotlib.pyplot as plt\n",
    "%matplotlib inline"
   ]
  },
  {
   "cell_type": "markdown",
   "metadata": {},
   "source": [
    "# Support Vector Machines \n",
    "In this section of the notebook, we are doing a background review of your understanding of SVM. The first part is plotting different SVM kernels and see how that changes the classification. \n",
    "The second part aims to show the effects of margins on SVM classification "
   ]
  },
  {
   "cell_type": "markdown",
   "metadata": {},
   "source": [
    "## Plot different Kernels"
   ]
  },
  {
   "cell_type": "code",
   "execution_count": null,
   "metadata": {},
   "outputs": [],
   "source": [
    "import numpy as np\n",
    "import matplotlib.pyplot as plt\n",
    "from sklearn import datasets, svm\n",
    "import matplotlib.patches as mpatches\n",
    "iris = datasets.load_iris()\n",
    "X = iris.data\n",
    "y = iris.target\n",
    "\n",
    "X = X[y != 0, :2]\n",
    "y = y[y != 0]\n",
    "\n",
    "n_sample = len(X)\n",
    "colors = ['green','blue']\n",
    "groups=[\"Class 1 points\", \"Class 2 points\"]\n",
    "np.random.seed(0)\n",
    "order = np.random.permutation(n_sample)\n",
    "X = X[order]\n",
    "y = y[order].astype(np.float)\n",
    "X_train, X_test, y_train, y_test = train_test_split(X, y, test_size=0.7, random_state=42)\n",
    "\n",
    "# fit the model\n",
    "for fig_num, kernel in enumerate(('linear', 'rbf', 'poly')):\n",
    "    # create an svm model for each of the kernels with gamma=10\n",
    "    # fit the train data and calculate accuracy for train & test data\n",
    "    #==================================================#\n",
    "    #               Your code starts here              #\n",
    "    #==================================================#\n",
    "    clf = svm.SVC()\n",
    "    clf.fit()\n",
    "    train_acc= \n",
    "    test_acc= \n",
    "    #==================================================#\n",
    "    #               Your code ends here                #\n",
    "    #               Please don't add code below here   #\n",
    "    #==================================================#\n",
    "    print (kernel , \" kernel => train accuracy:\", np.round(train_acc,3), \"test accuracy: \", np.round(test_acc,3))\n",
    "    print( \"number of support vectors\",np.sum(clf.n_support_))\n",
    "    plt.figure(figsize=(10,6))\n",
    "    plt.figure(fig_num)\n",
    "    plt.clf()\n",
    "    plt.scatter(X[:, 0], X[:, 1], c=y, zorder=10, s=20,cmap=matplotlib.colors.ListedColormap(colors))\n",
    "    plt.axis('tight')\n",
    "    x_min = X[:, 0].min()\n",
    "    x_max = X[:, 0].max()\n",
    "    y_min = X[:, 1].min()\n",
    "    y_max = X[:, 1].max()\n",
    "\n",
    "    XX, YY = np.mgrid[x_min:x_max:200j, y_min:y_max:200j]\n",
    "    Z = clf.decision_function(np.c_[XX.ravel(), YY.ravel()])\n",
    "\n",
    "    # Put the result into a color plot\n",
    "    Z = Z.reshape(XX.shape)\n",
    "    #plt.pcolormesh(XX, YY, Z > 0, cmap=plt.cm.Paired)\n",
    "    plt.contour(XX, YY, Z, colors=['k', 'k', 'k'],\n",
    "                linestyles=['--', '-', '--'], levels=[-.5, 0, .5])\n",
    "    plt.scatter(clf.support_vectors_[:,0],clf.support_vectors_[:,1], c='r', s=30, label= \"support vectors\")\n",
    "    red_patch = mpatches.Patch(color='red', label='Support Vectors')\n",
    "    blue_patch = mpatches.Patch(color='blue', label='Class 1 points')\n",
    "    green_patch = mpatches.Patch(color='green', label='Class 2 points')\n",
    "    plt.legend(handles=[red_patch, blue_patch,green_patch])\n",
    "    plt.title(kernel)\n",
    "plt.show()"
   ]
  },
  {
   "cell_type": "markdown",
   "metadata": {},
   "source": [
    "## Soft margin vs. harder margins"
   ]
  },
  {
   "cell_type": "code",
   "execution_count": null,
   "metadata": {},
   "outputs": [],
   "source": [
    "import numpy as np\n",
    "import matplotlib.pyplot as plt\n",
    "from sklearn import datasets\n",
    "from sklearn.pipeline import Pipeline\n",
    "from sklearn.preprocessing import StandardScaler\n",
    "from sklearn.svm import LinearSVC\n",
    "iris = datasets.load_iris()\n",
    "X = iris.data\n",
    "y = iris.target\n",
    "\n",
    "X = X[y != 2, :2]\n",
    "y = y[y != 2]\n",
    "\n",
    "n_sample = len(X)\n",
    "\n",
    "np.random.seed(0)\n",
    "order = np.random.permutation(n_sample)\n",
    "X = X[order]\n",
    "y = y[order].astype(np.float)\n",
    "X_train, X_test, y_train, y_test = train_test_split(X, y, test_size=0.2, random_state=42)\n",
    "\n",
    "\n",
    "scaler = StandardScaler()\n",
    "svm_clf1 = LinearSVC(C=1, loss=\"hinge\", random_state=42)    # Soft SVM\n",
    "svm_clf2 = LinearSVC(C=100, loss=\"hinge\", random_state=42)  #Harder SVM\n",
    "# build the two pipelines for the for the soft svm and the harder svm\n",
    "# the first step is sclaing the data for both pipelines\n",
    "#==================================================#\n",
    "#               Your code starts here              #\n",
    "#==================================================#\n",
    "scaled_svm_clf1 = Pipeline([\n",
    "        (\"scaler\", ),\n",
    "        (\"linear_svc1\", ),\n",
    "])\n",
    "scaled_svm_clf2 = Pipeline([\n",
    "        (\"scaler\", scaler),\n",
    "       (\"linear_svc2\", ),\n",
    "]) \n",
    "#==================================================#\n",
    "#               Your code ends here                #\n",
    "#               Please don't add code below here   #\n",
    "#==================================================#\n",
    "scaled_svm_clf1.fit(X_train, y_train)\n",
    "scaled_svm_clf2.fit(X_train, y_train)"
   ]
  },
  {
   "cell_type": "code",
   "execution_count": null,
   "metadata": {},
   "outputs": [],
   "source": [
    "# Convert to unscaled parameters\n",
    "b1 = svm_clf1.decision_function([-scaler.mean_ / scaler.scale_])\n",
    "b2 = svm_clf2.decision_function([-scaler.mean_ / scaler.scale_])\n",
    "w1 = svm_clf1.coef_[0] / scaler.scale_\n",
    "w2 = svm_clf2.coef_[0] / scaler.scale_\n",
    "svm_clf1.intercept_ = np.array([b1])\n",
    "svm_clf2.intercept_ = np.array([b2])\n",
    "svm_clf1.coef_ = np.array([w1])\n",
    "svm_clf2.coef_ = np.array([w2])\n",
    "\n",
    "# Find support vectors (LinearSVC does not do this automatically)\n",
    "t = y * 2 - 1\n",
    "support_vectors_idx1 = (t * (X.dot(w1) + b1) < 1).ravel()\n",
    "support_vectors_idx2 = (t * (X.dot(w2) + b2) < 1).ravel()\n",
    "svm_clf1.support_vectors_ = X[support_vectors_idx1]\n",
    "svm_clf2.support_vectors_ = X[support_vectors_idx2]"
   ]
  },
  {
   "cell_type": "code",
   "execution_count": null,
   "metadata": {},
   "outputs": [],
   "source": [
    "def plot_svc_decision_boundary(svm_clf, xmin, xmax):\n",
    "    w = svm_clf.coef_[0]\n",
    "    b = svm_clf.intercept_[0]\n",
    "\n",
    "    # At the decision boundary, w0*x0 + w1*x1 + b = 0\n",
    "    # => x1 = -w0/w1 * x0 - b/w1\n",
    "    x0 = np.linspace(xmin, xmax, 200)\n",
    "    decision_boundary = -w[0]/w[1] * x0 - b/w[1]\n",
    "    # Complete the code below to calculate the margin\n",
    "    # and gutter_up and gutter_down for the decision boundary\n",
    "    #==================================================#\n",
    "    #               Your code starts here              #\n",
    "    #==================================================#\n",
    "    margin = \n",
    "    gutter_up = \n",
    "    gutter_down = \n",
    "    #==================================================#\n",
    "    #               Your code ends here                #\n",
    "    #               Please don't add code below here   #\n",
    "    #==================================================#\n",
    "    \n",
    "    \n",
    "    # NOTE: we have two support vectors\n",
    "    svs = svm_clf.support_vectors_\n",
    "    plt.scatter(svs[:, 0], svs[:, 1], s=180, facecolors='#FFAAAA')\n",
    "    plt.plot(x0, decision_boundary, \"k-\", linewidth=2)\n",
    "    plt.plot(x0, gutter_up, \"k--\", linewidth=2)\n",
    "    plt.plot(x0, gutter_down, \"k--\", linewidth=2)"
   ]
  },
  {
   "cell_type": "code",
   "execution_count": null,
   "metadata": {},
   "outputs": [],
   "source": [
    "train_acc1= scaled_svm_clf1.score(X_train,y_train)\n",
    "test_acc1= scaled_svm_clf1.score (X_test,y_test)\n",
    "train_acc2= scaled_svm_clf2.score(X_train,y_train)\n",
    "test_acc2= scaled_svm_clf2.score (X_test,y_test)\n",
    "print (\" soft margins C=1 => train accuracy:\", train_acc1, \"test accuracy: \", test_acc1)\n",
    "print (\" harder margins C=100 => train accuracy:\", train_acc2, \"test accuracy: \", test_acc2)\n",
    "\n",
    "\n",
    "plt.figure(figsize=(12,6))\n",
    "plt.subplot(121)\n",
    "plt.plot(X[:, 0][y==1], X[:, 1][y==1], \"g^\", label=\"Iris-Virginica\")\n",
    "plt.plot(X[:, 0][y==0], X[:, 1][y==0], \"bo\", label=\"Iris-Versicolor\")\n",
    "plot_svc_decision_boundary(svm_clf1, 2, 8)\n",
    "plt.xlabel(\"Petal length\", fontsize=14)\n",
    "plt.ylabel(\"Petal width\", fontsize=14)\n",
    "plt.legend(loc=\"upper left\", fontsize=14)\n",
    "plt.title(\"$C = {}$\".format(svm_clf1.C), fontsize=16)\n",
    "plt.axis([4,7, 1, 5])\n",
    "\n",
    "plt.subplot(122)\n",
    "plt.plot(X[:, 0][y==1], X[:, 1][y==1], \"g^\")\n",
    "plt.plot(X[:, 0][y==0], X[:, 1][y==0], \"bo\")\n",
    "plot_svc_decision_boundary(svm_clf2, 2, 8)\n",
    "plt.xlabel(\"Petal length\", fontsize=14)\n",
    "plt.title(\"$C = {}$\".format(svm_clf2.C), fontsize=16)\n",
    "plt.axis([4, 7, 1.5, 5])"
   ]
  },
  {
   "cell_type": "markdown",
   "metadata": {},
   "source": [
    "# TASK: Multiclass Preceptron : variable importance"
   ]
  },
  {
   "cell_type": "markdown",
   "metadata": {},
   "source": [
    "Compare the hyperplane coefficients barchart  with the pairwise visualization and complete the analysis provided below."
   ]
  },
  {
   "cell_type": "markdown",
   "metadata": {},
   "source": [
    "## Load the data and build a perceptron classifier model"
   ]
  },
  {
   "cell_type": "code",
   "execution_count": null,
   "metadata": {
    "ExecuteTime": {
     "end_time": "2018-11-18T01:46:34.927804Z",
     "start_time": "2018-11-18T01:46:34.908707Z"
    }
   },
   "outputs": [],
   "source": [
    "irisDataset = load_iris() \n",
    "\n",
    "X = irisDataset.data\n",
    "y = irisDataset.target\n",
    "\n",
    "#create a heldout dataset for final testing only\n",
    "X_train, X_valid, y_train, y_valid = train_test_split(X, y, test_size=0.15, random_state=42)\n",
    "X_train, X_test, y_train, y_test = train_test_split(X_train, y_train, test_size=0.15, random_state=42)\n",
    "df = pd.DataFrame(X, columns=irisDataset.feature_names)\n",
    "df['IrisClass'] = y\n",
    "\n",
    "perceptron_pipeline = Pipeline([\n",
    "        #('imputer', Imputer(strategy=\"median\")), #Use the \"median\" to impute missing vlaues\n",
    "        ('std_scaler', StandardScaler()),\n",
    "        ('perceptron', Perceptron(random_state=42))\n",
    "    ])\n",
    "# Fit the train data to the pipeline\n",
    "# Predict for X-test\n",
    "#==================================================#\n",
    "#               Your code starts here              #\n",
    "#==================================================#\n",
    "perceptron_pipeline.fit()\n",
    "preds = \n",
    "#==================================================#\n",
    "#               Your code ends here                #\n",
    "#               Please don't add code below here   #\n",
    "#==================================================#"
   ]
  },
  {
   "cell_type": "markdown",
   "metadata": {},
   "source": [
    "### Generate visualizations (pairwise scatterplot and bar chart of the model coefficients)"
   ]
  },
  {
   "cell_type": "code",
   "execution_count": null,
   "metadata": {
    "ExecuteTime": {
     "end_time": "2018-11-18T01:46:38.806120Z",
     "start_time": "2018-11-18T01:46:34.929719Z"
    }
   },
   "outputs": [],
   "source": [
    "sns.pairplot(sns.load_dataset(\"iris\"), hue=\"species\", height=4);\n",
    "\n",
    "model = perceptron_pipeline.named_steps['perceptron']\n",
    "print(np.round(model.coef_,3))\n",
    "plt.figure(figsize=(12, 8))\n",
    "plt.bar(np.arange(model.coef_.shape[1]) - 0.2, model.coef_[0], color=\"red\", width=0.2, label=\"setosa\")\n",
    "plt.bar(np.arange(model.coef_.shape[1]) - 0.0, model.coef_[1], color=\"green\", width=0.2, label=\"versicolour\")\n",
    "plt.bar(np.arange(model.coef_.shape[1]) + 0.2, model.coef_[2], color=\"blue\", width=0.2, label=\"virginica\")\n",
    "plt.xticks(np.arange(model.coef_.shape[1]), df.columns[:4], rotation=0)\n",
    "plt.xlim([-1, model.coef_.shape[1]])\n",
    "plt.title(\"Multiclass Perceptron Model coefficients\")\n",
    "plt.legend(loc=\"lower right\");\n",
    "plt.grid()\n"
   ]
  },
  {
   "cell_type": "markdown",
   "metadata": {},
   "source": [
    "### Fill in the blanks to complete the analysis\n",
    "\n",
    "Use the results of the hyperplane cooefficient's barchart with the pairwise feature distributions to understand how the different features can be used to classify the different iris classes\n",
    "\n",
    "**Fill in the appropriate text:**\n",
    "\n",
    "Compare the hyperplane cooefficients barplot above with the pairwise feature distributions plotted previously.\n",
    "\n",
    "Looking at the barplot, one can see that ___ has the least influence on defining a separating hyperplane for the versicolour class.  Looking at the the pairwise plot, this feature does not distinguish versicolour in combination with any other feature.\n",
    "\n",
    "Looking at the second column on the pairwise plot, setosa and versicolor classes are both impossible to distinguish based on ___ ; we can observe that 99% of the vertical lines that can be drawn, contain more than one class and hence wont be able to separate classes based on this feature.\n",
    "\n",
    "Both petal width and petal length are excellent features to consider since either one can separate 100% of ___ .  In combination, they are able to separate close to 100% of the remaining classes too. ___  is the most influential factor in determining ____ class. This is also clearly visible in the pairwise plot, as 99% of the vertical lines clearly indicate exactly one class."
   ]
  },
  {
   "cell_type": "markdown",
   "metadata": {},
   "source": [
    "# TASK: Multiclass  perceptron with regularization\n",
    "\n",
    "\n",
    "Using the SKLearn class `SGDClassifier` within the pipeline provided below, learn multiclass perceptron using gridsearch to evaluate:\n",
    "* L1, L2 and elasticnet regularization\n",
    "* alpha values $\\in [10, 1, 0.1, 0.01, 0.001)$\n",
    "\n",
    "Report your the accuracy score on your test data and the hyperparameters for your best model."
   ]
  },
  {
   "cell_type": "code",
   "execution_count": null,
   "metadata": {
    "ExecuteTime": {
     "end_time": "2018-11-18T01:46:41.557326Z",
     "start_time": "2018-11-18T01:46:38.809117Z"
    }
   },
   "outputs": [],
   "source": [
    "# The number of informative features. Each class is composed of a number\n",
    "# of gaussian clusters each located around the vertices of a hypercube\n",
    "# in a subspace of dimension ``n_informative``. For each cluster,\n",
    "# informative features are drawn independently from  N(0, 1) and then\n",
    "# randomly linearly combined within each cluster in order to add\n",
    "# covariance. The clusters are then placed on the vertices of the\n",
    "# hypercube.\n",
    "\n",
    "# generate classification dataset\n",
    "x, y = make_classification(1000, n_classes=3, n_informative=6, random_state=42)\n",
    "\n",
    "# generate splits for crossfold validation\n",
    "cv = KFold(3, random_state=42, shuffle=True)\n",
    "cv_idx = cv.split(x)\n",
    "\n",
    "\n",
    "# Create a pipeline, where the first step is scaling the features using StandardScaler()\n",
    "# and the second step is SGDClassifier() with loss='perceptron' and random_state=42\n",
    "#==================================================#\n",
    "#               Your code starts here              #\n",
    "#==================================================#\n",
    "pipeline = Pipeline([\n",
    "      ('std_scaler', ),\n",
    "      ('perceptron', )\n",
    "])\n",
    "#==================================================#\n",
    "#               Your code ends here                #\n",
    "#               Please don't add code below here   #\n",
    "#==================================================#\n",
    "\n",
    "\n",
    "parameters = { \n",
    "    'perceptron__alpha': (10, 1, 0.1, 0.01, 0.001),\n",
    "    'perceptron__penalty': ('l1', 'l2', 'elasticnet'),\n",
    "}\n",
    "\n",
    "\n",
    "grid_search = GridSearchCV(pipeline, parameters, cv=cv_idx, n_jobs=-1, verbose=1, )\n",
    "grid_search.fit(x,y)\n",
    "\n",
    "print(\"Best score: %0.3f\" % grid_search.best_score_)\n",
    "print(\"Best parameters set:\")\n",
    "best_parameters = grid_search.best_estimator_.get_params()\n",
    "for param_name in sorted(parameters.keys()):\n",
    "    print(\"\\t%s: %r\" % (param_name, best_parameters[param_name]))\n",
    "    \n",
    "preds = grid_search.predict(x)\n",
    "accuracy = accuracy_score(preds, y)\n",
    "\n",
    "results = pd.DataFrame(columns=[\"Model\", \"Test Accuracy\"])\n",
    "results.loc[len(results)] = [\"Perceptron\", np.round(accuracy, 3)]\n",
    "results"
   ]
  },
  {
   "cell_type": "markdown",
   "metadata": {},
   "source": [
    "# Calculate F1 score with micro and macro averaging"
   ]
  },
  {
   "cell_type": "markdown",
   "metadata": {},
   "source": [
    "\n",
    "\n",
    "\n",
    "### Equation  $F_1$ score\n",
    "\n",
    "$\n",
    "F_1 = \\cfrac{2}{\\cfrac{1}{\\text{precision}} + \\cfrac{1}{\\text{recall}}} = 2 \\times \\cfrac{\\text{precision}\\, \\times \\, \\text{recall}}{\\text{precision}\\, + \\, \\text{recall}} = \\cfrac{TP}{TP + \\cfrac{FN + FP}{2}}\n",
    "$\n",
    "\n",
    "\n",
    "\n",
    "\n",
    "\n",
    "So for our Reuters multiclass classification problem the labels are not binary, but are one-hot encoded. Fortunately, there are  options that work with this type of labeled  data for Precision:\n",
    "\n",
    "* precision_score(y_test, y_pred, average=None) will return the precision scores for each class, while\n",
    "* precision_score(y_test, y_pred, average='micro') will return the total ratio of tp/(tp + fp)\n",
    "* precision_score(y_test, y_pred, average='macro') will return macro average (class average = sum(precision)/numOfClasses). This is option is much preferred which dealing with imbalanced data.\n",
    "\n",
    "The same is true for other performance measures such as F1."
   ]
  },
  {
   "cell_type": "markdown",
   "metadata": {},
   "source": [
    "### Run this code to generate targets and predictions"
   ]
  },
  {
   "cell_type": "code",
   "execution_count": null,
   "metadata": {
    "ExecuteTime": {
     "end_time": "2018-11-18T01:46:41.596137Z",
     "start_time": "2018-11-18T01:46:41.561849Z"
    }
   },
   "outputs": [],
   "source": [
    "from sklearn.datasets import make_classification\n",
    "from sklearn.multioutput import MultiOutputClassifier\n",
    "from sklearn.ensemble import RandomForestClassifier\n",
    "from sklearn.preprocessing import MultiLabelBinarizer\n",
    "from sklearn.utils import shuffle\n",
    "import numpy as np\n",
    "\n",
    "\n",
    "_, y1 = make_classification(n_samples=20, n_features=100, n_informative=30, n_classes=5, random_state=12)\n",
    "y2 = shuffle(y1, random_state=1)\n",
    "y3 = shuffle(y1, random_state=2)\n",
    "y4 = shuffle(y1, random_state=3)\n",
    "\n",
    "\n",
    "y_text = np.vstack((y1, y2, y3, y4)).T\n",
    "\n",
    "# One hot encode the target class variables\n",
    "mlb = MultiLabelBinarizer(classes=(0, 1, 2, 3, 4))\n",
    "y = mlb.fit_transform(y_text)\n",
    "\n",
    "# Use make_classification to create a cluster of 20 sample points\n",
    "# with a 100 features, 30 informative features, 5 classes\n",
    "# and random state =42\n",
    "#==================================================#\n",
    "#               Your code starts here              #\n",
    "#==================================================#\n",
    "_, y1 = make_classification()\n",
    "#==================================================#\n",
    "#               Your code ends here                #\n",
    "#               Please don't add code below here   #\n",
    "#==================================================#\n",
    "\n",
    "\n",
    "y2 = shuffle(y1, random_state=1)\n",
    "y3 = shuffle(y1, random_state=2)\n",
    "y4 = shuffle(y1, random_state=3)\n",
    "y5 = shuffle(y1, random_state=4)\n",
    "\n",
    "#NOTE: Y target vector for 3 classes\n",
    "# note that each example can have one or MORE class labels\n",
    "y_preds_text = np.vstack((y1, y2, y3, y4, y5)).T     \n",
    "# One hot encode the target class variables\n",
    "mlb = MultiLabelBinarizer(classes=(0, 1, 2, 3, 4))\n",
    "y_preds = mlb.fit_transform(y_preds_text)"
   ]
  },
  {
   "cell_type": "markdown",
   "metadata": {},
   "source": [
    "### These are the 20 multilabel targets:"
   ]
  },
  {
   "cell_type": "code",
   "execution_count": null,
   "metadata": {
    "ExecuteTime": {
     "end_time": "2018-11-18T01:46:41.602684Z",
     "start_time": "2018-11-18T01:46:41.598233Z"
    }
   },
   "outputs": [],
   "source": [
    "y"
   ]
  },
  {
   "cell_type": "markdown",
   "metadata": {},
   "source": [
    "### These are the 20 predictions generated by our \"model\":"
   ]
  },
  {
   "cell_type": "code",
   "execution_count": null,
   "metadata": {
    "ExecuteTime": {
     "end_time": "2018-11-18T01:46:41.608774Z",
     "start_time": "2018-11-18T01:46:41.605105Z"
    }
   },
   "outputs": [],
   "source": [
    "print(y_preds)"
   ]
  },
  {
   "cell_type": "markdown",
   "metadata": {},
   "source": [
    "## TASK: Using the one-hot encorded targets and predictions data above (for 20 multi-label samples) calculate the F1 score using a micro and macro approach."
   ]
  },
  {
   "cell_type": "code",
   "execution_count": null,
   "metadata": {
    "ExecuteTime": {
     "end_time": "2018-11-18T01:46:41.620321Z",
     "start_time": "2018-11-18T01:46:41.611177Z"
    }
   },
   "outputs": [],
   "source": [
    "# Complete the following code to calculate the\n",
    "# F1 score with the micro and macro approach\n",
    "#==================================================#\n",
    "#               Your code starts here              #\n",
    "#==================================================#\n",
    "print(\"F1 Micro:\",round(f1_score(....),3))\n",
    "print(\"F1 Macro:\",round(f1_score(....),3))\n",
    "#==================================================#\n",
    "#               Your code ends here                #\n",
    "#               Please don't add code below here   #\n",
    "#==================================================#"
   ]
  },
  {
   "cell_type": "markdown",
   "metadata": {},
   "source": [
    "# [Optional Task] Reuters classification with different numbers of classes k\n",
    "\n",
    "Using the code provided below, generate a series of experiments based on the Reuters dataset:\n",
    "\n",
    "At a minimum:\n",
    "* Compare the perceptron algorithm to logistic regression (\"log\" loss). \n",
    "* Experiment with unigrams and bigrams.\n",
    "* Experiment with at least two more hyperparameters.\n",
    "\n",
    "Keep a log of your results for each experiment in a table of results (pandas dataframe).  Your table of results should be a meaningful record or your work on this task, not a dump of grid search output for one experiment.  Please include:\n",
    "* Description of the model (e.g., Baseline Logistic Regression k=30, Perceptron k=50, etc.).\n",
    "* Identify key hyperparameters.\n",
    "* Precision, recall and F1 scores calculated using micro and macro approach.\n",
    "* Time to complete the experiment.\n",
    "* Hardware used.\n",
    "\n",
    "Think about how (and why) these changes affect your results.\n"
   ]
  },
  {
   "cell_type": "markdown",
   "metadata": {},
   "source": [
    "## Load all the data"
   ]
  },
  {
   "cell_type": "code",
   "execution_count": null,
   "metadata": {
    "ExecuteTime": {
     "end_time": "2018-11-21T22:29:44.767375Z",
     "start_time": "2018-11-21T22:29:42.463957Z"
    }
   },
   "outputs": [],
   "source": [
    "documents = reuters.fileids()\n",
    "test = [d for d in documents if d.startswith('test/')]\n",
    "train = [d for d in documents if d.startswith('training/')]\n",
    "\n",
    "cachedStopWords = nltk.download(\"stopwords\") #stopwords.words(\"english\")\n",
    "cachedStopWords = nltk.corpus.stopwords.words('english')\n",
    "np.random.seed(42)\n",
    "def loadReutersTrainTest():\n",
    "    documents = reuters.fileids()\n",
    "    train_docs_id = list(filter(lambda doc: doc.startswith(\"train\"), documents))\n",
    "    test_docs_id = list(filter(lambda doc: doc.startswith(\"test\"), documents))\n",
    "    #Input text\n",
    "    train_docs = [reuters.raw(doc_id) for doc_id in train_docs_id]\n",
    "    test_docs = [reuters.raw(doc_id) for doc_id in test_docs_id]\n",
    "    #Categories \n",
    "    # Complete the following code to get the categories\n",
    "    # of the train and the test set\n",
    "    #==================================================#\n",
    "    #               Your code starts here              #\n",
    "    #==================================================#\n",
    "    train_target_names = [reuters.categories(...) for ... in ...]\n",
    "    test_target_names = [reuters.categories(...) for ... in ...]\n",
    "    #==================================================#\n",
    "    #               Your code ends here                #\n",
    "    #               Please don't add code below here   #\n",
    "    #==================================================#\n",
    "    return(train_docs, test_docs, train_target_names, test_target_names)\n",
    "\n",
    "train_docs, test_docs, train_target_names, test_target_names = loadReutersTrainTest()\n",
    "\n",
    "print(\"Number of train docs is \", len(train_docs))\n",
    "print(\"Number of test docs is \", len(test_docs))\n"
   ]
  },
  {
   "cell_type": "markdown",
   "metadata": {},
   "source": [
    "## The categories (classes) of the dataset"
   ]
  },
  {
   "cell_type": "code",
   "execution_count": null,
   "metadata": {},
   "outputs": [],
   "source": [
    "# create counter to summarize\n",
    "categories = []\n",
    "file_count = []\n",
    "np.random.seed(42)\n",
    "# count each tag's number of documents\n",
    "for i in reuters.categories(reuters.fileids()):\n",
    "    \"\"\"print(\"$ There are {} documents included in topic \\\"{}\\\"\"\n",
    "          .format(len(reuters.fileids(i)), i))\"\"\"\n",
    "    file_count.append(len(reuters.fileids(i)))\n",
    "    categories.append(i)\n",
    "\n",
    "# create a dataframe out of the counts\n",
    "allCategories  = pd.DataFrame(\n",
    "    {'categories': categories, \"file_count\": file_count}) \\\n",
    "    .sort_values('file_count', ascending=False)\n",
    "allCategories"
   ]
  },
  {
   "cell_type": "markdown",
   "metadata": {},
   "source": [
    "## Load data using a number of classes k=20"
   ]
  },
  {
   "cell_type": "code",
   "execution_count": null,
   "metadata": {
    "ExecuteTime": {
     "end_time": "2018-11-21T22:29:46.281523Z",
     "start_time": "2018-11-21T22:29:46.277887Z"
    }
   },
   "outputs": [],
   "source": [
    "# determines number of categories.\n",
    "k=20\n",
    "# Select documents that only contains top two labels with most documents\n",
    "category_filter =allCategories.iloc[0:k, 0].values.tolist()\n",
    "print(category_filter)"
   ]
  },
  {
   "cell_type": "code",
   "execution_count": null,
   "metadata": {
    "ExecuteTime": {
     "end_time": "2018-11-21T22:29:49.397750Z",
     "start_time": "2018-11-21T22:29:47.891040Z"
    }
   },
   "outputs": [],
   "source": [
    "#load examples for top K classes\n",
    "def loadReutersTrainTestTopFiltered(category_filter):\n",
    "    # select fileid with the category filter\n",
    "    np.random.seed(42)\n",
    "    documents = reuters.fileids()\n",
    "\n",
    "    doc_list = np.array(reuters.fileids(category_filter))\n",
    "    doc_list = doc_list[doc_list != 'training/3267']\n",
    "\n",
    "    train_docs_id = list(filter(lambda doc: doc.startswith(\"train\"), doc_list))\n",
    "    test_docs_id = list(filter(lambda doc: doc.startswith(\"test\"), doc_list))\n",
    "    #Input text\n",
    "    train_docs = [reuters.raw(doc_id) for doc_id in train_docs_id]\n",
    "    test_docs = [reuters.raw(doc_id) for doc_id in test_docs_id]\n",
    "    #Categories \n",
    "    train_target_names = [reuters.categories  (doc_id) for doc_id in train_docs_id]\n",
    "    test_target_names = [reuters.categories  (doc_id) for doc_id in test_docs_id]\n",
    "    #remove labels from each example that have not been selected\n",
    "    # ['earn', 'acq', 'money-fx', 'grain', 'crude', 'trade', 'interest', 'ship', 'wheat', 'corn']\n",
    "    # E.g., ['Japanese Anime',  'earn', 'acq']  --> ['earn', 'acq'] \n",
    "    transformedTags = []\n",
    "    for tags in train_target_names:\n",
    "        tagsTmp=[]\n",
    "        for tag in tags:\n",
    "            if tag in category_filter:\n",
    "                tagsTmp.append(tag)\n",
    "        transformedTags.append(tagsTmp)\n",
    "    train_target_namesK = transformedTags  \n",
    "    \n",
    "    transformedTags = []\n",
    "    for tags in test_target_names:\n",
    "        tagsTmp=[]\n",
    "        for tag in tags:\n",
    "            if tag in category_filter:\n",
    "                tagsTmp.append(tag)\n",
    "        transformedTags.append(tagsTmp)\n",
    "    test_target_namesK = transformedTags    \n",
    "   \n",
    "    return(train_docs, test_docs, train_target_namesK, test_target_namesK)\n",
    "\n",
    "train_docs, test_docs, train_target_names, test_target_names = loadReutersTrainTestTopFiltered(category_filter)\n",
    "print(\"Number of train docs is \", len(train_docs))\n",
    "print(\"Number of test docs is \", len(test_docs))\n",
    "mlb = MultiLabelBinarizer(classes=category_filter)\n",
    "Y_train = mlb.fit_transform(train_target_names)\n",
    "Y_test = mlb.fit_transform(test_target_names)\n"
   ]
  },
  {
   "cell_type": "markdown",
   "metadata": {},
   "source": [
    "\n",
    "## Defining the pipeline"
   ]
  },
  {
   "cell_type": "code",
   "execution_count": null,
   "metadata": {},
   "outputs": [],
   "source": [
    "# Define a pipeline combining the text feature extractor CountVectorizer\n",
    "# using cachedStopWords as stop_words, TfidfTransformer() and \n",
    "# MultiOutputClassifier() with SGDClassifier() as a parameter, and max_iter=50 as parameter within SGDClassifier() \n",
    "#==================================================#\n",
    "#               Your code starts here              #\n",
    "#==================================================#\n",
    "pipeline = Pipeline([\n",
    "    ('vect', ),\n",
    "    ('tfidf', ), \n",
    "    ('clf', )),])\n",
    "\n",
    "#==================================================#\n",
    "#               Your code ends here                #\n",
    "#               Please don't add code below here   #\n",
    "#==================================================#\n",
    "pipeline.named_steps"
   ]
  },
  {
   "cell_type": "markdown",
   "metadata": {},
   "source": [
    "## Defining evaluation function"
   ]
  },
  {
   "cell_type": "code",
   "execution_count": null,
   "metadata": {
    "ExecuteTime": {
     "end_time": "2018-11-18T01:55:28.281211Z",
     "start_time": "2018-11-18T01:46:45.490568Z"
    }
   },
   "outputs": [],
   "source": [
    "#Multi-labels per example evaluation\n",
    "def evaluate(test_labels, predictions):\n",
    "    precision = precision_score(test_labels, predictions, average='micro')\n",
    "    recall = recall_score(test_labels, predictions, average='micro')\n",
    "    f1 = f1_score(test_labels, predictions, average='micro')\n",
    "    print(\"Micro-average quality numbers\")\n",
    "    print(\"Precision: {:.4f}, Recall: {:.4f}, F1-measure: {:.4f}\".format(precision, recall, f1))\n",
    "\n",
    "    # Complete the following code to calculate the\n",
    "    # precision, recall and F1 score using the macro approach\n",
    "    #==================================================#\n",
    "    #               Your code starts here              #\n",
    "    #==================================================#\n",
    "    precision = precision_score()\n",
    "    recall = recall_score()\n",
    "    f1 = f1_score()\n",
    "    #==================================================#\n",
    "    #               Your code ends here                #\n",
    "    #               Please don't add code below here   #\n",
    "    #==================================================#\n",
    "    print(\"Macro-average quality numbers\")\n",
    "    print(\"Precision: {:.4f}, Recall: {:.4f}, F1-measure: {:.4f}\".format(precision, recall, f1))\n",
    "    "
   ]
  },
  {
   "cell_type": "markdown",
   "metadata": {},
   "source": [
    "## Performing gridsearch "
   ]
  },
  {
   "cell_type": "code",
   "execution_count": null,
   "metadata": {},
   "outputs": [],
   "source": [
    "# Note: This cell might take more than an hour to run.\n",
    "# uncommenting more parameters will give better exploring power but will\n",
    "# increase processing time in a combinatorial way\n",
    "# Parameters of the estimators in the pipeline can be accessed using the <estimator>__<parameter> syntax:\n",
    "parameters = { #listed in the form of \"step__parameter\", e.g, clf__penalty\n",
    "    #'vect__max_df': (0.5, 0.75, 1.0),\n",
    "    #'vect__max_features': (None, 200,500), \n",
    "    'vect__ngram_range': ((1, 1), (1, 2)),  # unigrams (single words) or bigrams (or sequence of words of length 2)\n",
    "    #'tfidf__use_idf': (True, False),\n",
    "    #'tfidf__norm': ('l1', 'l2'),\n",
    "    'clf__estimator__alpha': (0.001, 0.01, .1),        ## access parameters for the estimator inside\n",
    "    'clf__estimator__penalty': ('l1', 'l2', 'elasticnet'),  ## the MultioutputClassifier step by using\n",
    "    'clf__estimator__loss': ('perceptron', 'log')     ## step__MultioutputClassierParameter__EstimatorParameter\n",
    "}\n",
    "\n",
    "if __name__ == \"__main__\":\n",
    "    # multiprocessing requires the fork to happen in a __main__ protected\n",
    "    # block\n",
    "\n",
    "    # find the best parameters for both the feature extraction and the\n",
    "    # classifier\n",
    "    # n_jobs=-1 means that the computation will be dispatched on all the CPUs of the computer.\n",
    "    #\n",
    "    # By default, the GridSearchCV uses a 3-fold cross-validation. However, if it \n",
    "    #            detects that a classifier is passed, rather than a regressor, it uses a stratified 3-fold.\n",
    "    cv = KFold(n_splits=3, random_state=42, shuffle=True)\n",
    "    grid_search = GridSearchCV(pipeline, parameters, cv=cv, n_jobs=-2, verbose=1, scoring=\"f1_micro\", return_train_score=True)\n",
    "\n",
    "    print(\"Performing grid search...\")\n",
    "    print(\"pipeline:\", [name for name, _ in pipeline.steps])\n",
    "    print(\"parameters:\")\n",
    "    pprint(parameters)\n",
    "    t0 = time()\n",
    "    grid_search.fit(train_docs, Y_train)\n",
    "    print(\"done in %0.3fs\" % (time() - t0))\n",
    "    print()\n",
    "    #print(\"grid_search.cv_results_\", grid_search.cv_results_)\n",
    "    #estimator : estimator object. This is assumed to implement the scikit-learn estimator interface.  \n",
    "    #            Either estimator needs to provide a score function, or scoring must be passed.\n",
    "    #Accuracy is the default for classification; feel free to change this to precision, recall, fbeta\n",
    "    print(\"Best score: %0.3f\" % grid_search.best_score_)\n",
    "    print(\"Best parameters set:\")\n",
    "    best_parameters = grid_search.best_estimator_.get_params()\n",
    "    for param_name in sorted(parameters.keys()):\n",
    "        print(\"\\t%s: %r\" % (param_name, best_parameters[param_name]))\n",
    "        \n",
    "    #Test on Heldlout test set\n",
    "    preds = grid_search.best_estimator_.predict(test_docs)\n",
    "    print(\"--------------------------------------------------------------------\")\n",
    "    evaluate(Y_test, preds)\n",
    "    "
   ]
  },
  {
   "cell_type": "markdown",
   "metadata": {},
   "source": [
    "### mean_train_score\tand mean_test_score\n",
    "the gridsearch attribute of `cv_results_`  `mean_test_score` is calculated as the average of the test scores of each cross validation fold. Since in this case we are using `\"f1_micro\"`as as scoring metric. Each `mean_test_score` is the mean of the 3 (`n_splits=3`) `f1_micro scores`. "
   ]
  },
  {
   "cell_type": "code",
   "execution_count": null,
   "metadata": {
    "scrolled": true
   },
   "outputs": [],
   "source": [
    "import pandas as pd\n",
    "pd.set_option('display.max_colwidth', -1)\n",
    "\n",
    "results = pd.DataFrame(grid_search.cv_results_).loc[:, ['mean_test_score','params','mean_fit_time','mean_score_time']].sort_values(by='mean_test_score', ascending=False)\n",
    "results.head(20)\n"
   ]
  },
  {
   "cell_type": "markdown",
   "metadata": {},
   "source": [
    "## Reuters Classification with SVM\n",
    "### Defining the pipeline for SVM"
   ]
  },
  {
   "cell_type": "code",
   "execution_count": null,
   "metadata": {},
   "outputs": [],
   "source": [
    "from sklearn import svm\n",
    "# Define a pipeline combining the text feature extractor CountVectorizer\n",
    "# using cachedStopWords as stop_words, TfidfTransformer() and \n",
    "# MultiOutputClassifier() with SVC() as a parameter, and max_iter=50 as paramter within SVC()\n",
    "#==================================================#\n",
    "#               Your code starts here              #\n",
    "#==================================================#\n",
    "pipeline = Pipeline([\n",
    "    ('vect', ),\n",
    "    ('tfidf', ), \n",
    "    ('svm', )),])\n",
    "\n",
    "#==================================================#\n",
    "#               Your code ends here                #\n",
    "#               Please don't add code below here   #\n",
    "#==================================================#\n",
    "pipeline.named_steps"
   ]
  },
  {
   "cell_type": "markdown",
   "metadata": {},
   "source": [
    "### Performing gridsearch for SVM"
   ]
  },
  {
   "cell_type": "code",
   "execution_count": null,
   "metadata": {},
   "outputs": [],
   "source": [
    "\n",
    "# uncommenting more parameters will give better exploring power but will\n",
    "# increase processing time in a combinatorial way\n",
    "# Parameters of the estimators in the pipeline can be accessed using the <estimator>__<parameter> syntax:\n",
    "parameters = { #listed in the form of \"step__parameter\", e.g, clf__penalty\n",
    "    'vect__ngram_range': ((1, 1), (1, 2)),  # unigrams (single words) or bigrams (or sequence of words of length 2)\n",
    "    #'tfidf__use_idf': (True, False),\n",
    "    #'tfidf__norm': ('l1', 'l2'),\n",
    "    'svm__estimator__C': (.1, 1, 10),        ## access parameters for the estimator inside\n",
    "    'svm__estimator__kernel': ('linear', 'poly'),  ## the MultioutputClassifier step by using\n",
    "    'svm__estimator__degree': (1,2,3)     ## step__MultioutputClassierParameter__EstimatorParameter\n",
    "}\n",
    "\n",
    "if __name__ == \"__main__\":\n",
    "    # multiprocessing requires the fork to happen in a __main__ protected\n",
    "    # block\n",
    "\n",
    "    # find the best parameters for both the feature extraction and the\n",
    "    # classifier\n",
    "    # n_jobs=-1 means that the computation will be dispatched on all the CPUs of the computer.\n",
    "    #\n",
    "    # By default, the GridSearchCV uses a 3-fold cross-validation. However, if it \n",
    "    #            detects that a classifier is passed, rather than a regressor, it uses a stratified 3-fold.\n",
    "    cv = KFold(n_splits=3, random_state=42, shuffle=True)\n",
    "    grid_search = GridSearchCV(pipeline, parameters, cv=cv, n_jobs=-2, verbose=1, scoring=\"f1_micro\", return_train_score=True)\n",
    "\n",
    "    print(\"Performing grid search...\")\n",
    "    print(\"pipeline:\", [name for name, _ in pipeline.steps])\n",
    "    print(\"parameters:\")\n",
    "    pprint(parameters)\n",
    "    t0 = time()\n",
    "    grid_search.fit(train_docs, Y_train)\n",
    "    print(\"done in %0.3fs\" % (time() - t0))\n",
    "    print()\n",
    "    #print(\"grid_search.cv_results_\", grid_search.cv_results_)\n",
    "    #estimator : estimator object. This is assumed to implement the scikit-learn estimator interface.  \n",
    "    #            Either estimator needs to provide a score function, or scoring must be passed.\n",
    "    #Accuracy is the default for classification; feel free to change this to precision, recall, fbeta\n",
    "    print(\"Best score: %0.3f\" % grid_search.best_score_)\n",
    "    print(\"Best parameters set:\")\n",
    "    # Complete the code below to get the parameters of your best model based on gridsearch\n",
    "    #==================================================#\n",
    "    #               Your code starts here              #\n",
    "    #==================================================#\n",
    "    best_parameters = \n",
    "    #==================================================#\n",
    "    #               Your code ends here                #\n",
    "    #               Please don't add code below here   #\n",
    "    #==================================================#\n",
    "    for param_name in sorted(parameters.keys()):\n",
    "        print(\"\\t%s: %r\" % (param_name, best_parameters[param_name]))\n",
    "        \n",
    "    #Test on Heldlout test set\n",
    "    preds = grid_search.best_estimator_.predict(test_docs)\n",
    "    print(\"--------------------------------------------------------------------\")\n",
    "    evaluate(Y_test, preds)\n",
    "    "
   ]
  },
  {
   "cell_type": "code",
   "execution_count": null,
   "metadata": {},
   "outputs": [],
   "source": [
    "import pandas as pd\n",
    "pd.set_option('display.max_colwidth', -1)\n",
    "\n",
    "results = pd.DataFrame(grid_search.cv_results_).loc[:, ['mean_train_score','mean_test_score','params','mean_fit_time','mean_score_time']].sort_values(by='mean_test_score', ascending=False)\n",
    "results.head(20)\n"
   ]
  },
  {
   "cell_type": "markdown",
   "metadata": {},
   "source": [
    "# [Optional Task] Multiclass perceptron: classification+training\n",
    "\n",
    "Like most other techniques for training linear classifiers, the perceptron generalizes naturally to multiclass classification. Here, the input ${\\displaystyle x}$  and the output ${\\displaystyle y}$  are drawn from arbitrary sets. A feature representation function ${\\displaystyle f(x,y)}$  maps each possible input/output pair to a finite-dimensional real-valued feature vector. As before, the feature vector is multiplied by a weight vector ${\\displaystyle w}$, but now the resulting score is used to choose among many possible outputs:\n",
    "\n",
    "$${\\displaystyle {\\hat {y}}=\\operatorname {argmax} _{y}f(x,y)\\cdot w.} $$\n",
    "\n",
    "\n",
    "\n",
    "Learning again iterates over the examples, predicting an output for each, leaving the weights unchanged when the predicted output matches the target, and changing them when it does not. \n",
    "\n",
    "Given that the predicted class ${\\hat{y}}$ is different to that actual class $y$:\n",
    "\n",
    "\n",
    "$${\\displaystyle {\\hat {y}}=\\operatorname {argmax} _{y}f(x,y)\\cdot w.} $$\n",
    "\n",
    "the update becomes for each $w_{i,j}$:\n",
    "\n",
    "\n",
    "\n",
    "$\n",
    "\\begin{split}\n",
    "\\operatorname{update}(\\hat{y},y) =\n",
    "\\begin{cases}\n",
    "y_j = y& {w_{i,j}}^{(\\text{next step})} = w_{i,j} + \\eta  x_i\\\\\n",
    "{y}_k = \\hat{y}  & {w_{i,k}}^{(\\text{next step})} = w_{i,k} - \\eta  x_i\n",
    "\\end{cases} & \\quad\\quad\n",
    "\\end{split}\n",
    "$\n",
    "\n",
    "The above gradient update step for the multiclass perceptron is as follows:\n",
    "* for every wrong prediction, penalize(reduce) the weights (and perpendicular distance) that got predicted wrongly and \n",
    "* increase the weights of the class that was the target, that we failed to predict correctly.\n",
    "\n",
    "\n",
    "This multiclass feedback formulation reduces to the original perceptron when ${\\displaystyle x}$  is a real-valued vector, ${\\displaystyle y}$ is chosen from ${\\displaystyle \\{0,1\\}} $, and ${\\displaystyle f(x,y)=yx} $.\n",
    "\n",
    "** Perceptron learning rule (weight update) for binary classifier**\n",
    "\n",
    "$\n",
    "{w_{i,j}}^{(\\text{next step})} = w_{i,j} + \\eta (y_j - \\hat{y}_j) x_i\n",
    "$\n",
    "\n"
   ]
  },
  {
   "cell_type": "markdown",
   "metadata": {},
   "source": [
    "## [Optional Task] Complete the following code to build a Multiclass Perceptron algorithm"
   ]
  },
  {
   "cell_type": "code",
   "execution_count": null,
   "metadata": {
    "ExecuteTime": {
     "end_time": "2018-11-18T01:55:28.292099Z",
     "start_time": "2018-11-18T01:55:28.283256Z"
    }
   },
   "outputs": [],
   "source": [
    "class HomeGrownPerceptron(object):\n",
    "    \"\"\"Perceptron classifier.\n",
    "\n",
    "    Parameters\n",
    "    ------------\n",
    "    eta : float\n",
    "      Learning rate (between 0.0 and 1.0)\n",
    "    n_iter : int\n",
    "      Passes over the training dataset.\n",
    "    random_state : int\n",
    "      Random number generator seed for random weight\n",
    "      initialization.\n",
    "\n",
    "    Attributes\n",
    "    -----------\n",
    "    w_ : 1d-array\n",
    "      Weights after fitting.\n",
    "    errors_ : list\n",
    "      Number of misclassifications (updates) in each epoch.\n",
    "\n",
    "    \"\"\"\n",
    "    def __init__(self, eta=0.01, n_iter=50, random_state=1):\n",
    "        self.eta = eta\n",
    "        self.n_iter = n_iter\n",
    "        self.random_state = random_state\n",
    "\n",
    "    def fit(self, X, y):\n",
    "        \"\"\"Fit training data.\n",
    "\n",
    "        Parameters\n",
    "        ----------\n",
    "        X : {array-like}, shape = [n_samples, n_features]\n",
    "          Training vectors, where n_samples is the number of samples and\n",
    "          n_features is the number of features.\n",
    "        y : array-like, shape = [n_samples]\n",
    "          Target values.\n",
    "\n",
    "        Returns\n",
    "        -------\n",
    "        self : object\n",
    "\n",
    "        \"\"\"\n",
    "        rgen = np.random.RandomState(self.random_state)\n",
    "        self.w_ = rgen.normal(loc=0.0, scale=0.01, size=1 + X.shape[1])\n",
    "        self.errors_ = []\n",
    "\n",
    "        for _ in range(self.n_iter):\n",
    "            errors = 0\n",
    "            for xi, target in zip(X, y):\n",
    "                update = self.eta * (target - self.predict(xi))\n",
    "                self.w_[1:] += update * xi\n",
    "                self.w_[0] += update\n",
    "                errors += int(update != 0.0)\n",
    "            self.errors_.append(errors)\n",
    "        return self\n",
    "\n",
    "    def net_input(self, X):\n",
    "        \"\"\"Calculate net input\"\"\"\n",
    "        return np.dot(X, self.w_[1:]) + self.w_[0]\n",
    "\n",
    "    def predict(self, X):\n",
    "        \"\"\"Return class label after unit step\"\"\"\n",
    "        return np.where(self.net_input(X) >= 0.0, 1, -1)"
   ]
  },
  {
   "cell_type": "code",
   "execution_count": null,
   "metadata": {
    "ExecuteTime": {
     "end_time": "2018-11-18T01:55:28.304411Z",
     "start_time": "2018-11-18T01:55:28.293928Z"
    }
   },
   "outputs": [],
   "source": [
    "import numpy as np\n",
    "\n",
    "\n",
    "class MulticlassHomeGrownPerceptron(HomeGrownPerceptron):\n",
    "    \"\"\" Multiclass HomeGrown Perceptron classifier.\"\"\"\n",
    "\n",
    "    def fit(self, X, y):\n",
    "        \"\"\"Fit training data.\n",
    "\n",
    "        Parameters\n",
    "        ----------\n",
    "        X : {array-like}, shape = [n_samples, n_features]\n",
    "          Training vectors, where n_samples is the number of samples and\n",
    "          n_features is the number of features.\n",
    "        y : array-like, shape = [n_samples]\n",
    "          Target values.\n",
    "\n",
    "        Returns\n",
    "        -------\n",
    "        self : object\n",
    "\n",
    "        \"\"\"\n",
    "        n_classes = np.unique(y).size\n",
    "        rgen = np.random.RandomState(self.random_state)\n",
    "        self.w_ = rgen.normal(loc=0.0, scale=0.01, size=(n_classes, 1 + X.shape[1]))\n",
    "        self.errors_ = []\n",
    "\n",
    "        for _ in range(self.n_iter):\n",
    "            errors = 0\n",
    "            for xi, target in zip(X, y):\n",
    "                predicted = self.predict(xi)\n",
    "                if target != predicted:  #Mistake\n",
    "                    # Complete the following code to \n",
    "                    # Reduce the score of the incorrectly predicted class\n",
    "                    #==================================================#\n",
    "                    #               Your code starts here              #\n",
    "                    #==================================================#\n",
    "                    self.w_[predicted,1:] = \n",
    "                    self.w_[predicted,0] = \n",
    "                    #==================================================#\n",
    "                    #               Your code ends here                #\n",
    "                    #               Please don't add code below here   #\n",
    "                    #==================================================#\n",
    "                    #increase the score of the true class\n",
    "                    self.w_[target,1:] += self.eta * xi\n",
    "                    self.w_[target,0] += self.eta\n",
    "                    errors += 1\n",
    "            self.errors_.append(errors)\n",
    "        return self\n",
    "\n",
    "    def net_input(self, X):\n",
    "        \"\"\"Calculate net input\"\"\"\n",
    "        return np.dot(X, self.w_[:,1:].T) + self.w_[:,0].T\n",
    "    \n",
    "    def predict(self, X):\n",
    "        \"\"\"Return class label after unit step\"\"\"\n",
    "        if X.ndim == 1:\n",
    "            return np.argmax(self.net_input(X))\n",
    "        else:\n",
    "            return np.argmax(self.net_input(X), axis=1)\n"
   ]
  },
  {
   "cell_type": "code",
   "execution_count": null,
   "metadata": {
    "ExecuteTime": {
     "end_time": "2018-11-18T01:55:28.313237Z",
     "start_time": "2018-11-18T01:55:28.306989Z"
    }
   },
   "outputs": [],
   "source": [
    "wine = load_wine()\n",
    "data = wine.data\n",
    "targets = wine.target\n",
    "target_names = wine.target_names"
   ]
  },
  {
   "cell_type": "markdown",
   "metadata": {},
   "source": [
    "Split data. Confirm split and check class distribution. "
   ]
  },
  {
   "cell_type": "code",
   "execution_count": null,
   "metadata": {
    "ExecuteTime": {
     "end_time": "2018-11-18T01:55:28.323419Z",
     "start_time": "2018-11-18T01:55:28.315547Z"
    }
   },
   "outputs": [],
   "source": [
    "Xtrain, Xtest, ytrain, ytest = train_test_split(data, targets, test_size=.2, shuffle=True, random_state=42)\n",
    "\n",
    "print('Train: {}   {}'.format(Xtrain.shape, ytrain.shape))\n",
    "print('Test: {}   {}'.format(Xtest.shape, ytest.shape))"
   ]
  },
  {
   "cell_type": "code",
   "execution_count": null,
   "metadata": {
    "ExecuteTime": {
     "end_time": "2018-11-18T01:55:28.332874Z",
     "start_time": "2018-11-18T01:55:28.325792Z"
    }
   },
   "outputs": [],
   "source": [
    "vals = np.unique(ytrain)\n",
    "print('Train data')\n",
    "for v in vals:\n",
    "    print('{}: {}'.format(target_names[v], np.sum(ytrain == v)))\n",
    "    \n",
    "print('\\nTest data')\n",
    "for v in vals:\n",
    "    print('{}: {}'.format(target_names[v], np.sum(ytest == v)))"
   ]
  },
  {
   "cell_type": "markdown",
   "metadata": {},
   "source": [
    "## Fit data\n",
    "Fit homegrown model and generate predictions."
   ]
  },
  {
   "cell_type": "code",
   "execution_count": null,
   "metadata": {
    "ExecuteTime": {
     "end_time": "2018-11-18T01:55:28.450499Z",
     "start_time": "2018-11-18T01:55:28.340344Z"
    }
   },
   "outputs": [],
   "source": [
    "mcp = MulticlassHomeGrownPerceptron()\n",
    "# fit the multiclass homegrown perceptron to the training data\n",
    "# Predict classes for training data and test data\n",
    "#==================================================#\n",
    "#               Your code starts here              #\n",
    "#==================================================#\n",
    "mcp.fit()\n",
    "ytrain_preds = \n",
    "ytest_preds = \n",
    "#==================================================#\n",
    "#               Your code ends here                #\n",
    "#               Please don't add code below here   #\n",
    "#==================================================#\n"
   ]
  },
  {
   "cell_type": "markdown",
   "metadata": {},
   "source": [
    "## Results\n",
    "Calculate metrics using micro and macro average."
   ]
  },
  {
   "cell_type": "code",
   "execution_count": null,
   "metadata": {
    "ExecuteTime": {
     "end_time": "2018-11-18T01:55:28.480876Z",
     "start_time": "2018-11-18T01:55:28.456247Z"
    }
   },
   "outputs": [],
   "source": [
    "y = {'Train': [ytrain, ytrain_preds], 'Test': [ytest, ytest_preds]}\n",
    "results = pd.DataFrame(columns = ['Model', 'Accuracy', 'Precision Micro ', 'Precision Macro'])\n",
    "for k in y.keys():\n",
    "    results.loc[len(results)] = ['Homegrown Multiclass Perceptron ({})'.format(k),\n",
    "               round(accuracy_score(y[k][0], y[k][1]),5), \n",
    "               round(precision_score(y[k][0], y[k][1], average='micro'),5),\n",
    "               round(precision_score(y[k][0], y[k][1], average='macro'),3)]  \n",
    "results"
   ]
  },
  {
   "cell_type": "markdown",
   "metadata": {},
   "source": [
    "# [Optional Task]Support Vector Machine classifiers in PyTorch\n",
    "This question focuses on implementing a linear Support Vector Machine classifier for a binary   classification problem. The basic idea behind a binary linear SVM is to find a separating hyperplane for two categories. Additionally, to make the model as generic as possible, SVM tries to make the margin separating the two sets of points as wide as possible. When the data are not linearly separable, linear SVMs  can be exteneded to  non-linear SVMs  using kernels and  the kernel trick.\n",
    "\n"
   ]
  },
  {
   "attachments": {
    "6099cef6-3bf8-4b5b-a87a-538c3b4d09d4.png": {
     "image/png": "[encoded data removed]"
    }
   },
   "cell_type": "markdown",
   "metadata": {},
   "source": [
    "![download.png](attachment:6099cef6-3bf8-4b5b-a87a-538c3b4d09d4.png)"
   ]
  },
  {
   "cell_type": "markdown",
   "metadata": {},
   "source": [
    "Coding up an linear SVM  in Pytorch is pretty straightforward as we can use the  autograd and optim packages. \n",
    "\n",
    "\n",
    "https://github.com/nikhilraghava/PyTorch-SVM/blob/master/SVM%20-%20PyTorch.ipynb\n",
    "\n",
    "\n",
    "This is pretty straighforward, and has been done before by <a href=\"http://deeplearning.net/wp-content/uploads/2013/03/dlsvm.pdf\">Tang in this 2013 paper</a>.</p>\n",
    "<p>The separating hyperplane is defined by the <strong>wx - b = 0</strong> equation, where <strong>w</strong> is the normal vector and <strong>b</strong> is a scalar offset. <strong>w</strong>’s dimendionality is however many features we have. Additionally, we will try to place the plane in such a way that it falls halfway between the two classes, so that, if possible, there are no points behind the <strong>wx - b = ±1</strong> lines (see first image). For each training point <strong>x</strong>, we want <strong>wx - b &gt; 1</strong> if <strong>x</strong> is in the <strong>+1</strong> class, <strong>wx - b &lt; -1</strong> if <strong>x</strong> is in the <strong>-1</strong> class (we re-label classes to <strong>±1</strong>). Calling the labels <strong>y</strong>, we can multiply both equations to get the same thing: <strong>y ( wx - b) &gt; 1</strong>, or <strong>1 - y ( wx - b ) &lt; 0</strong>.</p>\n",
    "<p>So our constraint is for these expressions to be less than zero for each training point. If it’s positive, that’s “bad”. If it’s negative, we don’t really care how negative it is. This leads to the loss function: <strong>∑ max[0, 1 - y ( wx - b ) ]</strong>. To make it optimizer friendly, we square it: <strong>∑ max[0, 1 - y ( wx - b ) ]²</strong>.</p>\n",
    "<p>There is a caveat though. What if the training points overlap? Or, there is just a few points which would cause the separating hyperplane’s margin to be very narrow? As the first picture shows, the width of the margin is <strong>2/|w|</strong>, we also want to maximize this, or, minimize <strong>|w|/2</strong>, so the model generalizes better. So the full loss function is: <strong>|w|/2 + C ∑ max[0, 1 - y ( wx - b ) ]²</strong>. <strong>C</strong> is an important hyperparameter, it sets the importance of separating all the points and pushing them outside the margin <em>versus</em> getting a wide margin.</p>\n",
    "<h2>Pytorch code</h2>\n",
    "<p>First, let’s get the Iris data. The easiest is to get it from SciKit-Learn, which comes with a bunch of standard datasets. We can use <a href=\"https://matplotlib.org/api/pyplot_api.html\">pyplot</a> to visualize Iris’s 4 features and the 3 species:</p>\n"
   ]
  },
  {
   "cell_type": "code",
   "execution_count": null,
   "metadata": {},
   "outputs": [],
   "source": [
    "#install pytorch\n",
    "!conda install -y pytorch torchvision -c pytorch"
   ]
  },
  {
   "cell_type": "markdown",
   "metadata": {},
   "source": [
    "---\n",
    "## PyTorch Loss for CXE: expected inputs explained\n",
    "\n",
    "- `torch.nn.functional.binary_cross_entropy` takes logistic sigmoid values as inputs\n",
    "- `torch.nn.functional.binary_cross_entropy_with_logits` takes logits as inputs \n",
    "- `torch.nn.functional.cross_entropy` takes logits as inputs (performs `log_softmax` internally)\n",
    "- `torch.nn.functional.nll_loss` is like `cross_entropy` but takes log-probabilities (log-softmax) values as inputs\n",
    "\n",
    "### L1Loss \n",
    "L1Loss is  a loss criterion that measures the mean absolute error (MAE) between each element in the prediction for y  and the target y .For implementation details L1Loss in PyTorch please see [here](https://pytorch.org/docs/stable/generated/torch.nn.L1Loss.html)"
   ]
  },
  {
   "cell_type": "markdown",
   "metadata": {},
   "source": [
    "### Set up Iris Dataset and DataLoader"
   ]
  },
  {
   "cell_type": "code",
   "execution_count": null,
   "metadata": {},
   "outputs": [],
   "source": [
    "from sklearn.datasets import load_iris\n",
    "from sklearn.model_selection import train_test_split\n",
    "from sklearn import preprocessing\n",
    "from sklearn.preprocessing import MinMaxScaler\n",
    "# Changing the following to sklearn.datasets from datasets.samples_generator\n",
    "from sklearn.datasets import make_blobs\n",
    "\n",
    "import torch\n",
    "%matplotlib inline\n",
    "import matplotlib.pyplot as plt\n",
    "import numpy as np\n",
    "import pandas as pd\n",
    "# load data\n",
    "iris = load_iris()\n",
    "\n",
    "X = iris['data'][:,:2]\n",
    "y = iris['target']\n",
    "y[y==0] = -1  #make it a binary problem\n",
    "y[y==2] = 1   #make it a binary problem\n",
    "# train test split\n",
    "X_train, X_test, y_train, y_test = train_test_split(X, y, test_size=0.2, random_state=42)\n",
    "scaler = MinMaxScaler()\n",
    "X_train = scaler.fit_transform(X_train)\n",
    "X_test = scaler.transform(X_test)\n",
    "\n",
    "\"\"\"#Blobs data\n",
    "X, Y = make_blobs(n_samples=500, centers=2, random_state=0, cluster_std=0.4)\n",
    "Y[np.where(Y == 0)] = -1\n",
    "in_features = X.shape[1]\n",
    "\n",
    "# train test split\n",
    "X_train, X_test, y_train, y_test = train_test_split(X, Y, test_size=0.2, random_state=42)\n",
    "scaler = preprocessing.StandardScaler()\n",
    "X_train = scaler.fit_transform(X_train)\n",
    "X_test = scaler.transform(X_test)\n",
    "\"\"\"\n",
    "# convert numpy arrays to tensors\n",
    "X_train_tensor = torch.FloatTensor(X_train)\n",
    "X_test_tensor = torch.FloatTensor(X_test)\n",
    "y_train_tensor = torch.FloatTensor(y_train)\n",
    "y_test_tensor = torch.FloatTensor(y_test)\n",
    "\n",
    "# create TensorDataset\n",
    "X_train_ds = torch.utils.data.TensorDataset(X_train_tensor, y_train_tensor)\n",
    "X_test_ds = torch.utils.data.TensorDataset(X_test_tensor, y_test_tensor)\n",
    "\n",
    "# create dataloader\n",
    "batch_size = 16\n",
    "train_loader = torch.utils.data.DataLoader(X_train_ds, batch_size=batch_size, shuffle=True, num_workers=2)\n",
    "test_loader = torch.utils.data.DataLoader(X_test_ds, batch_size=batch_size, shuffle=False, num_workers=2)\n",
    "\n",
    "pd.DataFrame(np.c_[X_test, y_test], columns=iris.feature_names[:2]+[\"Class\"]).plot.scatter(x='sepal length (cm)',  \n",
    "                                                                                           y='sepal width (cm)', \n",
    "                                                                                           title =\"Iris TEST  Data\",\n",
    "                                                                                           #color=y_test, \n",
    "                                                                                           c=y_test, cmap=\"brg\",colorbar=False,\n",
    "                                                                                           marker=\"o\" , linestyle='None')\n",
    "plt.grid()           "
   ]
  },
  {
   "cell_type": "markdown",
   "metadata": {},
   "source": [
    "### create a SVM Net, a single-layered fully connected neural network"
   ]
  },
  {
   "cell_type": "markdown",
   "metadata": {},
   "source": [
    "```python\n",
    "#########################################################\n",
    "# Soft SVM loss function is \n",
    "#\n",
    "#       Minimize 1/2 𝑊^𝑇𝑊+ 𝜆∑ (i in 0:n) [𝑀𝑎𝑥(0, 1−𝑋_𝑖^𝑇𝑊𝑦_𝑖 )] \n",
    "#\n",
    "## Apply L2 regularization using the weight_decay param of optim.SGD or optim.ADAM\n",
    "#   1:     weight_decay (float, optional) – weight decay (L2 penalty) (default: 0)\n",
    "#   2:     or just code it up by oneself as follows:\n",
    "\n",
    "#########################################################\n",
    "## Apply L2 regularization CASE 1 of 2 (weight decay) manually\n",
    "# loss = F.binary_cross_entropy(out, y_train_tensor, reduction='sum')\n",
    "# loss = loss + 0.5 * LAMBDA * torch.mm(model.out_layer.weight,\n",
    "#                                      model.out_layer.weight.t())\n",
    "\n",
    "# note that PyTorch also regularizes the bias, hence, if we want\n",
    "# to reproduce the behavior of SGD's \"weight_decay\" param, we have to add\n",
    "# the bias term as well: \n",
    "# loss = loss + 0.5 * LAMBDA * model.out_layer.bias**2\n",
    "\n",
    "#-------------------------------------------------------\n",
    "## Apply L2 regularization CASE 2 of 2 (weight decay) via optim package functions\n",
    "LAMBDA = 2\n",
    "weight_decay=LAMBDA\n",
    "optimizer = optim.SGD(model.parameters(), lr=learning_rate, weight_decay=LAMBDA)  # SGD optimizer\n",
    "\n",
    "# Sets the module in training mode.\n",
    "# This has any effect only on certain modules. See documentations of particular modules for details of \n",
    "# their behaviors in training/evaluation mode, if they are affected, e.g. Dropout, BatchNorm, etc.\n",
    "model.train()  # The SVM model is a subclass of the nn.Module, so it inherits the train method (not necessary here for svms)\n",
    "# for more info on torch.clamp see https://pytorch.org/docs/stable/generated/torch.clamp.html \n",
    "loss = 0.5 torch.mean(torch.clamp(1 - output * y, min=0))  # hinge loss\n",
    "loss = loss + 0.5 * LAMBDA * torch.mm(model.out_layer.weight,\n",
    "                                      model.out_layer.weight.t())\n",
    "\n",
    "```"
   ]
  },
  {
   "cell_type": "code",
   "execution_count": null,
   "metadata": {},
   "outputs": [],
   "source": [
    "sss= 3\n",
    "sss"
   ]
  },
  {
   "cell_type": "code",
   "execution_count": null,
   "metadata": {},
   "outputs": [],
   "source": [
    "import torch\n",
    "import torch.nn as nn\n",
    "import torch.nn.functional as F\n",
    "import torch.optim as optim\n",
    "%matplotlib inline\n",
    "import matplotlib.pyplot as plt\n",
    "import numpy as np\n",
    "\n",
    "\n",
    "device = torch.device('cuda:0' if torch.cuda.is_available() else 'cpu')\n",
    "\n",
    "class SVM(nn.Module):\n",
    "    \"\"\"\n",
    "    A binary Linear Support Vector Machine\n",
    "    Support Vector Machine (SVM) is a subclass of the nn.Module class and to initialize the SVM, \n",
    "    call the base class' init function. the  forward method applies a linear transformation \n",
    "    to the incoming data: y = xw + b via a __call__ method in the parent class.\n",
    "    \"\"\"\n",
    "    def __init__(self, num_inputs, num_outputs):\n",
    "        super().__init__()                                   # Call the init function of nn.Module\n",
    "        self.out_layer = nn.Linear(num_inputs, num_outputs)  # Add a prediction Linear layer XW + b\n",
    "        \n",
    "    def forward(self, x):\n",
    "        fwd = self.out_layer(x)  # Forward pass\n",
    "        return fwd #perpendiculat distances\n",
    "\n",
    "def binary_linear_SVM_loss(y_hat, y, C = 0.10, model = model):\n",
    "    \"\"\" given a training set with m rows and n columns, learn a linear binary SVM \n",
    "        with the corresponding hinge loss and regularizatin terms: \n",
    "    \n",
    "             minimize  C/2 * wTw + lamdba/m x  ∑_i max(0, 1 - y_i (XW + b))\n",
    "             \n",
    "    \"\"\"\n",
    "    #==================================================#\n",
    "    #               Your code starts here              #\n",
    "    #==================================================#\n",
    "    #########################################################\n",
    "    data_loss = \n",
    "    weights = \n",
    "    reg_loss = \n",
    "    reg_loss = \n",
    "    #-------------------------------------------------------\n",
    "    #==================================================#\n",
    "    #               Your code ends here                #\n",
    "    #               Please don't add code below here   #\n",
    "    #==================================================#\n",
    "\n",
    "    return data_loss + C* reg_loss/2.0\n",
    "\n",
    "\n",
    "class SVM_Loss(nn.modules.Module):    \n",
    "    def __init__(self):\n",
    "        super(SVM_Loss,self).__init__()\n",
    "    def forward(self, outputs, labels): \n",
    "        \"\"\"Data loss term (notice that the regularization is missing)\"\"\"\n",
    "        return torch.sum(torch.clamp(1 - outputs.squeeze().t()*labels, min=0))/batch_size\n",
    "\n",
    "\n",
    "\n",
    "def train_epoch(epoch, clf, criterion, opt, train_loader):\n",
    "    clf.train() # set model in training mode (need this because of dropout)\n",
    "    running_loss = 0.0\n",
    "    \n",
    "    # dataset API gives us pythonic batching \n",
    "    for batch_id, data in enumerate(train_loader):\n",
    "        inputs, targets = data[0].to(device), data[1].to(device)        \n",
    "        # 1:zero the grad, 2:forward pass, 3:calculate loss,  and 4:backprop!\n",
    "        opt.zero_grad()\n",
    "\n",
    "        outputs = model(inputs) #prediction over the input data\n",
    "        #loss = criterion(clf, preds, target)  #mean loss for this batch\n",
    "        loss = criterion(outputs, targets)  #mean loss for this batch\n",
    "        loss.backward() #calculate nabla_w\n",
    "        loss_history.append(loss.item())\n",
    "        opt.step()  #update W\n",
    "        \n",
    "        running_loss += loss.item()\n",
    "        # print statistics\n",
    "        if batch_id % 100 == 0:    # print every 100 mini-batches\n",
    "          print(f\"Epoch {epoch}, batch {batch_id}, batch loss: {np.round(loss.item(),6)}\")\n",
    "          running_loss = 0.0\n",
    "    return clf\n",
    "\n",
    "#from IPython.core.debugger import Pdb as pdb;    pdb().set_trace() #breakpoint; dont forget to quit\n",
    "def evaluate_model(epoch, clf, criterion, opt, data_loader, tag = \"Test\"):\n",
    "    clf.eval() # set model in inference mode (need this because of dropout)\n",
    "    correct = 0\n",
    "    count = 0\n",
    "    overall_loss = 0.0\n",
    "    for i,data in enumerate(data_loader):\n",
    "        inputs, targets = data[0].to(device), data[1].to(device)                \n",
    "        outputs = clf(inputs)\n",
    "        # torch.max() Returns a namedtuple (values, indices) where values is the maximum value of each row of the \n",
    "        # input tensor in the given dimension dim. And indices is the index location of each maximum value found (argmax).\n",
    "        #_, predicted_classes = torch.max(outputs.data, 1)  # get the index of the max perp distance\n",
    "        predicted_classes = torch.where(outputs.squeeze()>=0, 1, 0)\n",
    "        target_class = torch.where(targets == -1, 0, 1) #swap -1 labels to 0\n",
    "        correct += (predicted_classes == target_class).sum().item()\n",
    "        \n",
    "        #loss = criterion(clf, outputs, targets)           # compute loss value\n",
    "        loss = criterion(outputs, targets)  #mean loss for this batch\n",
    "        loss_this_iter = loss.cpu().detach().numpy() # send loss value to CPU to save to logs\n",
    "        overall_loss += (loss_this_iter * inputs.size(0))  # compute total loss to save to logs\n",
    "        count += len(inputs)  #inputs.size(0)\n",
    "\n",
    "        # compute mean loss\n",
    "    overall_loss /= float(count)\n",
    "\n",
    "    accuracy = 100. * correct / count\n",
    "    acc_history.append(accuracy)\n",
    "    print(f\"{tag} {epoch} set: Average loss: {overall_loss:.6f}, Accuracy: {correct}/{count} ({accuracy:.0f}%)\")\n",
    "    return accuracy\n",
    "\n",
    "loss_history = []\n",
    "acc_history = []\n",
    "# adding in_features from 8.1.1\n",
    "in_features = X.shape[1]\n",
    "model = SVM(in_features, 1)  # SVM model\n",
    "for name, parameter in model.named_parameters(): # or param in model.parameters():\n",
    "    print(f\"SVM: {name}, type:{type(parameter)}, size:{parameter.size()}\")\n",
    "print(\"_\"*50)\n",
    "print(f\"model.out_layer.weight: {model.out_layer.weight}\")\n",
    "print(f\"model.out_layer.bias:   {model.out_layer.bias}\")\n",
    "#nn.CrossEntropyLoss() #class\n",
    "\n",
    "#use loss function (as opposed to the loss class; see below)\n",
    "#binary_linear_SVM_loss = binary_linear_SVM_loss\n",
    "opt = optim.SGD(model.parameters(), lr=0.01, momentum=0.5) #L2 Regularization term mixing coefficient is part of the loss function\n",
    "\n",
    "#loss class\n",
    "binary_linear_SVM_loss = SVM_Loss()\n",
    "#binary_linear_SVM_loss = nn.HingeEmbeddingLoss(1, reduction=\"mean\")\n",
    "opt = optim.SGD(model.parameters(), lr=0.01, momentum=0.5, weight_decay=0.1) #L2 Regularization term mixing coefficient\n",
    "    \n",
    "\n",
    "for epoch in range(20):\n",
    "    #print(\"Epoch %d\" % epoch)\n",
    "    clf = train_epoch(epoch, model, binary_linear_SVM_loss, opt, train_loader)\n",
    "    if (epoch%10) ==0:\n",
    "        evaluate_model(epoch,    model, binary_linear_SVM_loss, opt, test_loader, tag = \"Validation\")\n",
    "print(\"-\"*50)\n",
    "evaluate_model(    epoch,    model, binary_linear_SVM_loss, opt, test_loader, tag=\"Test\")\n"
   ]
  },
  {
   "cell_type": "code",
   "execution_count": null,
   "metadata": {},
   "outputs": [],
   "source": [
    "def display_SVM_decision_surface(X, Y, model):\n",
    "    W = model.out_layer.weight.squeeze().detach().cpu().numpy()\n",
    "    b = model.out_layer.bias.squeeze().detach().cpu().numpy()\n",
    "\n",
    "    delta = 0.001\n",
    "    x = np.arange(X[:, 0].min(), X[:, 0].max(), delta)\n",
    "    y = np.arange(X[:, 1].min(), X[:, 1].max(), delta)\n",
    "    x, y = np.meshgrid(x, y)\n",
    "    xy = list(map(np.ravel, [x, y]))\n",
    "\n",
    "    z = (W.dot(xy) + b).reshape(x.shape)\n",
    "    z[np.where(z > 1.0)] = 4\n",
    "    z[np.where((z > 0.0) & (z <= 1.0))] = 3\n",
    "    z[np.where((z > -1.0) & (z <= 0.0))] = 2\n",
    "    z[np.where(z <= -1.0)] = 1\n",
    "\n",
    "    plt.figure(figsize=(10, 10))\n",
    "    plt.xlim([X[:, 0].min() + delta, X[:, 0].max() - delta])\n",
    "    plt.ylim([X[:, 1].min() + delta, X[:, 1].max() - delta])\n",
    "    plt.contourf(x, y, z, alpha=0.8, cmap=\"Greys\")\n",
    "    plt.scatter(x=X[:, 0], y=X[:, 1], c=\"black\", s=10)\n",
    "    plt.tight_layout()\n",
    "    plt.show()\n",
    "    \n",
    "display_SVM_decision_surface(X_test, y_test, model)"
   ]
  },
  {
   "cell_type": "code",
   "execution_count": null,
   "metadata": {},
   "outputs": [],
   "source": [
    "import argparse\n",
    "\n",
    "import matplotlib.pyplot as plt\n",
    "import numpy as np\n",
    "import torch\n",
    "import torch.nn as nn\n",
    "import torch.optim as optim\n",
    "#removing samples.generator from below\n",
    "from sklearn.datasets import make_blobs\n",
    "\n",
    "\n",
    "def train(X, Y, model, args):\n",
    "    X = torch.FloatTensor(X)\n",
    "    Y = torch.FloatTensor(Y)\n",
    "    N = len(Y)\n",
    "\n",
    "    optimizer = optim.SGD(model.parameters(), lr=args[\"lr\"])\n",
    "\n",
    "    model.train()\n",
    "    for epoch in range(args[\"epoch\"]):\n",
    "        perm = torch.randperm(N)\n",
    "        sum_loss = 0\n",
    "\n",
    "        for i in range(0, N, args[\"batchsize\"]):\n",
    "            x = X[perm[i : i + args[\"batchsize\"]]].to(args[\"device\"])\n",
    "            y = Y[perm[i : i + args[\"batchsize\"]]].to(args[\"device\"])\n",
    "\n",
    "            optimizer.zero_grad()\n",
    "            output = model(x).squeeze()\n",
    "            weight = model.weight.squeeze()\n",
    "\n",
    "            loss = torch.mean(torch.clamp(1 - y * output, min=0))\n",
    "            loss += args[\"c\"] * (weight.t() @ weight) / 2.0\n",
    "\n",
    "            loss.backward()\n",
    "            optimizer.step()\n",
    "\n",
    "            sum_loss += float(loss)\n",
    "\n",
    "        print(\"Epoch: {:4d}\\tloss: {}\".format(epoch, sum_loss / N))\n",
    "\n",
    "\n",
    "def visualize(X, Y, model):\n",
    "    W = model.weight.squeeze().detach().cpu().numpy()\n",
    "    b = model.bias.squeeze().detach().cpu().numpy()\n",
    "\n",
    "    delta = 0.001\n",
    "    x = np.arange(X[:, 0].min(), X[:, 0].max(), delta)\n",
    "    y = np.arange(X[:, 1].min(), X[:, 1].max(), delta)\n",
    "    x, y = np.meshgrid(x, y)\n",
    "    xy = list(map(np.ravel, [x, y]))\n",
    "\n",
    "    z = (W.dot(xy) + b).reshape(x.shape)\n",
    "    z[np.where(z > 1.0)] = 4\n",
    "    z[np.where((z > 0.0) & (z <= 1.0))] = 3\n",
    "    z[np.where((z > -1.0) & (z <= 0.0))] = 2\n",
    "    z[np.where(z <= -1.0)] = 1\n",
    "\n",
    "    plt.figure(figsize=(10, 10))\n",
    "    plt.xlim([X[:, 0].min() + delta, X[:, 0].max() - delta])\n",
    "    plt.ylim([X[:, 1].min() + delta, X[:, 1].max() - delta])\n",
    "    plt.contourf(x, y, z, alpha=0.8, cmap=\"Greys\")\n",
    "    plt.scatter(x=X[:, 0], y=X[:, 1], c=\"black\", s=10)\n",
    "    plt.tight_layout()\n",
    "    plt.show()\n",
    "\n",
    "\n",
    "if __name__ == \"__main__\":\n",
    "    args={\"device\":\"cpu\", \"c\": 0.001, \"lr\": 0.1, \"batchsize\": 16, \"epoch\": 50}\n",
    "    print(args, args.keys())\n",
    "    print(args[\"device\"])\n",
    "    X, Y = make_blobs(n_samples=500, centers=2, random_state=0, cluster_std=0.4)\n",
    "    X = (X - X.mean()) / X.std()\n",
    "    Y[np.where(Y == 0)] = -1\n",
    "\n",
    "    model = nn.Linear(2, 1)\n",
    "    model.to(args[\"device\"])\n",
    "\n",
    "    train(X, Y, model, args)\n",
    "    visualize(X, Y, model)"
   ]
  },
  {
   "cell_type": "markdown",
   "metadata": {},
   "source": [
    "# [Optional Task]Linear SVM for the Binary Classifier and n-ary Classifier"
   ]
  },
  {
   "cell_type": "markdown",
   "metadata": {},
   "source": [
    "## Implement a linear svm for the binary classifier"
   ]
  },
  {
   "cell_type": "markdown",
   "metadata": {},
   "source": [
    "In PyTorch, implement a linear SVM  for the binary classifier. Benchmark your implementation against the SKLearn implementation using the Iris dataset. In this experiment, learn a Setosa versus the rest. Split the data into train-test based on 70-30 split. Report the accuracy and wall clock times for both your PyTorch implementation and SKLearn implementation on the training and test sets. "
   ]
  },
  {
   "cell_type": "markdown",
   "metadata": {},
   "source": [
    "### Results"
   ]
  },
  {
   "cell_type": "markdown",
   "metadata": {},
   "source": [
    "Implement experiment table detailing accuracy, execution times for train, test using your PyTorch implementation and SkLearn’s implementation "
   ]
  },
  {
   "cell_type": "markdown",
   "metadata": {},
   "source": [
    "## Implement a linear svm for a n-ary classifier"
   ]
  },
  {
   "cell_type": "markdown",
   "metadata": {},
   "source": [
    "In PyTorch, implement a linear SVM  for the n-ary classifier. Benchmark your implementation against the SKLearn implementation using the Iris dataset. In this experiment, learn a three class classifier. Split the data into train-test based on 70-30 split. Report the accuracy and wall clock times for both your PyTorch implementation and SKLearn implementation on the training and test sets."
   ]
  },
  {
   "cell_type": "markdown",
   "metadata": {},
   "source": [
    "### Results"
   ]
  },
  {
   "cell_type": "markdown",
   "metadata": {},
   "source": [
    "Implement experiment table detailing accuracy, execution times for train, test using your PyTorch implementation and SkLearn’s implementation"
   ]
  }
 ],
 "metadata": {
  "kernelspec": {
   "display_name": "Python 3",
   "language": "python",
   "name": "python3"
  },
  "language_info": {
   "codemirror_mode": {
    "name": "ipython",
    "version": 3
   },
   "file_extension": ".py",
   "mimetype": "text/x-python",
   "name": "python",
   "nbconvert_exporter": "python",
   "pygments_lexer": "ipython3",
   "version": "3.7.7"
  },
  "toc": {
   "base_numbering": 1,
   "nav_menu": {},
   "number_sections": true,
   "sideBar": true,
   "skip_h1_title": false,
   "title_cell": "Table of Contents",
   "title_sidebar": "Contents",
   "toc_cell": false,
   "toc_position": {
    "height": "calc(100% - 180px)",
    "left": "10px",
    "top": "150px",
    "width": "282.391px"
   },
   "toc_section_display": true,
   "toc_window_display": true
  },
  "varInspector": {
   "cols": {
    "lenName": 16,
    "lenType": 16,
    "lenVar": 40
   },
   "kernels_config": {
    "python": {
     "delete_cmd_postfix": "",
     "delete_cmd_prefix": "del ",
     "library": "var_list.py",
     "varRefreshCmd": "print(var_dic_list())"
    },
    "r": {
     "delete_cmd_postfix": ") ",
     "delete_cmd_prefix": "rm(",
     "library": "var_list.r",
     "varRefreshCmd": "cat(var_dic_list()) "
    }
   },
   "types_to_exclude": [
    "module",
    "function",
    "builtin_function_or_method",
    "instance",
    "_Feature"
   ],
   "window_display": false
  }
 },
 "nbformat": 4,
 "nbformat_minor": 4
}
